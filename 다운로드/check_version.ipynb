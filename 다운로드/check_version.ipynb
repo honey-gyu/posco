{
 "cells": [
  {
   "cell_type": "code",
   "execution_count": null,
   "id": "a3f14de6",
   "metadata": {},
   "outputs": [],
   "source": [
    "# anaconda version: 23.3.1\n",
    "!conda --version "
   ]
  },
  {
   "cell_type": "code",
   "execution_count": null,
   "id": "c7b57a97",
   "metadata": {},
   "outputs": [],
   "source": [
    "# python 3.10.9\n",
    "import sys\n",
    "sys.version"
   ]
  },
  {
   "cell_type": "code",
   "execution_count": null,
   "id": "421a18b0",
   "metadata": {},
   "outputs": [],
   "source": [
    "# numpy 1.23.5\n",
    "import numpy\n",
    "numpy.__version__"
   ]
  },
  {
   "cell_type": "code",
   "execution_count": null,
   "id": "6cf6a033",
   "metadata": {},
   "outputs": [],
   "source": [
    "# pandas 1.5.3\n",
    "import pandas\n",
    "pandas.__version__"
   ]
  },
  {
   "cell_type": "code",
   "execution_count": null,
   "id": "b43c3aa3",
   "metadata": {},
   "outputs": [],
   "source": [
    "# sklearn 1.2.1\n",
    "import sklearn\n",
    "sklearn.__version__"
   ]
  },
  {
   "cell_type": "code",
   "execution_count": null,
   "id": "e517a295",
   "metadata": {},
   "outputs": [],
   "source": [
    "# matplotlib 3.7.0\n",
    "import matplotlib\n",
    "matplotlib.__version__"
   ]
  },
  {
   "cell_type": "code",
   "execution_count": null,
   "id": "1a2dd552",
   "metadata": {},
   "outputs": [],
   "source": [
    "# seaborn 0.12.2\n",
    "import seaborn\n",
    "seaborn.__version__"
   ]
  },
  {
   "cell_type": "code",
   "execution_count": null,
   "id": "a9c6352f",
   "metadata": {},
   "outputs": [],
   "source": []
  },
  {
   "cell_type": "code",
   "execution_count": null,
   "id": "8bc7fbdb",
   "metadata": {},
   "outputs": [],
   "source": [
    "# mlxtend 0.23.1\n",
    "import mlxtend\n",
    "#!pip install mlxtend==0.23.1"
   ]
  },
  {
   "cell_type": "code",
   "execution_count": null,
   "id": "37d9c69c",
   "metadata": {},
   "outputs": [],
   "source": [
    "import mlxtend\n",
    "mlxtend.__version__"
   ]
  },
  {
   "cell_type": "code",
   "execution_count": null,
   "id": "71143fdc",
   "metadata": {},
   "outputs": [],
   "source": [
    "# xgboost 1.6.2\n",
    "import xgboost\n",
    "#!pip install xgboost==1.6.2"
   ]
  },
  {
   "cell_type": "code",
   "execution_count": null,
   "id": "37c16952",
   "metadata": {},
   "outputs": [],
   "source": [
    "# lightgbm 3.3.3\n",
    "import lightgbm\n",
    "#!pip install lightgbm==3.3.3"
   ]
  },
  {
   "cell_type": "code",
   "execution_count": null,
   "id": "432fd558",
   "metadata": {},
   "outputs": [],
   "source": [
    "# yellowbrick 1.4\n",
    "import yellowbrick\n",
    "#!pip install yellowbrick==1.4"
   ]
  }
 ],
 "metadata": {
  "kernelspec": {
   "display_name": "Python 3 (ipykernel)",
   "language": "python",
   "name": "python3"
  },
  "language_info": {
   "codemirror_mode": {
    "name": "ipython",
    "version": 3
   },
   "file_extension": ".py",
   "mimetype": "text/x-python",
   "name": "python",
   "nbconvert_exporter": "python",
   "pygments_lexer": "ipython3",
   "version": "3.10.9"
  }
 },
 "nbformat": 4,
 "nbformat_minor": 5
}
