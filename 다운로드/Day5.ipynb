{
 "cells": [
  {
   "cell_type": "code",
   "execution_count": 1,
   "id": "1ed47ddd",
   "metadata": {},
   "outputs": [],
   "source": [
    "import pandas as pd # 데이터 구성 : Series, DataFrame\n",
    "import matplotlib.pyplot as plt # 데이터 시각화\n",
    "import matplotlib\n",
    "\n",
    "from sklearn.model_selection import train_test_split # 데이터 분할 : train, test\n",
    "\n",
    "from sklearn.ensemble import GradientBoostingClassifier # 분류 gradient boosting \n",
    "\n",
    "from sklearn.model_selection import GridSearchCV # 최적 모델, 파라미터 탐색\n",
    "\n",
    "# 분류모델 평가 함수\n",
    "from sklearn.metrics import accuracy_score, roc_auc_score, precision_score, recall_score, f1_score\n",
    "from sklearn.metrics import confusion_matrix, classification_report"
   ]
  },
  {
   "cell_type": "code",
   "execution_count": 2,
   "id": "7b427762",
   "metadata": {},
   "outputs": [],
   "source": [
    "# p112 연습\n",
    "\n",
    "import matplotlib as mpl\n",
    "import matplotlib.pyplot as plt\n",
    "# 유니코드 깨짐현상 해결\n",
    "mpl.rcParams['axes.unicode_minus'] = False\n",
    "# 나눔고딕 폰트 적용\n",
    "plt.rcParams[\"font.family\"] = 'NanumGothic'"
   ]
  },
  {
   "cell_type": "code",
   "execution_count": null,
   "id": "f19a8854",
   "metadata": {},
   "outputs": [],
   "source": []
  },
  {
   "cell_type": "code",
   "execution_count": null,
   "id": "cbbf8093",
   "metadata": {},
   "outputs": [],
   "source": []
  },
  {
   "cell_type": "code",
   "execution_count": null,
   "id": "d53c4ae9",
   "metadata": {},
   "outputs": [],
   "source": []
  },
  {
   "cell_type": "code",
   "execution_count": null,
   "id": "12b65e6e",
   "metadata": {},
   "outputs": [],
   "source": []
  },
  {
   "cell_type": "code",
   "execution_count": null,
   "id": "0335ca0f",
   "metadata": {},
   "outputs": [],
   "source": []
  },
  {
   "cell_type": "code",
   "execution_count": null,
   "id": "2de72c9f",
   "metadata": {},
   "outputs": [],
   "source": []
  },
  {
   "cell_type": "code",
   "execution_count": null,
   "id": "ae09553a",
   "metadata": {},
   "outputs": [],
   "source": []
  },
  {
   "cell_type": "code",
   "execution_count": 18,
   "id": "fa94f4b6",
   "metadata": {},
   "outputs": [
    {
     "data": {
      "text/html": [
       "<div>\n",
       "<style scoped>\n",
       "    .dataframe tbody tr th:only-of-type {\n",
       "        vertical-align: middle;\n",
       "    }\n",
       "\n",
       "    .dataframe tbody tr th {\n",
       "        vertical-align: top;\n",
       "    }\n",
       "\n",
       "    .dataframe thead th {\n",
       "        text-align: right;\n",
       "    }\n",
       "</style>\n",
       "<table border=\"1\" class=\"dataframe\">\n",
       "  <thead>\n",
       "    <tr style=\"text-align: right;\">\n",
       "      <th></th>\n",
       "      <th>plate_no</th>\n",
       "      <th>rolling_date</th>\n",
       "      <th>scale</th>\n",
       "      <th>spec_long</th>\n",
       "      <th>spec_country</th>\n",
       "      <th>steel_kind</th>\n",
       "      <th>pt_thick</th>\n",
       "      <th>pt_width</th>\n",
       "      <th>pt_length</th>\n",
       "      <th>hsb</th>\n",
       "      <th>...</th>\n",
       "      <th>fur_input_row</th>\n",
       "      <th>fur_heat_temp</th>\n",
       "      <th>fur_heat_time</th>\n",
       "      <th>fur_soak_temp</th>\n",
       "      <th>fur_soak_time</th>\n",
       "      <th>fur_total_time</th>\n",
       "      <th>rolling_method</th>\n",
       "      <th>rolling_temp</th>\n",
       "      <th>descaling_count</th>\n",
       "      <th>work_group</th>\n",
       "    </tr>\n",
       "  </thead>\n",
       "  <tbody>\n",
       "    <tr>\n",
       "      <th>0</th>\n",
       "      <td>PLT_1001</td>\n",
       "      <td>03JAN2023:07:07:53</td>\n",
       "      <td>양품</td>\n",
       "      <td>AB/EH32-TM</td>\n",
       "      <td>미국</td>\n",
       "      <td>T</td>\n",
       "      <td>32</td>\n",
       "      <td>3700</td>\n",
       "      <td>15100</td>\n",
       "      <td>적용</td>\n",
       "      <td>...</td>\n",
       "      <td>1열</td>\n",
       "      <td>1144</td>\n",
       "      <td>116</td>\n",
       "      <td>1133</td>\n",
       "      <td>59</td>\n",
       "      <td>259</td>\n",
       "      <td>TMCP(온도제어)</td>\n",
       "      <td>934</td>\n",
       "      <td>8</td>\n",
       "      <td>1조</td>\n",
       "    </tr>\n",
       "    <tr>\n",
       "      <th>1</th>\n",
       "      <td>PLT_1002</td>\n",
       "      <td>03JAN2023:07:21:22</td>\n",
       "      <td>양품</td>\n",
       "      <td>AB/EH32-TM</td>\n",
       "      <td>미국</td>\n",
       "      <td>T</td>\n",
       "      <td>32</td>\n",
       "      <td>3700</td>\n",
       "      <td>15100</td>\n",
       "      <td>적용</td>\n",
       "      <td>...</td>\n",
       "      <td>2열</td>\n",
       "      <td>1144</td>\n",
       "      <td>122</td>\n",
       "      <td>1135</td>\n",
       "      <td>53</td>\n",
       "      <td>238</td>\n",
       "      <td>TMCP(온도제어)</td>\n",
       "      <td>937</td>\n",
       "      <td>8</td>\n",
       "      <td>1조</td>\n",
       "    </tr>\n",
       "    <tr>\n",
       "      <th>2</th>\n",
       "      <td>PLT_1003</td>\n",
       "      <td>03JAN2023:07:31:15</td>\n",
       "      <td>양품</td>\n",
       "      <td>NV-E36-TM</td>\n",
       "      <td>영국</td>\n",
       "      <td>T</td>\n",
       "      <td>33</td>\n",
       "      <td>3600</td>\n",
       "      <td>19200</td>\n",
       "      <td>적용</td>\n",
       "      <td>...</td>\n",
       "      <td>1열</td>\n",
       "      <td>1129</td>\n",
       "      <td>116</td>\n",
       "      <td>1121</td>\n",
       "      <td>55</td>\n",
       "      <td>258</td>\n",
       "      <td>TMCP(온도제어)</td>\n",
       "      <td>889</td>\n",
       "      <td>8</td>\n",
       "      <td>1조</td>\n",
       "    </tr>\n",
       "    <tr>\n",
       "      <th>3</th>\n",
       "      <td>PLT_1004</td>\n",
       "      <td>03JAN2023:07:41:01</td>\n",
       "      <td>양품</td>\n",
       "      <td>NV-E36-TM</td>\n",
       "      <td>영국</td>\n",
       "      <td>T</td>\n",
       "      <td>33</td>\n",
       "      <td>3600</td>\n",
       "      <td>19200</td>\n",
       "      <td>적용</td>\n",
       "      <td>...</td>\n",
       "      <td>2열</td>\n",
       "      <td>1152</td>\n",
       "      <td>125</td>\n",
       "      <td>1127</td>\n",
       "      <td>68</td>\n",
       "      <td>266</td>\n",
       "      <td>TMCP(온도제어)</td>\n",
       "      <td>885</td>\n",
       "      <td>8</td>\n",
       "      <td>1조</td>\n",
       "    </tr>\n",
       "    <tr>\n",
       "      <th>4</th>\n",
       "      <td>PLT_1005</td>\n",
       "      <td>03JAN2023:07:52:40</td>\n",
       "      <td>양품</td>\n",
       "      <td>BV-EH36-TM</td>\n",
       "      <td>프랑스</td>\n",
       "      <td>T</td>\n",
       "      <td>38</td>\n",
       "      <td>3100</td>\n",
       "      <td>13300</td>\n",
       "      <td>적용</td>\n",
       "      <td>...</td>\n",
       "      <td>1열</td>\n",
       "      <td>1140</td>\n",
       "      <td>134</td>\n",
       "      <td>1128</td>\n",
       "      <td>48</td>\n",
       "      <td>246</td>\n",
       "      <td>TMCP(온도제어)</td>\n",
       "      <td>873</td>\n",
       "      <td>8</td>\n",
       "      <td>1조</td>\n",
       "    </tr>\n",
       "  </tbody>\n",
       "</table>\n",
       "<p>5 rows × 21 columns</p>\n",
       "</div>"
      ],
      "text/plain": [
       "   plate_no        rolling_date scale   spec_long spec_country steel_kind  \\\n",
       "0  PLT_1001  03JAN2023:07:07:53    양품  AB/EH32-TM           미국          T   \n",
       "1  PLT_1002  03JAN2023:07:21:22    양품  AB/EH32-TM           미국          T   \n",
       "2  PLT_1003  03JAN2023:07:31:15    양품   NV-E36-TM           영국          T   \n",
       "3  PLT_1004  03JAN2023:07:41:01    양품   NV-E36-TM           영국          T   \n",
       "4  PLT_1005  03JAN2023:07:52:40    양품  BV-EH36-TM          프랑스          T   \n",
       "\n",
       "   pt_thick  pt_width  pt_length hsb  ... fur_input_row fur_heat_temp  \\\n",
       "0        32      3700      15100  적용  ...            1열          1144   \n",
       "1        32      3700      15100  적용  ...            2열          1144   \n",
       "2        33      3600      19200  적용  ...            1열          1129   \n",
       "3        33      3600      19200  적용  ...            2열          1152   \n",
       "4        38      3100      13300  적용  ...            1열          1140   \n",
       "\n",
       "   fur_heat_time  fur_soak_temp  fur_soak_time  fur_total_time  \\\n",
       "0            116           1133             59             259   \n",
       "1            122           1135             53             238   \n",
       "2            116           1121             55             258   \n",
       "3            125           1127             68             266   \n",
       "4            134           1128             48             246   \n",
       "\n",
       "   rolling_method rolling_temp  descaling_count  work_group  \n",
       "0      TMCP(온도제어)          934                8          1조  \n",
       "1      TMCP(온도제어)          937                8          1조  \n",
       "2      TMCP(온도제어)          889                8          1조  \n",
       "3      TMCP(온도제어)          885                8          1조  \n",
       "4      TMCP(온도제어)          873                8          1조  \n",
       "\n",
       "[5 rows x 21 columns]"
      ]
     },
     "execution_count": 18,
     "metadata": {},
     "output_type": "execute_result"
    }
   ],
   "source": [
    "# p113 연습\n",
    "\n",
    "# 데이터 불러오기\n",
    "df_raw = pd.read_csv(\"/home/piai/다운로드/2주차 실습파일/2. Big Data 분석/SCALE불량.csv\", encoding = 'euc-kr')\n",
    "df_raw.head()"
   ]
  },
  {
   "cell_type": "code",
   "execution_count": 19,
   "id": "57f56c11",
   "metadata": {},
   "outputs": [
    {
     "data": {
      "text/plain": [
       "plate_no           0\n",
       "rolling_date       0\n",
       "scale              0\n",
       "spec_long          0\n",
       "spec_country       0\n",
       "steel_kind         0\n",
       "pt_thick           0\n",
       "pt_width           0\n",
       "pt_length          0\n",
       "hsb                0\n",
       "fur_no             0\n",
       "fur_input_row      0\n",
       "fur_heat_temp      0\n",
       "fur_heat_time      0\n",
       "fur_soak_temp      0\n",
       "fur_soak_time      0\n",
       "fur_total_time     0\n",
       "rolling_method     0\n",
       "rolling_temp       0\n",
       "descaling_count    0\n",
       "work_group         0\n",
       "dtype: int64"
      ]
     },
     "execution_count": 19,
     "metadata": {},
     "output_type": "execute_result"
    }
   ],
   "source": [
    "# p113 연습\n",
    "# 데이터 전처리 - 결측치 확인 및 처리\n",
    "\n",
    "# 결측치 확인\n",
    "df_raw.isnull().sum(axis = 0)\n",
    "\n",
    "# VALUE는 14개의 결측치, JOB은 81개의 결측치, ... 등을 가짐"
   ]
  },
  {
   "cell_type": "code",
   "execution_count": 20,
   "id": "caed23ab",
   "metadata": {},
   "outputs": [
    {
     "name": "stdout",
     "output_type": "stream",
     "text": [
      "<class 'pandas.core.frame.DataFrame'>\n",
      "RangeIndex: 1000 entries, 0 to 999\n",
      "Data columns (total 21 columns):\n",
      " #   Column           Non-Null Count  Dtype \n",
      "---  ------           --------------  ----- \n",
      " 0   plate_no         1000 non-null   object\n",
      " 1   rolling_date     1000 non-null   object\n",
      " 2   scale            1000 non-null   object\n",
      " 3   spec_long        1000 non-null   object\n",
      " 4   spec_country     1000 non-null   object\n",
      " 5   steel_kind       1000 non-null   object\n",
      " 6   pt_thick         1000 non-null   int64 \n",
      " 7   pt_width         1000 non-null   int64 \n",
      " 8   pt_length        1000 non-null   int64 \n",
      " 9   hsb              1000 non-null   object\n",
      " 10  fur_no           1000 non-null   object\n",
      " 11  fur_input_row    1000 non-null   object\n",
      " 12  fur_heat_temp    1000 non-null   int64 \n",
      " 13  fur_heat_time    1000 non-null   int64 \n",
      " 14  fur_soak_temp    1000 non-null   int64 \n",
      " 15  fur_soak_time    1000 non-null   int64 \n",
      " 16  fur_total_time   1000 non-null   int64 \n",
      " 17  rolling_method   1000 non-null   object\n",
      " 18  rolling_temp     1000 non-null   int64 \n",
      " 19  descaling_count  1000 non-null   int64 \n",
      " 20  work_group       1000 non-null   object\n",
      "dtypes: int64(10), object(11)\n",
      "memory usage: 164.2+ KB\n"
     ]
    }
   ],
   "source": [
    "# p113 연습\n",
    "\n",
    "# 데이터 구성하기 - 확인\n",
    "df_raw.info()"
   ]
  },
  {
   "cell_type": "code",
   "execution_count": 21,
   "id": "890a734e",
   "metadata": {},
   "outputs": [
    {
     "name": "stdout",
     "output_type": "stream",
     "text": [
      "Data 구조: (1000, 21)\n",
      "변수: Index(['plate_no', 'rolling_date', 'scale', 'spec_long', 'spec_country',\n",
      "       'steel_kind', 'pt_thick', 'pt_width', 'pt_length', 'hsb', 'fur_no',\n",
      "       'fur_input_row', 'fur_heat_temp', 'fur_heat_time', 'fur_soak_temp',\n",
      "       'fur_soak_time', 'fur_total_time', 'rolling_method', 'rolling_temp',\n",
      "       'descaling_count', 'work_group'],\n",
      "      dtype='object')\n"
     ]
    }
   ],
   "source": [
    "# p113 연습\n",
    "\n",
    "print(\"Data 구조:\", df_raw.shape) # 데이터 수 체크\n",
    "print(\"변수:\", df_raw.columns) # 열 체크"
   ]
  },
  {
   "cell_type": "code",
   "execution_count": 22,
   "id": "f42b6fcc",
   "metadata": {},
   "outputs": [
    {
     "data": {
      "text/plain": [
       "양품    690\n",
       "불량    310\n",
       "Name: scale, dtype: int64"
      ]
     },
     "execution_count": 22,
     "metadata": {},
     "output_type": "execute_result"
    }
   ],
   "source": [
    "df_raw['scale'].value_counts()"
   ]
  },
  {
   "cell_type": "code",
   "execution_count": 23,
   "id": "296af595",
   "metadata": {},
   "outputs": [
    {
     "data": {
      "text/plain": [
       "C    755\n",
       "T    245\n",
       "Name: steel_kind, dtype: int64"
      ]
     },
     "execution_count": 23,
     "metadata": {},
     "output_type": "execute_result"
    }
   ],
   "source": [
    "df_raw['steel_kind'].value_counts()"
   ]
  },
  {
   "cell_type": "code",
   "execution_count": 24,
   "id": "74c5926f",
   "metadata": {},
   "outputs": [
    {
     "data": {
      "text/plain": [
       "적용     953\n",
       "미적용     47\n",
       "Name: hsb, dtype: int64"
      ]
     },
     "execution_count": 24,
     "metadata": {},
     "output_type": "execute_result"
    }
   ],
   "source": [
    "df_raw['hsb'].value_counts()"
   ]
  },
  {
   "cell_type": "code",
   "execution_count": 27,
   "id": "e0652aa6",
   "metadata": {},
   "outputs": [
    {
     "data": {
      "text/html": [
       "<div>\n",
       "<style scoped>\n",
       "    .dataframe tbody tr th:only-of-type {\n",
       "        vertical-align: middle;\n",
       "    }\n",
       "\n",
       "    .dataframe tbody tr th {\n",
       "        vertical-align: top;\n",
       "    }\n",
       "\n",
       "    .dataframe thead th {\n",
       "        text-align: right;\n",
       "    }\n",
       "</style>\n",
       "<table border=\"1\" class=\"dataframe\">\n",
       "  <thead>\n",
       "    <tr style=\"text-align: right;\">\n",
       "      <th></th>\n",
       "      <th>plate_no</th>\n",
       "      <th>rolling_date</th>\n",
       "      <th>scale</th>\n",
       "      <th>spec_long</th>\n",
       "      <th>spec_country</th>\n",
       "      <th>steel_kind</th>\n",
       "      <th>pt_thick</th>\n",
       "      <th>pt_width</th>\n",
       "      <th>pt_length</th>\n",
       "      <th>hsb</th>\n",
       "      <th>...</th>\n",
       "      <th>fur_input_row</th>\n",
       "      <th>fur_heat_temp</th>\n",
       "      <th>fur_heat_time</th>\n",
       "      <th>fur_soak_temp</th>\n",
       "      <th>fur_soak_time</th>\n",
       "      <th>fur_total_time</th>\n",
       "      <th>rolling_method</th>\n",
       "      <th>rolling_temp</th>\n",
       "      <th>descaling_count</th>\n",
       "      <th>work_group</th>\n",
       "    </tr>\n",
       "  </thead>\n",
       "  <tbody>\n",
       "  </tbody>\n",
       "</table>\n",
       "<p>0 rows × 21 columns</p>\n",
       "</div>"
      ],
      "text/plain": [
       "Empty DataFrame\n",
       "Columns: [plate_no, rolling_date, scale, spec_long, spec_country, steel_kind, pt_thick, pt_width, pt_length, hsb, fur_no, fur_input_row, fur_heat_temp, fur_heat_time, fur_soak_temp, fur_soak_time, fur_total_time, rolling_method, rolling_temp, descaling_count, work_group]\n",
       "Index: []\n",
       "\n",
       "[0 rows x 21 columns]"
      ]
     },
     "execution_count": 27,
     "metadata": {},
     "output_type": "execute_result"
    }
   ],
   "source": [
    "df_raw[(df_raw['hsb']=='미적용') &( df_raw['scale']=='양품')] # hsb 미적용 --> 전부 불량"
   ]
  },
  {
   "cell_type": "code",
   "execution_count": 28,
   "id": "dc2ae51c",
   "metadata": {},
   "outputs": [
    {
     "data": {
      "text/plain": [
       "993     16\n",
       "1004    15\n",
       "956     14\n",
       "924     13\n",
       "991     13\n",
       "        ..\n",
       "854      1\n",
       "871      1\n",
       "868      1\n",
       "802      1\n",
       "943      1\n",
       "Name: rolling_temp, Length: 226, dtype: int64"
      ]
     },
     "execution_count": 28,
     "metadata": {},
     "output_type": "execute_result"
    }
   ],
   "source": [
    "df_raw['rolling_temp'].value_counts()"
   ]
  },
  {
   "cell_type": "code",
   "execution_count": 29,
   "id": "3375a62f",
   "metadata": {},
   "outputs": [
    {
     "data": {
      "text/plain": [
       "count    1000.000000\n",
       "mean      934.637000\n",
       "std        96.598015\n",
       "min         0.000000\n",
       "25%       893.750000\n",
       "50%       948.000000\n",
       "75%       991.000000\n",
       "max      1078.000000\n",
       "Name: rolling_temp, dtype: float64"
      ]
     },
     "execution_count": 29,
     "metadata": {},
     "output_type": "execute_result"
    }
   ],
   "source": [
    "df_raw['rolling_temp'].describe()"
   ]
  },
  {
   "cell_type": "code",
   "execution_count": 31,
   "id": "2cd13846",
   "metadata": {},
   "outputs": [
    {
     "data": {
      "text/html": [
       "<div>\n",
       "<style scoped>\n",
       "    .dataframe tbody tr th:only-of-type {\n",
       "        vertical-align: middle;\n",
       "    }\n",
       "\n",
       "    .dataframe tbody tr th {\n",
       "        vertical-align: top;\n",
       "    }\n",
       "\n",
       "    .dataframe thead th {\n",
       "        text-align: right;\n",
       "    }\n",
       "</style>\n",
       "<table border=\"1\" class=\"dataframe\">\n",
       "  <thead>\n",
       "    <tr style=\"text-align: right;\">\n",
       "      <th></th>\n",
       "      <th>plate_no</th>\n",
       "      <th>rolling_date</th>\n",
       "      <th>scale</th>\n",
       "      <th>spec_long</th>\n",
       "      <th>spec_country</th>\n",
       "      <th>steel_kind</th>\n",
       "      <th>pt_thick</th>\n",
       "      <th>pt_width</th>\n",
       "      <th>pt_length</th>\n",
       "      <th>hsb</th>\n",
       "      <th>...</th>\n",
       "      <th>fur_input_row</th>\n",
       "      <th>fur_heat_temp</th>\n",
       "      <th>fur_heat_time</th>\n",
       "      <th>fur_soak_temp</th>\n",
       "      <th>fur_soak_time</th>\n",
       "      <th>fur_total_time</th>\n",
       "      <th>rolling_method</th>\n",
       "      <th>rolling_temp</th>\n",
       "      <th>descaling_count</th>\n",
       "      <th>work_group</th>\n",
       "    </tr>\n",
       "  </thead>\n",
       "  <tbody>\n",
       "    <tr>\n",
       "      <th>53</th>\n",
       "      <td>PLT_1054</td>\n",
       "      <td>03JAN2023:16:22:29</td>\n",
       "      <td>양품</td>\n",
       "      <td>GL-E36-TM</td>\n",
       "      <td>독일</td>\n",
       "      <td>T</td>\n",
       "      <td>56</td>\n",
       "      <td>3800</td>\n",
       "      <td>11400</td>\n",
       "      <td>적용</td>\n",
       "      <td>...</td>\n",
       "      <td>2열</td>\n",
       "      <td>1132</td>\n",
       "      <td>95</td>\n",
       "      <td>1128</td>\n",
       "      <td>80</td>\n",
       "      <td>244</td>\n",
       "      <td>TMCP(온도제어)</td>\n",
       "      <td>0</td>\n",
       "      <td>6</td>\n",
       "      <td>1조</td>\n",
       "    </tr>\n",
       "    <tr>\n",
       "      <th>221</th>\n",
       "      <td>PLT_1222</td>\n",
       "      <td>04JAN2023:19:44:09</td>\n",
       "      <td>양품</td>\n",
       "      <td>JS-SM490YB</td>\n",
       "      <td>일본</td>\n",
       "      <td>C</td>\n",
       "      <td>16</td>\n",
       "      <td>2200</td>\n",
       "      <td>43600</td>\n",
       "      <td>적용</td>\n",
       "      <td>...</td>\n",
       "      <td>2열</td>\n",
       "      <td>1163</td>\n",
       "      <td>57</td>\n",
       "      <td>1166</td>\n",
       "      <td>67</td>\n",
       "      <td>228</td>\n",
       "      <td>CR(제어압연)</td>\n",
       "      <td>0</td>\n",
       "      <td>10</td>\n",
       "      <td>2조</td>\n",
       "    </tr>\n",
       "    <tr>\n",
       "      <th>222</th>\n",
       "      <td>PLT_1223</td>\n",
       "      <td>04JAN2023:19:56:39</td>\n",
       "      <td>양품</td>\n",
       "      <td>JS-SM490YB</td>\n",
       "      <td>일본</td>\n",
       "      <td>C</td>\n",
       "      <td>16</td>\n",
       "      <td>2200</td>\n",
       "      <td>43600</td>\n",
       "      <td>적용</td>\n",
       "      <td>...</td>\n",
       "      <td>1열</td>\n",
       "      <td>1169</td>\n",
       "      <td>64</td>\n",
       "      <td>1164</td>\n",
       "      <td>61</td>\n",
       "      <td>188</td>\n",
       "      <td>CR(제어압연)</td>\n",
       "      <td>0</td>\n",
       "      <td>10</td>\n",
       "      <td>2조</td>\n",
       "    </tr>\n",
       "    <tr>\n",
       "      <th>598</th>\n",
       "      <td>PLT_1599</td>\n",
       "      <td>07JAN2023:11:40:51</td>\n",
       "      <td>양품</td>\n",
       "      <td>PILAC-BT33</td>\n",
       "      <td>한국</td>\n",
       "      <td>T</td>\n",
       "      <td>81</td>\n",
       "      <td>2100</td>\n",
       "      <td>12900</td>\n",
       "      <td>적용</td>\n",
       "      <td>...</td>\n",
       "      <td>1열</td>\n",
       "      <td>1133</td>\n",
       "      <td>89</td>\n",
       "      <td>1122</td>\n",
       "      <td>59</td>\n",
       "      <td>229</td>\n",
       "      <td>CR(제어압연)</td>\n",
       "      <td>0</td>\n",
       "      <td>6</td>\n",
       "      <td>3조</td>\n",
       "    </tr>\n",
       "    <tr>\n",
       "      <th>599</th>\n",
       "      <td>PLT_1600</td>\n",
       "      <td>07JAN2023:11:52:00</td>\n",
       "      <td>양품</td>\n",
       "      <td>PILAC-BT33</td>\n",
       "      <td>한국</td>\n",
       "      <td>T</td>\n",
       "      <td>81</td>\n",
       "      <td>2100</td>\n",
       "      <td>13200</td>\n",
       "      <td>적용</td>\n",
       "      <td>...</td>\n",
       "      <td>2열</td>\n",
       "      <td>1130</td>\n",
       "      <td>92</td>\n",
       "      <td>1124</td>\n",
       "      <td>61</td>\n",
       "      <td>210</td>\n",
       "      <td>CR(제어압연)</td>\n",
       "      <td>0</td>\n",
       "      <td>6</td>\n",
       "      <td>3조</td>\n",
       "    </tr>\n",
       "    <tr>\n",
       "      <th>600</th>\n",
       "      <td>PLT_1601</td>\n",
       "      <td>07JAN2023:11:59:10</td>\n",
       "      <td>양품</td>\n",
       "      <td>NV-D32-TM</td>\n",
       "      <td>영국</td>\n",
       "      <td>T</td>\n",
       "      <td>40</td>\n",
       "      <td>2500</td>\n",
       "      <td>23600</td>\n",
       "      <td>적용</td>\n",
       "      <td>...</td>\n",
       "      <td>1열</td>\n",
       "      <td>1119</td>\n",
       "      <td>109</td>\n",
       "      <td>1117</td>\n",
       "      <td>76</td>\n",
       "      <td>260</td>\n",
       "      <td>TMCP(온도제어)</td>\n",
       "      <td>0</td>\n",
       "      <td>6</td>\n",
       "      <td>3조</td>\n",
       "    </tr>\n",
       "  </tbody>\n",
       "</table>\n",
       "<p>6 rows × 21 columns</p>\n",
       "</div>"
      ],
      "text/plain": [
       "     plate_no        rolling_date scale   spec_long spec_country steel_kind  \\\n",
       "53   PLT_1054  03JAN2023:16:22:29    양품   GL-E36-TM           독일          T   \n",
       "221  PLT_1222  04JAN2023:19:44:09    양품  JS-SM490YB           일본          C   \n",
       "222  PLT_1223  04JAN2023:19:56:39    양품  JS-SM490YB           일본          C   \n",
       "598  PLT_1599  07JAN2023:11:40:51    양품  PILAC-BT33           한국          T   \n",
       "599  PLT_1600  07JAN2023:11:52:00    양품  PILAC-BT33           한국          T   \n",
       "600  PLT_1601  07JAN2023:11:59:10    양품   NV-D32-TM           영국          T   \n",
       "\n",
       "     pt_thick  pt_width  pt_length hsb  ... fur_input_row fur_heat_temp  \\\n",
       "53         56      3800      11400  적용  ...            2열          1132   \n",
       "221        16      2200      43600  적용  ...            2열          1163   \n",
       "222        16      2200      43600  적용  ...            1열          1169   \n",
       "598        81      2100      12900  적용  ...            1열          1133   \n",
       "599        81      2100      13200  적용  ...            2열          1130   \n",
       "600        40      2500      23600  적용  ...            1열          1119   \n",
       "\n",
       "     fur_heat_time  fur_soak_temp  fur_soak_time  fur_total_time  \\\n",
       "53              95           1128             80             244   \n",
       "221             57           1166             67             228   \n",
       "222             64           1164             61             188   \n",
       "598             89           1122             59             229   \n",
       "599             92           1124             61             210   \n",
       "600            109           1117             76             260   \n",
       "\n",
       "     rolling_method rolling_temp  descaling_count  work_group  \n",
       "53       TMCP(온도제어)            0                6          1조  \n",
       "221        CR(제어압연)            0               10          2조  \n",
       "222        CR(제어압연)            0               10          2조  \n",
       "598        CR(제어압연)            0                6          3조  \n",
       "599        CR(제어압연)            0                6          3조  \n",
       "600      TMCP(온도제어)            0                6          3조  \n",
       "\n",
       "[6 rows x 21 columns]"
      ]
     },
     "execution_count": 31,
     "metadata": {},
     "output_type": "execute_result"
    }
   ],
   "source": [
    "df_raw[df_raw['rolling_temp']==0]"
   ]
  },
  {
   "cell_type": "code",
   "execution_count": 32,
   "id": "70243e9c",
   "metadata": {},
   "outputs": [
    {
     "data": {
      "text/plain": [
       "10    488\n",
       "8     249\n",
       "6     206\n",
       "9      31\n",
       "7      20\n",
       "5       6\n",
       "Name: descaling_count, dtype: int64"
      ]
     },
     "execution_count": 32,
     "metadata": {},
     "output_type": "execute_result"
    }
   ],
   "source": [
    "df_raw['descaling_count'].value_counts()"
   ]
  },
  {
   "cell_type": "markdown",
   "id": "fca80d5f",
   "metadata": {},
   "source": [
    "- 그래프 기준 양품/불량 차이 많이 날 시 웬만하면 핵심인자\n",
    "- HSB 적용했는데도 불량 원인 -> 2차 scale?"
   ]
  },
  {
   "cell_type": "code",
   "execution_count": 34,
   "id": "7faaae24",
   "metadata": {},
   "outputs": [
    {
     "data": {
      "text/plain": [
       "Index(['plate_no', 'rolling_date', 'scale', 'spec_long', 'spec_country',\n",
       "       'steel_kind', 'pt_thick', 'pt_width', 'pt_length', 'hsb', 'fur_no',\n",
       "       'fur_input_row', 'fur_heat_temp', 'fur_heat_time', 'fur_soak_temp',\n",
       "       'fur_soak_time', 'fur_total_time', 'rolling_method', 'rolling_temp',\n",
       "       'descaling_count', 'work_group'],\n",
       "      dtype='object')"
      ]
     },
     "execution_count": 34,
     "metadata": {},
     "output_type": "execute_result"
    }
   ],
   "source": [
    "df_raw.columns"
   ]
  },
  {
   "cell_type": "code",
   "execution_count": 35,
   "id": "293e9a64",
   "metadata": {},
   "outputs": [
    {
     "data": {
      "text/plain": [
       "JS-SM490YB     84\n",
       "LR-A           81\n",
       "LR-AH32        52\n",
       "AB/A           51\n",
       "NV-A           48\n",
       "               ..\n",
       "LR-AH36         1\n",
       "BV-AH36-TM      1\n",
       "A131-DH36TM     1\n",
       "KR-B            1\n",
       "KS-HSB600       1\n",
       "Name: spec_long, Length: 66, dtype: int64"
      ]
     },
     "execution_count": 35,
     "metadata": {},
     "output_type": "execute_result"
    }
   ],
   "source": [
    "df_raw['spec_long'].value_counts()"
   ]
  },
  {
   "cell_type": "code",
   "execution_count": 36,
   "id": "4cf0ff8e",
   "metadata": {},
   "outputs": [
    {
     "data": {
      "text/plain": [
       "영국     256\n",
       "일본     187\n",
       "미국     159\n",
       "프랑스    143\n",
       "한국     132\n",
       "독일      87\n",
       "공통      36\n",
       "Name: spec_country, dtype: int64"
      ]
     },
     "execution_count": 36,
     "metadata": {},
     "output_type": "execute_result"
    }
   ],
   "source": [
    "df_raw['spec_country'].value_counts()"
   ]
  },
  {
   "cell_type": "code",
   "execution_count": 37,
   "id": "aee46bc4",
   "metadata": {},
   "outputs": [
    {
     "data": {
      "text/plain": [
       "20     118\n",
       "13     118\n",
       "16      67\n",
       "18      65\n",
       "15      62\n",
       "40      59\n",
       "12      58\n",
       "14      51\n",
       "19      43\n",
       "17      39\n",
       "38      31\n",
       "30      29\n",
       "22      24\n",
       "23      19\n",
       "50      18\n",
       "25      18\n",
       "76      15\n",
       "45      14\n",
       "66      13\n",
       "74      13\n",
       "61      12\n",
       "21      12\n",
       "24      11\n",
       "75       9\n",
       "70       7\n",
       "32       6\n",
       "51       6\n",
       "81       5\n",
       "35       5\n",
       "56       5\n",
       "26       5\n",
       "44       5\n",
       "71       4\n",
       "64       4\n",
       "55       4\n",
       "77       3\n",
       "34       3\n",
       "90       3\n",
       "48       3\n",
       "60       2\n",
       "33       2\n",
       "68       2\n",
       "83       2\n",
       "100      2\n",
       "36       1\n",
       "27       1\n",
       "80       1\n",
       "54       1\n",
       "Name: pt_thick, dtype: int64"
      ]
     },
     "execution_count": 37,
     "metadata": {},
     "output_type": "execute_result"
    }
   ],
   "source": [
    "df_raw['pt_thick'].value_counts()"
   ]
  },
  {
   "cell_type": "code",
   "execution_count": 38,
   "id": "7e019796",
   "metadata": {},
   "outputs": [
    {
     "data": {
      "text/plain": [
       "2500    143\n",
       "3100    139\n",
       "2700     79\n",
       "2600     72\n",
       "2200     69\n",
       "3300     61\n",
       "2300     58\n",
       "2900     56\n",
       "2800     53\n",
       "3400     51\n",
       "3600     33\n",
       "3200     29\n",
       "3000     25\n",
       "3500     22\n",
       "2000     21\n",
       "2100     18\n",
       "2400     13\n",
       "3700     13\n",
       "1800     11\n",
       "3800      7\n",
       "4100      6\n",
       "1900      5\n",
       "4300      4\n",
       "4600      3\n",
       "4500      3\n",
       "3900      2\n",
       "4200      2\n",
       "4000      1\n",
       "4400      1\n",
       "Name: pt_width, dtype: int64"
      ]
     },
     "execution_count": 38,
     "metadata": {},
     "output_type": "execute_result"
    }
   ],
   "source": [
    "df_raw['pt_width'].value_counts()"
   ]
  },
  {
   "cell_type": "code",
   "execution_count": 39,
   "id": "738817c4",
   "metadata": {},
   "outputs": [
    {
     "data": {
      "text/plain": [
       "30700    22\n",
       "12000    20\n",
       "16700    18\n",
       "41800    17\n",
       "11000    16\n",
       "         ..\n",
       "24900     1\n",
       "32200     1\n",
       "31000     1\n",
       "19000     1\n",
       "29400     1\n",
       "Name: pt_length, Length: 278, dtype: int64"
      ]
     },
     "execution_count": 39,
     "metadata": {},
     "output_type": "execute_result"
    }
   ],
   "source": [
    "df_raw['pt_length'].value_counts()"
   ]
  },
  {
   "cell_type": "code",
   "execution_count": 41,
   "id": "7496c6c5",
   "metadata": {},
   "outputs": [
    {
     "data": {
      "text/plain": [
       "1열    508\n",
       "2열    492\n",
       "Name: fur_input_row, dtype: int64"
      ]
     },
     "execution_count": 41,
     "metadata": {},
     "output_type": "execute_result"
    }
   ],
   "source": [
    "df_raw['fur_input_row'].value_counts()"
   ]
  },
  {
   "cell_type": "code",
   "execution_count": 42,
   "id": "c1dddcd4",
   "metadata": {},
   "outputs": [
    {
     "data": {
      "text/plain": [
       "3호기    342\n",
       "1호기    333\n",
       "2호기    325\n",
       "Name: fur_no, dtype: int64"
      ]
     },
     "execution_count": 42,
     "metadata": {},
     "output_type": "execute_result"
    }
   ],
   "source": [
    "df_raw['fur_no'].value_counts()"
   ]
  },
  {
   "cell_type": "code",
   "execution_count": 43,
   "id": "c8e3e58c",
   "metadata": {},
   "outputs": [
    {
     "data": {
      "text/plain": [
       "1169    37\n",
       "1171    29\n",
       "1174    29\n",
       "1165    25\n",
       "1158    24\n",
       "        ..\n",
       "1200     1\n",
       "1106     1\n",
       "1120     1\n",
       "1109     1\n",
       "1103     1\n",
       "Name: fur_heat_temp, Length: 100, dtype: int64"
      ]
     },
     "execution_count": 43,
     "metadata": {},
     "output_type": "execute_result"
    }
   ],
   "source": [
    "df_raw['fur_heat_temp'].value_counts()"
   ]
  },
  {
   "cell_type": "code",
   "execution_count": 44,
   "id": "d090ce81",
   "metadata": {},
   "outputs": [
    {
     "data": {
      "text/plain": [
       "1163    43\n",
       "1158    35\n",
       "1164    35\n",
       "1165    33\n",
       "1160    32\n",
       "        ..\n",
       "1142     3\n",
       "1184     3\n",
       "1183     2\n",
       "1180     2\n",
       "1113     1\n",
       "Name: fur_soak_temp, Length: 70, dtype: int64"
      ]
     },
     "execution_count": 44,
     "metadata": {},
     "output_type": "execute_result"
    }
   ],
   "source": [
    "df_raw['fur_soak_temp'].value_counts()"
   ]
  },
  {
   "cell_type": "code",
   "execution_count": 45,
   "id": "abee40e2",
   "metadata": {},
   "outputs": [
    {
     "data": {
      "text/plain": [
       "58     44\n",
       "61     36\n",
       "73     33\n",
       "55     32\n",
       "57     32\n",
       "       ..\n",
       "141     1\n",
       "139     1\n",
       "37      1\n",
       "40      1\n",
       "35      1\n",
       "Name: fur_soak_time, Length: 100, dtype: int64"
      ]
     },
     "execution_count": 45,
     "metadata": {},
     "output_type": "execute_result"
    }
   ],
   "source": [
    "df_raw['fur_soak_time'].value_counts()"
   ]
  },
  {
   "cell_type": "code",
   "execution_count": 46,
   "id": "a22e279d",
   "metadata": {},
   "outputs": [
    {
     "data": {
      "text/plain": [
       "221    23\n",
       "215    17\n",
       "194    16\n",
       "217    16\n",
       "206    16\n",
       "       ..\n",
       "328     1\n",
       "323     1\n",
       "336     1\n",
       "299     1\n",
       "173     1\n",
       "Name: fur_total_time, Length: 170, dtype: int64"
      ]
     },
     "execution_count": 46,
     "metadata": {},
     "output_type": "execute_result"
    }
   ],
   "source": [
    "df_raw['fur_total_time'].value_counts()"
   ]
  },
  {
   "cell_type": "code",
   "execution_count": 48,
   "id": "82f400a5",
   "metadata": {},
   "outputs": [
    {
     "data": {
      "text/plain": [
       "CR(제어압연)      840\n",
       "TMCP(온도제어)    160\n",
       "Name: rolling_method, dtype: int64"
      ]
     },
     "execution_count": 48,
     "metadata": {},
     "output_type": "execute_result"
    }
   ],
   "source": [
    "df_raw['rolling_method'].value_counts()"
   ]
  },
  {
   "cell_type": "code",
   "execution_count": 49,
   "id": "f5c84779",
   "metadata": {},
   "outputs": [
    {
     "data": {
      "text/plain": [
       "10    488\n",
       "8     249\n",
       "6     206\n",
       "9      31\n",
       "7      20\n",
       "5       6\n",
       "Name: descaling_count, dtype: int64"
      ]
     },
     "execution_count": 49,
     "metadata": {},
     "output_type": "execute_result"
    }
   ],
   "source": [
    "df_raw['descaling_count'].value_counts()"
   ]
  },
  {
   "cell_type": "code",
   "execution_count": 50,
   "id": "e19a4120",
   "metadata": {},
   "outputs": [
    {
     "data": {
      "text/plain": [
       "2조    292\n",
       "1조    280\n",
       "3조    218\n",
       "4조    210\n",
       "Name: work_group, dtype: int64"
      ]
     },
     "execution_count": 50,
     "metadata": {},
     "output_type": "execute_result"
    }
   ],
   "source": [
    "df_raw['work_group'].value_counts()"
   ]
  },
  {
   "cell_type": "code",
   "execution_count": 64,
   "id": "77fb75be",
   "metadata": {},
   "outputs": [
    {
     "data": {
      "text/plain": [
       "<Axes: xlabel='rolling_temp', ylabel='descaling_count'>"
      ]
     },
     "execution_count": 64,
     "metadata": {},
     "output_type": "execute_result"
    },
    {
     "data": {
      "image/png": "[encoded data removed]",
      "text/plain": [
       "<Figure size 640x480 with 1 Axes>"
      ]
     },
     "metadata": {},
     "output_type": "display_data"
    }
   ],
   "source": [
    "import seaborn as sns\n",
    "sns.histplot(data=df_raw,x='rolling_temp',y='descaling_count')"
   ]
  },
  {
   "cell_type": "code",
   "execution_count": null,
   "id": "3574aeca",
   "metadata": {},
   "outputs": [],
   "source": []
  }
 ],
 "metadata": {
  "kernelspec": {
   "display_name": "Python [conda env:base] *",
   "language": "python",
   "name": "conda-base-py"
  },
  "language_info": {
   "codemirror_mode": {
    "name": "ipython",
    "version": 3
   },
   "file_extension": ".py",
   "mimetype": "text/x-python",
   "name": "python",
   "nbconvert_exporter": "python",
   "pygments_lexer": "ipython3",
   "version": "3.10.9"
  }
 },
 "nbformat": 4,
 "nbformat_minor": 5
}
