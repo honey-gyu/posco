{
 "cells": [
  {
   "cell_type": "markdown",
   "metadata": {
    "id": "UDikN0y6KQL8"
   },
   "source": [
    "# Installation"
   ]
  },
  {
   "cell_type": "code",
   "execution_count": 1,
   "metadata": {
    "id": "cji5c-d3KQL9",
    "outputId": "48869a67-7224-4fed-eddf-b57b0784e404"
   },
   "outputs": [
    {
     "name": "stdout",
     "output_type": "stream",
     "text": [
      "zsh:1: no matches found: diffusers[torch]\n",
      "Collecting accelerate\n",
      "  Downloading accelerate-0.34.2-py3-none-any.whl.metadata (19 kB)\n",
      "Requirement already satisfied: numpy<3.0.0,>=1.17 in /home/piai/anaconda3/lib/python3.10/site-packages (from accelerate) (1.23.5)\n",
      "Requirement already satisfied: packaging>=20.0 in /home/piai/anaconda3/lib/python3.10/site-packages (from accelerate) (24.1)\n",
      "Requirement already satisfied: psutil in /home/piai/anaconda3/lib/python3.10/site-packages (from accelerate) (5.9.0)\n",
      "Requirement already satisfied: pyyaml in /home/piai/anaconda3/lib/python3.10/site-packages (from accelerate) (6.0.1)\n",
      "Requirement already satisfied: torch>=1.10.0 in /home/piai/anaconda3/lib/python3.10/site-packages (from accelerate) (2.0.0+cu117)\n",
      "Collecting huggingface-hub>=0.21.0 (from accelerate)\n",
      "  Downloading huggingface_hub-0.24.6-py3-none-any.whl.metadata (13 kB)\n",
      "Collecting safetensors>=0.4.3 (from accelerate)\n",
      "  Downloading safetensors-0.4.5-cp310-cp310-manylinux_2_17_x86_64.manylinux2014_x86_64.whl.metadata (3.8 kB)\n",
      "Requirement already satisfied: filelock in /home/piai/anaconda3/lib/python3.10/site-packages (from huggingface-hub>=0.21.0->accelerate) (3.13.1)\n",
      "Requirement already satisfied: fsspec>=2023.5.0 in /home/piai/anaconda3/lib/python3.10/site-packages (from huggingface-hub>=0.21.0->accelerate) (2024.3.1)\n",
      "Requirement already satisfied: requests in /home/piai/anaconda3/lib/python3.10/site-packages (from huggingface-hub>=0.21.0->accelerate) (2.32.3)\n",
      "Requirement already satisfied: tqdm>=4.42.1 in /home/piai/anaconda3/lib/python3.10/site-packages (from huggingface-hub>=0.21.0->accelerate) (4.66.4)\n",
      "Requirement already satisfied: typing-extensions>=3.7.4.3 in /home/piai/anaconda3/lib/python3.10/site-packages (from huggingface-hub>=0.21.0->accelerate) (4.11.0)\n",
      "Requirement already satisfied: sympy in /home/piai/anaconda3/lib/python3.10/site-packages (from torch>=1.10.0->accelerate) (1.12)\n",
      "Requirement already satisfied: networkx in /home/piai/anaconda3/lib/python3.10/site-packages (from torch>=1.10.0->accelerate) (3.3)\n",
      "Requirement already satisfied: jinja2 in /home/piai/anaconda3/lib/python3.10/site-packages (from torch>=1.10.0->accelerate) (3.1.4)\n",
      "Requirement already satisfied: triton==2.0.0 in /home/piai/anaconda3/lib/python3.10/site-packages (from torch>=1.10.0->accelerate) (2.0.0)\n",
      "Requirement already satisfied: cmake in /home/piai/anaconda3/lib/python3.10/site-packages (from triton==2.0.0->torch>=1.10.0->accelerate) (3.30.3)\n",
      "Requirement already satisfied: lit in /home/piai/anaconda3/lib/python3.10/site-packages (from triton==2.0.0->torch>=1.10.0->accelerate) (18.1.8)\n",
      "Requirement already satisfied: MarkupSafe>=2.0 in /home/piai/anaconda3/lib/python3.10/site-packages (from jinja2->torch>=1.10.0->accelerate) (2.1.3)\n",
      "Requirement already satisfied: charset-normalizer<4,>=2 in /home/piai/anaconda3/lib/python3.10/site-packages (from requests->huggingface-hub>=0.21.0->accelerate) (3.3.2)\n",
      "Requirement already satisfied: idna<4,>=2.5 in /home/piai/anaconda3/lib/python3.10/site-packages (from requests->huggingface-hub>=0.21.0->accelerate) (3.7)\n",
      "Requirement already satisfied: urllib3<3,>=1.21.1 in /home/piai/anaconda3/lib/python3.10/site-packages (from requests->huggingface-hub>=0.21.0->accelerate) (2.2.2)\n",
      "Requirement already satisfied: certifi>=2017.4.17 in /home/piai/anaconda3/lib/python3.10/site-packages (from requests->huggingface-hub>=0.21.0->accelerate) (2024.7.4)\n",
      "Requirement already satisfied: mpmath>=0.19 in /home/piai/anaconda3/lib/python3.10/site-packages (from sympy->torch>=1.10.0->accelerate) (1.3.0)\n",
      "Downloading accelerate-0.34.2-py3-none-any.whl (324 kB)\n",
      "Downloading huggingface_hub-0.24.6-py3-none-any.whl (417 kB)\n",
      "Downloading safetensors-0.4.5-cp310-cp310-manylinux_2_17_x86_64.manylinux2014_x86_64.whl (435 kB)\n",
      "Installing collected packages: safetensors, huggingface-hub, accelerate\n",
      "Successfully installed accelerate-0.34.2 huggingface-hub-0.24.6 safetensors-0.4.5\n",
      "Collecting git+https://github.com/huggingface/diffusers\n",
      "  Cloning https://github.com/huggingface/diffusers to /tmp/pip-req-build-7r2qlfij\n",
      "  Running command git clone --filter=blob:none --quiet https://github.com/huggingface/diffusers /tmp/pip-req-build-7r2qlfij\n",
      "  Resolved https://github.com/huggingface/diffusers to commit f28a8c257afe8eeb16b4deb973c6b1829f6aea59\n",
      "  Installing build dependencies ... \u001b[?25ldone\n",
      "\u001b[?25h  Getting requirements to build wheel ... \u001b[?25ldone\n",
      "\u001b[?25h  Preparing metadata (pyproject.toml) ... \u001b[?25ldone\n",
      "\u001b[?25hCollecting importlib-metadata (from diffusers==0.31.0.dev0)\n",
      "  Downloading importlib_metadata-8.4.0-py3-none-any.whl.metadata (4.7 kB)\n",
      "Requirement already satisfied: filelock in /home/piai/anaconda3/lib/python3.10/site-packages (from diffusers==0.31.0.dev0) (3.13.1)\n",
      "Requirement already satisfied: huggingface-hub>=0.23.2 in /home/piai/anaconda3/lib/python3.10/site-packages (from diffusers==0.31.0.dev0) (0.24.6)\n",
      "Requirement already satisfied: numpy in /home/piai/anaconda3/lib/python3.10/site-packages (from diffusers==0.31.0.dev0) (1.23.5)\n",
      "Collecting regex!=2019.12.17 (from diffusers==0.31.0.dev0)\n",
      "  Downloading regex-2024.7.24-cp310-cp310-manylinux_2_17_x86_64.manylinux2014_x86_64.whl.metadata (40 kB)\n",
      "Requirement already satisfied: requests in /home/piai/anaconda3/lib/python3.10/site-packages (from diffusers==0.31.0.dev0) (2.32.3)\n",
      "Requirement already satisfied: safetensors>=0.3.1 in /home/piai/anaconda3/lib/python3.10/site-packages (from diffusers==0.31.0.dev0) (0.4.5)\n",
      "Requirement already satisfied: Pillow in /home/piai/anaconda3/lib/python3.10/site-packages (from diffusers==0.31.0.dev0) (10.4.0)\n",
      "Requirement already satisfied: fsspec>=2023.5.0 in /home/piai/anaconda3/lib/python3.10/site-packages (from huggingface-hub>=0.23.2->diffusers==0.31.0.dev0) (2024.3.1)\n",
      "Requirement already satisfied: packaging>=20.9 in /home/piai/anaconda3/lib/python3.10/site-packages (from huggingface-hub>=0.23.2->diffusers==0.31.0.dev0) (24.1)\n",
      "Requirement already satisfied: pyyaml>=5.1 in /home/piai/anaconda3/lib/python3.10/site-packages (from huggingface-hub>=0.23.2->diffusers==0.31.0.dev0) (6.0.1)\n",
      "Requirement already satisfied: tqdm>=4.42.1 in /home/piai/anaconda3/lib/python3.10/site-packages (from huggingface-hub>=0.23.2->diffusers==0.31.0.dev0) (4.66.4)\n",
      "Requirement already satisfied: typing-extensions>=3.7.4.3 in /home/piai/anaconda3/lib/python3.10/site-packages (from huggingface-hub>=0.23.2->diffusers==0.31.0.dev0) (4.11.0)\n",
      "Requirement already satisfied: zipp>=0.5 in /home/piai/anaconda3/lib/python3.10/site-packages (from importlib-metadata->diffusers==0.31.0.dev0) (3.20.1)\n",
      "Requirement already satisfied: charset-normalizer<4,>=2 in /home/piai/anaconda3/lib/python3.10/site-packages (from requests->diffusers==0.31.0.dev0) (3.3.2)\n",
      "Requirement already satisfied: idna<4,>=2.5 in /home/piai/anaconda3/lib/python3.10/site-packages (from requests->diffusers==0.31.0.dev0) (3.7)\n",
      "Requirement already satisfied: urllib3<3,>=1.21.1 in /home/piai/anaconda3/lib/python3.10/site-packages (from requests->diffusers==0.31.0.dev0) (2.2.2)\n",
      "Requirement already satisfied: certifi>=2017.4.17 in /home/piai/anaconda3/lib/python3.10/site-packages (from requests->diffusers==0.31.0.dev0) (2024.7.4)\n",
      "Downloading regex-2024.7.24-cp310-cp310-manylinux_2_17_x86_64.manylinux2014_x86_64.whl (776 kB)\n",
      "\u001b[2K   \u001b[38;2;114;156;31m━━━━━━━━━━━━━━━━━━━━━━━━━━━━━━━━━━━━━━━━\u001b[0m \u001b[32m776.5/776.5 kB\u001b[0m \u001b[31m15.0 MB/s\u001b[0m eta \u001b[36m0:00:00\u001b[0m\n",
      "\u001b[?25hDownloading importlib_metadata-8.4.0-py3-none-any.whl (26 kB)\n",
      "Building wheels for collected packages: diffusers\n",
      "  Building wheel for diffusers (pyproject.toml) ... \u001b[?25ldone\n",
      "\u001b[?25h  Created wheel for diffusers: filename=diffusers-0.31.0.dev0-py3-none-any.whl size=2739142 sha256=7e446c1f2a7e289c1c2d739e5f51a3eb518eea283e450e1cc9848c82ce18bc6b\n",
      "  Stored in directory: /tmp/pip-ephem-wheel-cache-758eefkc/wheels/f7/7d/99/d361489e5762e3464b3811bc629e94cf5bf5ef44dd5c3c4d52\n",
      "Successfully built diffusers\n",
      "Installing collected packages: regex, importlib-metadata, diffusers\n",
      "Successfully installed diffusers-0.31.0.dev0 importlib-metadata-8.4.0 regex-2024.7.24\n"
     ]
    }
   ],
   "source": [
    "!pip install diffusers[\"torch\"] transformers # install transformers\n",
    "!pip install accelerate\n",
    "# install diffusers from source\n",
    "!pip install git+https://github.com/huggingface/diffusers"
   ]
  },
  {
   "cell_type": "code",
   "execution_count": null,
   "metadata": {
    "id": "zaBafPfyKQL-"
   },
   "outputs": [],
   "source": []
  }
 ],
 "metadata": {
  "colab": {
   "provenance": []
  },
  "kernelspec": {
   "display_name": "Python [conda env:base] *",
   "language": "python",
   "name": "conda-base-py"
  },
  "language_info": {
   "codemirror_mode": {
    "name": "ipython",
    "version": 3
   },
   "file_extension": ".py",
   "mimetype": "text/x-python",
   "name": "python",
   "nbconvert_exporter": "python",
   "pygments_lexer": "ipython3",
   "version": "3.10.9"
  }
 },
 "nbformat": 4,
 "nbformat_minor": 1
}
