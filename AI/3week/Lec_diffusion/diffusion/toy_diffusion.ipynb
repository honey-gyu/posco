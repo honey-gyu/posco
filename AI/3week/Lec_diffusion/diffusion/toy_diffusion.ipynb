{
 "cells": [
  {
   "cell_type": "markdown",
   "id": "0ec2fb5a",
   "metadata": {
    "id": "0ec2fb5a"
   },
   "source": [
    "# Diffusion models"
   ]
  },
  {
   "cell_type": "markdown",
   "id": "63bafc8d",
   "metadata": {
    "id": "63bafc8d"
   },
   "source": [
    "Blog posts/reviews:\n",
    "- [Lilian Weng's blog post](https://lilianweng.github.io/posts/2021-07-11-diffusion-models/)\n",
    "- [Yang Song's blog post](https://yang-song.net/blog/2021/score/)\n",
    "- [Alex Alemi's blog post](https://blog.alexalemi.com/diffusion.html)\n",
    "- [Understanding Diffusion Models: A Unified Perspective by Calvin Luo](https://arxiv.org/abs/2208.11970)\n",
    "  \n",
    "Relevant papers:\n",
    "- [Denoising Diffusion Probabilistic Models](https://arxiv.org/abs/2006.11239)\n",
    "- [Score-Based Generative Modeling through Stochastic Differential Equations](https://arxiv.org/abs/2011.13456)\n",
    "- [Maximum Likelihood Training of Score-Based Diffusion Models](https://arxiv.org/abs/2101.09258)\n",
    "- [Variational Diffusion Models](https://arxiv.org/abs/2107.00630)\n"
   ]
  },
  {
   "cell_type": "markdown",
   "id": "6826124a",
   "metadata": {
    "id": "6826124a"
   },
   "source": [
    "## Denoising diffusion"
   ]
  },
  {
   "cell_type": "markdown",
   "id": "aca3293c",
   "metadata": {
    "id": "aca3293c"
   },
   "source": [
    "Denoising diffusion can be viewed as a hierarchical VAE, with a few restrictions on the architecture:\n",
    "1. The dimensionality of the latents at different hierarchical levels and the data are the same (although this can be relaxed for latent diffusion).\n",
    "2. The encoder is not learned; instead, the encoding processes are Markovian $q(x_t\\mid x_{t-1})$ and correspond to a Gaussian distributions with mean corresponding to the output of the previous encoding step, $$q\\left({x}_t \\mid {x}_{t-1}\\right)=\\mathcal{N}\\left(\\sqrt{1 - \\beta_t}\\, {x}_{t-1},\\beta_t \\mathbb{I}\\right)$$\n",
    "where $\\beta_t$ is a fixed or learnable variance schedule, and we've decided that the variance of the latents is preserved at various hierarchies (timesteps). This is the forward diffusion process.\n",
    "3. The distribution of latents at the final timestep is a standard Gaussian (similar to a regular VAE).\n",
    "\n",
    "### The forward process\n",
    "\n",
    "We have $q\\left({x}_t \\mid {x}_{t-1}\\right)=\\mathcal{N}\\left(\\sqrt{1 - \\beta_t}\\, {x}_{t-1},\\beta_t \\mathbb{I}\\right)$. During training, it will be useful to have a closed-form expression for $q(x_t\\mid x_0)$. See Eqs. (61)-(70) of [2208.11970](https://arxiv.org/abs/2208.11970); with $\\alpha_t\\equiv 1 - \\beta_t$ we have\n",
    "$$q(x_t\\mid x_0) = \\mathcal N(\\sqrt{(\\overline{\\alpha}_t)} x_0, \\sqrt{(1 - \\overline{\\alpha}_t)}\\mathbb I )$$\n",
    "with $\\overline{\\alpha}_t = \\prod_{i=1}^t \\alpha_i$ which is sometimes called the diffusion kernel.\n",
    "\n",
    "### Optimizing variational lower bound\n",
    "\n",
    "As for any VAE and exactly as in the previous notebook, we can optimize a variational lower bound on the log-evidence through the ELBO by enforcing a consistency between forward and reverse diffusion processes at each timestep. This gives\n",
    "$$\\mathrm{ELBO} = L_0 + \\sum_{t=2}^T L_t + L_T$$\n",
    "where $L_0 = \\log p_\\theta(x_0\\mid x_1)$ is a reconstruction loss, with data samples $x_0 \\mid p(x_0)$. $L_T = -D_\\mathrm{KL}\\left(q_\\phi(x_T|x_0)\\,\\|\\,p(x_T)\\right)$ is the prior matching term with $p(x_T) = \\mathcal N(0, \\mathbb I)$, and\n",
    "$$L_t = -D_{\\mathrm{KL}}\\left(q\\left({x}_{t - 1} \\mid {x}_{t}, {x}_0\\right) \\|\\,p_\\theta\\left({x}_{t-1} \\mid {x}_{t}\\right)\\right)$$\n",
    "is the diffusion consistency term which imposes a consistency between the forward and reverse diffusion processes. $q(x_{t-1}\\mid x_t)$ has an analytic form, with variance\n",
    "$$\n",
    "\\sigma_q^2(t)=\\frac{\\left(1-\\alpha_t\\right)\\left(1-\\overline{\\alpha}_{t-1}\\right)}{1-\\overline{\\alpha}_t}.\n",
    "$$\n",
    "The variances of the forward and reverse processes can be enforced to be the same, so computing the KL-divergence essentially boils down to matching the means. Eventually, the diffusion consistency loss simplifies as\n",
    "$$\n",
    "\\frac{1}{2 \\sigma_q^2(t)} \\frac{\\overline{\\alpha}_{t-1}\\beta_t^2}{\\left(1-\\overline{\\alpha}_t\\right)^2}\\left[\\left\\|\\hat{{x}}_{{\\theta}}\\left({x}_t, t\\right)-{x}_0\\right\\|^2\\right]\n",
    "$$\n",
    "and equivalently as\n",
    "$$\n",
    "\\frac{1}{2 \\sigma_q^2(t)} \\frac{\\beta_t^2}{\\left(1-\\overline{\\alpha}_t\\right) \\alpha_t}\\left[\\left\\|\\hat{{\\epsilon}}_{{\\theta}}\\left({x}_t, t\\right) - {\\epsilon}_0\\right\\|^2\\right]\n",
    "$$\n",
    "which correspond to original-data prediction and noise prediction, respectively."
   ]
  },
  {
   "cell_type": "markdown",
   "id": "70e4b826",
   "metadata": {
    "id": "70e4b826"
   },
   "source": [
    "### Implementation"
   ]
  },
  {
   "cell_type": "markdown",
   "id": "84443300",
   "metadata": {
    "id": "84443300"
   },
   "source": [
    "* Model: 노이즈 예측 모델 (UNet, MLP 등).\n",
    "* Scheduler: Noise 스케줄링 및 샘플링 방법 관리.\n",
    "* Trainer: 모델 학습 및 샘플링 과정을 관리."
   ]
  },
  {
   "cell_type": "markdown",
   "id": "0e1b7240",
   "metadata": {
    "id": "0e1b7240"
   },
   "source": [
    "#### 1. Model"
   ]
  },
  {
   "cell_type": "code",
   "execution_count": 1,
   "id": "0d8867e9",
   "metadata": {
    "executionInfo": {
     "elapsed": 8648,
     "status": "ok",
     "timestamp": 1725794278247,
     "user": {
      "displayName": "허성우",
      "userId": "11849707056234337549"
     },
     "user_tz": -540
    },
    "id": "0d8867e9"
   },
   "outputs": [],
   "source": [
    "import torch\n",
    "import torch.nn as nn\n",
    "import torch.nn.functional as F\n",
    "import numpy as np\n",
    "\n",
    "\n",
    "class GaussianFourierProjection(nn.Module):\n",
    "  \"\"\"Gaussian random features for encoding time steps.\"\"\"\n",
    "  def __init__(self, embed_dim, scale=30.):\n",
    "    super().__init__()\n",
    "    # Randomly sample weights (frequencies) during initialization.\n",
    "    # These weights (frequencies) are fixed during optimization and are not trainable.\n",
    "    self.W = nn.Parameter(torch.randn(embed_dim // 2) * scale, requires_grad=False)\n",
    "  def forward(self, x):\n",
    "    # Cosine(2 pi freq x), Sine(2 pi freq x)\n",
    "    x_proj = x[:, None] * self.W[None, :] * 2 * np.pi\n",
    "    return torch.cat([torch.sin(x_proj), torch.cos(x_proj)], dim=-1)\n",
    "\n",
    "\n",
    "class Dense(nn.Module):\n",
    "  \"\"\"A fully connected layer that reshapes outputs to feature maps.\n",
    "  Allow time repr to input additively from the side of a convolution layer.\n",
    "  \"\"\"\n",
    "  def __init__(self, input_dim, output_dim):\n",
    "    super().__init__()\n",
    "    self.dense = nn.Linear(input_dim, output_dim)\n",
    "  def forward(self, x):\n",
    "    # this broadcast the 2d tensor to 4d, add the same value across space.\n",
    "    return self.dense(x)[..., None, None]\n",
    "\n",
    "\n",
    "class UNet(nn.Module):\n",
    "  \"\"\"A time-dependent score-based model built upon U-Net architecture.\"\"\"\n",
    "\n",
    "  def __init__(self, channels=[32, 64, 128, 256], embed_dim=256):\n",
    "    \"\"\"Initialize a time-dependent score-based network.\n",
    "\n",
    "    Args:\n",
    "      channels: The number of channels for feature maps of each resolution.\n",
    "      embed_dim: The dimensionality of Gaussian random feature embeddings.\n",
    "    \"\"\"\n",
    "    super().__init__()\n",
    "    # Gaussian random feature embedding layer for time\n",
    "    self.time_embed = nn.Sequential(\n",
    "          GaussianFourierProjection(embed_dim=embed_dim),\n",
    "          nn.Linear(embed_dim, embed_dim)\n",
    "          )\n",
    "    # Encoding layers where the resolution decreases\n",
    "    self.conv1 = nn.Conv2d(1, channels[0], 3, stride=1, bias=False)\n",
    "    self.t_mod1 = Dense(embed_dim, channels[0])\n",
    "    self.gnorm1 = nn.GroupNorm(4, num_channels=channels[0])\n",
    "\n",
    "    self.conv2 = nn.Conv2d(channels[0], channels[1], 3, stride=2, bias=False)\n",
    "    self.t_mod2 = Dense(embed_dim, channels[1])\n",
    "    self.gnorm2 = nn.GroupNorm(8, num_channels=channels[1])\n",
    "\n",
    "    self.conv3 = nn.Conv2d(channels[1], channels[2], 3, stride=2, bias=False)\n",
    "    self.t_mod3 = Dense(embed_dim, channels[2])\n",
    "    self.gnorm3 = nn.GroupNorm(8, num_channels=channels[2])\n",
    "\n",
    "    self.conv4 = nn.Conv2d(channels[2], channels[3], 3, stride=2, bias=False)\n",
    "    self.t_mod4 = Dense(embed_dim, channels[3])\n",
    "    self.gnorm4 = nn.GroupNorm(8, num_channels=channels[3])\n",
    "\n",
    "\n",
    "    # Decoding layers where the resolution increases\n",
    "    self.tconv4 = nn.ConvTranspose2d(channels[3], channels[2], 3, stride=2, bias=False)\n",
    "    self.t_mod5 = Dense(embed_dim, channels[2])\n",
    "    self.tgnorm4 = nn.GroupNorm(8, num_channels=channels[2])\n",
    "    self.tconv3 = nn.ConvTranspose2d(channels[2] + channels[2], channels[1], 3, stride=2, bias=False, output_padding=1)\n",
    "    self.t_mod6 = Dense(embed_dim, channels[1])\n",
    "    self.tgnorm3 = nn.GroupNorm(8, num_channels=channels[1])\n",
    "    self.tconv2 = nn.ConvTranspose2d(channels[1] + channels[1], channels[0], 3, stride=2, bias=False, output_padding=1)\n",
    "    self.t_mod7 = Dense(embed_dim, channels[0])\n",
    "    self.tgnorm2 = nn.GroupNorm(8, num_channels=channels[0])\n",
    "    self.tconv1 = nn.ConvTranspose2d(channels[0] + channels[0], 1, 3, stride=1)\n",
    "\n",
    "    # The swish activation function\n",
    "    self.act = lambda x: x * torch.sigmoid(x)\n",
    "    # A restricted version of the `marginal_prob_std` function, after specifying a Lambda.\n",
    "    # self.marginal_prob_std = marginal_prob_std\n",
    "\n",
    "  def forward(self, x, t, y=None):\n",
    "    # Obtain the Gaussian random feature embedding for t\n",
    "    embed = self.act(self.time_embed(t))\n",
    "    # Encoding path, downsampling\n",
    "    ## Incorporate information from t\n",
    "    h1 = self.conv1(x)  + self.t_mod1(embed)\n",
    "    ## Group normalization  and  apply activation function\n",
    "    h1 = self.act(self.gnorm1(h1))\n",
    "    #  2nd conv\n",
    "    h2 = self.conv2(h1) + self.t_mod2(embed)\n",
    "    h2 = self.act(self.gnorm2(h2))\n",
    "    # 3rd conv\n",
    "    h3 = self.conv3(h2) + self.t_mod3(embed)\n",
    "    h3 = self.act(self.gnorm3(h3))\n",
    "    # 4th conv\n",
    "    h4 = self.conv4(h3) + self.t_mod4(embed)\n",
    "    h4 = self.act(self.gnorm4(h4))\n",
    "\n",
    "    # Decoding path up sampling\n",
    "    h = self.tconv4(h4) + self.t_mod5(embed)\n",
    "    ## Skip connection from the encoding path\n",
    "    h = self.act(self.tgnorm4(h))\n",
    "    h = self.tconv3(torch.cat([h, h3], dim=1)) + self.t_mod6(embed)\n",
    "    h = self.act(self.tgnorm3(h))\n",
    "    h = self.tconv2(torch.cat([h, h2], dim=1)) + self.t_mod7(embed)\n",
    "    h = self.act(self.tgnorm2(h))\n",
    "    h = self.tconv1(torch.cat([h, h1], dim=1))\n",
    "\n",
    "    # Normalize output\n",
    "    # h = h / self.marginal_prob_std(t)[:, None, None, None]\n",
    "    return h"
   ]
  },
  {
   "cell_type": "code",
   "execution_count": 2,
   "id": "195996a3",
   "metadata": {
    "executionInfo": {
     "elapsed": 3,
     "status": "ok",
     "timestamp": 1725794278247,
     "user": {
      "displayName": "허성우",
      "userId": "11849707056234337549"
     },
     "user_tz": -540
    },
    "id": "195996a3"
   },
   "outputs": [
    {
     "ename": "NameError",
     "evalue": "name 'model' is not defined",
     "output_type": "error",
     "traceback": [
      "\u001b[0;31m---------------------------------------------------------------------------\u001b[0m",
      "\u001b[0;31mNameError\u001b[0m                                 Traceback (most recent call last)",
      "Cell \u001b[0;32mIn[2], line 1\u001b[0m\n\u001b[0;32m----> 1\u001b[0m t_emb \u001b[38;5;241m=\u001b[39m \u001b[43mmodel\u001b[49m\u001b[38;5;241m.\u001b[39mtime_embedding(torch\u001b[38;5;241m.\u001b[39mtensor([\u001b[38;5;241m0\u001b[39m]))\u001b[38;5;241m.\u001b[39munsqueeze(\u001b[38;5;241m-\u001b[39m\u001b[38;5;241m1\u001b[39m)\u001b[38;5;241m.\u001b[39munsqueeze(\u001b[38;5;241m-\u001b[39m\u001b[38;5;241m1\u001b[39m)\n",
      "\u001b[0;31mNameError\u001b[0m: name 'model' is not defined"
     ]
    }
   ],
   "source": [
    "# t_emb = model.time_embedding(torch.tensor([0])).unsqueeze(-1).unsqueeze(-1)"
   ]
  },
  {
   "cell_type": "markdown",
   "id": "477888ad",
   "metadata": {
    "id": "477888ad"
   },
   "source": [
    "#### 2. Scheduler"
   ]
  },
  {
   "cell_type": "code",
   "execution_count": 3,
   "id": "27a928c3",
   "metadata": {
    "executionInfo": {
     "elapsed": 287,
     "status": "ok",
     "timestamp": 1725794481760,
     "user": {
      "displayName": "허성우",
      "userId": "11849707056234337549"
     },
     "user_tz": -540
    },
    "id": "27a928c3"
   },
   "outputs": [],
   "source": [
    "import numpy as np\n",
    "\n",
    "class DDPMScheduler:\n",
    "    def __init__(self, T, beta_start=1e-4, beta_end=0.02):\n",
    "        self.T = T\n",
    "        self.betas = np.linspace(beta_start, beta_end, T)\n",
    "        self.alphas = 1 - self.betas\n",
    "        self.alpha_bars = np.cumprod(self.alphas)\n",
    "\n",
    "    def get_alpha_bar(self, t):\n",
    "        return self.alpha_bars[t]\n",
    "\n",
    "    def get_alpha(self, t):\n",
    "        return self.alphas[t]\n",
    "\n",
    "    def add_noise(self, x_0, t):\n",
    "        \"\"\"\n",
    "        Forward diffusion: x_0에 노이즈를 추가한 샘플 생성\n",
    "        \"\"\"\n",
    "        noise = torch.randn_like(x_0)\n",
    "        sqrt_alpha_bar = torch.sqrt(torch.tensor(self.alpha_bars[t], dtype=torch.float32, device= x_0.device))\n",
    "        sqrt_one_minus_alpha_bar = torch.sqrt(1 - torch.tensor(self.alpha_bars[t], dtype=torch.float32, device= x_0.device))\n",
    "        return sqrt_alpha_bar * x_0 + sqrt_one_minus_alpha_bar * noise, noise"
   ]
  },
  {
   "cell_type": "markdown",
   "id": "891898e5",
   "metadata": {
    "id": "891898e5"
   },
   "source": [
    "#### 3. Trainer"
   ]
  },
  {
   "cell_type": "code",
   "execution_count": 4,
   "id": "977caac1",
   "metadata": {
    "executionInfo": {
     "elapsed": 295,
     "status": "ok",
     "timestamp": 1725794485870,
     "user": {
      "displayName": "허성우",
      "userId": "11849707056234337549"
     },
     "user_tz": -540
    },
    "id": "977caac1"
   },
   "outputs": [],
   "source": [
    "import os\n",
    "from glob import glob\n",
    "\n",
    "class DDPMTrainer:\n",
    "    def __init__(self, model, scheduler, lr=1e-3):\n",
    "        self.model = model\n",
    "        self.scheduler = scheduler\n",
    "        self.optimizer = torch.optim.Adam(self.model.parameters(), lr=lr)\n",
    "        self.loss_fn = nn.MSELoss()\n",
    "\n",
    "    def train_step(self, x_0, t):\n",
    "        x_noisy, noise = self.scheduler.add_noise(x_0, t)\n",
    "        predicted_noise = self.model(x_noisy, torch.tensor([t], device= x_noisy.device))\n",
    "        loss = self.loss_fn(predicted_noise, noise)\n",
    "\n",
    "        self.optimizer.zero_grad()\n",
    "        loss.backward()\n",
    "        self.optimizer.step()\n",
    "\n",
    "        return loss.item()\n",
    "\n",
    "    @torch.no_grad()\n",
    "    def sample(self, x_shape):\n",
    "        \"\"\"\n",
    "        DDPM 샘플링 과정: 노이즈에서 원본 이미지를 복원\n",
    "        \"\"\"\n",
    "        device = next(self.model.parameters()).device\n",
    "        x = torch.randn(x_shape).to(device)\n",
    "        for t in reversed(range(self.scheduler.T)):\n",
    "            alpha_bar_t = torch.tensor(self.scheduler.get_alpha_bar(t), dtype=torch.float32, device=device)\n",
    "            predicted_noise = self.model(x, torch.tensor([t], device=device))\n",
    "            x = (x - (1 - alpha_bar_t).sqrt() * predicted_noise) / alpha_bar_t.sqrt()\n",
    "            if t > 0:\n",
    "                noise = torch.randn_like(x)\n",
    "                x += (1 - alpha_bar_t).sqrt() * noise\n",
    "        return x\n",
    "\n",
    "\n",
    "    def save_ckpt(self, save_dir, epoch=None):\n",
    "        try:\n",
    "            # 디렉토리 생성\n",
    "            os.makedirs(save_dir, exist_ok=True)\n",
    "\n",
    "            # epoch가 None인 경우 기본값 설정\n",
    "            if epoch is None:\n",
    "                epoch = 1\n",
    "\n",
    "            # 체크포인트 파일 경로\n",
    "            ckpt_file = os.path.join(save_dir, f'ckpt_epoch_{epoch}.pt')\n",
    "\n",
    "            # 체크포인트 저장\n",
    "            torch.save(\n",
    "                {\n",
    "                    'model': self.model.state_dict(),\n",
    "                    'optimizer': self.optimizer.state_dict(),\n",
    "                    'epoch': epoch\n",
    "                }, ckpt_file\n",
    "            )\n",
    "\n",
    "            print(f\"Checkpoint saved to {ckpt_file}\")\n",
    "\n",
    "        except Exception as e:\n",
    "            print(f\"Error saving checkpoint: {e}\")\n",
    "            raise IOError()\n"
   ]
  },
  {
   "cell_type": "markdown",
   "id": "c84ade58",
   "metadata": {
    "id": "c84ade58"
   },
   "source": [
    "### Training"
   ]
  },
  {
   "cell_type": "markdown",
   "id": "87cd7d6d",
   "metadata": {
    "id": "87cd7d6d"
   },
   "source": [
    "##### Data\n",
    "\n",
    "* MNIST 사용\n",
    "<p align=\"center\">\n",
    " <img src = \"./hugging_face/figs/mnist.png\", height=\"256\">\n",
    "</p>\n"
   ]
  },
  {
   "cell_type": "code",
   "execution_count": 5,
   "id": "9a3bf7d4",
   "metadata": {
    "executionInfo": {
     "elapsed": 279,
     "status": "ok",
     "timestamp": 1725794712030,
     "user": {
      "displayName": "허성우",
      "userId": "11849707056234337549"
     },
     "user_tz": -540
    },
    "id": "9a3bf7d4"
   },
   "outputs": [
    {
     "name": "stdout",
     "output_type": "stream",
     "text": [
      "Downloading http://yann.lecun.com/exdb/mnist/train-images-idx3-ubyte.gz\n",
      "Failed to download (trying next):\n",
      "HTTP Error 403: Forbidden\n",
      "\n",
      "Downloading https://ossci-datasets.s3.amazonaws.com/mnist/train-images-idx3-ubyte.gz\n",
      "Downloading https://ossci-datasets.s3.amazonaws.com/mnist/train-images-idx3-ubyte.gz to ./data/MNIST/raw/train-images-idx3-ubyte.gz\n"
     ]
    },
    {
     "name": "stderr",
     "output_type": "stream",
     "text": [
      "100%|██████████████████████████████████████| 9912422/9912422 [00:01<00:00, 5139931.23it/s]\n"
     ]
    },
    {
     "name": "stdout",
     "output_type": "stream",
     "text": [
      "Extracting ./data/MNIST/raw/train-images-idx3-ubyte.gz to ./data/MNIST/raw\n",
      "\n",
      "Downloading http://yann.lecun.com/exdb/mnist/train-labels-idx1-ubyte.gz\n",
      "Failed to download (trying next):\n",
      "HTTP Error 403: Forbidden\n",
      "\n",
      "Downloading https://ossci-datasets.s3.amazonaws.com/mnist/train-labels-idx1-ubyte.gz\n",
      "Downloading https://ossci-datasets.s3.amazonaws.com/mnist/train-labels-idx1-ubyte.gz to ./data/MNIST/raw/train-labels-idx1-ubyte.gz\n"
     ]
    },
    {
     "name": "stderr",
     "output_type": "stream",
     "text": [
      "100%|███████████████████████████████████████████| 28881/28881 [00:00<00:00, 150044.46it/s]\n"
     ]
    },
    {
     "name": "stdout",
     "output_type": "stream",
     "text": [
      "Extracting ./data/MNIST/raw/train-labels-idx1-ubyte.gz to ./data/MNIST/raw\n",
      "\n",
      "Downloading http://yann.lecun.com/exdb/mnist/t10k-images-idx3-ubyte.gz\n",
      "Failed to download (trying next):\n",
      "HTTP Error 403: Forbidden\n",
      "\n",
      "Downloading https://ossci-datasets.s3.amazonaws.com/mnist/t10k-images-idx3-ubyte.gz\n",
      "Downloading https://ossci-datasets.s3.amazonaws.com/mnist/t10k-images-idx3-ubyte.gz to ./data/MNIST/raw/t10k-images-idx3-ubyte.gz\n"
     ]
    },
    {
     "name": "stderr",
     "output_type": "stream",
     "text": [
      "100%|██████████████████████████████████████| 1648877/1648877 [00:01<00:00, 1463817.03it/s]\n"
     ]
    },
    {
     "name": "stdout",
     "output_type": "stream",
     "text": [
      "Extracting ./data/MNIST/raw/t10k-images-idx3-ubyte.gz to ./data/MNIST/raw\n",
      "\n",
      "Downloading http://yann.lecun.com/exdb/mnist/t10k-labels-idx1-ubyte.gz\n",
      "Failed to download (trying next):\n",
      "HTTP Error 403: Forbidden\n",
      "\n",
      "Downloading https://ossci-datasets.s3.amazonaws.com/mnist/t10k-labels-idx1-ubyte.gz\n",
      "Downloading https://ossci-datasets.s3.amazonaws.com/mnist/t10k-labels-idx1-ubyte.gz to ./data/MNIST/raw/t10k-labels-idx1-ubyte.gz\n"
     ]
    },
    {
     "name": "stderr",
     "output_type": "stream",
     "text": [
      "100%|████████████████████████████████████████████| 4542/4542 [00:00<00:00, 1974557.29it/s]"
     ]
    },
    {
     "name": "stdout",
     "output_type": "stream",
     "text": [
      "Extracting ./data/MNIST/raw/t10k-labels-idx1-ubyte.gz to ./data/MNIST/raw\n",
      "\n"
     ]
    },
    {
     "name": "stderr",
     "output_type": "stream",
     "text": [
      "\n"
     ]
    }
   ],
   "source": [
    "import torchvision\n",
    "import torchvision.transforms as transforms\n",
    "from torch.utils.data import DataLoader\n",
    "\n",
    "# MNIST 데이터셋 로드 및 전처리\n",
    "transform = transforms.Compose([\n",
    "    transforms.ToTensor(),  # 데이터를 텐서로 변환\n",
    "])\n",
    "\n",
    "train_dataset = torchvision.datasets.MNIST(root='./data', train=True, download=True, transform=transform)\n",
    "train_loader = DataLoader(train_dataset, batch_size=256, shuffle=True)\n"
   ]
  },
  {
   "cell_type": "markdown",
   "id": "d597ae6a",
   "metadata": {
    "id": "d597ae6a"
   },
   "source": [
    "#### Training"
   ]
  },
  {
   "cell_type": "code",
   "execution_count": 6,
   "id": "aaee14b2",
   "metadata": {
    "executionInfo": {
     "elapsed": 279,
     "status": "ok",
     "timestamp": 1725794718723,
     "user": {
      "displayName": "허성우",
      "userId": "11849707056234337549"
     },
     "user_tz": -540
    },
    "id": "aaee14b2"
   },
   "outputs": [],
   "source": [
    "device = 'cuda' if torch.cuda.is_available() else 'cpu'"
   ]
  },
  {
   "cell_type": "code",
   "execution_count": 7,
   "id": "41588637",
   "metadata": {
    "colab": {
     "base_uri": "https://localhost:8080/"
    },
    "executionInfo": {
     "elapsed": 144727,
     "status": "ok",
     "timestamp": 1725794863733,
     "user": {
      "displayName": "허성우",
      "userId": "11849707056234337549"
     },
     "user_tz": -540
    },
    "id": "41588637",
    "outputId": "aa1aae6b-d14f-4e87-9720-4fbf92ba6011"
   },
   "outputs": [
    {
     "name": "stdout",
     "output_type": "stream",
     "text": [
      "Epoch: 0, Batch: 0, Time step: 344, Loss: 3.930088520050049\n",
      "Epoch: 0, Batch: 100, Time step: 510, Loss: 0.39726242423057556\n",
      "Epoch: 0, Batch: 200, Time step: 137, Loss: 0.3480193614959717\n",
      "Epoch: 1, Batch: 0, Time step: 718, Loss: 0.218507319688797\n",
      "Epoch: 1, Batch: 100, Time step: 203, Loss: 0.2249661535024643\n",
      "Epoch: 1, Batch: 200, Time step: 717, Loss: 0.1482284665107727\n",
      "Epoch: 2, Batch: 0, Time step: 112, Loss: 0.2860136926174164\n",
      "Epoch: 2, Batch: 100, Time step: 334, Loss: 0.14183007180690765\n",
      "Epoch: 2, Batch: 200, Time step: 592, Loss: 0.11218022555112839\n",
      "Epoch: 3, Batch: 0, Time step: 131, Loss: 0.19723530113697052\n",
      "Epoch: 3, Batch: 100, Time step: 87, Loss: 0.26937511563301086\n",
      "Epoch: 3, Batch: 200, Time step: 368, Loss: 0.10771806538105011\n",
      "Epoch: 4, Batch: 0, Time step: 226, Loss: 0.13660885393619537\n",
      "Epoch: 4, Batch: 100, Time step: 646, Loss: 0.0864037498831749\n",
      "Epoch: 4, Batch: 200, Time step: 189, Loss: 0.13501980900764465\n",
      "Epoch: 5, Batch: 0, Time step: 799, Loss: 0.07874276489019394\n",
      "Epoch: 5, Batch: 100, Time step: 647, Loss: 0.07297416776418686\n",
      "Epoch: 5, Batch: 200, Time step: 537, Loss: 0.07398729771375656\n",
      "Epoch: 6, Batch: 0, Time step: 390, Loss: 0.07769624888896942\n",
      "Epoch: 6, Batch: 100, Time step: 792, Loss: 0.06237947568297386\n",
      "Epoch: 6, Batch: 200, Time step: 420, Loss: 0.06927304714918137\n",
      "Epoch: 7, Batch: 0, Time step: 523, Loss: 0.06297803670167923\n",
      "Epoch: 7, Batch: 100, Time step: 583, Loss: 0.055821578949689865\n",
      "Epoch: 7, Batch: 200, Time step: 2, Loss: 0.999811053276062\n",
      "Epoch: 8, Batch: 0, Time step: 600, Loss: 0.050187237560749054\n",
      "Epoch: 8, Batch: 100, Time step: 996, Loss: 0.05643271282315254\n",
      "Epoch: 8, Batch: 200, Time step: 480, Loss: 0.04897500202059746\n",
      "Epoch: 9, Batch: 0, Time step: 313, Loss: 0.06888101249933243\n",
      "Epoch: 9, Batch: 100, Time step: 263, Loss: 0.08080814778804779\n",
      "Epoch: 9, Batch: 200, Time step: 362, Loss: 0.05413002893328667\n",
      "Epoch: 10, Batch: 0, Time step: 131, Loss: 0.1260058432817459\n",
      "Epoch: 10, Batch: 100, Time step: 988, Loss: 0.042078811675310135\n",
      "Epoch: 10, Batch: 200, Time step: 756, Loss: 0.034397803246974945\n",
      "Epoch: 11, Batch: 0, Time step: 327, Loss: 0.05363455042243004\n",
      "Epoch: 11, Batch: 100, Time step: 242, Loss: 0.07622283697128296\n",
      "Epoch: 11, Batch: 200, Time step: 355, Loss: 0.049274202436208725\n",
      "Epoch: 12, Batch: 0, Time step: 246, Loss: 0.06754226237535477\n",
      "Epoch: 12, Batch: 100, Time step: 237, Loss: 0.07142002880573273\n",
      "Epoch: 12, Batch: 200, Time step: 409, Loss: 0.03880663588643074\n",
      "Epoch: 13, Batch: 0, Time step: 551, Loss: 0.028267351910471916\n",
      "Epoch: 13, Batch: 100, Time step: 201, Loss: 0.07796530425548553\n",
      "Epoch: 13, Batch: 200, Time step: 598, Loss: 0.025918303057551384\n",
      "Epoch: 14, Batch: 0, Time step: 705, Loss: 0.025621645152568817\n",
      "Epoch: 14, Batch: 100, Time step: 619, Loss: 0.025862766429781914\n",
      "Epoch: 14, Batch: 200, Time step: 883, Loss: 0.02820083498954773\n",
      "Epoch: 15, Batch: 0, Time step: 607, Loss: 0.02551155723631382\n",
      "Epoch: 15, Batch: 100, Time step: 533, Loss: 0.02530919760465622\n",
      "Epoch: 15, Batch: 200, Time step: 452, Loss: 0.030965542420744896\n",
      "Epoch: 16, Batch: 0, Time step: 586, Loss: 0.02465038187801838\n",
      "Epoch: 16, Batch: 100, Time step: 42, Loss: 0.26315391063690186\n",
      "Epoch: 16, Batch: 200, Time step: 261, Loss: 0.05999782308936119\n",
      "Epoch: 17, Batch: 0, Time step: 48, Loss: 0.24110859632492065\n",
      "Epoch: 17, Batch: 100, Time step: 619, Loss: 0.020580051466822624\n",
      "Epoch: 17, Batch: 200, Time step: 958, Loss: 0.018756862729787827\n",
      "Epoch: 18, Batch: 0, Time step: 206, Loss: 0.06690173596143723\n",
      "Epoch: 18, Batch: 100, Time step: 456, Loss: 0.027354687452316284\n",
      "Epoch: 18, Batch: 200, Time step: 874, Loss: 0.0183577798306942\n",
      "Epoch: 19, Batch: 0, Time step: 730, Loss: 0.018796443939208984\n",
      "Epoch: 19, Batch: 100, Time step: 859, Loss: 0.01785501092672348\n",
      "Epoch: 19, Batch: 200, Time step: 433, Loss: 0.02768673747777939\n",
      "Epoch: 20, Batch: 0, Time step: 321, Loss: 0.045560263097286224\n",
      "Epoch: 20, Batch: 100, Time step: 107, Loss: 0.1060977503657341\n",
      "Epoch: 20, Batch: 200, Time step: 338, Loss: 0.039806120097637177\n",
      "Epoch: 21, Batch: 0, Time step: 212, Loss: 0.059920359402894974\n",
      "Epoch: 21, Batch: 100, Time step: 487, Loss: 0.022847071290016174\n",
      "Epoch: 21, Batch: 200, Time step: 269, Loss: 0.047575850039720535\n",
      "Epoch: 22, Batch: 0, Time step: 107, Loss: 0.1430574655532837\n",
      "Epoch: 22, Batch: 100, Time step: 16, Loss: 0.5397127270698547\n",
      "Epoch: 22, Batch: 200, Time step: 118, Loss: 0.09668003767728806\n",
      "Epoch: 23, Batch: 0, Time step: 418, Loss: 0.027205832302570343\n",
      "Epoch: 23, Batch: 100, Time step: 239, Loss: 0.05043210834264755\n",
      "Epoch: 23, Batch: 200, Time step: 338, Loss: 0.039665911346673965\n",
      "Epoch: 24, Batch: 0, Time step: 559, Loss: 0.020914647728204727\n",
      "Epoch: 24, Batch: 100, Time step: 842, Loss: 0.015713807195425034\n",
      "Epoch: 24, Batch: 200, Time step: 399, Loss: 0.03249219059944153\n",
      "Epoch: 25, Batch: 0, Time step: 29, Loss: 0.33336374163627625\n",
      "Epoch: 25, Batch: 100, Time step: 310, Loss: 0.04086393862962723\n",
      "Epoch: 25, Batch: 200, Time step: 187, Loss: 0.061178289353847504\n",
      "Epoch: 26, Batch: 0, Time step: 662, Loss: 0.016862276941537857\n",
      "Epoch: 26, Batch: 100, Time step: 544, Loss: 0.019038429483771324\n",
      "Epoch: 26, Batch: 200, Time step: 702, Loss: 0.0158604234457016\n",
      "Epoch: 27, Batch: 0, Time step: 706, Loss: 0.014906669035553932\n",
      "Epoch: 27, Batch: 100, Time step: 473, Loss: 0.026664545759558678\n",
      "Epoch: 27, Batch: 200, Time step: 361, Loss: 0.03663104400038719\n",
      "Epoch: 28, Batch: 0, Time step: 746, Loss: 0.015433463267982006\n",
      "Epoch: 28, Batch: 100, Time step: 956, Loss: 0.014370269142091274\n",
      "Epoch: 28, Batch: 200, Time step: 536, Loss: 0.02166733890771866\n",
      "Epoch: 29, Batch: 0, Time step: 813, Loss: 0.014898495748639107\n",
      "Epoch: 29, Batch: 100, Time step: 110, Loss: 0.09222698211669922\n",
      "Epoch: 29, Batch: 200, Time step: 225, Loss: 0.05118134990334511\n",
      "Epoch: 30, Batch: 0, Time step: 613, Loss: 0.01540314219892025\n",
      "Epoch: 30, Batch: 100, Time step: 470, Loss: 0.02328159287571907\n",
      "Epoch: 30, Batch: 200, Time step: 775, Loss: 0.013351485133171082\n",
      "Epoch: 31, Batch: 0, Time step: 976, Loss: 0.013459669426083565\n",
      "Epoch: 31, Batch: 100, Time step: 318, Loss: 0.03685393184423447\n",
      "Epoch: 31, Batch: 200, Time step: 69, Loss: 0.1324702650308609\n",
      "Epoch: 32, Batch: 0, Time step: 592, Loss: 0.0151198236271739\n",
      "Epoch: 32, Batch: 100, Time step: 537, Loss: 0.016110755503177643\n",
      "Epoch: 32, Batch: 200, Time step: 748, Loss: 0.018016600981354713\n",
      "Epoch: 33, Batch: 0, Time step: 828, Loss: 0.01566275581717491\n",
      "Epoch: 33, Batch: 100, Time step: 938, Loss: 0.014875439926981926\n",
      "Epoch: 33, Batch: 200, Time step: 101, Loss: 0.09779570251703262\n",
      "Epoch: 34, Batch: 0, Time step: 818, Loss: 0.01355652417987585\n",
      "Epoch: 34, Batch: 100, Time step: 649, Loss: 0.016564374789595604\n",
      "Epoch: 34, Batch: 200, Time step: 951, Loss: 0.014960674569010735\n",
      "Epoch: 35, Batch: 0, Time step: 553, Loss: 0.015367673709988594\n",
      "Epoch: 35, Batch: 100, Time step: 329, Loss: 0.0360124334692955\n",
      "Epoch: 35, Batch: 200, Time step: 252, Loss: 0.04605996236205101\n",
      "Epoch: 36, Batch: 0, Time step: 323, Loss: 0.03485472500324249\n",
      "Epoch: 36, Batch: 100, Time step: 302, Loss: 0.04301896318793297\n",
      "Epoch: 36, Batch: 200, Time step: 849, Loss: 0.012325240299105644\n",
      "Epoch: 37, Batch: 0, Time step: 994, Loss: 0.012978145852684975\n",
      "Epoch: 37, Batch: 100, Time step: 885, Loss: 0.012995374388992786\n",
      "Epoch: 37, Batch: 200, Time step: 714, Loss: 0.012556247413158417\n",
      "Epoch: 38, Batch: 0, Time step: 41, Loss: 0.2216637134552002\n",
      "Epoch: 38, Batch: 100, Time step: 207, Loss: 0.05440650135278702\n",
      "Epoch: 38, Batch: 200, Time step: 498, Loss: 0.021009143441915512\n",
      "Epoch: 39, Batch: 0, Time step: 964, Loss: 0.01791268400847912\n",
      "Epoch: 39, Batch: 100, Time step: 179, Loss: 0.05971197783946991\n",
      "Epoch: 39, Batch: 200, Time step: 838, Loss: 0.01331691350787878\n",
      "Epoch: 40, Batch: 0, Time step: 706, Loss: 0.012462561018764973\n",
      "Epoch: 40, Batch: 100, Time step: 371, Loss: 0.029784800484776497\n",
      "Epoch: 40, Batch: 200, Time step: 564, Loss: 0.019175712019205093\n",
      "Epoch: 41, Batch: 0, Time step: 894, Loss: 0.014050454832613468\n",
      "Epoch: 41, Batch: 100, Time step: 456, Loss: 0.02189442329108715\n",
      "Epoch: 41, Batch: 200, Time step: 613, Loss: 0.013856596313416958\n",
      "Epoch: 42, Batch: 0, Time step: 981, Loss: 0.013136545196175575\n",
      "Epoch: 42, Batch: 100, Time step: 656, Loss: 0.013003981672227383\n"
     ]
    },
    {
     "name": "stdout",
     "output_type": "stream",
     "text": [
      "Epoch: 42, Batch: 200, Time step: 757, Loss: 0.013081484474241734\n",
      "Epoch: 43, Batch: 0, Time step: 240, Loss: 0.04660109430551529\n",
      "Epoch: 43, Batch: 100, Time step: 888, Loss: 0.012599453330039978\n",
      "Epoch: 43, Batch: 200, Time step: 625, Loss: 0.013307836838066578\n",
      "Epoch: 44, Batch: 0, Time step: 104, Loss: 0.09409628808498383\n",
      "Epoch: 44, Batch: 100, Time step: 921, Loss: 0.012005693279206753\n",
      "Epoch: 44, Batch: 200, Time step: 148, Loss: 0.06518012285232544\n",
      "Epoch: 45, Batch: 0, Time step: 152, Loss: 0.06596653163433075\n",
      "Epoch: 45, Batch: 100, Time step: 901, Loss: 0.012460446916520596\n",
      "Epoch: 45, Batch: 200, Time step: 277, Loss: 0.04278275743126869\n",
      "Epoch: 46, Batch: 0, Time step: 481, Loss: 0.02520722523331642\n",
      "Epoch: 46, Batch: 100, Time step: 731, Loss: 0.013494721613824368\n",
      "Epoch: 46, Batch: 200, Time step: 23, Loss: 0.327771931886673\n",
      "Epoch: 47, Batch: 0, Time step: 186, Loss: 0.06487201154232025\n",
      "Epoch: 47, Batch: 100, Time step: 227, Loss: 0.05130086466670036\n",
      "Epoch: 47, Batch: 200, Time step: 973, Loss: 0.013201436027884483\n",
      "Epoch: 48, Batch: 0, Time step: 64, Loss: 0.12927035987377167\n",
      "Epoch: 48, Batch: 100, Time step: 706, Loss: 0.011993201449513435\n",
      "Epoch: 48, Batch: 200, Time step: 757, Loss: 0.012387105263769627\n",
      "Epoch: 49, Batch: 0, Time step: 721, Loss: 0.012203061021864414\n",
      "Epoch: 49, Batch: 100, Time step: 995, Loss: 0.013166110031306744\n",
      "Epoch: 49, Batch: 200, Time step: 110, Loss: 0.08075527101755142\n",
      "Epoch: 50, Batch: 0, Time step: 831, Loss: 0.01359304878860712\n",
      "Epoch: 50, Batch: 100, Time step: 636, Loss: 0.012192832306027412\n",
      "Epoch: 50, Batch: 200, Time step: 511, Loss: 0.016635054722428322\n",
      "Epoch: 51, Batch: 0, Time step: 545, Loss: 0.015382958576083183\n",
      "Epoch: 51, Batch: 100, Time step: 594, Loss: 0.021441547200083733\n",
      "Epoch: 51, Batch: 200, Time step: 507, Loss: 0.017363416031003\n",
      "Epoch: 52, Batch: 0, Time step: 126, Loss: 0.08075979351997375\n",
      "Epoch: 52, Batch: 100, Time step: 583, Loss: 0.013292431831359863\n",
      "Epoch: 52, Batch: 200, Time step: 104, Loss: 0.09318003058433533\n",
      "Epoch: 53, Batch: 0, Time step: 75, Loss: 0.11309842020273209\n",
      "Epoch: 53, Batch: 100, Time step: 562, Loss: 0.017870865762233734\n",
      "Epoch: 53, Batch: 200, Time step: 512, Loss: 0.01605786569416523\n",
      "Epoch: 54, Batch: 0, Time step: 703, Loss: 0.013037475757300854\n",
      "Epoch: 54, Batch: 100, Time step: 915, Loss: 0.011745912954211235\n",
      "Epoch: 54, Batch: 200, Time step: 248, Loss: 0.04637700319290161\n",
      "Epoch: 55, Batch: 0, Time step: 73, Loss: 0.11203765869140625\n",
      "Epoch: 55, Batch: 100, Time step: 218, Loss: 0.04917919263243675\n",
      "Epoch: 55, Batch: 200, Time step: 588, Loss: 0.013758969493210316\n",
      "Epoch: 56, Batch: 0, Time step: 825, Loss: 0.011117430403828621\n",
      "Epoch: 56, Batch: 100, Time step: 275, Loss: 0.039313431829214096\n",
      "Epoch: 56, Batch: 200, Time step: 763, Loss: 0.012694848701357841\n",
      "Epoch: 57, Batch: 0, Time step: 81, Loss: 0.10311959683895111\n",
      "Epoch: 57, Batch: 100, Time step: 662, Loss: 0.011381682008504868\n",
      "Epoch: 57, Batch: 200, Time step: 905, Loss: 0.014514592476189137\n",
      "Epoch: 58, Batch: 0, Time step: 113, Loss: 0.08132382482290268\n",
      "Epoch: 58, Batch: 100, Time step: 947, Loss: 0.013124811463057995\n",
      "Epoch: 58, Batch: 200, Time step: 624, Loss: 0.013277566991746426\n",
      "Epoch: 59, Batch: 0, Time step: 843, Loss: 0.013382494449615479\n",
      "Epoch: 59, Batch: 100, Time step: 996, Loss: 0.012538114562630653\n",
      "Epoch: 59, Batch: 200, Time step: 156, Loss: 0.06107119470834732\n",
      "Epoch: 60, Batch: 0, Time step: 694, Loss: 0.011099695228040218\n",
      "Epoch: 60, Batch: 100, Time step: 551, Loss: 0.015688158571720123\n",
      "Epoch: 60, Batch: 200, Time step: 414, Loss: 0.022770388051867485\n",
      "Epoch: 61, Batch: 0, Time step: 452, Loss: 0.020716143772006035\n",
      "Epoch: 61, Batch: 100, Time step: 264, Loss: 0.040805429220199585\n",
      "Epoch: 61, Batch: 200, Time step: 859, Loss: 0.014634091407060623\n",
      "Epoch: 62, Batch: 0, Time step: 281, Loss: 0.04579770937561989\n",
      "Epoch: 62, Batch: 100, Time step: 199, Loss: 0.053294725716114044\n",
      "Epoch: 62, Batch: 200, Time step: 54, Loss: 0.15512827038764954\n",
      "Epoch: 63, Batch: 0, Time step: 743, Loss: 0.014579860493540764\n",
      "Epoch: 63, Batch: 100, Time step: 971, Loss: 0.012076620012521744\n",
      "Epoch: 63, Batch: 200, Time step: 445, Loss: 0.02051733061671257\n",
      "Epoch: 64, Batch: 0, Time step: 654, Loss: 0.012359349057078362\n",
      "Epoch: 64, Batch: 100, Time step: 996, Loss: 0.010830487124621868\n",
      "Epoch: 64, Batch: 200, Time step: 935, Loss: 0.01092115230858326\n",
      "Epoch: 65, Batch: 0, Time step: 680, Loss: 0.011260203085839748\n",
      "Epoch: 65, Batch: 100, Time step: 948, Loss: 0.012325804680585861\n",
      "Epoch: 65, Batch: 200, Time step: 512, Loss: 0.016258999705314636\n",
      "Epoch: 66, Batch: 0, Time step: 423, Loss: 0.022591929882764816\n",
      "Epoch: 66, Batch: 100, Time step: 719, Loss: 0.011226268485188484\n",
      "Epoch: 66, Batch: 200, Time step: 489, Loss: 0.017336495220661163\n",
      "Epoch: 67, Batch: 0, Time step: 593, Loss: 0.013372596353292465\n",
      "Epoch: 67, Batch: 100, Time step: 143, Loss: 0.06488976627588272\n",
      "Epoch: 67, Batch: 200, Time step: 139, Loss: 0.07260779291391373\n",
      "Epoch: 68, Batch: 0, Time step: 533, Loss: 0.014726598747074604\n",
      "Epoch: 68, Batch: 100, Time step: 273, Loss: 0.04005255177617073\n",
      "Epoch: 68, Batch: 200, Time step: 385, Loss: 0.026707857847213745\n",
      "Epoch: 69, Batch: 0, Time step: 9, Loss: 0.6546366810798645\n",
      "Epoch: 69, Batch: 100, Time step: 200, Loss: 0.05306277051568031\n",
      "Epoch: 69, Batch: 200, Time step: 739, Loss: 0.010689068585634232\n",
      "Epoch: 70, Batch: 0, Time step: 550, Loss: 0.01497347466647625\n",
      "Epoch: 70, Batch: 100, Time step: 881, Loss: 0.010447589680552483\n",
      "Epoch: 70, Batch: 200, Time step: 306, Loss: 0.0343383252620697\n",
      "Epoch: 71, Batch: 0, Time step: 948, Loss: 0.010702669620513916\n",
      "Epoch: 71, Batch: 100, Time step: 261, Loss: 0.04262498766183853\n",
      "Epoch: 71, Batch: 200, Time step: 446, Loss: 0.020530391484498978\n",
      "Epoch: 72, Batch: 0, Time step: 162, Loss: 0.05906036123633385\n",
      "Epoch: 72, Batch: 100, Time step: 409, Loss: 0.024569151923060417\n",
      "Epoch: 72, Batch: 200, Time step: 360, Loss: 0.029543893411755562\n",
      "Epoch: 73, Batch: 0, Time step: 314, Loss: 0.03493664786219597\n",
      "Epoch: 73, Batch: 100, Time step: 975, Loss: 0.012622975744307041\n",
      "Epoch: 73, Batch: 200, Time step: 157, Loss: 0.06108468025922775\n",
      "Epoch: 74, Batch: 0, Time step: 319, Loss: 0.040972501039505005\n",
      "Epoch: 74, Batch: 100, Time step: 527, Loss: 0.016398964449763298\n",
      "Epoch: 74, Batch: 200, Time step: 330, Loss: 0.03261544927954674\n",
      "Epoch: 75, Batch: 0, Time step: 589, Loss: 0.013060926459729671\n",
      "Epoch: 75, Batch: 100, Time step: 717, Loss: 0.014291349798440933\n",
      "Epoch: 75, Batch: 200, Time step: 673, Loss: 0.013974141329526901\n",
      "Epoch: 76, Batch: 0, Time step: 485, Loss: 0.017718534916639328\n",
      "Epoch: 76, Batch: 100, Time step: 450, Loss: 0.020649656653404236\n",
      "Epoch: 76, Batch: 200, Time step: 498, Loss: 0.016895556822419167\n",
      "Epoch: 77, Batch: 0, Time step: 381, Loss: 0.02620542049407959\n",
      "Epoch: 77, Batch: 100, Time step: 536, Loss: 0.01368908490985632\n",
      "Epoch: 77, Batch: 200, Time step: 959, Loss: 0.013318884186446667\n",
      "Epoch: 78, Batch: 0, Time step: 658, Loss: 0.013982277363538742\n",
      "Epoch: 78, Batch: 100, Time step: 299, Loss: 0.03643009066581726\n",
      "Epoch: 78, Batch: 200, Time step: 604, Loss: 0.012439534068107605\n",
      "Epoch: 79, Batch: 0, Time step: 311, Loss: 0.03645350784063339\n",
      "Epoch: 79, Batch: 100, Time step: 551, Loss: 0.02063143253326416\n",
      "Epoch: 79, Batch: 200, Time step: 472, Loss: 0.01999625191092491\n",
      "Epoch: 80, Batch: 0, Time step: 217, Loss: 0.049632564187049866\n",
      "Epoch: 80, Batch: 100, Time step: 884, Loss: 0.011132383719086647\n",
      "Epoch: 80, Batch: 200, Time step: 207, Loss: 0.05130958557128906\n",
      "Epoch: 81, Batch: 0, Time step: 875, Loss: 0.010775032453238964\n",
      "Epoch: 81, Batch: 100, Time step: 276, Loss: 0.04731401801109314\n",
      "Epoch: 81, Batch: 200, Time step: 521, Loss: 0.01541348360478878\n",
      "Epoch: 82, Batch: 0, Time step: 642, Loss: 0.011877194046974182\n",
      "Epoch: 82, Batch: 100, Time step: 95, Loss: 0.09216948598623276\n",
      "Epoch: 82, Batch: 200, Time step: 701, Loss: 0.012404297478497028\n",
      "Epoch: 83, Batch: 0, Time step: 618, Loss: 0.012546158395707607\n",
      "Epoch: 83, Batch: 100, Time step: 227, Loss: 0.04713911563158035\n",
      "Epoch: 83, Batch: 200, Time step: 514, Loss: 0.01520618237555027\n",
      "Epoch: 84, Batch: 0, Time step: 427, Loss: 0.02226877771317959\n",
      "Epoch: 84, Batch: 100, Time step: 604, Loss: 0.013381597585976124\n",
      "Epoch: 84, Batch: 200, Time step: 540, Loss: 0.01481369324028492\n"
     ]
    },
    {
     "name": "stdout",
     "output_type": "stream",
     "text": [
      "Epoch: 85, Batch: 0, Time step: 82, Loss: 0.10024569928646088\n",
      "Epoch: 85, Batch: 100, Time step: 794, Loss: 0.011618402786552906\n",
      "Epoch: 85, Batch: 200, Time step: 301, Loss: 0.03552880883216858\n",
      "Epoch: 86, Batch: 0, Time step: 364, Loss: 0.02883874624967575\n",
      "Epoch: 86, Batch: 100, Time step: 771, Loss: 0.010377582162618637\n",
      "Epoch: 86, Batch: 200, Time step: 469, Loss: 0.018701495602726936\n",
      "Epoch: 87, Batch: 0, Time step: 503, Loss: 0.016480252146720886\n",
      "Epoch: 87, Batch: 100, Time step: 285, Loss: 0.03841784596443176\n",
      "Epoch: 87, Batch: 200, Time step: 642, Loss: 0.011850031092762947\n",
      "Epoch: 88, Batch: 0, Time step: 721, Loss: 0.010722109116613865\n",
      "Epoch: 88, Batch: 100, Time step: 487, Loss: 0.017032628878951073\n",
      "Epoch: 88, Batch: 200, Time step: 982, Loss: 0.012067833915352821\n",
      "Epoch: 89, Batch: 0, Time step: 174, Loss: 0.061661846935749054\n",
      "Epoch: 89, Batch: 100, Time step: 188, Loss: 0.053518012166023254\n",
      "Epoch: 89, Batch: 200, Time step: 976, Loss: 0.010066928341984749\n",
      "Epoch: 90, Batch: 0, Time step: 297, Loss: 0.03584309667348862\n",
      "Epoch: 90, Batch: 100, Time step: 40, Loss: 0.1904057413339615\n",
      "Epoch: 90, Batch: 200, Time step: 25, Loss: 0.2793274223804474\n",
      "Epoch: 91, Batch: 0, Time step: 229, Loss: 0.04638459160923958\n",
      "Epoch: 91, Batch: 100, Time step: 106, Loss: 0.08704318106174469\n",
      "Epoch: 91, Batch: 200, Time step: 694, Loss: 0.010862096212804317\n",
      "Epoch: 92, Batch: 0, Time step: 179, Loss: 0.05992067977786064\n",
      "Epoch: 92, Batch: 100, Time step: 106, Loss: 0.08639239519834518\n",
      "Epoch: 92, Batch: 200, Time step: 420, Loss: 0.021262001246213913\n",
      "Epoch: 93, Batch: 0, Time step: 989, Loss: 0.01073510106652975\n",
      "Epoch: 93, Batch: 100, Time step: 55, Loss: 0.15249143540859222\n",
      "Epoch: 93, Batch: 200, Time step: 250, Loss: 0.042103152722120285\n",
      "Epoch: 94, Batch: 0, Time step: 933, Loss: 0.009447270072996616\n",
      "Epoch: 94, Batch: 100, Time step: 924, Loss: 0.010821763426065445\n",
      "Epoch: 94, Batch: 200, Time step: 589, Loss: 0.011658649891614914\n",
      "Epoch: 95, Batch: 0, Time step: 450, Loss: 0.018772222101688385\n",
      "Epoch: 95, Batch: 100, Time step: 40, Loss: 0.1934541016817093\n",
      "Epoch: 95, Batch: 200, Time step: 330, Loss: 0.033157918602228165\n",
      "Epoch: 96, Batch: 0, Time step: 556, Loss: 0.013580702245235443\n",
      "Epoch: 96, Batch: 100, Time step: 49, Loss: 0.148077130317688\n",
      "Epoch: 96, Batch: 200, Time step: 379, Loss: 0.025973496958613396\n",
      "Epoch: 97, Batch: 0, Time step: 501, Loss: 0.01608319580554962\n",
      "Epoch: 97, Batch: 100, Time step: 678, Loss: 0.010560167953372002\n",
      "Epoch: 97, Batch: 200, Time step: 352, Loss: 0.030301639810204506\n",
      "Epoch: 98, Batch: 0, Time step: 362, Loss: 0.026749059557914734\n",
      "Epoch: 98, Batch: 100, Time step: 598, Loss: 0.011285098269581795\n",
      "Epoch: 98, Batch: 200, Time step: 403, Loss: 0.022354668006300926\n",
      "Epoch: 99, Batch: 0, Time step: 899, Loss: 0.01271461509168148\n",
      "Epoch: 99, Batch: 100, Time step: 470, Loss: 0.019459910690784454\n",
      "Epoch: 99, Batch: 200, Time step: 675, Loss: 0.011277548037469387\n",
      "Training complete!\n"
     ]
    }
   ],
   "source": [
    "# Hyperparameters\n",
    "T = 1000  # Diffution time steps\n",
    "channels=[8, 16, 32, 64]\n",
    "embed_dim=64\n",
    "\n",
    "# Model, scheduler, and trainer initialization\n",
    "# model = SimpleCNN().to(device)\n",
    "model = UNet(channels=channels, embed_dim= embed_dim).to(device)\n",
    "scheduler = DDPMScheduler(T=T)\n",
    "trainer = DDPMTrainer(model=model, scheduler=scheduler, lr=1e-3)\n",
    "\n",
    "# Training loop\n",
    "num_epochs = 100\n",
    "for epoch in range(num_epochs):\n",
    "    for batch_idx, (x_0, _) in enumerate(train_loader):\n",
    "        x_0 = x_0.to(device)\n",
    "        t = torch.randint(0, T, (1,)).item()  # random time stamp from Uniform distribution.\n",
    "        loss = trainer.train_step(x_0, t)\n",
    "        if batch_idx % 100 == 0:\n",
    "            print(f\"Epoch: {epoch}, Batch: {batch_idx}, Time step: {t}, Loss: {loss}\")\n",
    "\n",
    "print(\"Training complete!\")"
   ]
  },
  {
   "cell_type": "markdown",
   "id": "f45bab50",
   "metadata": {
    "id": "f45bab50"
   },
   "source": [
    "### Sampling\n",
    "\n",
    "The simple way to sample is through ancestral sampling from\n",
    "$$q(x_0\\mid x_T) = \\prod_{i = 0}^{t-1} q(x_t \\mid x_{t + 1})$$\n",
    "with\n",
    "$$q(x_{t - 1} \\mid x_{t}) = \\mathcal N\\left(\\frac{1}{\\sqrt{\\alpha_t}}\\left({x}_t-\\frac{1-\\alpha_t}{\\sqrt{1-\\overline{\\alpha}_t}} {\\epsilon}_\\theta\\left({x}_t, t\\right)\\right), \\sigma_t \\mathbb I\\right)\n",
    "$$\n",
    "where $x_T \\sim \\mathcal N(0, \\mathbb I)$."
   ]
  },
  {
   "cell_type": "code",
   "execution_count": 10,
   "id": "a2cc4fa5",
   "metadata": {
    "executionInfo": {
     "elapsed": 2,
     "status": "aborted",
     "timestamp": 1725794686818,
     "user": {
      "displayName": "허성우",
      "userId": "11849707056234337549"
     },
     "user_tz": -540
    },
    "id": "a2cc4fa5"
   },
   "outputs": [
    {
     "name": "stdout",
     "output_type": "stream",
     "text": [
      "Requirement already satisfied: matplotlib in /home/piai/anaconda3/lib/python3.10/site-packages (3.7.0)\r\n",
      "Requirement already satisfied: contourpy>=1.0.1 in /home/piai/anaconda3/lib/python3.10/site-packages (from matplotlib) (1.2.1)\r\n",
      "Requirement already satisfied: cycler>=0.10 in /home/piai/anaconda3/lib/python3.10/site-packages (from matplotlib) (0.12.1)\r\n",
      "Requirement already satisfied: fonttools>=4.22.0 in /home/piai/anaconda3/lib/python3.10/site-packages (from matplotlib) (4.53.1)\r\n",
      "Requirement already satisfied: kiwisolver>=1.0.1 in /home/piai/anaconda3/lib/python3.10/site-packages (from matplotlib) (1.4.5)\r\n",
      "Requirement already satisfied: numpy>=1.20 in /home/piai/anaconda3/lib/python3.10/site-packages (from matplotlib) (1.23.5)\r\n",
      "Requirement already satisfied: packaging>=20.0 in /home/piai/anaconda3/lib/python3.10/site-packages (from matplotlib) (24.1)\r\n",
      "Requirement already satisfied: pillow>=6.2.0 in /home/piai/anaconda3/lib/python3.10/site-packages (from matplotlib) (10.4.0)\r\n",
      "Requirement already satisfied: pyparsing>=2.3.1 in /home/piai/anaconda3/lib/python3.10/site-packages (from matplotlib) (3.1.2)\r\n",
      "Requirement already satisfied: python-dateutil>=2.7 in /home/piai/anaconda3/lib/python3.10/site-packages (from matplotlib) (2.9.0.post0)\r\n",
      "Requirement already satisfied: six>=1.5 in /home/piai/anaconda3/lib/python3.10/site-packages (from python-dateutil>=2.7->matplotlib) (1.16.0)\r\n"
     ]
    }
   ],
   "source": [
    "!pip install matplotlib"
   ]
  },
  {
   "cell_type": "code",
   "execution_count": 11,
   "id": "b9cffc93",
   "metadata": {
    "colab": {
     "base_uri": "https://localhost:8080/",
     "height": 136
    },
    "executionInfo": {
     "elapsed": 7494,
     "status": "ok",
     "timestamp": 1725794886085,
     "user": {
      "displayName": "허성우",
      "userId": "11849707056234337549"
     },
     "user_tz": -540
    },
    "id": "b9cffc93",
    "outputId": "7a0bca18-7f72-4e54-b31b-0b5e9dcd8d67"
   },
   "outputs": [
    {
     "name": "stdout",
     "output_type": "stream",
     "text": [
      "Sampling from model...\n"
     ]
    },
    {
     "data": {
      "image/png": "[encoded data removed]",
      "text/plain": [
       "<Figure size 800x100 with 8 Axes>"
      ]
     },
     "metadata": {},
     "output_type": "display_data"
    }
   ],
   "source": [
    "import matplotlib.pyplot as plt\n",
    "\n",
    "def plot_images(images, title=\"Generated Images\"):\n",
    "    # Visualize the sampled images\n",
    "    images = images.view(-1, 28, 28).detach().cpu().numpy()\n",
    "    fig, axes = plt.subplots(1, len(images), figsize=(len(images), 1))\n",
    "    for i, ax in enumerate(axes):\n",
    "        ax.imshow(images[i], cmap='gray')\n",
    "        ax.axis('off')\n",
    "    plt.suptitle(title)\n",
    "    plt.show()\n",
    "\n",
    "# Sampling\n",
    "print(\"Sampling from model...\")\n",
    "sampled_images = trainer.sample(x_shape=(8, 1, 28, 28))  # 8 개의 이미지를 샘플링\n",
    "plot_images(sampled_images, title=\"Generated MNIST Images\")"
   ]
  },
  {
   "cell_type": "code",
   "execution_count": null,
   "id": "sjHJjbGrYUb3",
   "metadata": {
    "id": "sjHJjbGrYUb3"
   },
   "outputs": [],
   "source": []
  }
 ],
 "metadata": {
  "colab": {
   "provenance": []
  },
  "kernelspec": {
   "display_name": "Python [conda env:base] *",
   "language": "python",
   "name": "conda-base-py"
  },
  "language_info": {
   "codemirror_mode": {
    "name": "ipython",
    "version": 3
   },
   "file_extension": ".py",
   "mimetype": "text/x-python",
   "name": "python",
   "nbconvert_exporter": "python",
   "pygments_lexer": "ipython3",
   "version": "3.10.9"
  }
 },
 "nbformat": 4,
 "nbformat_minor": 5
}
