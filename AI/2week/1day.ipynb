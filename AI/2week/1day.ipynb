{
 "cells": [
  {
   "cell_type": "code",
   "execution_count": 1,
   "id": "244232c0",
   "metadata": {},
   "outputs": [
    {
     "name": "stderr",
     "output_type": "stream",
     "text": [
      "2024-09-02 09:14:52.409341: I tensorflow/core/util/port.cc:153] oneDNN custom operations are on. You may see slightly different numerical results due to floating-point round-off errors from different computation orders. To turn them off, set the environment variable `TF_ENABLE_ONEDNN_OPTS=0`.\n",
      "2024-09-02 09:14:52.410713: I external/local_xla/xla/tsl/cuda/cudart_stub.cc:32] Could not find cuda drivers on your machine, GPU will not be used.\n",
      "2024-09-02 09:14:52.415643: I external/local_xla/xla/tsl/cuda/cudart_stub.cc:32] Could not find cuda drivers on your machine, GPU will not be used.\n",
      "2024-09-02 09:14:52.429094: E external/local_xla/xla/stream_executor/cuda/cuda_fft.cc:485] Unable to register cuFFT factory: Attempting to register factory for plugin cuFFT when one has already been registered\n",
      "2024-09-02 09:14:52.453479: E external/local_xla/xla/stream_executor/cuda/cuda_dnn.cc:8454] Unable to register cuDNN factory: Attempting to register factory for plugin cuDNN when one has already been registered\n",
      "2024-09-02 09:14:52.460357: E external/local_xla/xla/stream_executor/cuda/cuda_blas.cc:1452] Unable to register cuBLAS factory: Attempting to register factory for plugin cuBLAS when one has already been registered\n",
      "2024-09-02 09:14:52.477298: I tensorflow/core/platform/cpu_feature_guard.cc:210] This TensorFlow binary is optimized to use available CPU instructions in performance-critical operations.\n",
      "To enable the following instructions: AVX2 AVX512F AVX512_VNNI FMA, in other operations, rebuild TensorFlow with the appropriate compiler flags.\n",
      "2024-09-02 09:14:53.744835: W tensorflow/compiler/tf2tensorrt/utils/py_utils.cc:38] TF-TRT Warning: Could not find TensorRT\n"
     ]
    },
    {
     "name": "stdout",
     "output_type": "stream",
     "text": [
      "2.17.0\n"
     ]
    }
   ],
   "source": [
    "import tensorflow as tf\n",
    "print(tf.__version__)"
   ]
  },
  {
   "cell_type": "code",
   "execution_count": 2,
   "id": "2967c806",
   "metadata": {},
   "outputs": [
    {
     "name": "stdout",
     "output_type": "stream",
     "text": [
      "zsh:1: command not found: nvidia-smi\r\n"
     ]
    }
   ],
   "source": [
    "!nvidia-smi"
   ]
  },
  {
   "cell_type": "code",
   "execution_count": 3,
   "id": "f838a5f6",
   "metadata": {},
   "outputs": [],
   "source": [
    "t = [1, 2, 3, 4, 5, 6, 7, 8, 9, 10, 11, 12]\n",
    "tensor = tf.constant(t)"
   ]
  },
  {
   "cell_type": "code",
   "execution_count": 4,
   "id": "7b6e7d81",
   "metadata": {},
   "outputs": [
    {
     "name": "stdout",
     "output_type": "stream",
     "text": [
      "tf.Tensor([ 1  2  3  4  5  6  7  8  9 10 11 12], shape=(12,), dtype=int32)\n",
      "tf.Tensor([12], shape=(1,), dtype=int32)\n",
      "tf.Tensor(1, shape=(), dtype=int32)\n",
      "tf.Tensor(12, shape=(), dtype=int32)\n"
     ]
    }
   ],
   "source": [
    "print(tensor)\n",
    "print(tf.shape(tensor)) # 함수의 모양\n",
    "print(tf.rank(tensor)) # 랭크를 봄\n",
    "print(tf.size(tensor)) # 1차원"
   ]
  },
  {
   "cell_type": "code",
   "execution_count": 5,
   "id": "8c20a84c",
   "metadata": {},
   "outputs": [
    {
     "name": "stdout",
     "output_type": "stream",
     "text": [
      "[1, 2, 3, 3, 4, 5]\n",
      "tf.Tensor([4 6 8], shape=(3,), dtype=int32)\n"
     ]
    }
   ],
   "source": [
    "# 텐서와 리스트의 차이\n",
    "t1 = [1, 2, 3]\n",
    "t2 = [3, 4, 5]\n",
    "print(t1 + t2)\n",
    "t1 = tf.constant(t1)\n",
    "t2 = tf.constant(t2)\n",
    "print(t1 + t2)"
   ]
  },
  {
   "cell_type": "code",
   "execution_count": 7,
   "id": "c223ec13",
   "metadata": {},
   "outputs": [
    {
     "name": "stdout",
     "output_type": "stream",
     "text": [
      "tf.Tensor(\n",
      "[[ 1  2  3  4]\n",
      " [ 5  6  7  8]\n",
      " [ 9 10 11 12]], shape=(3, 4), dtype=int32)\n",
      "(3, 4)\n"
     ]
    }
   ],
   "source": [
    "tensor2d = tf.reshape(tensor, [3,4]) # tensor의 모양을 바꾸는 reshape # == tensor.reshape([3,4])\n",
    "print(tensor2d)\n",
    "print(tensor2d.shape) # == tf.shape(tensor2d)"
   ]
  },
  {
   "cell_type": "code",
   "execution_count": 9,
   "id": "07715459",
   "metadata": {},
   "outputs": [
    {
     "name": "stdout",
     "output_type": "stream",
     "text": [
      "tf.Tensor([5 6 7 8], shape=(4,), dtype=int32)\n",
      "tf.Tensor(7, shape=(), dtype=int32)\n"
     ]
    }
   ],
   "source": [
    "print(tensor2d[1])\n",
    "print(tensor2d[1, 2])"
   ]
  },
  {
   "cell_type": "code",
   "execution_count": 11,
   "id": "8fb44d23",
   "metadata": {},
   "outputs": [
    {
     "name": "stdout",
     "output_type": "stream",
     "text": [
      "tf.Tensor(\n",
      "[[[ 1  2]\n",
      "  [ 3  4]]\n",
      "\n",
      " [[ 5  6]\n",
      "  [ 7  8]]\n",
      "\n",
      " [[ 9 10]\n",
      "  [11 12]]], shape=(3, 2, 2), dtype=int32)\n",
      "(3, 2, 2)\n"
     ]
    }
   ],
   "source": [
    "tensor3d = tf.reshape(tensor, [3, 2, 2])\n",
    "print(tensor3d)\n",
    "print(tensor3d.shape)"
   ]
  },
  {
   "cell_type": "code",
   "execution_count": 16,
   "id": "bc66c272",
   "metadata": {},
   "outputs": [
    {
     "name": "stdout",
     "output_type": "stream",
     "text": [
      "(4,)\n",
      "(1, 3, 4)\n"
     ]
    }
   ],
   "source": [
    "x = tf.constant([1, 0, -1, 1])\n",
    "print(x.shape)\n",
    "tensor3d = tf.reshape(tensor,[1, 3, 4])\n",
    "print(tensor3d.shape)"
   ]
  },
  {
   "cell_type": "code",
   "execution_count": 18,
   "id": "442934e1",
   "metadata": {},
   "outputs": [
    {
     "name": "stdout",
     "output_type": "stream",
     "text": [
      "(1, 3, 4)\n",
      "(3, 4)\n"
     ]
    }
   ],
   "source": [
    "print(tensor3d.shape)\n",
    "tensor3d = tf.squeeze(tensor3d)\n",
    "print(tensor3d.shape)"
   ]
  },
  {
   "cell_type": "code",
   "execution_count": 21,
   "id": "2d0045e8",
   "metadata": {},
   "outputs": [
    {
     "name": "stdout",
     "output_type": "stream",
     "text": [
      "(4,)\n",
      "(1, 4)\n",
      "(4, 1)\n"
     ]
    }
   ],
   "source": [
    "print(x.shape) #(4) -> (4,1) 로 바꿔야 한다.\n",
    "x_0 = tf.expand_dims(x,0)\n",
    "x_1 = tf.expand_dims(x,1)\n",
    "print(x_0.shape)\n",
    "print(x_1.shape)"
   ]
  },
  {
   "cell_type": "code",
   "execution_count": 22,
   "id": "fc78ddce",
   "metadata": {},
   "outputs": [
    {
     "data": {
      "text/plain": [
       "<tf.Tensor: shape=(3, 1), dtype=int32, numpy=\n",
       "array([[ 2],\n",
       "       [ 6],\n",
       "       [10]], dtype=int32)>"
      ]
     },
     "execution_count": 22,
     "metadata": {},
     "output_type": "execute_result"
    }
   ],
   "source": [
    "tf.matmul(tensor3d, x_1) # == tensor3d@x_1 @는 무슨 약어인듯? (3, 4) * (4, 1) -> (3,1) 순서를 바꾸면 안된다?"
   ]
  },
  {
   "cell_type": "code",
   "execution_count": 24,
   "id": "973aed0b",
   "metadata": {},
   "outputs": [
    {
     "name": "stdout",
     "output_type": "stream",
     "text": [
      "tf.Tensor(10.0, shape=(), dtype=float32) tf.Tensor(2.5, shape=(), dtype=float32)\n",
      "tf.Tensor([4. 6.], shape=(2,), dtype=float32)\n",
      "tf.Tensor([3. 7.], shape=(2,), dtype=float32)\n"
     ]
    }
   ],
   "source": [
    "# t1.reduce_sum, reduce_mean\n",
    "mat = tf.constant([[1., 2.], [3., 4.]])\n",
    "sum = tf.reduce_sum(mat)\n",
    "mean = tf.reduce_mean(mat)\n",
    "print(sum, mean)\n",
    "\n",
    "# [1, 2]\n",
    "# [3, 4]\n",
    "print(tf.reduce_sum(mat, 0))\n",
    "print(tf.reduce_sum(mat, 1))"
   ]
  },
  {
   "cell_type": "code",
   "execution_count": 25,
   "id": "78068897",
   "metadata": {},
   "outputs": [],
   "source": [
    "## 그레디언트\n",
    "import tensorflow as tf\n",
    "import numpy as np\n",
    "import matplotlib.pyplot as plt\n",
    "import random\n",
    "\n",
    "random.seed(1)\n",
    "np.random.seed(1)\n",
    "tf.random.set_seed(1)"
   ]
  },
  {
   "cell_type": "code",
   "execution_count": 27,
   "id": "95b9f10b",
   "metadata": {},
   "outputs": [],
   "source": [
    "def plot_graph(X, Y, X_hat = None, Y_hat = None, str_title = None):\n",
    "    fig = plt.figure(figsize = (8, 6))\n",
    "    if str_title is not None:\n",
    "        plt.title(str_title, fontsize = 20, pad = 20)\n",
    "    plt.plot(X, Y, ls = 'none', marker = 'o')\n",
    "    if X_hat is not None and Y_hat is not None:\n",
    "        plt.plot(X_hat, Y_hat)\n",
    "    plt.tick_params(axis = 'both', labelsize = 14)"
   ]
  },
  {
   "cell_type": "code",
   "execution_count": 29,
   "id": "b7a59765",
   "metadata": {},
   "outputs": [],
   "source": [
    "x_0 = tf.random.normal([20], 3, 1)\n",
    "y_0 = tf.zeros([20])\n",
    "x_1 = tf.random.normal([20], 5, 5, 1)\n",
    "y_1 = tf.ones([20])"
   ]
  },
  {
   "cell_type": "code",
   "execution_count": 31,
   "id": "5ba53161",
   "metadata": {},
   "outputs": [
    {
     "name": "stdout",
     "output_type": "stream",
     "text": [
      "tf.Tensor(\n",
      "[2.5429878 2.5931327 3.7285776 2.1070223 3.3126116 3.9942925 1.2157376\n",
      " 2.477995  3.9808004 2.324015  4.1456146 3.2060726 2.8027837 3.5380936\n",
      " 3.76433   2.1638083 3.3361416 4.5602016 3.7227836 4.0754886], shape=(20,), dtype=float32) tf.Tensor([0. 0. 0. 0. 0. 0. 0. 0. 0. 0. 0. 0. 0. 0. 0. 0. 0. 0. 0. 0.], shape=(20,), dtype=float32) tf.Tensor(\n",
      "[13.470083    5.598466   -0.7923002   5.86302     1.4275184   8.448003\n",
      " -0.45407963 -0.9325514  -1.5109396  11.12001     5.114802   -0.9505806\n",
      " -7.1703806  -0.1973157   9.626237    6.255021   10.948628    7.4005356\n",
      "  5.6007566   1.3755388 ], shape=(20,), dtype=float32) tf.Tensor([1. 1. 1. 1. 1. 1. 1. 1. 1. 1. 1. 1. 1. 1. 1. 1. 1. 1. 1. 1.], shape=(20,), dtype=float32)\n"
     ]
    }
   ],
   "source": [
    "print(x_0, y_0, x_1, y_1)"
   ]
  },
  {
   "cell_type": "code",
   "execution_count": 32,
   "id": "bcecc64f",
   "metadata": {},
   "outputs": [
    {
     "name": "stdout",
     "output_type": "stream",
     "text": [
      "(40,) (40,)\n"
     ]
    },
    {
     "data": {
      "image/png": "[encoded data removed]",
      "text/plain": [
       "<Figure size 800x600 with 1 Axes>"
      ]
     },
     "metadata": {},
     "output_type": "display_data"
    }
   ],
   "source": [
    "x = tf.concat([x_0, x_1], 0)\n",
    "y = tf.concat([y_0, y_1], 0)\n",
    "print(x.shape, y.shape)\n",
    "plot_graph(x, y, str_title = 'original_data')"
   ]
  },
  {
   "cell_type": "code",
   "execution_count": 46,
   "id": "a1d19030",
   "metadata": {},
   "outputs": [
    {
     "name": "stdout",
     "output_type": "stream",
     "text": [
      "step: 0 , loss: 31.993496 , w: [0.35568562] , b: [-1.205982]\n",
      "step: 200 , loss: 27.478897 , w: [0.06094928] , b: [-0.22278886]\n",
      "step: 400 , loss: 27.478752 , w: [0.05990824] , b: [-0.21525966]\n",
      "step: 600 , loss: 27.47875 , w: [0.05990146] , b: [-0.21521102]\n",
      "step: 800 , loss: 27.47875 , w: [0.05990146] , b: [-0.21521102]\n",
      "step: 1000 , loss: 27.47875 , w: [0.05990146] , b: [-0.21521102]\n",
      "step: 1200 , loss: 27.47875 , w: [0.05990146] , b: [-0.21521102]\n",
      "step: 1400 , loss: 27.47875 , w: [0.05990146] , b: [-0.21521102]\n",
      "step: 1600 , loss: 27.47875 , w: [0.05990146] , b: [-0.21521102]\n",
      "step: 1800 , loss: 27.47875 , w: [0.05990146] , b: [-0.21521102]\n"
     ]
    }
   ],
   "source": [
    "def corss_entropy(x, y, w, b):\n",
    "    y_pred = tf.sigmoid(x * w + b)\n",
    "    return -tf.reduce_sum(y*tf.math.log(y_pred) + (1-y) * tf.math.log(1-y_pred))\n",
    "\n",
    "def cal_gradient(x, y, w, b):\n",
    "    b_gradient = 0\n",
    "    w_gradient = 0\n",
    "    N = tf.shape(x)[0] # data number [40] (40, ~~)\n",
    "    for i in range(0, N):\n",
    "        x_i = x[i]\n",
    "        y_i = y[i]\n",
    "        y_pred = tf.sigmoid(x_i * w + b)\n",
    "        \n",
    "        df_df1 = -(y_i - y_pred) / (y_pred * (1 - y_pred))\n",
    "        df_df2 = df_df1 * (y_pred) * (1 - y_pred)\n",
    "        \n",
    "        b_gradient += df_df2\n",
    "        w_gradient += df_df2 * x_i\n",
    "    return [w_gradient, b_gradient]\n",
    "\n",
    "def apply_gradient(gradients, parameters, learning_rate):\n",
    "    [w_g, b_g] = gradients\n",
    "    [w, b] = parameters\n",
    "    \n",
    "    \n",
    "    w = w - learning_rate * w_g\n",
    "    b = b - learning_rate * b_g\n",
    "    \n",
    "    return [w, b]\n",
    "\n",
    "def run_opt(x, y, w, b, learning_rate):\n",
    "    gradients = cal_gradient(x, y, w, b)\n",
    "    return apply_gradient(gradients, [w, b], learning_rate)\n",
    "    \n",
    "w = tf.Variable(tf.random_normal_initializer(stddev=1)([1]))\n",
    "b = tf.Variable(tf.random_normal_initializer(stddev=1)([1])) \n",
    "\n",
    "learning_rate = 0.005\n",
    "training_steps = 2000\n",
    "display_step = 200\n",
    "    \n",
    "for step in range(training_steps):\n",
    "    [w_new, b_new] = run_opt(x, y, w, b, learning_rate)\n",
    "    w = w_new\n",
    "    b = b_new\n",
    "    if step%display_step == 0:\n",
    "        loss = corss_entropy(x, y, w, b)\n",
    "        print(\"step:\", step, \", loss:\", loss.numpy(), \", w:\", w.numpy(), \", b:\", b.numpy())"
   ]
  },
  {
   "cell_type": "code",
   "execution_count": 50,
   "id": "92e2d849",
   "metadata": {},
   "outputs": [
    {
     "data": {
      "image/png": "[encoded data removed]",
      "text/plain": [
       "<Figure size 800x600 with 1 Axes>"
      ]
     },
     "metadata": {},
     "output_type": "display_data"
    }
   ],
   "source": [
    "x_fl = np.linspace(np.min(x), np.max(x), 100)\n",
    "plot_graph(x, y, x_fl, tf.sigmoid(w * x_fl + b), str_title=\"line with initial parameter\")"
   ]
  },
  {
   "cell_type": "code",
   "execution_count": null,
   "id": "226ae1cc",
   "metadata": {},
   "outputs": [],
   "source": []
  }
 ],
 "metadata": {
  "kernelspec": {
   "display_name": "Python [conda env:base] *",
   "language": "python",
   "name": "conda-base-py"
  },
  "language_info": {
   "codemirror_mode": {
    "name": "ipython",
    "version": 3
   },
   "file_extension": ".py",
   "mimetype": "text/x-python",
   "name": "python",
   "nbconvert_exporter": "python",
   "pygments_lexer": "ipython3",
   "version": "3.10.9"
  }
 },
 "nbformat": 4,
 "nbformat_minor": 5
}
