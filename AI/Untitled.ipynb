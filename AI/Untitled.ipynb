{
 "cells": [
  {
   "cell_type": "code",
   "execution_count": 7,
   "id": "a761f3d6",
   "metadata": {},
   "outputs": [],
   "source": [
    "import pandas as pd"
   ]
  },
  {
   "cell_type": "code",
   "execution_count": 11,
   "id": "591db70c",
   "metadata": {},
   "outputs": [
    {
     "name": "stdout",
     "output_type": "stream",
     "text": [
      "4\n",
      "1 1\n",
      "2\n",
      "1000 100000\n",
      "101000\n",
      "-300 299\n",
      "-1\n",
      "961231 920913\n",
      "1882144\n"
     ]
    }
   ],
   "source": [
    "# A+B 구하기\n",
    "t = int(input())\n",
    "for _ in range(t):\n",
    "    a,b = map(int,input().split())\n",
    "    print(a+b)"
   ]
  },
  {
   "cell_type": "code",
   "execution_count": 12,
   "id": "8171a7be",
   "metadata": {},
   "outputs": [
    {
     "name": "stdout",
     "output_type": "stream",
     "text": [
      "2\n",
      "1 -1 2 7 3 -1 4 -1 5 -1\n",
      "1 3 4 5\n",
      "3 4 2 1 5 -1\n",
      "5\n"
     ]
    }
   ],
   "source": [
    "# 스택 구현하기\n",
    "t = int(input())\n",
    "for _ in range(t):\n",
    "    stack = []\n",
    "    ans = []\n",
    "    qry = list(map(int, input().split()))\n",
    "    for q in qry:\n",
    "        if q > 0:\n",
    "            stack.append(q)\n",
    "        else:\n",
    "            ans.append(stack.pop())\n",
    "    print(*ans)\n",
    "    "
   ]
  },
  {
   "cell_type": "code",
   "execution_count": 14,
   "id": "d54bf23f",
   "metadata": {},
   "outputs": [
    {
     "name": "stdout",
     "output_type": "stream",
     "text": [
      "2\n",
      "1 -1 2 7 3 -1 4 -1 5 -1\n",
      "1 2 7 3\n",
      "3 4 2 1 5 -1\n",
      "3\n"
     ]
    }
   ],
   "source": [
    "import collections\n",
    "\n",
    "t = int(input())\n",
    "for _ in range(t):\n",
    "    queue = collections.deque([])\n",
    "    ans = []\n",
    "    qry = list(map(int, input().split()))\n",
    "    for q in qry:\n",
    "        if q > 0:\n",
    "            queue.append(q)\n",
    "        else:\n",
    "            ans.append(queue.popleft())\n",
    "    print(*ans)"
   ]
  },
  {
   "cell_type": "code",
   "execution_count": 1,
   "id": "8afa69af",
   "metadata": {},
   "outputs": [
    {
     "name": "stdout",
     "output_type": "stream",
     "text": [
      "6\n",
      "1\n",
      "1\n",
      "2\n",
      "1\n",
      "3\n",
      "2\n",
      "4\n",
      "3\n",
      "5\n",
      "5\n",
      "6\n",
      "8\n"
     ]
    }
   ],
   "source": [
    "def fibonacci(n):\n",
    "    if n == 1 or n == 2:\n",
    "        return 1\n",
    "    else:\n",
    "        return fibonacci(n-1) + fibonacci(n-2)\n",
    "\n",
    "t = int(input())\n",
    "for _ in range(t):\n",
    "    n = int(input())\n",
    "    print(fibonacci(n))"
   ]
  },
  {
   "cell_type": "code",
   "execution_count": 4,
   "id": "45db3d30",
   "metadata": {},
   "outputs": [
    {
     "name": "stdout",
     "output_type": "stream",
     "text": [
      "3\n",
      "1 2 3 4 5\n",
      "1 3 6\n",
      "0 2 -1\n",
      "1 3 5 7\n",
      "2 3 6\n",
      "-1 1 -1\n",
      "2 3 4 5 6\n",
      "5 3 1\n",
      "3 1 -1\n"
     ]
    }
   ],
   "source": [
    "def binary(data, left, right, q):\n",
    "    \n",
    "# index의 값 변화가 더 중요\n",
    "# ans.append(index)\n",
    "# (리스트 median 값) > (query 숫자)\n",
    "# -> right 오른쪽 업데이트 = median - 1이다. (즉 중앙값에서 왼쪽에 원하는 query값이 있다.)\n",
    "\n",
    "# (리스트 median 값) < (query 숫자)\n",
    "# -> left 왼쪽 업데이트 = median + 1이다. (즉 중앙값에서 오른쪽에 원하는 query값이 있다.)\n",
    "    if left > right:\n",
    "        return -1\n",
    "    mid = (left + right) // 2\n",
    "    if data[mid] == q:\n",
    "        return mid\n",
    "    if data[mid] > q:\n",
    "        subproblem = binary(data, left, mid-1, q)\n",
    "       # left = mid + 1\n",
    "    elif data[mid] < q:\n",
    "        subproblem = binary(data, mid+1, right, q)\n",
    "  #      right = mid - 1\n",
    "    return subproblem\n",
    "\n",
    "t = int(input())\n",
    "for _ in range(t):\n",
    "    data = list(map(int, input().split()))\n",
    "    query = list(map(int, input().split()))\n",
    "    ans = []\n",
    "    \n",
    "    for q in query:\n",
    "        ans.append(binary(data, 0, len(data) -1, q))\n",
    "    print(*ans)"
   ]
  },
  {
   "cell_type": "code",
   "execution_count": null,
   "id": "b9fba6bb",
   "metadata": {},
   "outputs": [],
   "source": [
    "t = int(input())\n",
    "for _ in range(t):\n",
    "    N, M = map(int, input().split())\n",
    "    \n",
    "    Matrix = [[0] * N for _ in range(N)]\n",
    "    \n",
    "    for i in range(M):\n",
    "        u, v, c = map(int, input().split())\n",
    "        Matrix[u][v] = c\n",
    "    \n",
    "    for i in range(N):\n",
    "        print(*Matrix[i])"
   ]
  }
 ],
 "metadata": {
  "kernelspec": {
   "display_name": "Python [conda env:base] *",
   "language": "python",
   "name": "conda-base-py"
  },
  "language_info": {
   "codemirror_mode": {
    "name": "ipython",
    "version": 3
   },
   "file_extension": ".py",
   "mimetype": "text/x-python",
   "name": "python",
   "nbconvert_exporter": "python",
   "pygments_lexer": "ipython3",
   "version": "3.10.9"
  }
 },
 "nbformat": 4,
 "nbformat_minor": 5
}
