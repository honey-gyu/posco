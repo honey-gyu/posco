{
 "cells": [
  {
   "cell_type": "markdown",
   "metadata": {
    "id": "VnYq62ird-3g"
   },
   "source": [
    "1. https://konlpy-ko.readthedocs.io/ko/v0.4.3/install/\n",
    "2. !pip install konlpy\n",
    "3. !pip install nltk"
   ]
  },
  {
   "cell_type": "code",
   "execution_count": 31,
   "metadata": {
    "colab": {
     "base_uri": "https://localhost:8080/"
    },
    "executionInfo": {
     "elapsed": 31190,
     "status": "ok",
     "timestamp": 1726299041040,
     "user": {
      "displayName": "이지현",
      "userId": "09607579662476074282"
     },
     "user_tz": -540
    },
    "id": "h93eGnrtd-3o",
    "outputId": "9b7588c8-3fc3-4aa5-85ac-e5d6def615cd"
   },
   "outputs": [
    {
     "name": "stdout",
     "output_type": "stream",
     "text": [
      "Requirement already satisfied: konlpy in /home/piai/anaconda3/lib/python3.10/site-packages (0.6.0)\n",
      "Requirement already satisfied: JPype1>=0.7.0 in /home/piai/anaconda3/lib/python3.10/site-packages (from konlpy) (1.5.0)\n",
      "Requirement already satisfied: lxml>=4.1.0 in /home/piai/anaconda3/lib/python3.10/site-packages (from konlpy) (5.3.0)\n",
      "Requirement already satisfied: numpy>=1.6 in /home/piai/anaconda3/lib/python3.10/site-packages (from konlpy) (1.23.5)\n",
      "Requirement already satisfied: packaging in /home/piai/anaconda3/lib/python3.10/site-packages (from JPype1>=0.7.0->konlpy) (24.1)\n",
      "Requirement already satisfied: nltk in /home/piai/anaconda3/lib/python3.10/site-packages (3.9.1)\n",
      "Requirement already satisfied: click in /home/piai/anaconda3/lib/python3.10/site-packages (from nltk) (8.1.7)\n",
      "Requirement already satisfied: joblib in /home/piai/anaconda3/lib/python3.10/site-packages (from nltk) (1.4.2)\n",
      "Requirement already satisfied: regex>=2021.8.3 in /home/piai/anaconda3/lib/python3.10/site-packages (from nltk) (2024.7.24)\n",
      "Requirement already satisfied: tqdm in /home/piai/anaconda3/lib/python3.10/site-packages (from nltk) (4.66.4)\n"
     ]
    }
   ],
   "source": [
    "!pip install konlpy # 한국어 토크나이저\n",
    "!pip install nltk # 영어 토크나이저"
   ]
  },
  {
   "cell_type": "code",
   "execution_count": null,
   "metadata": {
    "colab": {
     "base_uri": "https://localhost:8080/"
    },
    "executionInfo": {
     "elapsed": 14476,
     "status": "ok",
     "timestamp": 1726299055513,
     "user": {
      "displayName": "이지현",
      "userId": "09607579662476074282"
     },
     "user_tz": -540
    },
    "id": "TxeFym5oY6E7",
    "outputId": "d566f17c-850e-46a4-9d91-b62301f32b24"
   },
   "outputs": [
    {
     "name": "stdout",
     "output_type": "stream",
     "text": [
      "[sudo] piai 암호: "
     ]
    }
   ],
   "source": [
    "# 한국어 폰트 다운로드\n",
    "# 런타임 -->  세션 다시시작 필요\n",
    "\n",
    "!sudo apt-get install -y fonts-nanum\n",
    "!sudo fc-cache -fv\n",
    "!rm ~/.cache/matplotlib -rf"
   ]
  },
  {
   "cell_type": "code",
   "execution_count": 32,
   "metadata": {
    "executionInfo": {
     "elapsed": 343,
     "status": "ok",
     "timestamp": 1726300123262,
     "user": {
      "displayName": "이지현",
      "userId": "09607579662476074282"
     },
     "user_tz": -540
    },
    "id": "s-h5frF0ZIYf"
   },
   "outputs": [],
   "source": [
    "import matplotlib.pyplot as plt\n",
    "plt.rc('font', family='NanumBarunGothic')\n",
    "plt.rcParams['axes.unicode_minus'] =False"
   ]
  },
  {
   "cell_type": "markdown",
   "metadata": {
    "id": "-BBFxh1Jd-3z"
   },
   "source": [
    "## Corpus"
   ]
  },
  {
   "cell_type": "code",
   "execution_count": 33,
   "metadata": {
    "executionInfo": {
     "elapsed": 402,
     "status": "ok",
     "timestamp": 1726300125683,
     "user": {
      "displayName": "이지현",
      "userId": "09607579662476074282"
     },
     "user_tz": -540
    },
    "id": "Ew2Kdi66d-31"
   },
   "outputs": [],
   "source": [
    "from konlpy.corpus import kolaw\n",
    "\n",
    "kolaw.fileids()\n",
    "# kobill.fileids()\n",
    "\n",
    "law = kolaw.open(kolaw.fileids()[0]).read()"
   ]
  },
  {
   "cell_type": "code",
   "execution_count": 34,
   "metadata": {
    "colab": {
     "base_uri": "https://localhost:8080/"
    },
    "executionInfo": {
     "elapsed": 2,
     "status": "ok",
     "timestamp": 1726300126520,
     "user": {
      "displayName": "이지현",
      "userId": "09607579662476074282"
     },
     "user_tz": -540
    },
    "id": "yxOrAt6RmeZg",
    "outputId": "1407d0e1-77f5-460e-8dfa-7a40373e23fa"
   },
   "outputs": [
    {
     "name": "stdout",
     "output_type": "stream",
     "text": [
      "대\n"
     ]
    }
   ],
   "source": [
    "# print(law[:1000])\n",
    "print(law[0])"
   ]
  },
  {
   "cell_type": "code",
   "execution_count": 35,
   "metadata": {
    "colab": {
     "base_uri": "https://localhost:8080/"
    },
    "executionInfo": {
     "elapsed": 337,
     "status": "ok",
     "timestamp": 1726300128148,
     "user": {
      "displayName": "이지현",
      "userId": "09607579662476074282"
     },
     "user_tz": -540
    },
    "id": "twkpXFO7d-32",
    "outputId": "2af2151d-22d3-4aaa-c9f3-2ecfbd2e2153"
   },
   "outputs": [
    {
     "data": {
      "text/plain": [
       "(4178,\n",
       " 356,\n",
       " ['대한민국헌법',\n",
       "  '',\n",
       "  '유구한 역사와 전통에 빛나는 우리 대한국민은 3·1운동으로 건립된 대한민국임시정부의 법통과 불의에 항거한 4·19민주이념을 계승하고, 조국의 민주개혁과 평화적 통일의 사명에 입각하여 정의·인도와 동포애로써 민족의 단결을 공고히 하고, 모든 사회적 폐습과 불의를 타파하며, 자율과 조화를 바탕으로 자유민주적 기본질서를 더욱 확고히 하여 정치·경제·사회·문화의 모든 영역에 있어서 각인의 기회를 균등히 하고, 능력을 최고도로 발휘하게 하며, 자유와 권리에 따르는 책임과 의무를 완수하게 하여, 안으로는 국민생활의 균등한 향상을 기하고 밖으로는 항구적인 세계평화와 인류공영에 이바지함으로써 우리들과 우리들의 자손의 안전과 자유와 행복을 영원히 확보할 것을 다짐하면서 1948년 7월 12일에 제정되고 8차에 걸쳐 개정된 헌법을 이제 국회의 의결을 거쳐 국민투표에 의하여 개정한다.',\n",
       "  ''])"
      ]
     },
     "execution_count": 35,
     "metadata": {},
     "output_type": "execute_result"
    }
   ],
   "source": [
    "# 어절의 수 중복허용\n",
    "len(law.split()), len(law.splitlines()), law.splitlines()[:4] # enter 단위"
   ]
  },
  {
   "cell_type": "code",
   "execution_count": 38,
   "metadata": {
    "colab": {
     "base_uri": "https://localhost:8080/",
     "height": 35
    },
    "executionInfo": {
     "elapsed": 4,
     "status": "ok",
     "timestamp": 1726300128966,
     "user": {
      "displayName": "이지현",
      "userId": "09607579662476074282"
     },
     "user_tz": -540
    },
    "id": "fHV4Lg1cdNGw",
    "outputId": "fcaf28a3-9f7e-4ee1-ec89-dcb920b0c91a"
   },
   "outputs": [
    {
     "data": {
      "text/plain": [
       "'  제7조 ① 공무원은 국민전체에 대한 봉사자이며, 국민에 대하여 책임을 진다.'"
      ]
     },
     "execution_count": 38,
     "metadata": {},
     "output_type": "execute_result"
    }
   ],
   "source": [
    "law.splitlines()[15] #\\n"
   ]
  },
  {
   "cell_type": "code",
   "execution_count": 39,
   "metadata": {
    "executionInfo": {
     "elapsed": 42438,
     "status": "ok",
     "timestamp": 1726300172537,
     "user": {
      "displayName": "이지현",
      "userId": "09607579662476074282"
     },
     "user_tz": -540
    },
    "id": "e8csCXqeVtyC"
   },
   "outputs": [],
   "source": [
    "# 가 나 다 라 마 바 ,,,, 힣\n",
    "# 0  4  2  6             3\n",
    "# 0  1  2  3  4   ...... 90\n",
    "\n",
    "from konlpy.tag import Kkma\n",
    "from collections import Counter\n",
    "import re # 정규표현식 -> 텍스트 정제\n",
    "\n",
    "# Kkma 객체 생성\n",
    "kkma = Kkma()\n",
    "\n",
    "# 예시 corpus\n",
    "corpus = law\n",
    "\n",
    "# 텍스트 전처리: 특수문자 제거 \"^ :아닌것\"\n",
    "# 가 0 나 1 다 2 ... 힣 32\n",
    "# 숫자, 특수문자, ㅏ ㅋ ㅎ\n",
    "corpus = re.sub(r'[^가-힣\\s]', '', corpus) # 가에서 힣 사이에 있지 않은것은 삭제\n",
    "\n"
   ]
  },
  {
   "cell_type": "code",
   "execution_count": 40,
   "metadata": {
    "colab": {
     "base_uri": "https://localhost:8080/"
    },
    "executionInfo": {
     "elapsed": 11,
     "status": "ok",
     "timestamp": 1726300172538,
     "user": {
      "displayName": "이지현",
      "userId": "09607579662476074282"
     },
     "user_tz": -540
    },
    "id": "iYNpKU_hga0B",
    "outputId": "7ad7b1e0-1741-41a9-95d1-f07eb1764692"
   },
   "outputs": [
    {
     "name": "stdout",
     "output_type": "stream",
     "text": [
      "대한민국헌법\n",
      "\n",
      "유구한 역사와 전통에 빛나는 우리 대한국민은 운동으로 건립된 대한민국임시정부의 법통과 불의에 항거한 민주이념을 계승하고 조국의 민주개혁과 평화적 통일의 사명에 입각하여 정의인도와 동포애로써 민족의 단결을 공고히 하고 모든 사회적 폐습과 불의를 타파하며 자율과 조화를 바탕으로 자유민주적 기본질서를 더욱 확고히 하여 정치경제사회문화의 모든 영역에 있어서 각인의 기회를 균등히 하고 능력을 최고도로 발휘하게 하며 자유와 권리에 따르는 책임과 의무를 완수하게 하여 안으로는 국민생활의 균등한 향상을 기하고 밖으로는 항구적인 세계평화와 인류공영에 이바지함으로써 우리들과 우리들의 자손의 안전과 자유와 행복을 영원히 확보할 것을 다짐하면서 년 월 일에 제정되고 차에 걸쳐 개정된 헌법을 이제 국회의 의결을 거쳐 국민투표에 의하여 개정한다\n",
      "\n",
      "       제장 총강\n",
      "  제조  대한민국은 민주공화국이다\n",
      "대한민국의 주권은 국민에게 있고 모든 권력은 국민으로부터 나온다\n",
      "  제조  대한민국의 국민이 되는 요건은 법률로 정한다\n",
      "국가는 법률이 정하는 바에 의하여 재외국민을 보호할 의무를 진다\n",
      "  제조 대한민국의 영토는 한반도와 그 부속도서로 한다\n",
      "  제조 대한민국은 통일을 지향하며 자유민주적 기본질서에 입각한 평화적 통일 정책을 수립하고 이를 추진한다\n",
      "  제조  대한민국은 국제평화의 유지에 노력하고 침략적 전쟁을 부인한다\n",
      "국군은 국가의 안전보장과 국토방위의 신성한 의무를 수행함을 사명으로 하며 그 정치적 중립성은 준수된다\n",
      "  제조  헌법에 의하여 체결공포된 조약과 일반적으로 승인된 국제법규는 국내법과 같은 효력을 가진다\n",
      "외국인은 국제법과 조약이 정하는 바에 의하여 그 지위가 보장된다\n",
      "  제조  공무원은 국민전체에 대한 봉사자이며 국민에 대하여 책임을 진다\n",
      "공무원의 신분과 정치적 중립성은 법률이 정하는 바에 의하여 보장된다\n",
      "  제조  정당의 설립은 자유이며 복수정당제는 보장된다\n",
      "정당은 그 목적조직과 활동이 민주적이어야 하며 국민의 정치적 의사형성에 참여하는데 필요한 조직을 가져야\n"
     ]
    }
   ],
   "source": [
    "print(corpus[:1000]) # 특수문자, 숫자가 제거"
   ]
  },
  {
   "cell_type": "code",
   "execution_count": 41,
   "metadata": {
    "executionInfo": {
     "elapsed": 14005,
     "status": "ok",
     "timestamp": 1726300207700,
     "user": {
      "displayName": "이지현",
      "userId": "09607579662476074282"
     },
     "user_tz": -540
    },
    "id": "i7GbzB-hgZ-b"
   },
   "outputs": [],
   "source": [
    "# 형태소 분석\n",
    "morphs = kkma.pos(corpus)"
   ]
  },
  {
   "cell_type": "code",
   "execution_count": 42,
   "metadata": {
    "colab": {
     "base_uri": "https://localhost:8080/"
    },
    "executionInfo": {
     "elapsed": 3,
     "status": "ok",
     "timestamp": 1726300207701,
     "user": {
      "displayName": "이지현",
      "userId": "09607579662476074282"
     },
     "user_tz": -540
    },
    "id": "Ye4vwkruboXY",
    "outputId": "6f8017d0-834d-4bf7-d501-0e78e4646e04"
   },
   "outputs": [
    {
     "name": "stdout",
     "output_type": "stream",
     "text": [
      "[('대한민국', 'NNG'), ('헌법', 'NNG'), ('유구', 'NNG'), ('하', 'XSV'), ('ㄴ', 'ETD'), ('역사', 'NNG'), ('와', 'JC'), ('전통', 'NNG'), ('에', 'JKM'), ('빛나', 'VV'), ('는', 'ETD'), ('우리', 'NNM'), ('대하', 'VV'), ('ㄴ', 'ETD'), ('국민', 'NNG'), ('은', 'JX'), ('운동', 'NNG'), ('으로', 'JKM'), ('건립', 'NNG'), ('되', 'XSV'), ('ㄴ', 'ETD'), ('대한민국', 'NNG'), ('임시', 'NNG'), ('정부', 'NNG'), ('의', 'JKG'), ('법통', 'NNG'), ('과', 'JC'), ('불의', 'NNG'), ('에', 'JKM'), ('항거', 'NNG')]\n"
     ]
    }
   ],
   "source": [
    "print(morphs[0:30])"
   ]
  },
  {
   "cell_type": "code",
   "execution_count": 43,
   "metadata": {
    "colab": {
     "base_uri": "https://localhost:8080/"
    },
    "executionInfo": {
     "elapsed": 335,
     "status": "ok",
     "timestamp": 1726300226424,
     "user": {
      "displayName": "이지현",
      "userId": "09607579662476074282"
     },
     "user_tz": -540
    },
    "id": "lLI4JXJMbg__",
    "outputId": "1b54be91-8711-4598-b8ce-f7a953a7d835"
   },
   "outputs": [
    {
     "name": "stdout",
     "output_type": "stream",
     "text": [
      "명사 예시 10개 :  ['헌법', '유구', '역사', '전통', '우리', '국민', '운동', '건립', '임시', '정부']\n",
      "Counter({'법률': 120, '대통령': 84, '국가': 73, '헌법': 69, '국민': 69, '국회': 56, '회의': 41, '위원': 32, '필요': 31, '기타': 26, '선거': 26, '보장': 24, '모든': 24, '국무': 24, '정부': 23, '사항': 23, '의원': 23, '제항': 22, '자유': 21, '권리': 21, '의무': 20, '직무': 19, '국무총리': 19, '임명': 19, '경제': 18, '국회의원': 18, '임기': 18, '조직': 17, '경우': 17, '이상': 17, '법원': 17, '의결': 16, '공무원': 16, '단체': 16, '국': 16, '범위': 16, '안': 15, '보호': 15, '법관': 15, '재판': 15, '행정': 15, '일': 14, '정책': 14, '정당': 14, '재판소': 14, '재적': 14, '노력': 13, '요구': 13, '관리': 13, '조약': 12, '심판': 12, '처분': 12, '집회': 12, '시행': 12, '출석': 12, '찬성': 12, '자문': 12, '안전': 11, '공포': 11, '이': 11, '탄핵': 11, '년': 10, '기관': 10, '중': 10, '군사': 10, '교육': 10, '과반수': 10, '중요': 10, '권한': 10, '대법원장': 10, '통일': 9, '개정': 9, '효력': 9, '자': 9, '체포': 9, '절차': 9, '근로': 9, '동의': 9, '국정': 9, '각부': 9, '명령': 9, '지방': 9, '자치': 9, '기본': 8, '질서': 8, '생활': 8, '제정': 8, '투표': 8, '인정': 8, '구속': 8, '구성': 8, '행위': 8, '공공': 8, '확정': 8, '분의': 8, '제출': 8, '법률안': 8, '재판관': 8, '사무': 8, '대법원': 8, '것': 7, '수립': 7, '유지': 7, '이유': 7, '제한': 7, '공개': 7, '선출': 7, '인': 7, '감사': 7, '위원회': 7, '대법관': 7, '최초': 7, '민주': 6, '승인': 6, '누구': 6, '등': 6, '사상': 6, '청구': 6, '형사': 6, '피고인': 6, '지체': 6, '침해': 6, '특별': 6, '개발': 6, '회기': 6, '규정': 6, '이내': 6, '후': 6, '회계': 6, '처리': 6, '규칙': 6, '자격': 6, '결정': 6, '중임': 6, '계엄': 6, '제청': 6, '당시': 6, '사회적': 5, '책임': 5, '평화': 5, '정치적': 5, '운영': 5, '해산': 5, '발전': 5, '제도': 5, '진술': 5, '심사': 5, '이익': 5, '언론': 5, '출판': 5, '내용': 5, '군인': 5, '중대': 5, '제외': 5, '한': 5, '재정': 5, '기간': 5, '의장': 5, '재의': 5, '예산안': 5, '심의': 5, '연도': 5, '개시': 5, '예산': 5, '설치': 5, '장': 5, '소추': 5, '계획': 5, '개정안': 5, '감사원': 5, '각급': 5, '균형': 5, '이용': 5, '육성': 5, '평화적': 4, '민주적': 4, '정치': 4, '사회': 4, '영역': 4, '기회': 4, '균등': 4, '향상': 4, '국군': 4, '수행': 4, '체결': 4, '목적': 4, '평등': 4, '하다': 4, '형': 4, '검사': 4, '영장': 4, '죄': 4, '변호인': 4, '방법': 4, '범죄': 4, '재산권': 4, '비밀': 4, '타인': 4, '복리': 4, '보상': 4, '정': 4, '선거권': 4, '비상계엄': 4, '선포': 4, '판결': 4, '집행': 4, '근로자': 4, '조건': 4, '다음': 4, '지출': 4, '부담': 4, '발의': 4, '저촉': 4, '내부': 4, '규율': 4, '후임자': 4, '상의': 4, '긴급': 4, '관계': 4, '사면': 4, '제관': 4, '원로': 4, '선고': 4, '간': 4, '선임': 4, '농지': 4, '우리': 3, '운동': 3, '임시': 3, '조국': 3, '민족': 3, '문화': 3, '능력': 3, '최고': 3, '월': 3, '차': 3, '국제': 3, '국토': 3, '중립성': 3, '지위': 3, '신분': 3, '활동': 3, '위배': 3, '제소': 3, '인간': 3, '개인': 3, '종교': 3, '영전': 3, '신체': 3, '압수': 3, '수색': 3, '처벌': 3, '불리': 3, '현행': 3, '범인': 3, '증거': 3, '주거': 3, '양심': 3, '결사': 3, '배상': 3, '행사': 3, '문서': 3, '청원': 3, '군무원': 3, '군': 3, '구금': 3, '자가': 3, '증진': 3, '행동권': 3, '실시': 3, '사유': 3, '보전': 3, '전': 3, '계약': 3, '만료': 3, '편성': 3, '일전': 3, '경비': 3, '계속': 3, '변경': 3, '상호': 3, '강화': 3, '선전': 3, '외국': 3, '의견': 3, '해임': 3, '건의': 3, '중앙': 3, '위': 3, '위임': 3, '대통령령': 3, '안녕': 3, '조치': 3, '해제': 3, '감형': 3, '복권': 3, '대외': 3, '결산': 3, '조정': 3, '총장': 3, '지명': 3, '원장': 3, '연임': 3, '금고': 3, '형의': 3, '여부': 3, '법령': 3, '자원': 3, '제안': 3, '일로': 3, '불의': 2, '계승': 2, '사명': 2, '입각': 2, '자율': 2, '조화': 2, '행복': 2, '주권': 2, '영토': 2, '지향': 2, '방위': 2, '준수': 2, '국내': 2, '의사': 2, '창달': 2, '존엄': 2, '법': 2, '앞': 2, '경제적': 2, '차별': 2, '훈장': 2, '적법': 2, '고문': 2, '자기': 2, '신청': 2, '발부': 2, '제시': 2, '염려': 2, '조력': 2, '자의': 2, '가족': 2, '자백': 2, '부당': 2, '유죄': 2, '입법': 2, '불': 2, '처우': 2, '이전': 2, '통신': 2, '시설': 2, '기준': 2, '명예': 2, '피해자': 2, '피해': 2, '과학': 2, '공무': 2, '초병': 2, '초소': 2, '유': 2, '독음': 2, '식물': 2, '공급': 2, '포로': 2, '무죄': 2, '불법': 2, '손해': 2, '면제': 2, '관련': 2, '외': 2, '구조': 2, '평생': 2, '학교': 2, '포함': 2, '적인': 2, '고용': 2, '적정': 2, '임금': 2, '원칙': 2, '여자': 2, '군경': 2, '단결권': 2, '교섭권': 2, '원인': 2, '복지': 2, '환경': 2, '국방': 2, '이행': 2, '보통': 2, '직접': 2, '직': 2, '행': 2, '발언': 2, '남용': 2, '기업체': 2, '취득': 2, '임시회': 2, '인과': 2, '이송': 2, '이의': 2, '내': 2, '날': 2, '발생': 2, '예비비': 2, '나': 2, '비준': 2, '동의권': 2, '포고': 2, '파견': 2, '조사': 2, '상황': 2, '답변': 2, '징계': 2, '감사원장': 2, '제절': 2, '독립': 2, '당선': 2, '후보자': 2, '궐': 2, '상실': 2, '선서': 2, '보위': 2, '외교': 2, '외환': 2, '일반': 2, '수여': 2, '보좌': 2, '현역': 2, '이하': 2, '국유': 2, '재산': 2, '간의': 2, '참모': 2, '직전': 2, '세입': 2, '세출': 2, '위반': 2, '전제': 2, '심리': 2, '관할': 2, '위헌': 2, '소원': 2, '인의': 2, '관중': 2, '인은': 2, '가입': 2, '관여': 2, '지시': 2, '의회': 2, '기업': 2, '안정': 2, '규제': 2, '달성': 2, '농업': 2, '경영': 2, '지역': 2, '중소기업': 2, '농어민': 2, '공고': 2, '부칙': 2, '전일': 2, '유구': 1, '역사': 1, '전통': 1, '건립': 1, '법통': 1, '항거': 1, '이념': 1, '개혁': 1, '정의': 1, '인도': 1, '동포애': 1, '단결': 1, '폐습': 1, '타파': 1, '바탕': 1, '각인': 1, '히': 1, '도로': 1, '발휘': 1, '완수': 1, '밖': 1, '항구적': 1, '세계': 1, '인류': 1, '공영': 1, '이바지': 1, '자손': 1, '확보': 1, '다짐': 1, '이제': 1, '총강': 1, '공화국': 1, '권력': 1, '요건': 1, '재외': 1, '한반도': 1, '부속': 1, '추진': 1, '침략': 1, '전쟁': 1, '부인': 1, '신성': 1, '일반적': 1, '법규': 1, '법과': 1, '외국인': 1, '국제법': 1, '전체': 1, '봉사자': 1, '설립': 1, '복수': 1, '정당제': 1, '형성': 1, '참여': 1, '자금': 1, '보조': 1, '전통문화': 1, '가치': 1, '추구': 1, '불가침': 1, '기본적': 1, '인권': 1, '확인': 1, '성별': 1, '문화적': 1, '특수': 1, '계급': 1, '형태': 1, '창설': 1, '특권': 1, '심문': 1, '보안': 1, '강제': 1, '노역': 1, '강요': 1, '장기': 1, '해당': 1, '도피': 1, '인멸': 1, '사후': 1, '즉시': 1, '있음': 1, '고지': 1, '일시': 1, '장소': 1, '통지': 1, '적부': 1, '폭행': 1, '협박': 1, '장기화': 1, '기망': 1, '정식': 1, '유일': 1, '행위시': 1, '소': 1, '추': 1, '동일': 1, '소급': 1, '참정권': 1, '박탈': 1, '친족': 1, '거주': 1, '직업': 1, '선택': 1, '사생활': 1, '국교': 1, '분리': 1, '허': 1, '검열': 1, '허가': 1, '방송': 1, '신문': 1, '기능': 1, '공중': 1, '도덕': 1, '윤리': 1, '대': 1, '학문': 1, '예술': 1, '저작자': 1, '발명가': 1, '기술자': 1, '예술가': 1, '한계': 1, '적합': 1, '수용': 1, '사용': 1, '지급': 1, '담임': 1, '기밀': 1, '군용물': 1, '신속': 1, '상당': 1, '추정': 1, '당해': 1, '사건': 1, '피의자': 1, '불기소': 1, '자신': 1, '경찰': 1, '전투': 1, '훈련': 1, '생명': 1, '자녀': 1, '초등': 1, '무상': 1, '자주성': 1, '전문': 1, '대학': 1, '자율성': 1, '진흥': 1, '교원': 1, '최저': 1, '임금제': 1, '주의': 1, '존엄성': 1, '연소자': 1, '유공자': 1, '전몰': 1, '유가족': 1, '우선적': 1, '자주적': 1, '주요': 1, '산업체': 1, '종사': 1, '권익': 1, '노인과': 1, '청소년': 1, '복': 1, '장애자': 1, '질병': 1, '노령': 1, '재해': 1, '예방': 1, '위험': 1, '건강': 1, '환경권': 1, '주택': 1, '혼인': 1, '양성': 1, '기초': 1, '성립': 1, '모성': 1, '보건': 1, '열거': 1, '경시': 1, '본질적': 1, '납세': 1, '병역': 1, '입법권': 1, '선거구': 1, '비례': 1, '대표제': 1, '석방': 1, '표결': 1, '지지': 1, '청렴': 1, '우선': 1, '산상': 1, '직위': 1, '알선': 1, '회': 1, '정기': 1, '초과': 1, '명시': 1, '부의장': 1, '가부': 1, '동수': 1, '부결': 1, '공표': 1, '의안': 1, '폐기': 1, '서': 1, '환부': 1, '폐회': 1, '일부': 1, '수정': 1, '수의': 1, '전과': 1, '경과': 1, '안이': 1, '전년도': 1, '사업': 1, '연한': 1, '총액': 1, '차기': 1, '추가': 1, '경정': 1, '항의': 1, '금액': 1, '증가': 1, '비목': 1, '국채': 1, '모집': 1, '예산외': 1, '조세': 1, '종목': 1, '세율': 1, '원조': 1, '우호': 1, '통상': 1, '항해': 1, '제약': 1, '재정적': 1, '군대': 1, '주류': 1, '특정': 1, '사안': 1, '서류': 1, '증인': 1, '증언': 1, '질문': 1, '응답': 1, '제명': 1, '결': 1, '정지': 1, '공직': 1, '파면': 1, '민': 1, '원수': 1, '대표': 1, '계속성': 1, '수호': 1, '책무': 1, '성실': 1, '정권': 1, '수반': 1, '득표자': 1, '이상인': 1, '과반': 1, '수가': 1, '다수': 1, '표': 1, '자로': 1, '인일': 1, '득표수': 1, '총수': 1, '피': 1, '선거일': 1, '세': 1, '당선자': 1, '사망': 1, '취임': 1, '즈음': 1, '직책': 1, '사고': 1, '정한': 1, '순서': 1, '대행': 1, '사절': 1, '신임': 1, '접수': 1, '통수': 1, '구체적': 1, '내우': 1, '천재': 1, '지변': 1, '위기': 1, '여유': 1, '최소한': 1, '관': 1, '안위': 1, '교전': 1, '상태': 1, '불가능': 1, '그때': 1, '폐지': 1, '회복': 1, '전시': 1, '사변': 1, '비상사태': 1, '병력': 1, '통고': 1, '임면': 1, '서한': 1, '표시': 1, '국법': 1, '부서': 1, '공사': 1, '내란': 1, '재직': 1, '전직': 1, '예우': 1, '행정부': 1, '명': 1, '통할': 1, '구성원': 1, '부의': 1, '획정': 1, '정부안': 1, '배정': 1, '평가': 1, '분석': 1, '회부': 1, '검찰': 1, '합동': 1, '장각': 1, '국립대': 1, '대사': 1, '영기': 1, '업체': 1, '관리자': 1, '주재': 1, '소관': 1, '직권': 1, '총리령': 1, '부령': 1, '감찰': 1, '차년': 1, '결과': 1, '대상': 1, '사법권': 1, '부': 1, '정년': 1, '정직': 1, '감봉': 1, '심신': 1, '장해': 1, '퇴직': 1, '최종적': 1, '전심': 1, '사법': 1, '준용': 1, '소송': 1, '방해': 1, '선량': 1, '풍속': 1, '상고심': 1, '하의': 1, '간첩죄': 1, '단심': 1, '사형': 1, '관장': 1, '쟁의': 1, '인용': 1, '공정': 1, '위원장': 1, '호선': 1, '선거인': 1, '명부': 1, '작성': 1, '당': 1, '주민': 1, '종류': 1, '조직권': 1, '장의': 1, '창의': 1, '존중': 1, '성장': 1, '소득': 1, '분배': 1, '시장': 1, '지배': 1, '경제력': 1, '방지': 1, '주체': 1, '민주화': 1, '광물': 1, '지하': 1, '수산': 1, '수력': 1, '자연력': 1, '일정': 1, '채취': 1, '특허': 1, '경자': 1, '유전': 1, '소작': 1, '금지': 1, '생산성': 1, '제고': 1, '합리': 1, '사정': 1, '임대차': 1, '위탁': 1, '모두': 1, '생산': 1, '기반': 1, '효율적': 1, '어업': 1, '농어촌': 1, '종합': 1, '지원': 1, '농수산물': 1, '수급': 1, '유통': 1, '개선': 1, '가격': 1, '도모': 1, '자조': 1, '건전': 1, '소비': 1, '계도': 1, '생산품': 1, '품질': 1, '촉구': 1, '소비자': 1, '무역': 1, '국방상': 1, '절': 1, '사영': 1, '공유': 1, '통제': 1, '기술': 1, '혁신': 1, '정보': 1, '인력': 1, '표준': 1, '확립': 1, '기구': 1, '연장': 1, '투표자': 1, '침': 1, '제호': 1, '보기': 1, '준비': 1, '임원': 1, '임명권': 1, '전임자': 1, '판사': 1, '단서': 1, '적용': 1, '지속': 1, '존속': 1})\n"
     ]
    }
   ],
   "source": [
    "\n",
    "# 불용어 리스트\n",
    "stopwords = set(\"\"\"\n",
    "또는 그 및 대한민국 제조 제장 수 때 바\n",
    "\"\"\".split())\n",
    "\n",
    "# 명사, 필터링\n",
    "nouns = [word for word, pos in morphs if pos.startswith('N') and word not in stopwords]\n",
    "print(\"명사 예시 10개 : \",nouns[:10])\n",
    "\n",
    "\n",
    "# 빈도수 계산\n",
    "noun_counts = Counter(nouns)\n",
    "print(noun_counts)\n"
   ]
  },
  {
   "cell_type": "code",
   "execution_count": 44,
   "metadata": {
    "colab": {
     "base_uri": "https://localhost:8080/"
    },
    "executionInfo": {
     "elapsed": 321,
     "status": "ok",
     "timestamp": 1726300261312,
     "user": {
      "displayName": "이지현",
      "userId": "09607579662476074282"
     },
     "user_tz": -540
    },
    "id": "ddXevAJJgvhY",
    "outputId": "645f7288-9c38-48f2-ddbe-440afea08611"
   },
   "outputs": [
    {
     "name": "stdout",
     "output_type": "stream",
     "text": [
      "가장 많이 나온 명사:\n",
      "법률: 120\n",
      "대통령: 84\n",
      "국가: 73\n",
      "헌법: 69\n",
      "국민: 69\n",
      "국회: 56\n",
      "회의: 41\n",
      "위원: 32\n",
      "필요: 31\n",
      "기타: 26\n"
     ]
    }
   ],
   "source": [
    "\n",
    "# 상위 10개 출력\n",
    "print(\"가장 많이 나온 명사:\")\n",
    "top_nouns = noun_counts.most_common(10)\n",
    "for word, freq in top_nouns:\n",
    "    print(f\"{word}: {freq}\")\n"
   ]
  },
  {
   "cell_type": "code",
   "execution_count": 45,
   "metadata": {
    "executionInfo": {
     "elapsed": 327,
     "status": "ok",
     "timestamp": 1726300264219,
     "user": {
      "displayName": "이지현",
      "userId": "09607579662476074282"
     },
     "user_tz": -540
    },
    "id": "1TkofdjRYPLY"
   },
   "outputs": [],
   "source": [
    "from konlpy.tag import Kkma\n",
    "from collections import Counter\n",
    "import matplotlib.pyplot as plt\n",
    "import re\n",
    "\n",
    "\n",
    "\n",
    "# 그래프 그리기\n",
    "def plot_top_words(word_counts, title):\n",
    "    words, counts = zip(*word_counts)\n",
    "    plt.figure(figsize=(3, 2))\n",
    "    plt.bar(words, counts)\n",
    "    plt.title(title)\n",
    "    plt.xlabel('Words')\n",
    "    plt.ylabel('Counts')\n",
    "    plt.xticks(rotation=45)\n",
    "    plt.show()"
   ]
  },
  {
   "cell_type": "code",
   "execution_count": 46,
   "metadata": {
    "colab": {
     "base_uri": "https://localhost:8080/",
     "height": 295
    },
    "executionInfo": {
     "elapsed": 845,
     "status": "ok",
     "timestamp": 1726300266160,
     "user": {
      "displayName": "이지현",
      "userId": "09607579662476074282"
     },
     "user_tz": -540
    },
    "id": "YgFryXSUYaFE",
    "outputId": "72b83395-63eb-49cb-a4b0-2f4c8401e169"
   },
   "outputs": [
    {
     "name": "stdout",
     "output_type": "stream",
     "text": [
      "가장 많이 나온 명사:\n"
     ]
    },
    {
     "data": {
      "image/png": "[encoded data removed]",
      "text/plain": [
       "<Figure size 300x200 with 1 Axes>"
      ]
     },
     "metadata": {},
     "output_type": "display_data"
    }
   ],
   "source": [
    "print(\"가장 많이 나온 명사:\")\n",
    "plot_top_words(top_nouns, 'Top 10 Nouns')\n"
   ]
  },
  {
   "cell_type": "markdown",
   "metadata": {
    "id": "H4AD8wMRd-34"
   },
   "source": [
    "## NLTK :Sent tokenizer와 Pos tagging"
   ]
  },
  {
   "cell_type": "code",
   "execution_count": 19,
   "metadata": {
    "colab": {
     "base_uri": "https://localhost:8080/"
    },
    "executionInfo": {
     "elapsed": 3653,
     "status": "ok",
     "timestamp": 1726300273308,
     "user": {
      "displayName": "이지현",
      "userId": "09607579662476074282"
     },
     "user_tz": -540
    },
    "id": "xsgc7SKLd-36",
    "outputId": "70a32e9e-26fe-4cd0-9a3b-dcbcea51b4ca"
   },
   "outputs": [
    {
     "name": "stdout",
     "output_type": "stream",
     "text": [
      "Requirement already satisfied: nltk in /home/piai/anaconda3/lib/python3.10/site-packages (3.9.1)\r\n",
      "Requirement already satisfied: click in /home/piai/anaconda3/lib/python3.10/site-packages (from nltk) (8.1.7)\r\n",
      "Requirement already satisfied: joblib in /home/piai/anaconda3/lib/python3.10/site-packages (from nltk) (1.4.2)\r\n",
      "Requirement already satisfied: regex>=2021.8.3 in /home/piai/anaconda3/lib/python3.10/site-packages (from nltk) (2024.7.24)\r\n",
      "Requirement already satisfied: tqdm in /home/piai/anaconda3/lib/python3.10/site-packages (from nltk) (4.66.4)\r\n"
     ]
    }
   ],
   "source": [
    "!pip install nltk"
   ]
  },
  {
   "cell_type": "code",
   "execution_count": 25,
   "metadata": {
    "colab": {
     "base_uri": "https://localhost:8080/"
    },
    "executionInfo": {
     "elapsed": 6554,
     "status": "ok",
     "timestamp": 1726300282316,
     "user": {
      "displayName": "이지현",
      "userId": "09607579662476074282"
     },
     "user_tz": -540
    },
    "id": "aBdeO5LXd-37",
    "outputId": "748580f9-1744-4d35-be32-1fba2ab77053",
    "scrolled": true
   },
   "outputs": [
    {
     "name": "stdout",
     "output_type": "stream",
     "text": [
      "[Emma by Jane Austen 1816]\n",
      "\n",
      "VOLUME I\n",
      "\n",
      "CHAPTER I\n",
      "\n",
      "\n",
      "Emma Woodhouse, handsome, clever, and rich, with a comfortable home\n",
      "and happy disposition, seemed to unite some of the best blessings\n",
      "of existence; and had lived nearly twenty-one years in the world\n",
      "with very little to distress or vex her.\n",
      "\n",
      "She was the youngest of the two daughters of a most affectionate,\n",
      "indulgent father; and had, in consequence of her sister's marriage,\n",
      "been mistress of his house from a very early period.  Her mother\n",
      "had died too long ago for her to have more than an indistinct\n",
      "remembrance of her caresses; and her place had been supplied\n",
      "by an excellent woman as governess, who had fallen little short\n",
      "of a mother in affection.\n",
      "\n",
      "Sixteen years had Miss Taylor been in Mr. Woodhouse's family,\n",
      "less as a governess than a friend, very fond of both daughters,\n",
      "but particularly of Emma.  Between _them_ it was more the intimacy\n",
      "of sisters.  Even before Miss Taylor had ceased to hold the nominal\n",
      "office of governess, the mildness o\n"
     ]
    },
    {
     "name": "stderr",
     "output_type": "stream",
     "text": [
      "[nltk_data] Downloading package gutenberg to /home/piai/nltk_data...\n",
      "[nltk_data]   Package gutenberg is already up-to-date!\n",
      "[nltk_data] Downloading package averaged_perceptron_tagger to\n",
      "[nltk_data]     /home/piai/nltk_data...\n",
      "[nltk_data]   Package averaged_perceptron_tagger is already up-to-\n",
      "[nltk_data]       date!\n",
      "[nltk_data] Downloading package punkt to /home/piai/nltk_data...\n",
      "[nltk_data]   Package punkt is already up-to-date!\n"
     ]
    }
   ],
   "source": [
    "import nltk\n",
    "from nltk.corpus import gutenberg\n",
    "from collections import Counter\n",
    "import matplotlib.pyplot as plt\n",
    "\n",
    "# 필요한 NLTK 데이터 다운로드\n",
    "nltk.download('gutenberg') # 책 데이터셋\n",
    "nltk.download('averaged_perceptron_tagger') # pos tagger\n",
    "nltk.download('punkt') # 특수문자 기호 들어있는 ,, 데이터셋\n",
    "\n",
    "# 예시로 사용할 텍스트\n",
    "corpus = gutenberg.raw('austen-emma.txt')\n",
    "print(corpus[:1000])\n",
    "\n"
   ]
  },
  {
   "cell_type": "code",
   "execution_count": 30,
   "metadata": {
    "executionInfo": {
     "elapsed": 1035,
     "status": "ok",
     "timestamp": 1726300283349,
     "user": {
      "displayName": "이지현",
      "userId": "09607579662476074282"
     },
     "user_tz": -540
    },
    "id": "1KjLiNVlg8hd"
   },
   "outputs": [
    {
     "ename": "LookupError",
     "evalue": "\n**********************************************************************\n  Resource \u001b[93mpunkt_tab\u001b[0m not found.\n  Please use the NLTK Downloader to obtain the resource:\n\n  \u001b[31m>>> import nltk\n  >>> nltk.download('punkt_tab')\n  \u001b[0m\n  For more information see: https://www.nltk.org/data.html\n\n  Attempted to load \u001b[93mtokenizers/punkt_tab/english/\u001b[0m\n\n  Searched in:\n    - '/home/piai/nltk_data'\n    - '/home/piai/anaconda3/nltk_data'\n    - '/home/piai/anaconda3/share/nltk_data'\n    - '/home/piai/anaconda3/lib/nltk_data'\n    - '/usr/share/nltk_data'\n    - '/usr/local/share/nltk_data'\n    - '/usr/lib/nltk_data'\n    - '/usr/local/lib/nltk_data'\n    - '/home/piai/nltk_data'\n    - '/home/piai/nltk_data'\n**********************************************************************\n",
     "output_type": "error",
     "traceback": [
      "\u001b[0;31m---------------------------------------------------------------------------\u001b[0m",
      "\u001b[0;31mLookupError\u001b[0m                               Traceback (most recent call last)",
      "Cell \u001b[0;32mIn[30], line 2\u001b[0m\n\u001b[1;32m      1\u001b[0m \u001b[38;5;66;03m# 문장 토큰화\u001b[39;00m\n\u001b[0;32m----> 2\u001b[0m sentences \u001b[38;5;241m=\u001b[39m \u001b[43mnltk\u001b[49m\u001b[38;5;241;43m.\u001b[39;49m\u001b[43msent_tokenize\u001b[49m\u001b[43m(\u001b[49m\u001b[43mcorpus\u001b[49m\u001b[43m)\u001b[49m\n",
      "File \u001b[0;32m~/anaconda3/lib/python3.10/site-packages/nltk/tokenize/__init__.py:119\u001b[0m, in \u001b[0;36msent_tokenize\u001b[0;34m(text, language)\u001b[0m\n\u001b[1;32m    109\u001b[0m \u001b[38;5;28;01mdef\u001b[39;00m \u001b[38;5;21msent_tokenize\u001b[39m(text, language\u001b[38;5;241m=\u001b[39m\u001b[38;5;124m\"\u001b[39m\u001b[38;5;124menglish\u001b[39m\u001b[38;5;124m\"\u001b[39m):\n\u001b[1;32m    110\u001b[0m \u001b[38;5;250m    \u001b[39m\u001b[38;5;124;03m\"\"\"\u001b[39;00m\n\u001b[1;32m    111\u001b[0m \u001b[38;5;124;03m    Return a sentence-tokenized copy of *text*,\u001b[39;00m\n\u001b[1;32m    112\u001b[0m \u001b[38;5;124;03m    using NLTK's recommended sentence tokenizer\u001b[39;00m\n\u001b[0;32m   (...)\u001b[0m\n\u001b[1;32m    117\u001b[0m \u001b[38;5;124;03m    :param language: the model name in the Punkt corpus\u001b[39;00m\n\u001b[1;32m    118\u001b[0m \u001b[38;5;124;03m    \"\"\"\u001b[39;00m\n\u001b[0;32m--> 119\u001b[0m     tokenizer \u001b[38;5;241m=\u001b[39m \u001b[43m_get_punkt_tokenizer\u001b[49m\u001b[43m(\u001b[49m\u001b[43mlanguage\u001b[49m\u001b[43m)\u001b[49m\n\u001b[1;32m    120\u001b[0m     \u001b[38;5;28;01mreturn\u001b[39;00m tokenizer\u001b[38;5;241m.\u001b[39mtokenize(text)\n",
      "File \u001b[0;32m~/anaconda3/lib/python3.10/site-packages/nltk/tokenize/__init__.py:105\u001b[0m, in \u001b[0;36m_get_punkt_tokenizer\u001b[0;34m(language)\u001b[0m\n\u001b[1;32m     96\u001b[0m \u001b[38;5;129m@functools\u001b[39m\u001b[38;5;241m.\u001b[39mlru_cache\n\u001b[1;32m     97\u001b[0m \u001b[38;5;28;01mdef\u001b[39;00m \u001b[38;5;21m_get_punkt_tokenizer\u001b[39m(language\u001b[38;5;241m=\u001b[39m\u001b[38;5;124m\"\u001b[39m\u001b[38;5;124menglish\u001b[39m\u001b[38;5;124m\"\u001b[39m):\n\u001b[1;32m     98\u001b[0m \u001b[38;5;250m    \u001b[39m\u001b[38;5;124;03m\"\"\"\u001b[39;00m\n\u001b[1;32m     99\u001b[0m \u001b[38;5;124;03m    A constructor for the PunktTokenizer that utilizes\u001b[39;00m\n\u001b[1;32m    100\u001b[0m \u001b[38;5;124;03m    a lru cache for performance.\u001b[39;00m\n\u001b[0;32m   (...)\u001b[0m\n\u001b[1;32m    103\u001b[0m \u001b[38;5;124;03m    :type language: str\u001b[39;00m\n\u001b[1;32m    104\u001b[0m \u001b[38;5;124;03m    \"\"\"\u001b[39;00m\n\u001b[0;32m--> 105\u001b[0m     \u001b[38;5;28;01mreturn\u001b[39;00m \u001b[43mPunktTokenizer\u001b[49m\u001b[43m(\u001b[49m\u001b[43mlanguage\u001b[49m\u001b[43m)\u001b[49m\n",
      "File \u001b[0;32m~/anaconda3/lib/python3.10/site-packages/nltk/tokenize/punkt.py:1744\u001b[0m, in \u001b[0;36mPunktTokenizer.__init__\u001b[0;34m(self, lang)\u001b[0m\n\u001b[1;32m   1742\u001b[0m \u001b[38;5;28;01mdef\u001b[39;00m \u001b[38;5;21m__init__\u001b[39m(\u001b[38;5;28mself\u001b[39m, lang\u001b[38;5;241m=\u001b[39m\u001b[38;5;124m\"\u001b[39m\u001b[38;5;124menglish\u001b[39m\u001b[38;5;124m\"\u001b[39m):\n\u001b[1;32m   1743\u001b[0m     PunktSentenceTokenizer\u001b[38;5;241m.\u001b[39m\u001b[38;5;21m__init__\u001b[39m(\u001b[38;5;28mself\u001b[39m)\n\u001b[0;32m-> 1744\u001b[0m     \u001b[38;5;28;43mself\u001b[39;49m\u001b[38;5;241;43m.\u001b[39;49m\u001b[43mload_lang\u001b[49m\u001b[43m(\u001b[49m\u001b[43mlang\u001b[49m\u001b[43m)\u001b[49m\n",
      "File \u001b[0;32m~/anaconda3/lib/python3.10/site-packages/nltk/tokenize/punkt.py:1749\u001b[0m, in \u001b[0;36mPunktTokenizer.load_lang\u001b[0;34m(self, lang)\u001b[0m\n\u001b[1;32m   1746\u001b[0m \u001b[38;5;28;01mdef\u001b[39;00m \u001b[38;5;21mload_lang\u001b[39m(\u001b[38;5;28mself\u001b[39m, lang\u001b[38;5;241m=\u001b[39m\u001b[38;5;124m\"\u001b[39m\u001b[38;5;124menglish\u001b[39m\u001b[38;5;124m\"\u001b[39m):\n\u001b[1;32m   1747\u001b[0m     \u001b[38;5;28;01mfrom\u001b[39;00m \u001b[38;5;21;01mnltk\u001b[39;00m\u001b[38;5;21;01m.\u001b[39;00m\u001b[38;5;21;01mdata\u001b[39;00m \u001b[38;5;28;01mimport\u001b[39;00m find\n\u001b[0;32m-> 1749\u001b[0m     lang_dir \u001b[38;5;241m=\u001b[39m \u001b[43mfind\u001b[49m\u001b[43m(\u001b[49m\u001b[38;5;124;43mf\u001b[39;49m\u001b[38;5;124;43m\"\u001b[39;49m\u001b[38;5;124;43mtokenizers/punkt_tab/\u001b[39;49m\u001b[38;5;132;43;01m{\u001b[39;49;00m\u001b[43mlang\u001b[49m\u001b[38;5;132;43;01m}\u001b[39;49;00m\u001b[38;5;124;43m/\u001b[39;49m\u001b[38;5;124;43m\"\u001b[39;49m\u001b[43m)\u001b[49m\n\u001b[1;32m   1750\u001b[0m     \u001b[38;5;28mself\u001b[39m\u001b[38;5;241m.\u001b[39m_params \u001b[38;5;241m=\u001b[39m load_punkt_params(lang_dir)\n\u001b[1;32m   1751\u001b[0m     \u001b[38;5;28mself\u001b[39m\u001b[38;5;241m.\u001b[39m_lang \u001b[38;5;241m=\u001b[39m lang\n",
      "File \u001b[0;32m~/anaconda3/lib/python3.10/site-packages/nltk/data.py:579\u001b[0m, in \u001b[0;36mfind\u001b[0;34m(resource_name, paths)\u001b[0m\n\u001b[1;32m    577\u001b[0m sep \u001b[38;5;241m=\u001b[39m \u001b[38;5;124m\"\u001b[39m\u001b[38;5;124m*\u001b[39m\u001b[38;5;124m\"\u001b[39m \u001b[38;5;241m*\u001b[39m \u001b[38;5;241m70\u001b[39m\n\u001b[1;32m    578\u001b[0m resource_not_found \u001b[38;5;241m=\u001b[39m \u001b[38;5;124mf\u001b[39m\u001b[38;5;124m\"\u001b[39m\u001b[38;5;130;01m\\n\u001b[39;00m\u001b[38;5;132;01m{\u001b[39;00msep\u001b[38;5;132;01m}\u001b[39;00m\u001b[38;5;130;01m\\n\u001b[39;00m\u001b[38;5;132;01m{\u001b[39;00mmsg\u001b[38;5;132;01m}\u001b[39;00m\u001b[38;5;130;01m\\n\u001b[39;00m\u001b[38;5;132;01m{\u001b[39;00msep\u001b[38;5;132;01m}\u001b[39;00m\u001b[38;5;130;01m\\n\u001b[39;00m\u001b[38;5;124m\"\u001b[39m\n\u001b[0;32m--> 579\u001b[0m \u001b[38;5;28;01mraise\u001b[39;00m \u001b[38;5;167;01mLookupError\u001b[39;00m(resource_not_found)\n",
      "\u001b[0;31mLookupError\u001b[0m: \n**********************************************************************\n  Resource \u001b[93mpunkt_tab\u001b[0m not found.\n  Please use the NLTK Downloader to obtain the resource:\n\n  \u001b[31m>>> import nltk\n  >>> nltk.download('punkt_tab')\n  \u001b[0m\n  For more information see: https://www.nltk.org/data.html\n\n  Attempted to load \u001b[93mtokenizers/punkt_tab/english/\u001b[0m\n\n  Searched in:\n    - '/home/piai/nltk_data'\n    - '/home/piai/anaconda3/nltk_data'\n    - '/home/piai/anaconda3/share/nltk_data'\n    - '/home/piai/anaconda3/lib/nltk_data'\n    - '/usr/share/nltk_data'\n    - '/usr/local/share/nltk_data'\n    - '/usr/lib/nltk_data'\n    - '/usr/local/lib/nltk_data'\n    - '/home/piai/nltk_data'\n    - '/home/piai/nltk_data'\n**********************************************************************\n"
     ]
    }
   ],
   "source": [
    "\n",
    "# 문장 토큰화\n",
    "sentences = nltk.sent_tokenize(corpus)"
   ]
  },
  {
   "cell_type": "code",
   "execution_count": null,
   "metadata": {
    "colab": {
     "base_uri": "https://localhost:8080/"
    },
    "executionInfo": {
     "elapsed": 4,
     "status": "ok",
     "timestamp": 1726300283350,
     "user": {
      "displayName": "이지현",
      "userId": "09607579662476074282"
     },
     "user_tz": -540
    },
    "id": "F3BWlKHhc_0Q",
    "outputId": "c867529c-856d-4281-8cac-aa25725a17f5"
   },
   "outputs": [],
   "source": [
    "print(\"corpus : \", corpus[3])\n",
    "print(\"sentence : \",sentences[3].replace(\"\\n\", \" \"))"
   ]
  },
  {
   "cell_type": "code",
   "execution_count": null,
   "metadata": {
    "executionInfo": {
     "elapsed": 19244,
     "status": "ok",
     "timestamp": 1726300309435,
     "user": {
      "displayName": "이지현",
      "userId": "09607579662476074282"
     },
     "user_tz": -540
    },
    "id": "-4EF3_sDc3VJ"
   },
   "outputs": [],
   "source": [
    "\n",
    "# 형태소 분석 및 품사 태깅\n",
    "all_nouns = []\n",
    "\n",
    "for sentence in sentences:\n",
    "    words = nltk.word_tokenize(sentence) # 단어 단위 분리\n",
    "    pos_tags = nltk.pos_tag(words) # 형태소 태깅\n",
    "\n",
    "    nouns = [word for word, pos in pos_tags if pos.startswith('NN')]\n",
    "    all_nouns.extend(nouns)\n"
   ]
  },
  {
   "cell_type": "code",
   "execution_count": null,
   "metadata": {
    "colab": {
     "base_uri": "https://localhost:8080/"
    },
    "executionInfo": {
     "elapsed": 9,
     "status": "ok",
     "timestamp": 1726300309435,
     "user": {
      "displayName": "이지현",
      "userId": "09607579662476074282"
     },
     "user_tz": -540
    },
    "id": "ed5JpVstdZkS",
    "outputId": "bb4ae44a-a1ae-46fd-c7af-3f748717e13b"
   },
   "outputs": [],
   "source": [
    "words = nltk.word_tokenize(sentences[0])\n",
    "print(\"Words : \", words)\n",
    "print(\"Pos tag : \",nltk.pos_tag(words))"
   ]
  },
  {
   "cell_type": "code",
   "execution_count": null,
   "metadata": {
    "colab": {
     "base_uri": "https://localhost:8080/",
     "height": 323
    },
    "executionInfo": {
     "elapsed": 376,
     "status": "ok",
     "timestamp": 1726300319902,
     "user": {
      "displayName": "이지현",
      "userId": "09607579662476074282"
     },
     "user_tz": -540
    },
    "id": "lwH4yt1wdX0n",
    "outputId": "8a18b8d3-c1c5-4226-b776-c7dd01c483c2"
   },
   "outputs": [],
   "source": [
    "# 빈도수 계산\n",
    "noun_counts = Counter(all_nouns)\n",
    "\n",
    "\n",
    "# 상위 10개 추출\n",
    "top_nouns = noun_counts.most_common(10)\n",
    "\n",
    "\n",
    "# 그래프 그리기\n",
    "def plot_top_words(word_counts, title, color):\n",
    "    words, counts = zip(*word_counts)\n",
    "    plt.figure(figsize=(3, 2))\n",
    "    plt.bar(words, counts, color=color)\n",
    "    plt.title(title)\n",
    "    plt.xlabel('Words')\n",
    "    plt.ylabel('Counts')\n",
    "    plt.xticks(rotation=45)\n",
    "    plt.show()\n",
    "\n",
    "print(\"Most common nouns:\")\n",
    "plot_top_words(top_nouns, 'Top 10 Nouns',  '#ff7f0e')\n"
   ]
  },
  {
   "cell_type": "markdown",
   "metadata": {
    "id": "2TW7WmFid-4B"
   },
   "source": [
    "### 한국어 sent tokenizer 적용\n"
   ]
  },
  {
   "cell_type": "code",
   "execution_count": null,
   "metadata": {
    "executionInfo": {
     "elapsed": 339,
     "status": "ok",
     "timestamp": 1726300323417,
     "user": {
      "displayName": "이지현",
      "userId": "09607579662476074282"
     },
     "user_tz": -540
    },
    "id": "LtmC8JmjwGlx"
   },
   "outputs": [],
   "source": [
    "sent_law =  nltk.sent_tokenize(law)"
   ]
  },
  {
   "cell_type": "code",
   "execution_count": null,
   "metadata": {
    "colab": {
     "base_uri": "https://localhost:8080/",
     "height": 35
    },
    "executionInfo": {
     "elapsed": 4,
     "status": "ok",
     "timestamp": 1726300323745,
     "user": {
      "displayName": "이지현",
      "userId": "09607579662476074282"
     },
     "user_tz": -540
    },
    "id": "da-93XnApkuy",
    "outputId": "f2d08f7c-9e61-404f-cb15-bc0d71c67fed"
   },
   "outputs": [],
   "source": [
    "sent_law[30]"
   ]
  }
 ],
 "metadata": {
  "colab": {
   "provenance": []
  },
  "kernelspec": {
   "display_name": "Python [conda env:base] *",
   "language": "python",
   "name": "conda-base-py"
  },
  "language_info": {
   "codemirror_mode": {
    "name": "ipython",
    "version": 3
   },
   "file_extension": ".py",
   "mimetype": "text/x-python",
   "name": "python",
   "nbconvert_exporter": "python",
   "pygments_lexer": "ipython3",
   "version": "3.10.9"
  }
 },
 "nbformat": 4,
 "nbformat_minor": 1
}
