{
 "cells": [
  {
   "cell_type": "code",
   "execution_count": 10,
   "id": "256f8b02",
   "metadata": {},
   "outputs": [],
   "source": [
    "# p126 시작\n",
    "import pandas as pd # 데이터 구성 패키지 : Series, DataFrame\n",
    "import numpy as np # 행렬 연산 패키지\n",
    "from sklearn.preprocessing import StandardScaler, MinMaxScaler, RobustScaler # Scaling 클래스\n",
    "import matplotlib # 그래프 표시\n",
    "\n",
    "import seaborn as sns # 데이터 시각화(추세 등) 패키지\n",
    "\n",
    "%matplotlib inline"
   ]
  },
  {
   "cell_type": "code",
   "execution_count": null,
   "id": "90d2b597",
   "metadata": {},
   "outputs": [],
   "source": []
  },
  {
   "cell_type": "code",
   "execution_count": 2,
   "id": "cd3472bf",
   "metadata": {},
   "outputs": [
    {
     "data": {
      "text/plain": [
       "['NanumMyeongjo',\n",
       " 'NanumGothic',\n",
       " 'NanumBarunGothic',\n",
       " 'NanumGothic',\n",
       " 'NanumSquare',\n",
       " 'NanumSquareRound',\n",
       " 'NanumSquare',\n",
       " 'NanumBarunGothic',\n",
       " 'NanumSquareRound',\n",
       " 'NanumMyeongjo']"
      ]
     },
     "execution_count": 2,
     "metadata": {},
     "output_type": "execute_result"
    }
   ],
   "source": [
    "import matplotlib\n",
    "import matplotlib.font_manager\n",
    "\n",
    "[f.name for f in matplotlib.font_manager.fontManager.ttflist if 'Nanum' in\n",
    "f.name]\n",
    "# ['NanumBarunGothic',\n",
    "# 'NanumMyeongjo',\n",
    "# 'NanumMyeongjo',\n",
    "# 'NanumGothic',\n",
    "# 'NanumBarunGothic',\n",
    "# 'NanumGothic']"
   ]
  },
  {
   "cell_type": "code",
   "execution_count": 1,
   "id": "f5fa969e",
   "metadata": {},
   "outputs": [],
   "source": [
    "import warnings # 폰트체크 경고 무시\n",
    "warnings.filterwarnings('ignore')"
   ]
  },
  {
   "cell_type": "code",
   "execution_count": 3,
   "id": "c058209b",
   "metadata": {},
   "outputs": [],
   "source": [
    "import matplotlib as mpl\n",
    "import matplotlib.pyplot as plt\n",
    "# 유니코드 깨짐현상 해결\n",
    "mpl.rcParams['axes.unicode_minus'] = False\n",
    "# 나눔고딕 폰트 적용\n",
    "plt.rcParams[\"font.family\"] = 'NanumGothic'"
   ]
  },
  {
   "cell_type": "code",
   "execution_count": null,
   "id": "ce1cfedc",
   "metadata": {},
   "outputs": [],
   "source": []
  }
 ],
 "metadata": {
  "kernelspec": {
   "display_name": "Python [conda env:base] *",
   "language": "python",
   "name": "conda-base-py"
  },
  "language_info": {
   "codemirror_mode": {
    "name": "ipython",
    "version": 3
   },
   "file_extension": ".py",
   "mimetype": "text/x-python",
   "name": "python",
   "nbconvert_exporter": "python",
   "pygments_lexer": "ipython3",
   "version": "3.10.9"
  }
 },
 "nbformat": 4,
 "nbformat_minor": 5
}
