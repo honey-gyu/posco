{
 "cells": [
  {
   "cell_type": "code",
   "execution_count": 1,
   "id": "396567a7",
   "metadata": {},
   "outputs": [],
   "source": [
    "import pandas as pd # 데이터 구성 패키지 : Series, DataFrame\n",
    "import numpy as np # 행렬 연산 패키지\n",
    "import matplotlib # 데이터 시각화 패키지\n",
    "import matplotlib.pyplot as plt\n",
    "\n",
    "from scipy import stats # 통계 분석 패키지\n",
    "from statsmodels.stats.proportion import proportions_ztest\n",
    "\n",
    "%matplotlib inline \n",
    "# 그래프 표시"
   ]
  },
  {
   "cell_type": "code",
   "execution_count": 2,
   "id": "4a2aa794",
   "metadata": {},
   "outputs": [
    {
     "data": {
      "text/html": [
       "<div>\n",
       "<style scoped>\n",
       "    .dataframe tbody tr th:only-of-type {\n",
       "        vertical-align: middle;\n",
       "    }\n",
       "\n",
       "    .dataframe tbody tr th {\n",
       "        vertical-align: top;\n",
       "    }\n",
       "\n",
       "    .dataframe thead th {\n",
       "        text-align: right;\n",
       "    }\n",
       "</style>\n",
       "<table border=\"1\" class=\"dataframe\">\n",
       "  <thead>\n",
       "    <tr style=\"text-align: right;\">\n",
       "      <th></th>\n",
       "      <th>manufacturer</th>\n",
       "      <th>model</th>\n",
       "      <th>displacement</th>\n",
       "      <th>year</th>\n",
       "      <th>cylinder</th>\n",
       "      <th>automatic</th>\n",
       "      <th>driving</th>\n",
       "      <th>mpg</th>\n",
       "      <th>highway_mileage</th>\n",
       "      <th>fuel</th>\n",
       "      <th>class</th>\n",
       "    </tr>\n",
       "  </thead>\n",
       "  <tbody>\n",
       "    <tr>\n",
       "      <th>0</th>\n",
       "      <td>audi</td>\n",
       "      <td>a4</td>\n",
       "      <td>1.8</td>\n",
       "      <td>1999</td>\n",
       "      <td>4</td>\n",
       "      <td>auto</td>\n",
       "      <td>f</td>\n",
       "      <td>18</td>\n",
       "      <td>29</td>\n",
       "      <td>p</td>\n",
       "      <td>compact</td>\n",
       "    </tr>\n",
       "    <tr>\n",
       "      <th>1</th>\n",
       "      <td>audi</td>\n",
       "      <td>a4</td>\n",
       "      <td>1.8</td>\n",
       "      <td>1999</td>\n",
       "      <td>4</td>\n",
       "      <td>manual</td>\n",
       "      <td>f</td>\n",
       "      <td>21</td>\n",
       "      <td>29</td>\n",
       "      <td>p</td>\n",
       "      <td>compact</td>\n",
       "    </tr>\n",
       "    <tr>\n",
       "      <th>2</th>\n",
       "      <td>audi</td>\n",
       "      <td>a4</td>\n",
       "      <td>2.0</td>\n",
       "      <td>2008</td>\n",
       "      <td>4</td>\n",
       "      <td>manual</td>\n",
       "      <td>f</td>\n",
       "      <td>20</td>\n",
       "      <td>31</td>\n",
       "      <td>p</td>\n",
       "      <td>compact</td>\n",
       "    </tr>\n",
       "    <tr>\n",
       "      <th>3</th>\n",
       "      <td>audi</td>\n",
       "      <td>a4</td>\n",
       "      <td>2.0</td>\n",
       "      <td>2008</td>\n",
       "      <td>4</td>\n",
       "      <td>auto</td>\n",
       "      <td>f</td>\n",
       "      <td>21</td>\n",
       "      <td>30</td>\n",
       "      <td>p</td>\n",
       "      <td>compact</td>\n",
       "    </tr>\n",
       "    <tr>\n",
       "      <th>4</th>\n",
       "      <td>audi</td>\n",
       "      <td>a4</td>\n",
       "      <td>2.8</td>\n",
       "      <td>1999</td>\n",
       "      <td>6</td>\n",
       "      <td>auto</td>\n",
       "      <td>f</td>\n",
       "      <td>16</td>\n",
       "      <td>26</td>\n",
       "      <td>p</td>\n",
       "      <td>compact</td>\n",
       "    </tr>\n",
       "  </tbody>\n",
       "</table>\n",
       "</div>"
      ],
      "text/plain": [
       "  manufacturer model  displacement  year  cylinder automatic driving  mpg  \\\n",
       "0         audi    a4           1.8  1999         4      auto       f   18   \n",
       "1         audi    a4           1.8  1999         4    manual       f   21   \n",
       "2         audi    a4           2.0  2008         4    manual       f   20   \n",
       "3         audi    a4           2.0  2008         4      auto       f   21   \n",
       "4         audi    a4           2.8  1999         6      auto       f   16   \n",
       "\n",
       "   highway_mileage fuel    class  \n",
       "0               29    p  compact  \n",
       "1               29    p  compact  \n",
       "2               31    p  compact  \n",
       "3               30    p  compact  \n",
       "4               26    p  compact  "
      ]
     },
     "execution_count": 2,
     "metadata": {},
     "output_type": "execute_result"
    }
   ],
   "source": [
    "# p217 실습\n",
    "# 자동차 연비 Data Set에서 기술통계치 구하기\n",
    "# - 시내에서 연비(mpg) 통계치 : 구동 방식별 데이터 수, 평균, 중앙값, 표준편차, min, max, Q1, Q3\n",
    "# - 고속도로에서 연비(mpg) 통계치 : 구동 방식별 데이터 수, 평균, 중앙값, 표준편차, min, max, Q1, Q3\n",
    "# data.set : mycars.csv\n",
    "mycars = pd.read_csv(\"/home/piai/다운로드/2주차 실습파일/1 Big Data 분석 기초/mycars.csv\")\n",
    "# mycars 데이터 가져오기\n",
    "mycars.head()"
   ]
  },
  {
   "cell_type": "code",
   "execution_count": 3,
   "id": "5ce0b25f",
   "metadata": {},
   "outputs": [
    {
     "data": {
      "text/html": [
       "<div>\n",
       "<style scoped>\n",
       "    .dataframe tbody tr th:only-of-type {\n",
       "        vertical-align: middle;\n",
       "    }\n",
       "\n",
       "    .dataframe tbody tr th {\n",
       "        vertical-align: top;\n",
       "    }\n",
       "\n",
       "    .dataframe thead th {\n",
       "        text-align: right;\n",
       "    }\n",
       "</style>\n",
       "<table border=\"1\" class=\"dataframe\">\n",
       "  <thead>\n",
       "    <tr style=\"text-align: right;\">\n",
       "      <th></th>\n",
       "      <th>displacement</th>\n",
       "      <th>year</th>\n",
       "      <th>cylinder</th>\n",
       "      <th>mpg</th>\n",
       "      <th>highway_mileage</th>\n",
       "    </tr>\n",
       "  </thead>\n",
       "  <tbody>\n",
       "    <tr>\n",
       "      <th>count</th>\n",
       "      <td>234.0</td>\n",
       "      <td>234.0</td>\n",
       "      <td>234.0</td>\n",
       "      <td>234.0</td>\n",
       "      <td>234.0</td>\n",
       "    </tr>\n",
       "    <tr>\n",
       "      <th>mean</th>\n",
       "      <td>3.5</td>\n",
       "      <td>2003.5</td>\n",
       "      <td>5.9</td>\n",
       "      <td>16.9</td>\n",
       "      <td>23.4</td>\n",
       "    </tr>\n",
       "    <tr>\n",
       "      <th>std</th>\n",
       "      <td>1.3</td>\n",
       "      <td>4.5</td>\n",
       "      <td>1.6</td>\n",
       "      <td>4.3</td>\n",
       "      <td>6.0</td>\n",
       "    </tr>\n",
       "    <tr>\n",
       "      <th>min</th>\n",
       "      <td>1.6</td>\n",
       "      <td>1999.0</td>\n",
       "      <td>4.0</td>\n",
       "      <td>9.0</td>\n",
       "      <td>12.0</td>\n",
       "    </tr>\n",
       "    <tr>\n",
       "      <th>25%</th>\n",
       "      <td>2.4</td>\n",
       "      <td>1999.0</td>\n",
       "      <td>4.0</td>\n",
       "      <td>14.0</td>\n",
       "      <td>18.0</td>\n",
       "    </tr>\n",
       "    <tr>\n",
       "      <th>50%</th>\n",
       "      <td>3.3</td>\n",
       "      <td>2003.5</td>\n",
       "      <td>6.0</td>\n",
       "      <td>17.0</td>\n",
       "      <td>24.0</td>\n",
       "    </tr>\n",
       "    <tr>\n",
       "      <th>75%</th>\n",
       "      <td>4.6</td>\n",
       "      <td>2008.0</td>\n",
       "      <td>8.0</td>\n",
       "      <td>19.0</td>\n",
       "      <td>27.0</td>\n",
       "    </tr>\n",
       "    <tr>\n",
       "      <th>max</th>\n",
       "      <td>7.0</td>\n",
       "      <td>2008.0</td>\n",
       "      <td>8.0</td>\n",
       "      <td>35.0</td>\n",
       "      <td>44.0</td>\n",
       "    </tr>\n",
       "  </tbody>\n",
       "</table>\n",
       "</div>"
      ],
      "text/plain": [
       "       displacement    year  cylinder    mpg  highway_mileage\n",
       "count         234.0   234.0     234.0  234.0            234.0\n",
       "mean            3.5  2003.5       5.9   16.9             23.4\n",
       "std             1.3     4.5       1.6    4.3              6.0\n",
       "min             1.6  1999.0       4.0    9.0             12.0\n",
       "25%             2.4  1999.0       4.0   14.0             18.0\n",
       "50%             3.3  2003.5       6.0   17.0             24.0\n",
       "75%             4.6  2008.0       8.0   19.0             27.0\n",
       "max             7.0  2008.0       8.0   35.0             44.0"
      ]
     },
     "execution_count": 3,
     "metadata": {},
     "output_type": "execute_result"
    }
   ],
   "source": [
    "mycars.describe().round(1)\n",
    "# 데이터를 요약하고 소수점 1자리수까지 표현"
   ]
  },
  {
   "cell_type": "code",
   "execution_count": 4,
   "id": "eb19f401",
   "metadata": {},
   "outputs": [
    {
     "data": {
      "text/html": [
       "<div>\n",
       "<style scoped>\n",
       "    .dataframe tbody tr th:only-of-type {\n",
       "        vertical-align: middle;\n",
       "    }\n",
       "\n",
       "    .dataframe tbody tr th {\n",
       "        vertical-align: top;\n",
       "    }\n",
       "\n",
       "    .dataframe thead th {\n",
       "        text-align: right;\n",
       "    }\n",
       "</style>\n",
       "<table border=\"1\" class=\"dataframe\">\n",
       "  <thead>\n",
       "    <tr style=\"text-align: right;\">\n",
       "      <th></th>\n",
       "      <th>automatic</th>\n",
       "      <th>mpg</th>\n",
       "    </tr>\n",
       "  </thead>\n",
       "  <tbody>\n",
       "    <tr>\n",
       "      <th>0</th>\n",
       "      <td>auto</td>\n",
       "      <td>18</td>\n",
       "    </tr>\n",
       "    <tr>\n",
       "      <th>1</th>\n",
       "      <td>manual</td>\n",
       "      <td>21</td>\n",
       "    </tr>\n",
       "    <tr>\n",
       "      <th>2</th>\n",
       "      <td>manual</td>\n",
       "      <td>20</td>\n",
       "    </tr>\n",
       "    <tr>\n",
       "      <th>3</th>\n",
       "      <td>auto</td>\n",
       "      <td>21</td>\n",
       "    </tr>\n",
       "    <tr>\n",
       "      <th>4</th>\n",
       "      <td>auto</td>\n",
       "      <td>16</td>\n",
       "    </tr>\n",
       "    <tr>\n",
       "      <th>...</th>\n",
       "      <td>...</td>\n",
       "      <td>...</td>\n",
       "    </tr>\n",
       "    <tr>\n",
       "      <th>229</th>\n",
       "      <td>auto</td>\n",
       "      <td>19</td>\n",
       "    </tr>\n",
       "    <tr>\n",
       "      <th>230</th>\n",
       "      <td>manual</td>\n",
       "      <td>21</td>\n",
       "    </tr>\n",
       "    <tr>\n",
       "      <th>231</th>\n",
       "      <td>auto</td>\n",
       "      <td>16</td>\n",
       "    </tr>\n",
       "    <tr>\n",
       "      <th>232</th>\n",
       "      <td>manual</td>\n",
       "      <td>18</td>\n",
       "    </tr>\n",
       "    <tr>\n",
       "      <th>233</th>\n",
       "      <td>auto</td>\n",
       "      <td>17</td>\n",
       "    </tr>\n",
       "  </tbody>\n",
       "</table>\n",
       "<p>234 rows × 2 columns</p>\n",
       "</div>"
      ],
      "text/plain": [
       "    automatic  mpg\n",
       "0        auto   18\n",
       "1      manual   21\n",
       "2      manual   20\n",
       "3        auto   21\n",
       "4        auto   16\n",
       "..        ...  ...\n",
       "229      auto   19\n",
       "230    manual   21\n",
       "231      auto   16\n",
       "232    manual   18\n",
       "233      auto   17\n",
       "\n",
       "[234 rows x 2 columns]"
      ]
     },
     "execution_count": 4,
     "metadata": {},
     "output_type": "execute_result"
    }
   ],
   "source": [
    "car_oil = mycars[['automatic', 'mpg']]\n",
    "car_oil\n",
    "# 자동차 구동별, mpg 데이터 subset해라."
   ]
  },
  {
   "cell_type": "code",
   "execution_count": 5,
   "id": "a5ab2f13",
   "metadata": {},
   "outputs": [
    {
     "data": {
      "text/html": [
       "<div>\n",
       "<style scoped>\n",
       "    .dataframe tbody tr th:only-of-type {\n",
       "        vertical-align: middle;\n",
       "    }\n",
       "\n",
       "    .dataframe tbody tr th {\n",
       "        vertical-align: top;\n",
       "    }\n",
       "\n",
       "    .dataframe thead tr th {\n",
       "        text-align: left;\n",
       "    }\n",
       "\n",
       "    .dataframe thead tr:last-of-type th {\n",
       "        text-align: right;\n",
       "    }\n",
       "</style>\n",
       "<table border=\"1\" class=\"dataframe\">\n",
       "  <thead>\n",
       "    <tr>\n",
       "      <th></th>\n",
       "      <th colspan=\"8\" halign=\"left\">mpg</th>\n",
       "    </tr>\n",
       "    <tr>\n",
       "      <th></th>\n",
       "      <th>count</th>\n",
       "      <th>mean</th>\n",
       "      <th>std</th>\n",
       "      <th>min</th>\n",
       "      <th>25%</th>\n",
       "      <th>50%</th>\n",
       "      <th>75%</th>\n",
       "      <th>max</th>\n",
       "    </tr>\n",
       "    <tr>\n",
       "      <th>automatic</th>\n",
       "      <th></th>\n",
       "      <th></th>\n",
       "      <th></th>\n",
       "      <th></th>\n",
       "      <th></th>\n",
       "      <th></th>\n",
       "      <th></th>\n",
       "      <th></th>\n",
       "    </tr>\n",
       "  </thead>\n",
       "  <tbody>\n",
       "    <tr>\n",
       "      <th>auto</th>\n",
       "      <td>157.0</td>\n",
       "      <td>15.968153</td>\n",
       "      <td>3.848777</td>\n",
       "      <td>9.0</td>\n",
       "      <td>13.0</td>\n",
       "      <td>16.0</td>\n",
       "      <td>18.0</td>\n",
       "      <td>29.0</td>\n",
       "    </tr>\n",
       "    <tr>\n",
       "      <th>manual</th>\n",
       "      <td>77.0</td>\n",
       "      <td>18.675325</td>\n",
       "      <td>4.488118</td>\n",
       "      <td>9.0</td>\n",
       "      <td>15.0</td>\n",
       "      <td>18.0</td>\n",
       "      <td>21.0</td>\n",
       "      <td>35.0</td>\n",
       "    </tr>\n",
       "  </tbody>\n",
       "</table>\n",
       "</div>"
      ],
      "text/plain": [
       "             mpg                                                  \n",
       "           count       mean       std  min   25%   50%   75%   max\n",
       "automatic                                                         \n",
       "auto       157.0  15.968153  3.848777  9.0  13.0  16.0  18.0  29.0\n",
       "manual      77.0  18.675325  4.488118  9.0  15.0  18.0  21.0  35.0"
      ]
     },
     "execution_count": 5,
     "metadata": {},
     "output_type": "execute_result"
    }
   ],
   "source": [
    "car_oil.groupby('automatic').describe()\n",
    "# 자동차 구동별 데이터 수 평균 표준편차\n",
    "# 데이터 수, 평균, 표준편차, min, Q1, Q3-Q1, Q3, max"
   ]
  },
  {
   "cell_type": "code",
   "execution_count": 70,
   "id": "c13c5224",
   "metadata": {},
   "outputs": [
    {
     "data": {
      "text/html": [
       "<div>\n",
       "<style scoped>\n",
       "    .dataframe tbody tr th:only-of-type {\n",
       "        vertical-align: middle;\n",
       "    }\n",
       "\n",
       "    .dataframe tbody tr th {\n",
       "        vertical-align: top;\n",
       "    }\n",
       "\n",
       "    .dataframe thead th {\n",
       "        text-align: right;\n",
       "    }\n",
       "</style>\n",
       "<table border=\"1\" class=\"dataframe\">\n",
       "  <thead>\n",
       "    <tr style=\"text-align: right;\">\n",
       "      <th></th>\n",
       "      <th>before</th>\n",
       "      <th>after</th>\n",
       "    </tr>\n",
       "  </thead>\n",
       "  <tbody>\n",
       "    <tr>\n",
       "      <th>0</th>\n",
       "      <td>68.7</td>\n",
       "      <td>73.4</td>\n",
       "    </tr>\n",
       "    <tr>\n",
       "      <th>1</th>\n",
       "      <td>71.4</td>\n",
       "      <td>77.0</td>\n",
       "    </tr>\n",
       "    <tr>\n",
       "      <th>2</th>\n",
       "      <td>69.8</td>\n",
       "      <td>73.7</td>\n",
       "    </tr>\n",
       "    <tr>\n",
       "      <th>3</th>\n",
       "      <td>75.3</td>\n",
       "      <td>73.3</td>\n",
       "    </tr>\n",
       "    <tr>\n",
       "      <th>4</th>\n",
       "      <td>71.3</td>\n",
       "      <td>73.1</td>\n",
       "    </tr>\n",
       "    <tr>\n",
       "      <th>5</th>\n",
       "      <td>72.7</td>\n",
       "      <td>74.5</td>\n",
       "    </tr>\n",
       "    <tr>\n",
       "      <th>6</th>\n",
       "      <td>66.9</td>\n",
       "      <td>77.5</td>\n",
       "    </tr>\n",
       "    <tr>\n",
       "      <th>7</th>\n",
       "      <td>70.2</td>\n",
       "      <td>76.4</td>\n",
       "    </tr>\n",
       "    <tr>\n",
       "      <th>8</th>\n",
       "      <td>74.4</td>\n",
       "      <td>75.7</td>\n",
       "    </tr>\n",
       "    <tr>\n",
       "      <th>9</th>\n",
       "      <td>70.1</td>\n",
       "      <td>77.1</td>\n",
       "    </tr>\n",
       "  </tbody>\n",
       "</table>\n",
       "</div>"
      ],
      "text/plain": [
       "   before  after\n",
       "0    68.7   73.4\n",
       "1    71.4   77.0\n",
       "2    69.8   73.7\n",
       "3    75.3   73.3\n",
       "4    71.3   73.1\n",
       "5    72.7   74.5\n",
       "6    66.9   77.5\n",
       "7    70.2   76.4\n",
       "8    74.4   75.7\n",
       "9    70.1   77.1"
      ]
     },
     "execution_count": 70,
     "metadata": {},
     "output_type": "execute_result"
    }
   ],
   "source": [
    "df = pd.DataFrame({'before' : [68.7, 71.4, 69.8, 75.3, 71.3, 72.7, 66.9, 70.2, 74.4, 70.1], 'after' : [73.4, 77.0, 73.7, 73.3, 73.1, 74.5, 77.5, 76.4, 75.7, 77.1]})\n",
    "df"
   ]
  },
  {
   "cell_type": "code",
   "execution_count": 71,
   "id": "fefd0450",
   "metadata": {},
   "outputs": [
    {
     "data": {
      "image/png": "[encoded data removed]",
      "text/plain": [
       "<Figure size 640x480 with 1 Axes>"
      ]
     },
     "metadata": {},
     "output_type": "display_data"
    }
   ],
   "source": [
    "df.boxplot(['before', 'after'])\n",
    "plt.show()"
   ]
  },
  {
   "cell_type": "code",
   "execution_count": 72,
   "id": "2107dd5b",
   "metadata": {},
   "outputs": [
    {
     "name": "stdout",
     "output_type": "stream",
     "text": [
      "statistic = 0.9729754651286565, p-value = 0.916978399513421\n"
     ]
    }
   ],
   "source": [
    "statistic, p = stats.shapiro(df['before'])\n",
    "print(\"statistic = {}, p-value = {}\".format(statistic, p))"
   ]
  },
  {
   "cell_type": "code",
   "execution_count": 73,
   "id": "1612dbf8",
   "metadata": {},
   "outputs": [
    {
     "name": "stdout",
     "output_type": "stream",
     "text": [
      "statistic = 0.8721038484378258, p-value = 0.10576471133379112\n"
     ]
    }
   ],
   "source": [
    "statistic, p = stats.shapiro(df['after'])\n",
    "print(\"statistic = {}, p-value = {}\".format(statistic, p))"
   ]
  },
  {
   "cell_type": "code",
   "execution_count": 74,
   "id": "1690bcdd",
   "metadata": {},
   "outputs": [
    {
     "data": {
      "text/plain": [
       "BartlettResult(statistic=1.131462856465442, pvalue=0.28746352396763464)"
      ]
     },
     "execution_count": 74,
     "metadata": {},
     "output_type": "execute_result"
    }
   ],
   "source": [
    "stats.bartlett(df['before'], df['after'])"
   ]
  },
  {
   "cell_type": "code",
   "execution_count": 76,
   "id": "f7835ff0",
   "metadata": {},
   "outputs": [
    {
     "data": {
      "text/plain": [
       "TtestResult(statistic=-4.1855686397107235, pvalue=0.0005557548251924057, df=18.0)"
      ]
     },
     "execution_count": 76,
     "metadata": {},
     "output_type": "execute_result"
    }
   ],
   "source": [
    "t_result = stats.ttest_ind(df['before'], df['after'])\n",
    "t_result"
   ]
  },
  {
   "cell_type": "code",
   "execution_count": 79,
   "id": "6c724f91",
   "metadata": {},
   "outputs": [
    {
     "name": "stdout",
     "output_type": "stream",
     "text": [
      "2-sample t_test\n",
      "t: -4.186\n",
      "p: 0.001\n"
     ]
    }
   ],
   "source": [
    "t, p = t_result.statistic.round(3), t_result.pvalue.round(3)\n",
    "print(\"2-sample t_test\")\n",
    "print(\"t: {}\".format(t))\n",
    "print(\"p: {}\".format(p))"
   ]
  },
  {
   "cell_type": "code",
   "execution_count": 6,
   "id": "3d57367a",
   "metadata": {},
   "outputs": [
    {
     "data": {
      "text/html": [
       "<div>\n",
       "<style scoped>\n",
       "    .dataframe tbody tr th:only-of-type {\n",
       "        vertical-align: middle;\n",
       "    }\n",
       "\n",
       "    .dataframe tbody tr th {\n",
       "        vertical-align: top;\n",
       "    }\n",
       "\n",
       "    .dataframe thead th {\n",
       "        text-align: right;\n",
       "    }\n",
       "</style>\n",
       "<table border=\"1\" class=\"dataframe\">\n",
       "  <thead>\n",
       "    <tr style=\"text-align: right;\">\n",
       "      <th></th>\n",
       "      <th>manufacturer</th>\n",
       "      <th>model</th>\n",
       "      <th>displacement</th>\n",
       "      <th>year</th>\n",
       "      <th>cylinder</th>\n",
       "      <th>automatic</th>\n",
       "      <th>driving</th>\n",
       "      <th>mpg</th>\n",
       "      <th>highway_mileage</th>\n",
       "      <th>fuel</th>\n",
       "      <th>class</th>\n",
       "    </tr>\n",
       "  </thead>\n",
       "  <tbody>\n",
       "    <tr>\n",
       "      <th>0</th>\n",
       "      <td>audi</td>\n",
       "      <td>a4</td>\n",
       "      <td>1.8</td>\n",
       "      <td>1999</td>\n",
       "      <td>4</td>\n",
       "      <td>auto</td>\n",
       "      <td>f</td>\n",
       "      <td>18</td>\n",
       "      <td>29</td>\n",
       "      <td>p</td>\n",
       "      <td>compact</td>\n",
       "    </tr>\n",
       "    <tr>\n",
       "      <th>1</th>\n",
       "      <td>audi</td>\n",
       "      <td>a4</td>\n",
       "      <td>1.8</td>\n",
       "      <td>1999</td>\n",
       "      <td>4</td>\n",
       "      <td>manual</td>\n",
       "      <td>f</td>\n",
       "      <td>21</td>\n",
       "      <td>29</td>\n",
       "      <td>p</td>\n",
       "      <td>compact</td>\n",
       "    </tr>\n",
       "    <tr>\n",
       "      <th>2</th>\n",
       "      <td>audi</td>\n",
       "      <td>a4</td>\n",
       "      <td>2.0</td>\n",
       "      <td>2008</td>\n",
       "      <td>4</td>\n",
       "      <td>manual</td>\n",
       "      <td>f</td>\n",
       "      <td>20</td>\n",
       "      <td>31</td>\n",
       "      <td>p</td>\n",
       "      <td>compact</td>\n",
       "    </tr>\n",
       "    <tr>\n",
       "      <th>3</th>\n",
       "      <td>audi</td>\n",
       "      <td>a4</td>\n",
       "      <td>2.0</td>\n",
       "      <td>2008</td>\n",
       "      <td>4</td>\n",
       "      <td>auto</td>\n",
       "      <td>f</td>\n",
       "      <td>21</td>\n",
       "      <td>30</td>\n",
       "      <td>p</td>\n",
       "      <td>compact</td>\n",
       "    </tr>\n",
       "    <tr>\n",
       "      <th>4</th>\n",
       "      <td>audi</td>\n",
       "      <td>a4</td>\n",
       "      <td>2.8</td>\n",
       "      <td>1999</td>\n",
       "      <td>6</td>\n",
       "      <td>auto</td>\n",
       "      <td>f</td>\n",
       "      <td>16</td>\n",
       "      <td>26</td>\n",
       "      <td>p</td>\n",
       "      <td>compact</td>\n",
       "    </tr>\n",
       "    <tr>\n",
       "      <th>...</th>\n",
       "      <td>...</td>\n",
       "      <td>...</td>\n",
       "      <td>...</td>\n",
       "      <td>...</td>\n",
       "      <td>...</td>\n",
       "      <td>...</td>\n",
       "      <td>...</td>\n",
       "      <td>...</td>\n",
       "      <td>...</td>\n",
       "      <td>...</td>\n",
       "      <td>...</td>\n",
       "    </tr>\n",
       "    <tr>\n",
       "      <th>229</th>\n",
       "      <td>volkswagen</td>\n",
       "      <td>passat</td>\n",
       "      <td>2.0</td>\n",
       "      <td>2008</td>\n",
       "      <td>4</td>\n",
       "      <td>auto</td>\n",
       "      <td>f</td>\n",
       "      <td>19</td>\n",
       "      <td>28</td>\n",
       "      <td>p</td>\n",
       "      <td>midsize</td>\n",
       "    </tr>\n",
       "    <tr>\n",
       "      <th>230</th>\n",
       "      <td>volkswagen</td>\n",
       "      <td>passat</td>\n",
       "      <td>2.0</td>\n",
       "      <td>2008</td>\n",
       "      <td>4</td>\n",
       "      <td>manual</td>\n",
       "      <td>f</td>\n",
       "      <td>21</td>\n",
       "      <td>29</td>\n",
       "      <td>p</td>\n",
       "      <td>midsize</td>\n",
       "    </tr>\n",
       "    <tr>\n",
       "      <th>231</th>\n",
       "      <td>volkswagen</td>\n",
       "      <td>passat</td>\n",
       "      <td>2.8</td>\n",
       "      <td>1999</td>\n",
       "      <td>6</td>\n",
       "      <td>auto</td>\n",
       "      <td>f</td>\n",
       "      <td>16</td>\n",
       "      <td>26</td>\n",
       "      <td>p</td>\n",
       "      <td>midsize</td>\n",
       "    </tr>\n",
       "    <tr>\n",
       "      <th>232</th>\n",
       "      <td>volkswagen</td>\n",
       "      <td>passat</td>\n",
       "      <td>2.8</td>\n",
       "      <td>1999</td>\n",
       "      <td>6</td>\n",
       "      <td>manual</td>\n",
       "      <td>f</td>\n",
       "      <td>18</td>\n",
       "      <td>26</td>\n",
       "      <td>p</td>\n",
       "      <td>midsize</td>\n",
       "    </tr>\n",
       "    <tr>\n",
       "      <th>233</th>\n",
       "      <td>volkswagen</td>\n",
       "      <td>passat</td>\n",
       "      <td>3.6</td>\n",
       "      <td>2008</td>\n",
       "      <td>6</td>\n",
       "      <td>auto</td>\n",
       "      <td>f</td>\n",
       "      <td>17</td>\n",
       "      <td>26</td>\n",
       "      <td>p</td>\n",
       "      <td>midsize</td>\n",
       "    </tr>\n",
       "  </tbody>\n",
       "</table>\n",
       "<p>234 rows × 11 columns</p>\n",
       "</div>"
      ],
      "text/plain": [
       "    manufacturer   model  displacement  year  cylinder automatic driving  mpg  \\\n",
       "0           audi      a4           1.8  1999         4      auto       f   18   \n",
       "1           audi      a4           1.8  1999         4    manual       f   21   \n",
       "2           audi      a4           2.0  2008         4    manual       f   20   \n",
       "3           audi      a4           2.0  2008         4      auto       f   21   \n",
       "4           audi      a4           2.8  1999         6      auto       f   16   \n",
       "..           ...     ...           ...   ...       ...       ...     ...  ...   \n",
       "229   volkswagen  passat           2.0  2008         4      auto       f   19   \n",
       "230   volkswagen  passat           2.0  2008         4    manual       f   21   \n",
       "231   volkswagen  passat           2.8  1999         6      auto       f   16   \n",
       "232   volkswagen  passat           2.8  1999         6    manual       f   18   \n",
       "233   volkswagen  passat           3.6  2008         6      auto       f   17   \n",
       "\n",
       "     highway_mileage fuel    class  \n",
       "0                 29    p  compact  \n",
       "1                 29    p  compact  \n",
       "2                 31    p  compact  \n",
       "3                 30    p  compact  \n",
       "4                 26    p  compact  \n",
       "..               ...  ...      ...  \n",
       "229               28    p  midsize  \n",
       "230               29    p  midsize  \n",
       "231               26    p  midsize  \n",
       "232               26    p  midsize  \n",
       "233               26    p  midsize  \n",
       "\n",
       "[234 rows x 11 columns]"
      ]
     },
     "execution_count": 6,
     "metadata": {},
     "output_type": "execute_result"
    }
   ],
   "source": [
    "# p220 [실습]\n",
    "# 다음 데이터는 자동차의 모델과 연비(mpg)에 대한 자료를 조사한 table이다.\n",
    "# 이 범주형 변수인 구동방식, 모델에 대해 counts, percents, cumulative counts, \n",
    "# cumulative percents를 계산 바랍니다.\n",
    "# data.set : mycars.csv\n",
    "cars = pd.read_csv(\"/home/piai/다운로드/2주차 실습파일/1 Big Data 분석 기초/mycars.csv\")\n",
    "cars : \n"
   ]
  },
  {
   "cell_type": "code",
   "execution_count": 7,
   "id": "23f8c5d6",
   "metadata": {},
   "outputs": [
    {
     "data": {
      "text/html": [
       "<div>\n",
       "<style scoped>\n",
       "    .dataframe tbody tr th:only-of-type {\n",
       "        vertical-align: middle;\n",
       "    }\n",
       "\n",
       "    .dataframe tbody tr th {\n",
       "        vertical-align: top;\n",
       "    }\n",
       "\n",
       "    .dataframe thead th {\n",
       "        text-align: right;\n",
       "    }\n",
       "</style>\n",
       "<table border=\"1\" class=\"dataframe\">\n",
       "  <thead>\n",
       "    <tr style=\"text-align: right;\">\n",
       "      <th></th>\n",
       "      <th>automatic</th>\n",
       "      <th>model</th>\n",
       "    </tr>\n",
       "  </thead>\n",
       "  <tbody>\n",
       "    <tr>\n",
       "      <th>0</th>\n",
       "      <td>auto</td>\n",
       "      <td>a4</td>\n",
       "    </tr>\n",
       "    <tr>\n",
       "      <th>1</th>\n",
       "      <td>manual</td>\n",
       "      <td>a4</td>\n",
       "    </tr>\n",
       "    <tr>\n",
       "      <th>2</th>\n",
       "      <td>manual</td>\n",
       "      <td>a4</td>\n",
       "    </tr>\n",
       "    <tr>\n",
       "      <th>3</th>\n",
       "      <td>auto</td>\n",
       "      <td>a4</td>\n",
       "    </tr>\n",
       "    <tr>\n",
       "      <th>4</th>\n",
       "      <td>auto</td>\n",
       "      <td>a4</td>\n",
       "    </tr>\n",
       "    <tr>\n",
       "      <th>...</th>\n",
       "      <td>...</td>\n",
       "      <td>...</td>\n",
       "    </tr>\n",
       "    <tr>\n",
       "      <th>229</th>\n",
       "      <td>auto</td>\n",
       "      <td>passat</td>\n",
       "    </tr>\n",
       "    <tr>\n",
       "      <th>230</th>\n",
       "      <td>manual</td>\n",
       "      <td>passat</td>\n",
       "    </tr>\n",
       "    <tr>\n",
       "      <th>231</th>\n",
       "      <td>auto</td>\n",
       "      <td>passat</td>\n",
       "    </tr>\n",
       "    <tr>\n",
       "      <th>232</th>\n",
       "      <td>manual</td>\n",
       "      <td>passat</td>\n",
       "    </tr>\n",
       "    <tr>\n",
       "      <th>233</th>\n",
       "      <td>auto</td>\n",
       "      <td>passat</td>\n",
       "    </tr>\n",
       "  </tbody>\n",
       "</table>\n",
       "<p>234 rows × 2 columns</p>\n",
       "</div>"
      ],
      "text/plain": [
       "    automatic   model\n",
       "0        auto      a4\n",
       "1      manual      a4\n",
       "2      manual      a4\n",
       "3        auto      a4\n",
       "4        auto      a4\n",
       "..        ...     ...\n",
       "229      auto  passat\n",
       "230    manual  passat\n",
       "231      auto  passat\n",
       "232    manual  passat\n",
       "233      auto  passat\n",
       "\n",
       "[234 rows x 2 columns]"
      ]
     },
     "execution_count": 7,
     "metadata": {},
     "output_type": "execute_result"
    }
   ],
   "source": [
    "cdf = cars[[\"automatic\", \"model\"]]\n",
    "cdf\n",
    "# 구동방식, 모델 행을 출력"
   ]
  },
  {
   "cell_type": "code",
   "execution_count": 8,
   "id": "15f39ead",
   "metadata": {},
   "outputs": [
    {
     "data": {
      "text/plain": [
       "auto      157\n",
       "manual     77\n",
       "Name: automatic, dtype: int64"
      ]
     },
     "execution_count": 8,
     "metadata": {},
     "output_type": "execute_result"
    }
   ],
   "source": [
    "# 구동방식의 수를 counts 하고 순서대로 정렬\n",
    "count_auto = cdf['automatic'].value_counts().sort_index()\n",
    "count_auto"
   ]
  },
  {
   "cell_type": "code",
   "execution_count": 9,
   "id": "f90e785e",
   "metadata": {},
   "outputs": [
    {
     "data": {
      "text/plain": [
       "auto      67.094017\n",
       "manual    32.905983\n",
       "Name: automatic, dtype: float64"
      ]
     },
     "execution_count": 9,
     "metadata": {},
     "output_type": "execute_result"
    }
   ],
   "source": [
    "# 구동방식 퍼센트\n",
    "percent_auto = count_auto / sum(count_auto) * 100\n",
    "percent_auto"
   ]
  },
  {
   "cell_type": "code",
   "execution_count": 10,
   "id": "c9898c89",
   "metadata": {},
   "outputs": [
    {
     "data": {
      "text/plain": [
       "auto      157\n",
       "manual    234\n",
       "Name: automatic, dtype: int64"
      ]
     },
     "execution_count": 10,
     "metadata": {},
     "output_type": "execute_result"
    }
   ],
   "source": [
    "# 구동방식의 누적 카운트\n",
    "# cumsum() 함수는 배열에서 주어진 축에 따라 누적된 원소들의 누적 합을 계산하는 함수\n",
    "cumcnt_auto = np.cumsum(count_auto)\n",
    "cumcnt_auto"
   ]
  },
  {
   "cell_type": "code",
   "execution_count": 11,
   "id": "94244c88",
   "metadata": {},
   "outputs": [
    {
     "data": {
      "text/plain": [
       "auto       67.094017\n",
       "manual    100.000000\n",
       "Name: automatic, dtype: float64"
      ]
     },
     "execution_count": 11,
     "metadata": {},
     "output_type": "execute_result"
    }
   ],
   "source": [
    "# 구동방식의 누적 백분율\n",
    "cumpct_auto = np.cumsum(percent_auto)\n",
    "cumpct_auto"
   ]
  },
  {
   "cell_type": "code",
   "execution_count": 12,
   "id": "921ffa3b",
   "metadata": {},
   "outputs": [
    {
     "data": {
      "text/plain": [
       "4runner 4wd                6\n",
       "a4                         7\n",
       "a4 quattro                 8\n",
       "a6 quattro                 3\n",
       "altima                     6\n",
       "c1500 suburban 2wd         5\n",
       "camry                      7\n",
       "camry solara               7\n",
       "caravan 2wd               11\n",
       "civic                      9\n",
       "corolla                    5\n",
       "corvette                   5\n",
       "dakota pickup 4wd          9\n",
       "durango 4wd                7\n",
       "expedition 2wd             3\n",
       "explorer 4wd               6\n",
       "f150 pickup 4wd            7\n",
       "forester awd               6\n",
       "grand cherokee 4wd         8\n",
       "grand prix                 5\n",
       "gti                        5\n",
       "impreza awd                8\n",
       "jetta                      9\n",
       "k1500 tahoe 4wd            4\n",
       "land cruiser wagon 4wd     2\n",
       "malibu                     5\n",
       "maxima                     3\n",
       "mountaineer 4wd            4\n",
       "mustang                    9\n",
       "navigator 2wd              3\n",
       "new beetle                 6\n",
       "passat                     7\n",
       "pathfinder 4wd             4\n",
       "ram 1500 pickup 4wd       10\n",
       "range rover                4\n",
       "sonata                     7\n",
       "tiburon                    7\n",
       "toyota tacoma 4wd          7\n",
       "Name: model, dtype: int64"
      ]
     },
     "execution_count": 12,
     "metadata": {},
     "output_type": "execute_result"
    }
   ],
   "source": [
    "# 모델에 대한 값을 순서대로 정렬\n",
    "count_model = cdf['model'].value_counts().sort_index()\n",
    "count_model"
   ]
  },
  {
   "cell_type": "code",
   "execution_count": 13,
   "id": "1c9f6926",
   "metadata": {},
   "outputs": [
    {
     "data": {
      "text/plain": [
       "4runner 4wd               2.564103\n",
       "a4                        2.991453\n",
       "a4 quattro                3.418803\n",
       "a6 quattro                1.282051\n",
       "altima                    2.564103\n",
       "c1500 suburban 2wd        2.136752\n",
       "camry                     2.991453\n",
       "camry solara              2.991453\n",
       "caravan 2wd               4.700855\n",
       "civic                     3.846154\n",
       "corolla                   2.136752\n",
       "corvette                  2.136752\n",
       "dakota pickup 4wd         3.846154\n",
       "durango 4wd               2.991453\n",
       "expedition 2wd            1.282051\n",
       "explorer 4wd              2.564103\n",
       "f150 pickup 4wd           2.991453\n",
       "forester awd              2.564103\n",
       "grand cherokee 4wd        3.418803\n",
       "grand prix                2.136752\n",
       "gti                       2.136752\n",
       "impreza awd               3.418803\n",
       "jetta                     3.846154\n",
       "k1500 tahoe 4wd           1.709402\n",
       "land cruiser wagon 4wd    0.854701\n",
       "malibu                    2.136752\n",
       "maxima                    1.282051\n",
       "mountaineer 4wd           1.709402\n",
       "mustang                   3.846154\n",
       "navigator 2wd             1.282051\n",
       "new beetle                2.564103\n",
       "passat                    2.991453\n",
       "pathfinder 4wd            1.709402\n",
       "ram 1500 pickup 4wd       4.273504\n",
       "range rover               1.709402\n",
       "sonata                    2.991453\n",
       "tiburon                   2.991453\n",
       "toyota tacoma 4wd         2.991453\n",
       "Name: model, dtype: float64"
      ]
     },
     "execution_count": 13,
     "metadata": {},
     "output_type": "execute_result"
    }
   ],
   "source": [
    "percent_model = count_model / sum(count_model) * 100\n",
    "percent_model"
   ]
  },
  {
   "cell_type": "code",
   "execution_count": 14,
   "id": "8acb3cdd",
   "metadata": {},
   "outputs": [
    {
     "data": {
      "text/plain": [
       "4runner 4wd                 6\n",
       "a4                         13\n",
       "a4 quattro                 21\n",
       "a6 quattro                 24\n",
       "altima                     30\n",
       "c1500 suburban 2wd         35\n",
       "camry                      42\n",
       "camry solara               49\n",
       "caravan 2wd                60\n",
       "civic                      69\n",
       "corolla                    74\n",
       "corvette                   79\n",
       "dakota pickup 4wd          88\n",
       "durango 4wd                95\n",
       "expedition 2wd             98\n",
       "explorer 4wd              104\n",
       "f150 pickup 4wd           111\n",
       "forester awd              117\n",
       "grand cherokee 4wd        125\n",
       "grand prix                130\n",
       "gti                       135\n",
       "impreza awd               143\n",
       "jetta                     152\n",
       "k1500 tahoe 4wd           156\n",
       "land cruiser wagon 4wd    158\n",
       "malibu                    163\n",
       "maxima                    166\n",
       "mountaineer 4wd           170\n",
       "mustang                   179\n",
       "navigator 2wd             182\n",
       "new beetle                188\n",
       "passat                    195\n",
       "pathfinder 4wd            199\n",
       "ram 1500 pickup 4wd       209\n",
       "range rover               213\n",
       "sonata                    220\n",
       "tiburon                   227\n",
       "toyota tacoma 4wd         234\n",
       "Name: model, dtype: int64"
      ]
     },
     "execution_count": 14,
     "metadata": {},
     "output_type": "execute_result"
    }
   ],
   "source": [
    "cumcnt_model = np.cumsum(count_model)\n",
    "cumcnt_model"
   ]
  },
  {
   "cell_type": "code",
   "execution_count": 15,
   "id": "33f89074",
   "metadata": {},
   "outputs": [
    {
     "data": {
      "text/plain": [
       "4runner 4wd                 2.564103\n",
       "a4                          5.555556\n",
       "a4 quattro                  8.974359\n",
       "a6 quattro                 10.256410\n",
       "altima                     12.820513\n",
       "c1500 suburban 2wd         14.957265\n",
       "camry                      17.948718\n",
       "camry solara               20.940171\n",
       "caravan 2wd                25.641026\n",
       "civic                      29.487179\n",
       "corolla                    31.623932\n",
       "corvette                   33.760684\n",
       "dakota pickup 4wd          37.606838\n",
       "durango 4wd                40.598291\n",
       "expedition 2wd             41.880342\n",
       "explorer 4wd               44.444444\n",
       "f150 pickup 4wd            47.435897\n",
       "forester awd               50.000000\n",
       "grand cherokee 4wd         53.418803\n",
       "grand prix                 55.555556\n",
       "gti                        57.692308\n",
       "impreza awd                61.111111\n",
       "jetta                      64.957265\n",
       "k1500 tahoe 4wd            66.666667\n",
       "land cruiser wagon 4wd     67.521368\n",
       "malibu                     69.658120\n",
       "maxima                     70.940171\n",
       "mountaineer 4wd            72.649573\n",
       "mustang                    76.495726\n",
       "navigator 2wd              77.777778\n",
       "new beetle                 80.341880\n",
       "passat                     83.333333\n",
       "pathfinder 4wd             85.042735\n",
       "ram 1500 pickup 4wd        89.316239\n",
       "range rover                91.025641\n",
       "sonata                     94.017094\n",
       "tiburon                    97.008547\n",
       "toyota tacoma 4wd         100.000000\n",
       "Name: model, dtype: float64"
      ]
     },
     "execution_count": 15,
     "metadata": {},
     "output_type": "execute_result"
    }
   ],
   "source": [
    "cumpct_model = np.cumsum(percent_model)\n",
    "cumpct_model"
   ]
  },
  {
   "cell_type": "code",
   "execution_count": null,
   "id": "ffba4cfd",
   "metadata": {},
   "outputs": [],
   "source": []
  },
  {
   "cell_type": "code",
   "execution_count": 16,
   "id": "9e3dab68",
   "metadata": {},
   "outputs": [
    {
     "data": {
      "text/plain": [
       "15.865525393145708"
      ]
     },
     "execution_count": 16,
     "metadata": {},
     "output_type": "execute_result"
    }
   ],
   "source": [
    "# p233 실습\n",
    "# 정규분포\n",
    "# 대한민국 남성의 20~30대 키를 측정한 결과, 평균 175cm, 표준편차 5cm이다. \n",
    "# 나의 키가 180cm 일 경우에 나는 몇 % 범위에 위치할까요?\n",
    "\n",
    "man_mean = 175 # 평균\n",
    "man_sigma = 5 # 표준편차\n",
    "x = 180 # 허용범위\n",
    "prob = stats.norm.cdf(x, man_mean, man_sigma)\n",
    "result = (1-prob) * 100\n",
    "result\n",
    "\n",
    "# 정규분포확률 구하기 및 누적확률밀도분포 그리기\n",
    "# scipy.stats 패키지\n",
    "# norm.cdf() 함수 = 누적밀도 함수\n",
    "# stats.norm.cdf(x, loc, scale)\n",
    "# (확률변수값, 평균, 표준편차)\n",
    "# 즉, pob는 scipy 패키지 내 누적밀도 함수 norm.cdf()로 확률변수값, 평균, 표준편차를 기입한다."
   ]
  },
  {
   "cell_type": "code",
   "execution_count": 17,
   "id": "8390db11",
   "metadata": {},
   "outputs": [
    {
     "name": "stdout",
     "output_type": "stream",
     "text": [
      "0.3413447460685429\n",
      "15.865525393145708\n"
     ]
    }
   ],
   "source": [
    "# 235 실습\n",
    "# 정규분포\n",
    "# 어떤 자동차 1리터당 주행거리가 평균 12km, 표준편차가 3km인 정규분포를 이룬다.\n",
    "# 1) 1리터를 가지고 9km 이상 15km 이하를 달릴 확률은 얼마인가요?\n",
    "# 2) 1리터를 가지고 15km 이상을 달릴 확률은 얼마인가요?\n",
    "\n",
    "car_mean = 12\n",
    "car_sigma = 3\n",
    "x1 = 15\n",
    "\n",
    "prob1 = stats.norm.cdf(x1, car_mean, car_sigma)\n",
    "result1 = (prob1 - 0.5)\n",
    "result2 = (1-prob) * 100\n",
    "print(result1)\n",
    "print(result2)\n"
   ]
  },
  {
   "cell_type": "code",
   "execution_count": 18,
   "id": "fe79c3b6",
   "metadata": {},
   "outputs": [
    {
     "name": "stdout",
     "output_type": "stream",
     "text": [
      "P(T<=t): 0.975894\n"
     ]
    }
   ],
   "source": [
    "# p241 실습\n",
    "# t분포\n",
    "# 확률변수 t는 자유도가 100인 t-분포를 따른다.  t값이 2.0일 때, P(T≤t)을 계산하시오.\n",
    "\n",
    "t = 2.0\n",
    "df = 100\n",
    "\n",
    "prob2 = stats.t.cdf(t, df)\n",
    "print(\"P(T<=t): {:3f}\".format(prob2))\n",
    "\n",
    "# stats 패키지의 t.cdf (t값, 자유도)"
   ]
  },
  {
   "cell_type": "code",
   "execution_count": 19,
   "id": "bf8633fa",
   "metadata": {},
   "outputs": [
    {
     "name": "stdout",
     "output_type": "stream",
     "text": [
      "P(X<=3.0) : 0.0656\n"
     ]
    }
   ],
   "source": [
    "# p244 실습\n",
    "# x2 분포\n",
    "# 확률변수 x2는 자유도가 8인 x2-분포 를 따른다.\n",
    "# x2값이 3.0일 때, P(X ≤ x2)을 계산하시오.\n",
    "\n",
    "chis = 3.0\n",
    "x = 8\n",
    "\n",
    "prob3 = stats.chi2.cdf(chis, x)\n",
    "print(\"P(X<={0}) : {1:.4f}\".format(chis, prob3))\n",
    "\n",
    "# chisquare tset로 One sample Chisquare test를 사용\n",
    "# chisquare value를 p-value로 표준화하기"
   ]
  },
  {
   "cell_type": "code",
   "execution_count": 20,
   "id": "80b09644",
   "metadata": {},
   "outputs": [
    {
     "name": "stdout",
     "output_type": "stream",
     "text": [
      "P(X<=F): 0.850\n"
     ]
    }
   ],
   "source": [
    "# p247 실습\n",
    "# F분포\n",
    "# 확률변수 F는 각각 자유도가 10, 100인 F-분포를 따른다.\n",
    "# F값이 1.5일 때, P(X≤F)을 계산하시오.\n",
    "\n",
    "f = 1.5\n",
    "num = 10\n",
    "den = 100\n",
    "\n",
    "prob5 = stats.f.cdf(x=f, dfn = num, dfd = den)\n",
    "print(\"P(X<=F): {:.3F}\".format(prob5))\n",
    "\n",
    "# stats.f.cdf(x=f, dfn = 자유도, dfd = 자유도)"
   ]
  },
  {
   "cell_type": "code",
   "execution_count": 21,
   "id": "98fb244a",
   "metadata": {},
   "outputs": [
    {
     "name": "stdout",
     "output_type": "stream",
     "text": [
      "P(X=0) = 0.168\n",
      "P(X=1) = 0.360\n",
      "P(X=2) = 0.309\n",
      "P(X=3) = 0.132\n",
      "P(X=4) = 0.028\n",
      "P(X=5) = 0.002\n"
     ]
    }
   ],
   "source": [
    "# p253 실습\n",
    "# 이항분포\n",
    "# 도장공정에서 광택도 불량이 30%나 된다고 함.\n",
    "# 5대의 차량을 임의로 선택했을 때 불량대수가 각각 0, 1, 2, 3, 4, 5대가 나올 확률은 얼마인가요?\n",
    "\n",
    "n = 5 # 5대 차량\n",
    "for i in range(n+1): # 0, 1, 2, 3, 4, 5\n",
    "    prob6 = stats.binom.pmf(k = i, n = n, p = 0.3)\n",
    "    print(\"P(X={0}) = {1:.3f}\".format(i, prob6))\n",
    "    \n",
    "# 차량 3대의 불량대수 0, 1, 2, 3을 기준으로 불량 40%를 체크\n",
    "# 이항확률질량분포 binom.pmf는 k, n, p로 구성\n",
    "# k는 전체 시행 가운데 성공 횟수(구하는 확률값)\n",
    "# n은 전체 시행횟수\n",
    "# p는 독립시행의 성공확률"
   ]
  },
  {
   "cell_type": "code",
   "execution_count": 22,
   "id": "69929b3d",
   "metadata": {},
   "outputs": [
    {
     "data": {
      "text/html": [
       "<div>\n",
       "<style scoped>\n",
       "    .dataframe tbody tr th:only-of-type {\n",
       "        vertical-align: middle;\n",
       "    }\n",
       "\n",
       "    .dataframe tbody tr th {\n",
       "        vertical-align: top;\n",
       "    }\n",
       "\n",
       "    .dataframe thead th {\n",
       "        text-align: right;\n",
       "    }\n",
       "</style>\n",
       "<table border=\"1\" class=\"dataframe\">\n",
       "  <thead>\n",
       "    <tr style=\"text-align: right;\">\n",
       "      <th></th>\n",
       "      <th>Mat_A</th>\n",
       "      <th>Mat_B</th>\n",
       "    </tr>\n",
       "  </thead>\n",
       "  <tbody>\n",
       "    <tr>\n",
       "      <th>0</th>\n",
       "      <td>73.4</td>\n",
       "      <td>68.7</td>\n",
       "    </tr>\n",
       "    <tr>\n",
       "      <th>1</th>\n",
       "      <td>77.0</td>\n",
       "      <td>71.4</td>\n",
       "    </tr>\n",
       "    <tr>\n",
       "      <th>2</th>\n",
       "      <td>73.7</td>\n",
       "      <td>69.8</td>\n",
       "    </tr>\n",
       "    <tr>\n",
       "      <th>3</th>\n",
       "      <td>73.3</td>\n",
       "      <td>75.3</td>\n",
       "    </tr>\n",
       "    <tr>\n",
       "      <th>4</th>\n",
       "      <td>73.1</td>\n",
       "      <td>71.3</td>\n",
       "    </tr>\n",
       "    <tr>\n",
       "      <th>5</th>\n",
       "      <td>71.5</td>\n",
       "      <td>72.7</td>\n",
       "    </tr>\n",
       "    <tr>\n",
       "      <th>6</th>\n",
       "      <td>74.5</td>\n",
       "      <td>66.9</td>\n",
       "    </tr>\n",
       "    <tr>\n",
       "      <th>7</th>\n",
       "      <td>77.5</td>\n",
       "      <td>70.2</td>\n",
       "    </tr>\n",
       "    <tr>\n",
       "      <th>8</th>\n",
       "      <td>76.4</td>\n",
       "      <td>74.4</td>\n",
       "    </tr>\n",
       "    <tr>\n",
       "      <th>9</th>\n",
       "      <td>77.7</td>\n",
       "      <td>70.1</td>\n",
       "    </tr>\n",
       "  </tbody>\n",
       "</table>\n",
       "</div>"
      ],
      "text/plain": [
       "   Mat_A  Mat_B\n",
       "0   73.4   68.7\n",
       "1   77.0   71.4\n",
       "2   73.7   69.8\n",
       "3   73.3   75.3\n",
       "4   73.1   71.3\n",
       "5   71.5   72.7\n",
       "6   74.5   66.9\n",
       "7   77.5   70.2\n",
       "8   76.4   74.4\n",
       "9   77.7   70.1"
      ]
     },
     "execution_count": 22,
     "metadata": {},
     "output_type": "execute_result"
    }
   ],
   "source": [
    "# p269 실습\n",
    "# 정규성 검정(Normality Test)\n",
    "# 1. 실습파일 2sample_t_test.csv을 불러온다.\n",
    "# 2. 변수, Mat_A와 Mat_B에 대해 각각 정규성을 검정합니다.\n",
    "# 3. (data set : 2sample_t_test.csv)\n",
    "\n",
    "sample = pd.read_csv(\"/home/piai/다운로드/2주차 실습파일/1 Big Data 분석 기초/2sample_t_test.csv\")\n",
    "sample\n",
    "# 파일 불러오기"
   ]
  },
  {
   "cell_type": "code",
   "execution_count": 23,
   "id": "daa2ce70",
   "metadata": {},
   "outputs": [
    {
     "name": "stdout",
     "output_type": "stream",
     "text": [
      "0.9062639000665075 0.2563008675689954\n",
      "0.9729754651286565 0.916978399513421\n"
     ]
    }
   ],
   "source": [
    "# 정규성 검정\n",
    "statistic1, p1 = stats.shapiro(sample['Mat_A'])\n",
    "statistic2, p2 = stats.shapiro(sample['Mat_B'])\n",
    "print(statistic1, p1)\n",
    "print(statistic2, p2)\n",
    "# shapiro-Wilk 검정이란 데이터가 정규분포를 가지는 지에 대해 검정하는 방법\n"
   ]
  },
  {
   "cell_type": "code",
   "execution_count": 24,
   "id": "3c83293b",
   "metadata": {},
   "outputs": [
    {
     "name": "stdout",
     "output_type": "stream",
     "text": [
      "Mat_A : statistic = 0.9062639000665075, p-value=0.2563008675689954\n",
      "Mat_B : statistic = 0.9729754651286565, p-value=0.916978399513421\n"
     ]
    }
   ],
   "source": [
    "print(\"Mat_A : statistic = {}, p-value={}\".format(statistic1, p1))\n",
    "print(\"Mat_B : statistic = {}, p-value={}\".format(statistic2, p2))\n",
    "# Mat_A, Mat_B 모두 p_value가 0.05보다 크므로 정규분포를 따름"
   ]
  },
  {
   "cell_type": "code",
   "execution_count": 25,
   "id": "f7a07358",
   "metadata": {},
   "outputs": [
    {
     "data": {
      "text/html": [
       "<div>\n",
       "<style scoped>\n",
       "    .dataframe tbody tr th:only-of-type {\n",
       "        vertical-align: middle;\n",
       "    }\n",
       "\n",
       "    .dataframe tbody tr th {\n",
       "        vertical-align: top;\n",
       "    }\n",
       "\n",
       "    .dataframe thead th {\n",
       "        text-align: right;\n",
       "    }\n",
       "</style>\n",
       "<table border=\"1\" class=\"dataframe\">\n",
       "  <thead>\n",
       "    <tr style=\"text-align: right;\">\n",
       "      <th></th>\n",
       "      <th>sample</th>\n",
       "    </tr>\n",
       "  </thead>\n",
       "  <tbody>\n",
       "    <tr>\n",
       "      <th>0</th>\n",
       "      <td>18</td>\n",
       "    </tr>\n",
       "    <tr>\n",
       "      <th>1</th>\n",
       "      <td>18</td>\n",
       "    </tr>\n",
       "    <tr>\n",
       "      <th>2</th>\n",
       "      <td>20</td>\n",
       "    </tr>\n",
       "    <tr>\n",
       "      <th>3</th>\n",
       "      <td>21</td>\n",
       "    </tr>\n",
       "    <tr>\n",
       "      <th>4</th>\n",
       "      <td>20</td>\n",
       "    </tr>\n",
       "    <tr>\n",
       "      <th>5</th>\n",
       "      <td>23</td>\n",
       "    </tr>\n",
       "    <tr>\n",
       "      <th>6</th>\n",
       "      <td>19</td>\n",
       "    </tr>\n",
       "    <tr>\n",
       "      <th>7</th>\n",
       "      <td>18</td>\n",
       "    </tr>\n",
       "    <tr>\n",
       "      <th>8</th>\n",
       "      <td>17</td>\n",
       "    </tr>\n",
       "    <tr>\n",
       "      <th>9</th>\n",
       "      <td>21</td>\n",
       "    </tr>\n",
       "    <tr>\n",
       "      <th>10</th>\n",
       "      <td>22</td>\n",
       "    </tr>\n",
       "    <tr>\n",
       "      <th>11</th>\n",
       "      <td>20</td>\n",
       "    </tr>\n",
       "    <tr>\n",
       "      <th>12</th>\n",
       "      <td>20</td>\n",
       "    </tr>\n",
       "    <tr>\n",
       "      <th>13</th>\n",
       "      <td>21</td>\n",
       "    </tr>\n",
       "    <tr>\n",
       "      <th>14</th>\n",
       "      <td>20</td>\n",
       "    </tr>\n",
       "    <tr>\n",
       "      <th>15</th>\n",
       "      <td>19</td>\n",
       "    </tr>\n",
       "    <tr>\n",
       "      <th>16</th>\n",
       "      <td>19</td>\n",
       "    </tr>\n",
       "    <tr>\n",
       "      <th>17</th>\n",
       "      <td>18</td>\n",
       "    </tr>\n",
       "    <tr>\n",
       "      <th>18</th>\n",
       "      <td>17</td>\n",
       "    </tr>\n",
       "    <tr>\n",
       "      <th>19</th>\n",
       "      <td>19</td>\n",
       "    </tr>\n",
       "  </tbody>\n",
       "</table>\n",
       "</div>"
      ],
      "text/plain": [
       "    sample\n",
       "0       18\n",
       "1       18\n",
       "2       20\n",
       "3       21\n",
       "4       20\n",
       "5       23\n",
       "6       19\n",
       "7       18\n",
       "8       17\n",
       "9       21\n",
       "10      22\n",
       "11      20\n",
       "12      20\n",
       "13      21\n",
       "14      20\n",
       "15      19\n",
       "16      19\n",
       "17      18\n",
       "18      17\n",
       "19      19"
      ]
     },
     "execution_count": 25,
     "metadata": {},
     "output_type": "execute_result"
    }
   ],
   "source": [
    "# p272 실습\n",
    "# 추론 통계\n",
    "# 새로운 품종의 감자 20 Box를 랜덤추출하여 무게를 측정할 결과가 다음과 같음\n",
    "# (단, 모표준편차는 3.8로 알려져 있음)\n",
    "# 이 자료로부터 신품종 배추의 평균 무게에 대한 95% 신뢰구간을 구하시오.\n",
    "\n",
    "df = pd.DataFrame({\"sample\" : [18, 18, 20, 21, 20, 23, 19, 18, 17, 21, 22, 20, 20, 21, 20, 19, 19, 18, 17, 19]})\n",
    "df"
   ]
  },
  {
   "cell_type": "code",
   "execution_count": 26,
   "id": "7e3a56e2",
   "metadata": {},
   "outputs": [
    {
     "name": "stdout",
     "output_type": "stream",
     "text": [
      "신뢰구간: ([17.83], [21.17])\n"
     ]
    },
    {
     "name": "stderr",
     "output_type": "stream",
     "text": [
      "/home/piai/anaconda3/lib/python3.10/site-packages/numpy/core/fromnumeric.py:3430: FutureWarning: In a future version, DataFrame.mean(axis=None) will return a scalar mean over the entire DataFrame. To retain the old behavior, use 'frame.mean(axis=0)' or just 'frame.mean()'\n",
      "  return mean(axis=axis, dtype=dtype, out=out, **kwargs)\n"
     ]
    }
   ],
   "source": [
    "lower, upper = stats.norm.interval(0.95, loc = np.mean(df), scale = 3.8/np.sqrt(20))\n",
    "print(\"신뢰구간: ({0}, {1})\".format(lower.round(2), upper.round(2)))\n",
    "# Construct a 95% confidence interval\n",
    "# 표본의 개수가 충분할 때 stats.norm.interval(alpha, loc, scale)\n",
    "# alpha는 0.95\n",
    "# loc는 샘플의 평균\n",
    "# scale은 std 즉, sqrt 20으로 나눈 값이 std() 가 된다.\n",
    "\n",
    "# 그리고 lower와 upper을 소숫점 두자리 수까지 표현한다."
   ]
  },
  {
   "cell_type": "code",
   "execution_count": 27,
   "id": "10e05705",
   "metadata": {},
   "outputs": [
    {
     "data": {
      "text/html": [
       "<div>\n",
       "<style scoped>\n",
       "    .dataframe tbody tr th:only-of-type {\n",
       "        vertical-align: middle;\n",
       "    }\n",
       "\n",
       "    .dataframe tbody tr th {\n",
       "        vertical-align: top;\n",
       "    }\n",
       "\n",
       "    .dataframe thead th {\n",
       "        text-align: right;\n",
       "    }\n",
       "</style>\n",
       "<table border=\"1\" class=\"dataframe\">\n",
       "  <thead>\n",
       "    <tr style=\"text-align: right;\">\n",
       "      <th></th>\n",
       "      <th>sample</th>\n",
       "    </tr>\n",
       "  </thead>\n",
       "  <tbody>\n",
       "    <tr>\n",
       "      <th>0</th>\n",
       "      <td>73</td>\n",
       "    </tr>\n",
       "    <tr>\n",
       "      <th>1</th>\n",
       "      <td>71</td>\n",
       "    </tr>\n",
       "    <tr>\n",
       "      <th>2</th>\n",
       "      <td>74</td>\n",
       "    </tr>\n",
       "    <tr>\n",
       "      <th>3</th>\n",
       "      <td>69</td>\n",
       "    </tr>\n",
       "    <tr>\n",
       "      <th>4</th>\n",
       "      <td>70</td>\n",
       "    </tr>\n",
       "    <tr>\n",
       "      <th>5</th>\n",
       "      <td>73</td>\n",
       "    </tr>\n",
       "    <tr>\n",
       "      <th>6</th>\n",
       "      <td>70</td>\n",
       "    </tr>\n",
       "    <tr>\n",
       "      <th>7</th>\n",
       "      <td>68</td>\n",
       "    </tr>\n",
       "    <tr>\n",
       "      <th>8</th>\n",
       "      <td>75</td>\n",
       "    </tr>\n",
       "    <tr>\n",
       "      <th>9</th>\n",
       "      <td>72</td>\n",
       "    </tr>\n",
       "    <tr>\n",
       "      <th>10</th>\n",
       "      <td>70</td>\n",
       "    </tr>\n",
       "    <tr>\n",
       "      <th>11</th>\n",
       "      <td>72</td>\n",
       "    </tr>\n",
       "    <tr>\n",
       "      <th>12</th>\n",
       "      <td>73</td>\n",
       "    </tr>\n",
       "    <tr>\n",
       "      <th>13</th>\n",
       "      <td>70</td>\n",
       "    </tr>\n",
       "    <tr>\n",
       "      <th>14</th>\n",
       "      <td>70</td>\n",
       "    </tr>\n",
       "    <tr>\n",
       "      <th>15</th>\n",
       "      <td>72</td>\n",
       "    </tr>\n",
       "    <tr>\n",
       "      <th>16</th>\n",
       "      <td>71</td>\n",
       "    </tr>\n",
       "    <tr>\n",
       "      <th>17</th>\n",
       "      <td>70</td>\n",
       "    </tr>\n",
       "    <tr>\n",
       "      <th>18</th>\n",
       "      <td>75</td>\n",
       "    </tr>\n",
       "    <tr>\n",
       "      <th>19</th>\n",
       "      <td>72</td>\n",
       "    </tr>\n",
       "  </tbody>\n",
       "</table>\n",
       "</div>"
      ],
      "text/plain": [
       "    sample\n",
       "0       73\n",
       "1       71\n",
       "2       74\n",
       "3       69\n",
       "4       70\n",
       "5       73\n",
       "6       70\n",
       "7       68\n",
       "8       75\n",
       "9       72\n",
       "10      70\n",
       "11      72\n",
       "12      73\n",
       "13      70\n",
       "14      70\n",
       "15      72\n",
       "16      71\n",
       "17      70\n",
       "18      75\n",
       "19      72"
      ]
     },
     "execution_count": 27,
     "metadata": {},
     "output_type": "execute_result"
    }
   ],
   "source": [
    "# p275 실습\n",
    "# 추론 통계 (모평균 신뢰구간 추정 - 모평균편차를 모르는 경우)\n",
    "# 제품개발자는 새로 개발된 강종의 평균 인장강도를 70kg/mm2으로 기대하고 있음.\n",
    "# 이를 검증하기 위해 시험 생산되는 강종 중 임의로 20개의 코일을 대상으로 랜덤하게 시편\n",
    "# 상기 자료로부터 표본평균은 71.50kg/mm2, 표본표준편차는 1.933kg/mm2임을 알았음. \n",
    "# 이 모평균값의 95% 신뢰구간을 추정하시오.\n",
    "\n",
    "df = pd.DataFrame({'sample' : [73, 71, 74, 69, 70, 73, 70, 68, 75, 72, 70, 72, 73, 70, 70, 72, 71, 70, 75, 72]})\n",
    "df"
   ]
  },
  {
   "cell_type": "code",
   "execution_count": 28,
   "id": "66d9949a",
   "metadata": {},
   "outputs": [
    {
     "name": "stdout",
     "output_type": "stream",
     "text": [
      "신뢰구간: ([70.6], [72.4])\n"
     ]
    },
    {
     "name": "stderr",
     "output_type": "stream",
     "text": [
      "/home/piai/anaconda3/lib/python3.10/site-packages/numpy/core/fromnumeric.py:3430: FutureWarning: In a future version, DataFrame.mean(axis=None) will return a scalar mean over the entire DataFrame. To retain the old behavior, use 'frame.mean(axis=0)' or just 'frame.mean()'\n",
      "  return mean(axis=axis, dtype=dtype, out=out, **kwargs)\n"
     ]
    }
   ],
   "source": [
    "# 정규분포 구간 추정 함수 실행\n",
    "lower, upper = stats.t.interval(0.95, len(df) -1, loc = np.mean(df), scale = stats.sem(df))\n",
    "print(\"신뢰구간: ({0}, {1})\".format(lower.round(2), upper.round(2)))\n",
    "\n",
    "# stats.t.interval(0.95, df의 길이 - 1, df의 평균, df의 표준오차)"
   ]
  },
  {
   "cell_type": "code",
   "execution_count": 29,
   "id": "e82decac",
   "metadata": {},
   "outputs": [
    {
     "data": {
      "text/html": [
       "<div>\n",
       "<style scoped>\n",
       "    .dataframe tbody tr th:only-of-type {\n",
       "        vertical-align: middle;\n",
       "    }\n",
       "\n",
       "    .dataframe tbody tr th {\n",
       "        vertical-align: top;\n",
       "    }\n",
       "\n",
       "    .dataframe thead th {\n",
       "        text-align: right;\n",
       "    }\n",
       "</style>\n",
       "<table border=\"1\" class=\"dataframe\">\n",
       "  <thead>\n",
       "    <tr style=\"text-align: right;\">\n",
       "      <th></th>\n",
       "      <th>satisfaction</th>\n",
       "    </tr>\n",
       "  </thead>\n",
       "  <tbody>\n",
       "    <tr>\n",
       "      <th>0</th>\n",
       "      <td>85.0</td>\n",
       "    </tr>\n",
       "    <tr>\n",
       "      <th>1</th>\n",
       "      <td>79.0</td>\n",
       "    </tr>\n",
       "    <tr>\n",
       "      <th>2</th>\n",
       "      <td>79.1</td>\n",
       "    </tr>\n",
       "    <tr>\n",
       "      <th>3</th>\n",
       "      <td>79.9</td>\n",
       "    </tr>\n",
       "    <tr>\n",
       "      <th>4</th>\n",
       "      <td>81.6</td>\n",
       "    </tr>\n",
       "    <tr>\n",
       "      <th>5</th>\n",
       "      <td>78.6</td>\n",
       "    </tr>\n",
       "    <tr>\n",
       "      <th>6</th>\n",
       "      <td>85.4</td>\n",
       "    </tr>\n",
       "    <tr>\n",
       "      <th>7</th>\n",
       "      <td>83.4</td>\n",
       "    </tr>\n",
       "    <tr>\n",
       "      <th>8</th>\n",
       "      <td>78.1</td>\n",
       "    </tr>\n",
       "    <tr>\n",
       "      <th>9</th>\n",
       "      <td>79.2</td>\n",
       "    </tr>\n",
       "  </tbody>\n",
       "</table>\n",
       "</div>"
      ],
      "text/plain": [
       "   satisfaction\n",
       "0          85.0\n",
       "1          79.0\n",
       "2          79.1\n",
       "3          79.9\n",
       "4          81.6\n",
       "5          78.6\n",
       "6          85.4\n",
       "7          83.4\n",
       "8          78.1\n",
       "9          79.2"
      ]
     },
     "execution_count": 29,
     "metadata": {},
     "output_type": "execute_result"
    }
   ],
   "source": [
    "# p299 실습\n",
    "#추론 통계 (1-sample t-test)\n",
    "# 고객서비스센터의 고객만족도 평균은 78.0이다. 개선활동을 완료한 후 다음과 같은 10개의 고객만족도 데이터를 얻었다.\n",
    "# 개선활동이 만족도를 변화시켰는가? (a = 0.05)\n",
    "\n",
    "df = pd.DataFrame({'satisfaction' : [85.0, 79.0, 79.1, 79.9, 81.6, 78.6, 85.4, 83.4, 78.1, 79.2]})\n",
    "df"
   ]
  },
  {
   "cell_type": "code",
   "execution_count": 30,
   "id": "c7d0c661",
   "metadata": {},
   "outputs": [
    {
     "data": {
      "text/plain": [
       "<Axes: >"
      ]
     },
     "execution_count": 30,
     "metadata": {},
     "output_type": "execute_result"
    },
    {
     "data": {
      "image/png": "[encoded data removed]",
      "text/plain": [
       "<Figure size 640x480 with 1 Axes>"
      ]
     },
     "metadata": {},
     "output_type": "display_data"
    }
   ],
   "source": [
    "df.boxplot()"
   ]
  },
  {
   "cell_type": "code",
   "execution_count": 31,
   "id": "87dc430f",
   "metadata": {},
   "outputs": [
    {
     "name": "stdout",
     "output_type": "stream",
     "text": [
      "statistic = 0.8473218074095161, p-value = 0.05397528806783875\n"
     ]
    }
   ],
   "source": [
    "# satisfaction 정규성 검정 : Shapiro-Wilk Test\n",
    "statistic, p = stats.shapiro(df['satisfaction'])\n",
    "print(\"statistic = {}, p-value = {}\".format(statistic, p))"
   ]
  },
  {
   "cell_type": "code",
   "execution_count": 32,
   "id": "9db768fb",
   "metadata": {},
   "outputs": [
    {
     "data": {
      "text/plain": [
       "TtestResult(statistic=array([3.37924492]), pvalue=array([0.00813672]), df=array([9]))"
      ]
     },
     "execution_count": 32,
     "metadata": {},
     "output_type": "execute_result"
    }
   ],
   "source": [
    "# 1-Sample t-test\n",
    "t_result = stats.ttest_1samp(df, 78.0)\n",
    "t_result\n",
    "# stats.ttest_1samp(df, 평균)\n",
    "# 한 집단 평균 검정"
   ]
  },
  {
   "cell_type": "code",
   "execution_count": 33,
   "id": "991ce750",
   "metadata": {},
   "outputs": [
    {
     "name": "stdout",
     "output_type": "stream",
     "text": [
      "1-Sample t-tset\n",
      "t 통계량 : [3.379]\n",
      "p-value : [0.008]\n"
     ]
    }
   ],
   "source": [
    "# 1-sample t-test의 t값 p값 저장\n",
    "t, p = t_result.statistic.round(3), t_result.pvalue.round(3)\n",
    "print(\"1-Sample t-tset\")\n",
    "print(\"t 통계량 : {}\".format(t))\n",
    "print(\"p-value : {}\".format(p))\n",
    "\n",
    "# 결론 : 유의수준 5%에서 검정결과 P값이 0.008므로 개선활동이 고객만족도 변화를 시켰다고 할 수 없다"
   ]
  },
  {
   "cell_type": "code",
   "execution_count": 34,
   "id": "ca2f612c",
   "metadata": {},
   "outputs": [
    {
     "data": {
      "text/html": [
       "<div>\n",
       "<style scoped>\n",
       "    .dataframe tbody tr th:only-of-type {\n",
       "        vertical-align: middle;\n",
       "    }\n",
       "\n",
       "    .dataframe tbody tr th {\n",
       "        vertical-align: top;\n",
       "    }\n",
       "\n",
       "    .dataframe thead th {\n",
       "        text-align: right;\n",
       "    }\n",
       "</style>\n",
       "<table border=\"1\" class=\"dataframe\">\n",
       "  <thead>\n",
       "    <tr style=\"text-align: right;\">\n",
       "      <th></th>\n",
       "      <th>A</th>\n",
       "      <th>B</th>\n",
       "    </tr>\n",
       "  </thead>\n",
       "  <tbody>\n",
       "    <tr>\n",
       "      <th>0</th>\n",
       "      <td>1.883</td>\n",
       "      <td>1.435</td>\n",
       "    </tr>\n",
       "    <tr>\n",
       "      <th>1</th>\n",
       "      <td>1.715</td>\n",
       "      <td>1.572</td>\n",
       "    </tr>\n",
       "    <tr>\n",
       "      <th>2</th>\n",
       "      <td>1.799</td>\n",
       "      <td>1.486</td>\n",
       "    </tr>\n",
       "    <tr>\n",
       "      <th>3</th>\n",
       "      <td>1.768</td>\n",
       "      <td>1.511</td>\n",
       "    </tr>\n",
       "    <tr>\n",
       "      <th>4</th>\n",
       "      <td>1.711</td>\n",
       "      <td>1.457</td>\n",
       "    </tr>\n",
       "    <tr>\n",
       "      <th>5</th>\n",
       "      <td>1.832</td>\n",
       "      <td>1.548</td>\n",
       "    </tr>\n",
       "    <tr>\n",
       "      <th>6</th>\n",
       "      <td>1.427</td>\n",
       "      <td>1.404</td>\n",
       "    </tr>\n",
       "    <tr>\n",
       "      <th>7</th>\n",
       "      <td>1.344</td>\n",
       "      <td>1.800</td>\n",
       "    </tr>\n",
       "  </tbody>\n",
       "</table>\n",
       "</div>"
      ],
      "text/plain": [
       "       A      B\n",
       "0  1.883  1.435\n",
       "1  1.715  1.572\n",
       "2  1.799  1.486\n",
       "3  1.768  1.511\n",
       "4  1.711  1.457\n",
       "5  1.832  1.548\n",
       "6  1.427  1.404\n",
       "7  1.344  1.800"
      ]
     },
     "execution_count": 34,
     "metadata": {},
     "output_type": "execute_result"
    }
   ],
   "source": [
    "# p302 실습\n",
    "# 추론 통계 (2 sample t-test) :, 두 집단 간 평균이 같은지 비교\n",
    "# 제품을 A공급자와 B공급자로 부터 제품을 받아 두께를 측정해서 다음의 데이터를 얻었다.\n",
    "# 공급자 간에 모평균에 차이가 있다고 할 수 있는가? (유의수준 a = 0.05)\n",
    "\n",
    "dfa = pd.DataFrame({'A' : [1.883, 1.715, 1.799, 1.768, 1.711, 1.832, 1.427, 1.344], 'B' : [1.435, 1.572, 1.486, 1.511, 1.457, 1.548, 1.404, 1.800]})\n",
    "dfa"
   ]
  },
  {
   "cell_type": "code",
   "execution_count": 35,
   "id": "5c0f2ca0",
   "metadata": {},
   "outputs": [
    {
     "data": {
      "image/png": "[encoded data removed]",
      "text/plain": [
       "<Figure size 640x480 with 1 Axes>"
      ]
     },
     "metadata": {},
     "output_type": "display_data"
    }
   ],
   "source": [
    "# group 별 boxplot\n",
    "dfa.boxplot(['A', 'B'])\n",
    "plt.show()"
   ]
  },
  {
   "cell_type": "code",
   "execution_count": 36,
   "id": "09a739da",
   "metadata": {},
   "outputs": [
    {
     "name": "stdout",
     "output_type": "stream",
     "text": [
      "statistic = 0.8425755349628155, p-value=0.08004540790335968\n"
     ]
    }
   ],
   "source": [
    "# 'A', 'B' 정규성 검정 : Shapiro-Wilk Test\n",
    "statistic, p = stats.shapiro(dfa['A'])\n",
    "print(\"statistic = {}, p-value={}\".format(statistic, p))"
   ]
  },
  {
   "cell_type": "code",
   "execution_count": 37,
   "id": "3d1fd8f9",
   "metadata": {},
   "outputs": [
    {
     "name": "stdout",
     "output_type": "stream",
     "text": [
      "statistic = 0.8393933531403902, p-value=0.07424861689729985\n"
     ]
    }
   ],
   "source": [
    "statistic, p = stats.shapiro(dfa['B'])\n",
    "print(\"statistic = {}, p-value={}\".format(statistic, p))"
   ]
  },
  {
   "cell_type": "code",
   "execution_count": 38,
   "id": "dd916162",
   "metadata": {},
   "outputs": [
    {
     "data": {
      "text/plain": [
       "BartlettResult(statistic=1.2899966318541203, pvalue=0.25604857136527204)"
      ]
     },
     "execution_count": 38,
     "metadata": {},
     "output_type": "execute_result"
    }
   ],
   "source": [
    "stats.bartlett(dfa['A'], dfa['B'])\n",
    "# 등분산성 검정"
   ]
  },
  {
   "cell_type": "code",
   "execution_count": 39,
   "id": "c6955c05",
   "metadata": {},
   "outputs": [
    {
     "data": {
      "text/plain": [
       "TtestResult(statistic=1.94021417939838, pvalue=0.07276790080849707, df=14.0)"
      ]
     },
     "execution_count": 39,
     "metadata": {},
     "output_type": "execute_result"
    }
   ],
   "source": [
    "# 두 집단 간 평균이 같은지 비교\n",
    "# 2-sample t-test\n",
    "t_result = stats.ttest_ind(dfa['A'], dfa['B'])\n",
    "t_result"
   ]
  },
  {
   "cell_type": "code",
   "execution_count": 40,
   "id": "f2905776",
   "metadata": {},
   "outputs": [
    {
     "name": "stdout",
     "output_type": "stream",
     "text": [
      "2-sample t_test\n",
      "t: 1.94\n",
      "p: 0.073\n"
     ]
    }
   ],
   "source": [
    "# 2-sample t-test의 t값 p값 저장 및 출력\n",
    "t, p = t_result.statistic.round(3), t_result.pvalue.round(3)\n",
    "print(\"2-sample t_test\")\n",
    "print(\"t: {}\".format(t))\n",
    "print(\"p: {}\".format(p))\n",
    "\n",
    "# 결론 : 유의수준 5%에서 검정결과 P값이 0.073이므로 고객간에 고객만족도의 차이가 있다."
   ]
  },
  {
   "cell_type": "code",
   "execution_count": 41,
   "id": "4776fa49",
   "metadata": {},
   "outputs": [],
   "source": [
    "# p305 실습\n",
    "# 추론 통계 (paired t-test) : 짝을 이루는 집단의 평균의 차이가 있는지 검정\n",
    "# 회사원 10명에 대해 영어점수가 학원가기 저/후에 영어점수가 짝을 이루고 있다.\n",
    "# 회사원들의 성적은 학원가기 전후에 대해 차이가 있는지 검정하라. (유의수준 a = 0.05)\n",
    "\n",
    "df1 = pd.DataFrame({'before' : [720, 589, 780, 648, 720, 589, 780, 648, 780, 648]})\n",
    "df2 = pd.DataFrame({'after' : [710, 580, 787, 712, 750, 600, 782, 670, 790, 680]})"
   ]
  },
  {
   "cell_type": "code",
   "execution_count": 42,
   "id": "12348281",
   "metadata": {},
   "outputs": [
    {
     "data": {
      "text/plain": [
       "TtestResult(statistic=array([-2.26606522]), pvalue=array([0.04968162]), df=array([9]))"
      ]
     },
     "execution_count": 42,
     "metadata": {},
     "output_type": "execute_result"
    }
   ],
   "source": [
    "# paired t-test\n",
    "t_result =stats.ttest_rel(df1, df2)\n",
    "t_result"
   ]
  },
  {
   "cell_type": "code",
   "execution_count": 43,
   "id": "ff03efbb",
   "metadata": {},
   "outputs": [
    {
     "name": "stdout",
     "output_type": "stream",
     "text": [
      "Paired t-test\n",
      "t: [-2.266]\n",
      "t: [0.05]\n"
     ]
    }
   ],
   "source": [
    "# paired t-test의 t값 p값 저장\n",
    "t, p = t_result.statistic.round(3), t_result.pvalue.round(3)\n",
    "print(\"Paired t-test\")\n",
    "print(\"t: {}\".format(t))\n",
    "print(\"t: {}\".format(p))\n",
    "\n",
    "# 결론 : 유의수준 5%에서 검정결과 p값이 0.005 이므로 학원 수강 전후의 점수는 차이가 있다고 할 수 있다."
   ]
  },
  {
   "cell_type": "code",
   "execution_count": 44,
   "id": "e16fe49e",
   "metadata": {},
   "outputs": [
    {
     "name": "stdout",
     "output_type": "stream",
     "text": [
      "1 Proportion test\n",
      "z: -2.041\n",
      "p: 0.041\n"
     ]
    }
   ],
   "source": [
    "# p310 실습\n",
    "# 추론 통계 (1 proportion test)\n",
    "# 동전이 정상적인가를 검정하기 위해 100번을 던져본 결과, 앞면이 40번 나왔으며 뒷면이 60번 나왔다. \n",
    "# 이 동전은 정상인가를 유의수준 a = 0.05로써 검정하라. 정상적인 동전을 던질 때, 앞면이 나올 확률은 50%이다.\n",
    "\n",
    "count = 40 # 앞면이 나온 수\n",
    "n_obs = 100 # 100번 던짐\n",
    "value = 0.5 # 정상 앞면 확률\n",
    "\n",
    "z, p = proportions_ztest(count, n_obs, value)\n",
    "print(\"1 Proportion test\")\n",
    "print('z: {0:0.3f}'.format(z))\n",
    "print('p: {0:0.3f}'.format(p))\n",
    "\n",
    "# 결론 : 결과적으로 기존 동전 정상 비율 대비 차이가 있다고 할 수 없다."
   ]
  },
  {
   "cell_type": "code",
   "execution_count": 45,
   "id": "78453f48",
   "metadata": {},
   "outputs": [
    {
     "name": "stdout",
     "output_type": "stream",
     "text": [
      "2 Proportion test\n",
      "z: 2.073\n",
      "p: 0.038\n"
     ]
    }
   ],
   "source": [
    "# p313 실습\n",
    "# 추론 통계 (2 proportion test)\n",
    "# 동일한 제품을 생산하는 두 공장에서 불량률을 측정한 결과 아래와 같다.\n",
    "# 두 공정의 불량률이 같다고 할 수 있는가? (유의수준 a = 0.05)\n",
    "# → 공장 A : N1 = 1200, X1 = 14\n",
    "# → 공장 B : N2 = 1200, X2 = 5\n",
    "\n",
    "count = np.array([14, 5])\n",
    "nobs = np.array([1200, 1200])\n",
    "\n",
    "z, p = proportions_ztest(count ,nobs)\n",
    "print(\"2 Proportion test\")\n",
    "print('z: {0:0.3f}'.format(z))\n",
    "print('p: {0:0.3f}'.format(p))\n",
    "\n",
    "# 결론 : P-value < 0.05 이므로 두 공장의 불량률은 차이가 있다."
   ]
  },
  {
   "cell_type": "code",
   "execution_count": 46,
   "id": "b5183110",
   "metadata": {},
   "outputs": [
    {
     "data": {
      "text/html": [
       "<div>\n",
       "<style scoped>\n",
       "    .dataframe tbody tr th:only-of-type {\n",
       "        vertical-align: middle;\n",
       "    }\n",
       "\n",
       "    .dataframe tbody tr th {\n",
       "        vertical-align: top;\n",
       "    }\n",
       "\n",
       "    .dataframe thead th {\n",
       "        text-align: right;\n",
       "    }\n",
       "</style>\n",
       "<table border=\"1\" class=\"dataframe\">\n",
       "  <thead>\n",
       "    <tr style=\"text-align: right;\">\n",
       "      <th></th>\n",
       "      <th>A</th>\n",
       "      <th>B</th>\n",
       "      <th>C</th>\n",
       "      <th>D</th>\n",
       "      <th>E</th>\n",
       "      <th>F</th>\n",
       "    </tr>\n",
       "  </thead>\n",
       "  <tbody>\n",
       "    <tr>\n",
       "      <th>0</th>\n",
       "      <td>18</td>\n",
       "      <td>8</td>\n",
       "      <td>4</td>\n",
       "      <td>4</td>\n",
       "      <td>3</td>\n",
       "      <td>3</td>\n",
       "    </tr>\n",
       "    <tr>\n",
       "      <th>1</th>\n",
       "      <td>1</td>\n",
       "      <td>2</td>\n",
       "      <td>1</td>\n",
       "      <td>1</td>\n",
       "      <td>1</td>\n",
       "      <td>25</td>\n",
       "    </tr>\n",
       "    <tr>\n",
       "      <th>2</th>\n",
       "      <td>8</td>\n",
       "      <td>14</td>\n",
       "      <td>3</td>\n",
       "      <td>2</td>\n",
       "      <td>3</td>\n",
       "      <td>8</td>\n",
       "    </tr>\n",
       "    <tr>\n",
       "      <th>3</th>\n",
       "      <td>7</td>\n",
       "      <td>5</td>\n",
       "      <td>4</td>\n",
       "      <td>3</td>\n",
       "      <td>1</td>\n",
       "      <td>10</td>\n",
       "    </tr>\n",
       "    <tr>\n",
       "      <th>4</th>\n",
       "      <td>10</td>\n",
       "      <td>5</td>\n",
       "      <td>9</td>\n",
       "      <td>2</td>\n",
       "      <td>1</td>\n",
       "      <td>2</td>\n",
       "    </tr>\n",
       "    <tr>\n",
       "      <th>5</th>\n",
       "      <td>9</td>\n",
       "      <td>9</td>\n",
       "      <td>5</td>\n",
       "      <td>7</td>\n",
       "      <td>1</td>\n",
       "      <td>1</td>\n",
       "    </tr>\n",
       "    <tr>\n",
       "      <th>6</th>\n",
       "      <td>10</td>\n",
       "      <td>4</td>\n",
       "      <td>4</td>\n",
       "      <td>3</td>\n",
       "      <td>1</td>\n",
       "      <td>7</td>\n",
       "    </tr>\n",
       "  </tbody>\n",
       "</table>\n",
       "</div>"
      ],
      "text/plain": [
       "    A   B  C  D  E   F\n",
       "0  18   8  4  4  3   3\n",
       "1   1   2  1  1  1  25\n",
       "2   8  14  3  2  3   8\n",
       "3   7   5  4  3  1  10\n",
       "4  10   5  9  2  1   2\n",
       "5   9   9  5  7  1   1\n",
       "6  10   4  4  3  1   7"
      ]
     },
     "execution_count": 46,
     "metadata": {},
     "output_type": "execute_result"
    }
   ],
   "source": [
    "# p321 실습\n",
    "# 추론 통계 (카이제곱 검정, chi-square test)\n",
    "# 노트북 컴퓨터의 6가지 제품(A, B, C, D, E, F)에 대하여 7가지 제품의 이미지를 중복 선택할 수 있도록\n",
    "# 32명의 소비자를 대상으로 설문 조사한 Table이다. \n",
    "# 각 제품에 대해 이미지에 대해 차이가 있겠는가? (유의수준 0.05)\n",
    "\n",
    "df = pd.DataFrame({'A': [18, 1, 8, 7, 10, 9, 10], 'B': [8, 2, 14, 5, 5, 9, 4], 'C': [4, 1, 3, 4, 9, 5, 4], 'D': [4, 1, 2, 3, 2, 7, 3], 'E': [3, 1, 3, 1, 1, 1, 1], 'F' : [3, 25, 8, 10, 2, 1, 7]})\n",
    "df"
   ]
  },
  {
   "cell_type": "code",
   "execution_count": 47,
   "id": "f80d13a2",
   "metadata": {},
   "outputs": [
    {
     "name": "stdout",
     "output_type": "stream",
     "text": [
      "chi-square test\n",
      "chisq : 98.274\n",
      "p:0.000\n",
      "degree pf freedom: 30\n",
      "expected value: \n",
      "[[11.004  8.21   5.24   3.843  1.921  9.782]\n",
      " [ 8.528  6.362  4.061  2.978  1.489  7.581]\n",
      " [10.454  7.799  4.978  3.651  1.825  9.293]\n",
      " [ 8.253  6.157  3.93   2.882  1.441  7.336]\n",
      " [ 7.978  5.952  3.799  2.786  1.393  7.092]\n",
      " [ 8.803  6.568  4.192  3.074  1.537  7.825]\n",
      " [ 7.978  5.952  3.799  2.786  1.393  7.092]]\n"
     ]
    }
   ],
   "source": [
    "# chi-square test 실행\n",
    "chi, pval, dof, expected = stats.chi2_contingency(df)\n",
    "print(\"chi-square test\")\n",
    "print('chisq : {0:0.3f}'.format(chi))\n",
    "print('p:{0:0.3f}'.format(pval))\n",
    "print('degree pf freedom: {}'.format(dof))\n",
    "print('expected value: \\n{}'.format(expected.round(3)))\n",
    "\n",
    "# 결론 : 유의수준 5%에서 근무조별로 제품을 생산하는 부하 차이가 없다고 할 수 있다."
   ]
  },
  {
   "cell_type": "code",
   "execution_count": 48,
   "id": "301e966e",
   "metadata": {},
   "outputs": [
    {
     "data": {
      "text/html": [
       "<div>\n",
       "<style scoped>\n",
       "    .dataframe tbody tr th:only-of-type {\n",
       "        vertical-align: middle;\n",
       "    }\n",
       "\n",
       "    .dataframe tbody tr th {\n",
       "        vertical-align: top;\n",
       "    }\n",
       "\n",
       "    .dataframe thead th {\n",
       "        text-align: right;\n",
       "    }\n",
       "</style>\n",
       "<table border=\"1\" class=\"dataframe\">\n",
       "  <thead>\n",
       "    <tr style=\"text-align: right;\">\n",
       "      <th></th>\n",
       "      <th>A</th>\n",
       "      <th>B</th>\n",
       "      <th>C</th>\n",
       "    </tr>\n",
       "  </thead>\n",
       "  <tbody>\n",
       "    <tr>\n",
       "      <th>0</th>\n",
       "      <td>892</td>\n",
       "      <td>721</td>\n",
       "      <td>750</td>\n",
       "    </tr>\n",
       "    <tr>\n",
       "      <th>1</th>\n",
       "      <td>623</td>\n",
       "      <td>721</td>\n",
       "      <td>915</td>\n",
       "    </tr>\n",
       "    <tr>\n",
       "      <th>2</th>\n",
       "      <td>721</td>\n",
       "      <td>910</td>\n",
       "      <td>888</td>\n",
       "    </tr>\n",
       "    <tr>\n",
       "      <th>3</th>\n",
       "      <td>678</td>\n",
       "      <td>678</td>\n",
       "      <td>721</td>\n",
       "    </tr>\n",
       "    <tr>\n",
       "      <th>4</th>\n",
       "      <td>723</td>\n",
       "      <td>723</td>\n",
       "      <td>894</td>\n",
       "    </tr>\n",
       "    <tr>\n",
       "      <th>5</th>\n",
       "      <td>790</td>\n",
       "      <td>790</td>\n",
       "      <td>834</td>\n",
       "    </tr>\n",
       "    <tr>\n",
       "      <th>6</th>\n",
       "      <td>720</td>\n",
       "      <td>711</td>\n",
       "      <td>841</td>\n",
       "    </tr>\n",
       "    <tr>\n",
       "      <th>7</th>\n",
       "      <td>670</td>\n",
       "      <td>790</td>\n",
       "      <td>912</td>\n",
       "    </tr>\n",
       "    <tr>\n",
       "      <th>8</th>\n",
       "      <td>690</td>\n",
       "      <td>745</td>\n",
       "      <td>845</td>\n",
       "    </tr>\n",
       "    <tr>\n",
       "      <th>9</th>\n",
       "      <td>771</td>\n",
       "      <td>891</td>\n",
       "      <td>889</td>\n",
       "    </tr>\n",
       "  </tbody>\n",
       "</table>\n",
       "</div>"
      ],
      "text/plain": [
       "     A    B    C\n",
       "0  892  721  750\n",
       "1  623  721  915\n",
       "2  721  910  888\n",
       "3  678  678  721\n",
       "4  723  723  894\n",
       "5  790  790  834\n",
       "6  720  711  841\n",
       "7  670  790  912\n",
       "8  690  745  845\n",
       "9  771  891  889"
      ]
     },
     "execution_count": 48,
     "metadata": {},
     "output_type": "execute_result"
    }
   ],
   "source": [
    "df = pd.DataFrame({'A': [892, 623, 721, 678, 723, 790, 720, 670, 690, 771], 'B': [721, 721, 910, 678, 723, 790, 711, 790, 745, 891], 'C': [750, 915, 888, 721, 894, 834, 841, 912, 845, 889]})\n",
    "df"
   ]
  },
  {
   "cell_type": "code",
   "execution_count": 49,
   "id": "124a5451",
   "metadata": {},
   "outputs": [
    {
     "data": {
      "text/html": [
       "<div>\n",
       "<style scoped>\n",
       "    .dataframe tbody tr th:only-of-type {\n",
       "        vertical-align: middle;\n",
       "    }\n",
       "\n",
       "    .dataframe tbody tr th {\n",
       "        vertical-align: top;\n",
       "    }\n",
       "\n",
       "    .dataframe thead th {\n",
       "        text-align: right;\n",
       "    }\n",
       "</style>\n",
       "<table border=\"1\" class=\"dataframe\">\n",
       "  <thead>\n",
       "    <tr style=\"text-align: right;\">\n",
       "      <th></th>\n",
       "      <th>time</th>\n",
       "      <th>charge</th>\n",
       "      <th>gangjong</th>\n",
       "      <th>type</th>\n",
       "    </tr>\n",
       "  </thead>\n",
       "  <tbody>\n",
       "    <tr>\n",
       "      <th>0</th>\n",
       "      <td>32.2</td>\n",
       "      <td>A</td>\n",
       "      <td>a</td>\n",
       "      <td>a</td>\n",
       "    </tr>\n",
       "    <tr>\n",
       "      <th>1</th>\n",
       "      <td>30.4</td>\n",
       "      <td>B</td>\n",
       "      <td>a</td>\n",
       "      <td>a</td>\n",
       "    </tr>\n",
       "    <tr>\n",
       "      <th>2</th>\n",
       "      <td>33.6</td>\n",
       "      <td>C</td>\n",
       "      <td>a</td>\n",
       "      <td>a</td>\n",
       "    </tr>\n",
       "    <tr>\n",
       "      <th>3</th>\n",
       "      <td>36.4</td>\n",
       "      <td>D</td>\n",
       "      <td>a</td>\n",
       "      <td>a</td>\n",
       "    </tr>\n",
       "    <tr>\n",
       "      <th>4</th>\n",
       "      <td>33.9</td>\n",
       "      <td>E</td>\n",
       "      <td>a</td>\n",
       "      <td>a</td>\n",
       "    </tr>\n",
       "    <tr>\n",
       "      <th>5</th>\n",
       "      <td>34.9</td>\n",
       "      <td>F</td>\n",
       "      <td>a</td>\n",
       "      <td>a</td>\n",
       "    </tr>\n",
       "    <tr>\n",
       "      <th>6</th>\n",
       "      <td>33.1</td>\n",
       "      <td>A</td>\n",
       "      <td>b</td>\n",
       "      <td>a</td>\n",
       "    </tr>\n",
       "    <tr>\n",
       "      <th>7</th>\n",
       "      <td>29.9</td>\n",
       "      <td>B</td>\n",
       "      <td>b</td>\n",
       "      <td>a</td>\n",
       "    </tr>\n",
       "    <tr>\n",
       "      <th>8</th>\n",
       "      <td>31.7</td>\n",
       "      <td>C</td>\n",
       "      <td>b</td>\n",
       "      <td>a</td>\n",
       "    </tr>\n",
       "    <tr>\n",
       "      <th>9</th>\n",
       "      <td>27.5</td>\n",
       "      <td>D</td>\n",
       "      <td>b</td>\n",
       "      <td>a</td>\n",
       "    </tr>\n",
       "    <tr>\n",
       "      <th>10</th>\n",
       "      <td>34.0</td>\n",
       "      <td>E</td>\n",
       "      <td>b</td>\n",
       "      <td>a</td>\n",
       "    </tr>\n",
       "    <tr>\n",
       "      <th>11</th>\n",
       "      <td>30.7</td>\n",
       "      <td>F</td>\n",
       "      <td>b</td>\n",
       "      <td>a</td>\n",
       "    </tr>\n",
       "    <tr>\n",
       "      <th>12</th>\n",
       "      <td>32.6</td>\n",
       "      <td>A</td>\n",
       "      <td>c</td>\n",
       "      <td>b</td>\n",
       "    </tr>\n",
       "    <tr>\n",
       "      <th>13</th>\n",
       "      <td>32.7</td>\n",
       "      <td>B</td>\n",
       "      <td>c</td>\n",
       "      <td>b</td>\n",
       "    </tr>\n",
       "    <tr>\n",
       "      <th>14</th>\n",
       "      <td>29.3</td>\n",
       "      <td>C</td>\n",
       "      <td>c</td>\n",
       "      <td>b</td>\n",
       "    </tr>\n",
       "    <tr>\n",
       "      <th>15</th>\n",
       "      <td>25.9</td>\n",
       "      <td>D</td>\n",
       "      <td>c</td>\n",
       "      <td>b</td>\n",
       "    </tr>\n",
       "    <tr>\n",
       "      <th>16</th>\n",
       "      <td>31.1</td>\n",
       "      <td>E</td>\n",
       "      <td>c</td>\n",
       "      <td>b</td>\n",
       "    </tr>\n",
       "    <tr>\n",
       "      <th>17</th>\n",
       "      <td>23.8</td>\n",
       "      <td>F</td>\n",
       "      <td>c</td>\n",
       "      <td>b</td>\n",
       "    </tr>\n",
       "    <tr>\n",
       "      <th>18</th>\n",
       "      <td>26.7</td>\n",
       "      <td>A</td>\n",
       "      <td>d</td>\n",
       "      <td>b</td>\n",
       "    </tr>\n",
       "    <tr>\n",
       "      <th>19</th>\n",
       "      <td>28.5</td>\n",
       "      <td>B</td>\n",
       "      <td>d</td>\n",
       "      <td>b</td>\n",
       "    </tr>\n",
       "    <tr>\n",
       "      <th>20</th>\n",
       "      <td>30.9</td>\n",
       "      <td>C</td>\n",
       "      <td>d</td>\n",
       "      <td>b</td>\n",
       "    </tr>\n",
       "    <tr>\n",
       "      <th>21</th>\n",
       "      <td>26.2</td>\n",
       "      <td>D</td>\n",
       "      <td>d</td>\n",
       "      <td>b</td>\n",
       "    </tr>\n",
       "    <tr>\n",
       "      <th>22</th>\n",
       "      <td>32.3</td>\n",
       "      <td>E</td>\n",
       "      <td>d</td>\n",
       "      <td>b</td>\n",
       "    </tr>\n",
       "    <tr>\n",
       "      <th>23</th>\n",
       "      <td>23.7</td>\n",
       "      <td>F</td>\n",
       "      <td>d</td>\n",
       "      <td>b</td>\n",
       "    </tr>\n",
       "  </tbody>\n",
       "</table>\n",
       "</div>"
      ],
      "text/plain": [
       "    time charge gangjong type\n",
       "0   32.2      A        a    a\n",
       "1   30.4      B        a    a\n",
       "2   33.6      C        a    a\n",
       "3   36.4      D        a    a\n",
       "4   33.9      E        a    a\n",
       "5   34.9      F        a    a\n",
       "6   33.1      A        b    a\n",
       "7   29.9      B        b    a\n",
       "8   31.7      C        b    a\n",
       "9   27.5      D        b    a\n",
       "10  34.0      E        b    a\n",
       "11  30.7      F        b    a\n",
       "12  32.6      A        c    b\n",
       "13  32.7      B        c    b\n",
       "14  29.3      C        c    b\n",
       "15  25.9      D        c    b\n",
       "16  31.1      E        c    b\n",
       "17  23.8      F        c    b\n",
       "18  26.7      A        d    b\n",
       "19  28.5      B        d    b\n",
       "20  30.9      C        d    b\n",
       "21  26.2      D        d    b\n",
       "22  32.3      E        d    b\n",
       "23  23.7      F        d    b"
      ]
     },
     "execution_count": 49,
     "metadata": {},
     "output_type": "execute_result"
    }
   ],
   "source": [
    "# p328 실습\n",
    "# 추론 통계 (ANOVA)\n",
    "# 철강의 청정도를 높이기 위해 제강공정에서 2차 정련을 실시하는데, \n",
    "# 강종별로 2차 정련시간의 차이가 있는지와 type별로 2차정련 시간에 차이가 있는지 검정하라 \n",
    "# (유의수준 0.05) (data set : ANOVA.csv)\n",
    "\n",
    "ano = pd.read_csv(\"/home/piai/다운로드/2주차 실습파일/1 Big Data 분석 기초/ANOVA.csv\")\n",
    "ano\n"
   ]
  },
  {
   "cell_type": "code",
   "execution_count": 50,
   "id": "87ea9537",
   "metadata": {},
   "outputs": [
    {
     "data": {
      "text/html": [
       "<div>\n",
       "<style scoped>\n",
       "    .dataframe tbody tr th:only-of-type {\n",
       "        vertical-align: middle;\n",
       "    }\n",
       "\n",
       "    .dataframe tbody tr th {\n",
       "        vertical-align: top;\n",
       "    }\n",
       "\n",
       "    .dataframe thead th {\n",
       "        text-align: right;\n",
       "    }\n",
       "</style>\n",
       "<table border=\"1\" class=\"dataframe\">\n",
       "  <thead>\n",
       "    <tr style=\"text-align: right;\">\n",
       "      <th></th>\n",
       "      <th>time</th>\n",
       "      <th>charge</th>\n",
       "      <th>gangjong</th>\n",
       "    </tr>\n",
       "  </thead>\n",
       "  <tbody>\n",
       "    <tr>\n",
       "      <th>0</th>\n",
       "      <td>32.2</td>\n",
       "      <td>A</td>\n",
       "      <td>a</td>\n",
       "    </tr>\n",
       "    <tr>\n",
       "      <th>1</th>\n",
       "      <td>30.4</td>\n",
       "      <td>B</td>\n",
       "      <td>a</td>\n",
       "    </tr>\n",
       "    <tr>\n",
       "      <th>2</th>\n",
       "      <td>33.6</td>\n",
       "      <td>C</td>\n",
       "      <td>a</td>\n",
       "    </tr>\n",
       "    <tr>\n",
       "      <th>3</th>\n",
       "      <td>36.4</td>\n",
       "      <td>D</td>\n",
       "      <td>a</td>\n",
       "    </tr>\n",
       "    <tr>\n",
       "      <th>4</th>\n",
       "      <td>33.9</td>\n",
       "      <td>E</td>\n",
       "      <td>a</td>\n",
       "    </tr>\n",
       "    <tr>\n",
       "      <th>5</th>\n",
       "      <td>34.9</td>\n",
       "      <td>F</td>\n",
       "      <td>a</td>\n",
       "    </tr>\n",
       "  </tbody>\n",
       "</table>\n",
       "</div>"
      ],
      "text/plain": [
       "   time charge gangjong\n",
       "0  32.2      A        a\n",
       "1  30.4      B        a\n",
       "2  33.6      C        a\n",
       "3  36.4      D        a\n",
       "4  33.9      E        a\n",
       "5  34.9      F        a"
      ]
     },
     "execution_count": 50,
     "metadata": {},
     "output_type": "execute_result"
    }
   ],
   "source": [
    "ano_A = ano.loc[ano.gangjong == 'a', ['time', 'charge', 'gangjong']]\n",
    "ano_A"
   ]
  },
  {
   "cell_type": "code",
   "execution_count": 51,
   "id": "7974955a",
   "metadata": {},
   "outputs": [
    {
     "data": {
      "text/html": [
       "<div>\n",
       "<style scoped>\n",
       "    .dataframe tbody tr th:only-of-type {\n",
       "        vertical-align: middle;\n",
       "    }\n",
       "\n",
       "    .dataframe tbody tr th {\n",
       "        vertical-align: top;\n",
       "    }\n",
       "\n",
       "    .dataframe thead th {\n",
       "        text-align: right;\n",
       "    }\n",
       "</style>\n",
       "<table border=\"1\" class=\"dataframe\">\n",
       "  <thead>\n",
       "    <tr style=\"text-align: right;\">\n",
       "      <th></th>\n",
       "      <th>time</th>\n",
       "      <th>charge</th>\n",
       "      <th>gangjong</th>\n",
       "    </tr>\n",
       "  </thead>\n",
       "  <tbody>\n",
       "    <tr>\n",
       "      <th>6</th>\n",
       "      <td>33.1</td>\n",
       "      <td>A</td>\n",
       "      <td>b</td>\n",
       "    </tr>\n",
       "    <tr>\n",
       "      <th>7</th>\n",
       "      <td>29.9</td>\n",
       "      <td>B</td>\n",
       "      <td>b</td>\n",
       "    </tr>\n",
       "    <tr>\n",
       "      <th>8</th>\n",
       "      <td>31.7</td>\n",
       "      <td>C</td>\n",
       "      <td>b</td>\n",
       "    </tr>\n",
       "    <tr>\n",
       "      <th>9</th>\n",
       "      <td>27.5</td>\n",
       "      <td>D</td>\n",
       "      <td>b</td>\n",
       "    </tr>\n",
       "    <tr>\n",
       "      <th>10</th>\n",
       "      <td>34.0</td>\n",
       "      <td>E</td>\n",
       "      <td>b</td>\n",
       "    </tr>\n",
       "    <tr>\n",
       "      <th>11</th>\n",
       "      <td>30.7</td>\n",
       "      <td>F</td>\n",
       "      <td>b</td>\n",
       "    </tr>\n",
       "  </tbody>\n",
       "</table>\n",
       "</div>"
      ],
      "text/plain": [
       "    time charge gangjong\n",
       "6   33.1      A        b\n",
       "7   29.9      B        b\n",
       "8   31.7      C        b\n",
       "9   27.5      D        b\n",
       "10  34.0      E        b\n",
       "11  30.7      F        b"
      ]
     },
     "execution_count": 51,
     "metadata": {},
     "output_type": "execute_result"
    }
   ],
   "source": [
    "ano_B = ano.loc[ano.gangjong == 'b', ['time', 'charge', 'gangjong']]\n",
    "ano_B"
   ]
  },
  {
   "cell_type": "code",
   "execution_count": 52,
   "id": "239f22e8",
   "metadata": {},
   "outputs": [
    {
     "data": {
      "text/html": [
       "<div>\n",
       "<style scoped>\n",
       "    .dataframe tbody tr th:only-of-type {\n",
       "        vertical-align: middle;\n",
       "    }\n",
       "\n",
       "    .dataframe tbody tr th {\n",
       "        vertical-align: top;\n",
       "    }\n",
       "\n",
       "    .dataframe thead th {\n",
       "        text-align: right;\n",
       "    }\n",
       "</style>\n",
       "<table border=\"1\" class=\"dataframe\">\n",
       "  <thead>\n",
       "    <tr style=\"text-align: right;\">\n",
       "      <th></th>\n",
       "      <th>time</th>\n",
       "      <th>charge</th>\n",
       "      <th>gangjong</th>\n",
       "    </tr>\n",
       "  </thead>\n",
       "  <tbody>\n",
       "    <tr>\n",
       "      <th>12</th>\n",
       "      <td>32.6</td>\n",
       "      <td>A</td>\n",
       "      <td>c</td>\n",
       "    </tr>\n",
       "    <tr>\n",
       "      <th>13</th>\n",
       "      <td>32.7</td>\n",
       "      <td>B</td>\n",
       "      <td>c</td>\n",
       "    </tr>\n",
       "    <tr>\n",
       "      <th>14</th>\n",
       "      <td>29.3</td>\n",
       "      <td>C</td>\n",
       "      <td>c</td>\n",
       "    </tr>\n",
       "    <tr>\n",
       "      <th>15</th>\n",
       "      <td>25.9</td>\n",
       "      <td>D</td>\n",
       "      <td>c</td>\n",
       "    </tr>\n",
       "    <tr>\n",
       "      <th>16</th>\n",
       "      <td>31.1</td>\n",
       "      <td>E</td>\n",
       "      <td>c</td>\n",
       "    </tr>\n",
       "    <tr>\n",
       "      <th>17</th>\n",
       "      <td>23.8</td>\n",
       "      <td>F</td>\n",
       "      <td>c</td>\n",
       "    </tr>\n",
       "  </tbody>\n",
       "</table>\n",
       "</div>"
      ],
      "text/plain": [
       "    time charge gangjong\n",
       "12  32.6      A        c\n",
       "13  32.7      B        c\n",
       "14  29.3      C        c\n",
       "15  25.9      D        c\n",
       "16  31.1      E        c\n",
       "17  23.8      F        c"
      ]
     },
     "execution_count": 52,
     "metadata": {},
     "output_type": "execute_result"
    }
   ],
   "source": [
    "ano_C = ano.loc[ano.gangjong == 'c', ['time', 'charge', 'gangjong']]\n",
    "ano_C"
   ]
  },
  {
   "cell_type": "code",
   "execution_count": 53,
   "id": "bc4abb54",
   "metadata": {},
   "outputs": [
    {
     "data": {
      "text/html": [
       "<div>\n",
       "<style scoped>\n",
       "    .dataframe tbody tr th:only-of-type {\n",
       "        vertical-align: middle;\n",
       "    }\n",
       "\n",
       "    .dataframe tbody tr th {\n",
       "        vertical-align: top;\n",
       "    }\n",
       "\n",
       "    .dataframe thead th {\n",
       "        text-align: right;\n",
       "    }\n",
       "</style>\n",
       "<table border=\"1\" class=\"dataframe\">\n",
       "  <thead>\n",
       "    <tr style=\"text-align: right;\">\n",
       "      <th></th>\n",
       "      <th>time</th>\n",
       "      <th>charge</th>\n",
       "      <th>gangjong</th>\n",
       "    </tr>\n",
       "  </thead>\n",
       "  <tbody>\n",
       "    <tr>\n",
       "      <th>18</th>\n",
       "      <td>26.7</td>\n",
       "      <td>A</td>\n",
       "      <td>d</td>\n",
       "    </tr>\n",
       "    <tr>\n",
       "      <th>19</th>\n",
       "      <td>28.5</td>\n",
       "      <td>B</td>\n",
       "      <td>d</td>\n",
       "    </tr>\n",
       "    <tr>\n",
       "      <th>20</th>\n",
       "      <td>30.9</td>\n",
       "      <td>C</td>\n",
       "      <td>d</td>\n",
       "    </tr>\n",
       "    <tr>\n",
       "      <th>21</th>\n",
       "      <td>26.2</td>\n",
       "      <td>D</td>\n",
       "      <td>d</td>\n",
       "    </tr>\n",
       "    <tr>\n",
       "      <th>22</th>\n",
       "      <td>32.3</td>\n",
       "      <td>E</td>\n",
       "      <td>d</td>\n",
       "    </tr>\n",
       "    <tr>\n",
       "      <th>23</th>\n",
       "      <td>23.7</td>\n",
       "      <td>F</td>\n",
       "      <td>d</td>\n",
       "    </tr>\n",
       "  </tbody>\n",
       "</table>\n",
       "</div>"
      ],
      "text/plain": [
       "    time charge gangjong\n",
       "18  26.7      A        d\n",
       "19  28.5      B        d\n",
       "20  30.9      C        d\n",
       "21  26.2      D        d\n",
       "22  32.3      E        d\n",
       "23  23.7      F        d"
      ]
     },
     "execution_count": 53,
     "metadata": {},
     "output_type": "execute_result"
    }
   ],
   "source": [
    "ano_D = ano.loc[ano.gangjong == 'd', ['time', 'charge', 'gangjong']]\n",
    "ano_D"
   ]
  },
  {
   "cell_type": "code",
   "execution_count": 54,
   "id": "96c49762",
   "metadata": {},
   "outputs": [
    {
     "name": "stdout",
     "output_type": "stream",
     "text": [
      "statistic=0.9879402484638727, p-vaule=0.9835576371370772\n",
      "statistic=0.9769708531514716, p-vaule=0.9355481069537137\n",
      "statistic=0.8929418389400074, p-vaule=0.33388968261479385\n",
      "statistic=0.9713903657895416, p-vaule=0.901640794517041\n"
     ]
    }
   ],
   "source": [
    "# 강종별 time 정규성 검정 : shapiro-Wilk Test\n",
    "\n",
    "statistic, p = stats.shapiro(ano_A['time'])\n",
    "print(\"statistic={}, p-vaule={}\".format(statistic, p))\n",
    "\n",
    "statistic, p = stats.shapiro(ano_B['time'])\n",
    "print(\"statistic={}, p-vaule={}\".format(statistic, p))\n",
    "\n",
    "statistic, p = stats.shapiro(ano_C['time'])\n",
    "print(\"statistic={}, p-vaule={}\".format(statistic, p))\n",
    "\n",
    "statistic, p = stats.shapiro(ano_D['time'])\n",
    "print(\"statistic={}, p-vaule={}\".format(statistic, p))\n"
   ]
  },
  {
   "cell_type": "code",
   "execution_count": 55,
   "id": "58fce01b",
   "metadata": {},
   "outputs": [
    {
     "data": {
      "text/plain": [
       "BartlettResult(statistic=1.8729084232387967, pvalue=0.5991991808067023)"
      ]
     },
     "execution_count": 55,
     "metadata": {},
     "output_type": "execute_result"
    }
   ],
   "source": [
    "# 강종별 time 등분산성 검정 : bartlett Test\n",
    "stats.bartlett(ano_A['time'], ano_B['time'], ano_C['time'], ano_D['time'])"
   ]
  },
  {
   "cell_type": "code",
   "execution_count": 56,
   "id": "4d8764cb",
   "metadata": {},
   "outputs": [
    {
     "data": {
      "text/plain": [
       "F_onewayResult(statistic=4.171868041291934, pvalue=0.019013221784198356)"
      ]
     },
     "execution_count": 56,
     "metadata": {},
     "output_type": "execute_result"
    }
   ],
   "source": [
    "# ANOVA 실행\n",
    "f_result = stats.f_oneway(ano_A['time'], ano_B['time'], ano_C['time'], ano_D['time'])\n",
    "f_result"
   ]
  },
  {
   "cell_type": "code",
   "execution_count": 57,
   "id": "fd253cd7",
   "metadata": {},
   "outputs": [
    {
     "name": "stdout",
     "output_type": "stream",
     "text": [
      "One-way ANOVA\n",
      "F 통계량: 4.172\n",
      "p-value: 4.172\n"
     ]
    }
   ],
   "source": [
    "# ANOVA의 값 f값 p값 저장\n",
    "f, p = f_result.statistic.round(3), f_result.statistic.round(3)\n",
    "print(\"One-way ANOVA\")\n",
    "print(\"F 통계량: {}\".format(f))\n",
    "print(\"p-value: {}\".format(p))\n",
    "\n",
    "# 결론 : 유의수준 5%에서 p_value가 4.172이므로 강종별로 2차 정련시간의 차이가 있다고 할 수 있다."
   ]
  },
  {
   "cell_type": "code",
   "execution_count": 58,
   "id": "5c748fec",
   "metadata": {},
   "outputs": [
    {
     "data": {
      "text/html": [
       "<div>\n",
       "<style scoped>\n",
       "    .dataframe tbody tr th:only-of-type {\n",
       "        vertical-align: middle;\n",
       "    }\n",
       "\n",
       "    .dataframe tbody tr th {\n",
       "        vertical-align: top;\n",
       "    }\n",
       "\n",
       "    .dataframe thead th {\n",
       "        text-align: right;\n",
       "    }\n",
       "</style>\n",
       "<table border=\"1\" class=\"dataframe\">\n",
       "  <thead>\n",
       "    <tr style=\"text-align: right;\">\n",
       "      <th></th>\n",
       "      <th>time</th>\n",
       "      <th>charge</th>\n",
       "      <th>type</th>\n",
       "    </tr>\n",
       "  </thead>\n",
       "  <tbody>\n",
       "    <tr>\n",
       "      <th>0</th>\n",
       "      <td>32.2</td>\n",
       "      <td>A</td>\n",
       "      <td>a</td>\n",
       "    </tr>\n",
       "    <tr>\n",
       "      <th>1</th>\n",
       "      <td>30.4</td>\n",
       "      <td>B</td>\n",
       "      <td>a</td>\n",
       "    </tr>\n",
       "    <tr>\n",
       "      <th>2</th>\n",
       "      <td>33.6</td>\n",
       "      <td>C</td>\n",
       "      <td>a</td>\n",
       "    </tr>\n",
       "    <tr>\n",
       "      <th>3</th>\n",
       "      <td>36.4</td>\n",
       "      <td>D</td>\n",
       "      <td>a</td>\n",
       "    </tr>\n",
       "    <tr>\n",
       "      <th>4</th>\n",
       "      <td>33.9</td>\n",
       "      <td>E</td>\n",
       "      <td>a</td>\n",
       "    </tr>\n",
       "    <tr>\n",
       "      <th>5</th>\n",
       "      <td>34.9</td>\n",
       "      <td>F</td>\n",
       "      <td>a</td>\n",
       "    </tr>\n",
       "    <tr>\n",
       "      <th>6</th>\n",
       "      <td>33.1</td>\n",
       "      <td>A</td>\n",
       "      <td>a</td>\n",
       "    </tr>\n",
       "    <tr>\n",
       "      <th>7</th>\n",
       "      <td>29.9</td>\n",
       "      <td>B</td>\n",
       "      <td>a</td>\n",
       "    </tr>\n",
       "    <tr>\n",
       "      <th>8</th>\n",
       "      <td>31.7</td>\n",
       "      <td>C</td>\n",
       "      <td>a</td>\n",
       "    </tr>\n",
       "    <tr>\n",
       "      <th>9</th>\n",
       "      <td>27.5</td>\n",
       "      <td>D</td>\n",
       "      <td>a</td>\n",
       "    </tr>\n",
       "    <tr>\n",
       "      <th>10</th>\n",
       "      <td>34.0</td>\n",
       "      <td>E</td>\n",
       "      <td>a</td>\n",
       "    </tr>\n",
       "    <tr>\n",
       "      <th>11</th>\n",
       "      <td>30.7</td>\n",
       "      <td>F</td>\n",
       "      <td>a</td>\n",
       "    </tr>\n",
       "  </tbody>\n",
       "</table>\n",
       "</div>"
      ],
      "text/plain": [
       "    time charge type\n",
       "0   32.2      A    a\n",
       "1   30.4      B    a\n",
       "2   33.6      C    a\n",
       "3   36.4      D    a\n",
       "4   33.9      E    a\n",
       "5   34.9      F    a\n",
       "6   33.1      A    a\n",
       "7   29.9      B    a\n",
       "8   31.7      C    a\n",
       "9   27.5      D    a\n",
       "10  34.0      E    a\n",
       "11  30.7      F    a"
      ]
     },
     "execution_count": 58,
     "metadata": {},
     "output_type": "execute_result"
    }
   ],
   "source": [
    "# type 별 2차정련 시간 차이\n",
    "ano_E = ano.loc[ano.type == 'a', ['time', 'charge', 'type']]\n",
    "ano_E"
   ]
  },
  {
   "cell_type": "code",
   "execution_count": 59,
   "id": "97561dea",
   "metadata": {},
   "outputs": [
    {
     "data": {
      "text/html": [
       "<div>\n",
       "<style scoped>\n",
       "    .dataframe tbody tr th:only-of-type {\n",
       "        vertical-align: middle;\n",
       "    }\n",
       "\n",
       "    .dataframe tbody tr th {\n",
       "        vertical-align: top;\n",
       "    }\n",
       "\n",
       "    .dataframe thead th {\n",
       "        text-align: right;\n",
       "    }\n",
       "</style>\n",
       "<table border=\"1\" class=\"dataframe\">\n",
       "  <thead>\n",
       "    <tr style=\"text-align: right;\">\n",
       "      <th></th>\n",
       "      <th>time</th>\n",
       "      <th>charge</th>\n",
       "      <th>type</th>\n",
       "    </tr>\n",
       "  </thead>\n",
       "  <tbody>\n",
       "    <tr>\n",
       "      <th>12</th>\n",
       "      <td>32.6</td>\n",
       "      <td>A</td>\n",
       "      <td>b</td>\n",
       "    </tr>\n",
       "    <tr>\n",
       "      <th>13</th>\n",
       "      <td>32.7</td>\n",
       "      <td>B</td>\n",
       "      <td>b</td>\n",
       "    </tr>\n",
       "    <tr>\n",
       "      <th>14</th>\n",
       "      <td>29.3</td>\n",
       "      <td>C</td>\n",
       "      <td>b</td>\n",
       "    </tr>\n",
       "    <tr>\n",
       "      <th>15</th>\n",
       "      <td>25.9</td>\n",
       "      <td>D</td>\n",
       "      <td>b</td>\n",
       "    </tr>\n",
       "    <tr>\n",
       "      <th>16</th>\n",
       "      <td>31.1</td>\n",
       "      <td>E</td>\n",
       "      <td>b</td>\n",
       "    </tr>\n",
       "    <tr>\n",
       "      <th>17</th>\n",
       "      <td>23.8</td>\n",
       "      <td>F</td>\n",
       "      <td>b</td>\n",
       "    </tr>\n",
       "    <tr>\n",
       "      <th>18</th>\n",
       "      <td>26.7</td>\n",
       "      <td>A</td>\n",
       "      <td>b</td>\n",
       "    </tr>\n",
       "    <tr>\n",
       "      <th>19</th>\n",
       "      <td>28.5</td>\n",
       "      <td>B</td>\n",
       "      <td>b</td>\n",
       "    </tr>\n",
       "    <tr>\n",
       "      <th>20</th>\n",
       "      <td>30.9</td>\n",
       "      <td>C</td>\n",
       "      <td>b</td>\n",
       "    </tr>\n",
       "    <tr>\n",
       "      <th>21</th>\n",
       "      <td>26.2</td>\n",
       "      <td>D</td>\n",
       "      <td>b</td>\n",
       "    </tr>\n",
       "    <tr>\n",
       "      <th>22</th>\n",
       "      <td>32.3</td>\n",
       "      <td>E</td>\n",
       "      <td>b</td>\n",
       "    </tr>\n",
       "    <tr>\n",
       "      <th>23</th>\n",
       "      <td>23.7</td>\n",
       "      <td>F</td>\n",
       "      <td>b</td>\n",
       "    </tr>\n",
       "  </tbody>\n",
       "</table>\n",
       "</div>"
      ],
      "text/plain": [
       "    time charge type\n",
       "12  32.6      A    b\n",
       "13  32.7      B    b\n",
       "14  29.3      C    b\n",
       "15  25.9      D    b\n",
       "16  31.1      E    b\n",
       "17  23.8      F    b\n",
       "18  26.7      A    b\n",
       "19  28.5      B    b\n",
       "20  30.9      C    b\n",
       "21  26.2      D    b\n",
       "22  32.3      E    b\n",
       "23  23.7      F    b"
      ]
     },
     "execution_count": 59,
     "metadata": {},
     "output_type": "execute_result"
    }
   ],
   "source": [
    "ano_F = ano.loc[ano.type == 'b', ['time', 'charge', 'type']]\n",
    "ano_F"
   ]
  },
  {
   "cell_type": "code",
   "execution_count": 60,
   "id": "6cec8cec",
   "metadata": {},
   "outputs": [
    {
     "name": "stdout",
     "output_type": "stream",
     "text": [
      "statistic=0.9821396890860578, p-vaule=0.9907690420937295\n",
      "statistic=0.909827276366793, p-vaule=0.2122626774616082\n"
     ]
    }
   ],
   "source": [
    "# type 별 time 정규성 검정 : shapiro-Wilk Test\n",
    "\n",
    "statistic, p = stats.shapiro(ano_E['time'])\n",
    "print(\"statistic={}, p-vaule={}\".format(statistic, p))\n",
    "\n",
    "statistic, p = stats.shapiro(ano_F['time'])\n",
    "print(\"statistic={}, p-vaule={}\".format(statistic, p))"
   ]
  },
  {
   "cell_type": "code",
   "execution_count": 61,
   "id": "2804a36f",
   "metadata": {},
   "outputs": [
    {
     "data": {
      "text/plain": [
       "BartlettResult(statistic=0.9529700642151171, pvalue=0.3289644435379069)"
      ]
     },
     "execution_count": 61,
     "metadata": {},
     "output_type": "execute_result"
    }
   ],
   "source": [
    "# TYPE 별 time 등분산성 검정 : bartlett Test\n",
    "stats.bartlett(ano_E['time'], ano_F['time'])"
   ]
  },
  {
   "cell_type": "code",
   "execution_count": 62,
   "id": "cb320d5b",
   "metadata": {},
   "outputs": [
    {
     "data": {
      "text/plain": [
       "F_onewayResult(statistic=9.653815948538297, pvalue=0.005139574956672389)"
      ]
     },
     "execution_count": 62,
     "metadata": {},
     "output_type": "execute_result"
    }
   ],
   "source": [
    "# ANOVA 실행\n",
    "f_result = stats.f_oneway(ano_E['time'], ano_F['time'])\n",
    "f_result"
   ]
  },
  {
   "cell_type": "code",
   "execution_count": 63,
   "id": "c632dc1b",
   "metadata": {},
   "outputs": [
    {
     "name": "stdout",
     "output_type": "stream",
     "text": [
      "One-way ANOVA\n",
      "F 통계량: 9.654\n",
      "p-value: 9.654\n"
     ]
    }
   ],
   "source": [
    "# ANOVA의 값 f값 p값 저장\n",
    "f, p = f_result.statistic.round(3), f_result.statistic.round(3)\n",
    "print(\"One-way ANOVA\")\n",
    "print(\"F 통계량: {}\".format(f))\n",
    "print(\"p-value: {}\".format(p))\n",
    "\n",
    "# 결론 : 유의수준 5%에서 p_value가 9.654므로 type별로 2차 정련시간의 차이가 있다고 할 수 있다."
   ]
  },
  {
   "cell_type": "code",
   "execution_count": 64,
   "id": "57d9ee71",
   "metadata": {},
   "outputs": [
    {
     "name": "stdout",
     "output_type": "stream",
     "text": [
      "Correlation Analysis\n",
      "corr:-0.723\n",
      "p-value:0.000\n"
     ]
    }
   ],
   "source": [
    "# p333 실습\n",
    "# 추론 통계 (correlation analysis)\n",
    "# 초코칩의 강도와 재료 반죽온도간에 관계를 분석하기 위한 상관분석을 하세요\n",
    "\n",
    "df1 = [37.6, 38.6, 37.2, 36.4, 38.6, 39, 37.2, 36.1, 35.9, 37.1, 36.9, 37.5, 36.3, 38.1, 39, 36.9, 36.8, 37.6, 33, 33.5]\n",
    "df2 = [14, 15, 14, 16, 17, 14, 17, 16, 15, 16, 14, 16, 18, 13, 15, 17, 14, 16, 20, 21]\n",
    "\n",
    "corr, pval = stats.pearsonr(df1, df2)\n",
    "\n",
    "print(\"Correlation Analysis\")\n",
    "print('corr:{0:0.3f}'.format(corr))\n",
    "print('p-value:{0:0.3f}'.format(pval))\n",
    "\n",
    "# 결론 : 초코칩의 강도와 재료 반죽온도 간에  약한 상관성이 있다고 할 수 있다."
   ]
  },
  {
   "cell_type": "code",
   "execution_count": null,
   "id": "9ef9f7c4",
   "metadata": {},
   "outputs": [],
   "source": []
  },
  {
   "cell_type": "code",
   "execution_count": null,
   "id": "22a08dc4",
   "metadata": {},
   "outputs": [],
   "source": []
  },
  {
   "cell_type": "code",
   "execution_count": null,
   "id": "36bd42d5",
   "metadata": {},
   "outputs": [],
   "source": []
  }
 ],
 "metadata": {
  "kernelspec": {
   "display_name": "Python [conda env:base] *",
   "language": "python",
   "name": "conda-base-py"
  },
  "language_info": {
   "codemirror_mode": {
    "name": "ipython",
    "version": 3
   },
   "file_extension": ".py",
   "mimetype": "text/x-python",
   "name": "python",
   "nbconvert_exporter": "python",
   "pygments_lexer": "ipython3",
   "version": "3.10.9"
  }
 },
 "nbformat": 4,
 "nbformat_minor": 5
}
