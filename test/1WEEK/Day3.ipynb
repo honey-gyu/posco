{
 "cells": [
  {
   "cell_type": "code",
   "execution_count": null,
   "id": "2a155574",
   "metadata": {},
   "outputs": [],
   "source": [
    "# 중첩리스트 예시"
   ]
  },
  {
   "cell_type": "code",
   "execution_count": 1,
   "id": "091c3f10",
   "metadata": {},
   "outputs": [
    {
     "data": {
      "text/plain": [
       "[[201801, 84, 73], [201802, 92, 89], [201803, 77, 62], [201804, 58, 68]]"
      ]
     },
     "execution_count": 1,
     "metadata": {},
     "output_type": "execute_result"
    }
   ],
   "source": [
    "slist = [[201801, 84, 73], [201802, 92, 89], [201803, 77, 62], [201804, 58, 68]]\n",
    "slist"
   ]
  },
  {
   "cell_type": "code",
   "execution_count": 2,
   "id": "7580d67a",
   "metadata": {},
   "outputs": [
    {
     "data": {
      "text/plain": [
       "[201802, 92, 89]"
      ]
     },
     "execution_count": 2,
     "metadata": {},
     "output_type": "execute_result"
    }
   ],
   "source": [
    "slist[1]"
   ]
  },
  {
   "cell_type": "code",
   "execution_count": 5,
   "id": "06bc410c",
   "metadata": {},
   "outputs": [
    {
     "data": {
      "text/plain": [
       "89"
      ]
     },
     "execution_count": 5,
     "metadata": {},
     "output_type": "execute_result"
    }
   ],
   "source": [
    "slist[1][2]"
   ]
  },
  {
   "cell_type": "code",
   "execution_count": 8,
   "id": "8300d9c1",
   "metadata": {},
   "outputs": [
    {
     "data": {
      "text/plain": [
       "39"
      ]
     },
     "execution_count": 8,
     "metadata": {},
     "output_type": "execute_result"
    }
   ],
   "source": [
    "slist[1][2] = 39\n",
    "slist[1][2]"
   ]
  },
  {
   "cell_type": "code",
   "execution_count": 10,
   "id": "e264adab",
   "metadata": {},
   "outputs": [],
   "source": [
    "# 목표 정렬\n",
    "slist.sort()"
   ]
  },
  {
   "cell_type": "code",
   "execution_count": 11,
   "id": "2027c68b",
   "metadata": {},
   "outputs": [
    {
     "data": {
      "text/plain": [
       "[[201801, 84, 73], [201802, 92, 39], [201803, 77, 62], [201804, 58, 68]]"
      ]
     },
     "execution_count": 11,
     "metadata": {},
     "output_type": "execute_result"
    }
   ],
   "source": [
    "slist"
   ]
  },
  {
   "cell_type": "code",
   "execution_count": 15,
   "id": "47672dc7",
   "metadata": {},
   "outputs": [
    {
     "data": {
      "text/plain": [
       "[[201804, 58, 68], [201803, 77, 62], [201802, 92, 39], [201801, 84, 73]]"
      ]
     },
     "execution_count": 15,
     "metadata": {},
     "output_type": "execute_result"
    }
   ],
   "source": [
    "# 내림차순 reverse\n",
    "# 함수에 shift + tab 치면 메서드 나옴\n",
    "slist.sort(reverse=True)\n",
    "slist\n",
    "\n",
    "# slist.sort(reverse=True, key=lambda e : e[2]) # 람다 개념 다시\n",
    "# slist"
   ]
  },
  {
   "cell_type": "code",
   "execution_count": 19,
   "id": "ed90fc7b",
   "metadata": {},
   "outputs": [],
   "source": [
    "def fun(e): # 두 번째 것을 읽겠다.\n",
    "    return e[2]"
   ]
  },
  {
   "cell_type": "code",
   "execution_count": 20,
   "id": "7bc55086",
   "metadata": {},
   "outputs": [
    {
     "data": {
      "text/plain": [
       "[201804, 58, 68]"
      ]
     },
     "execution_count": 20,
     "metadata": {},
     "output_type": "execute_result"
    }
   ],
   "source": [
    "slist[0] # 인덱스[0]을 읽었다."
   ]
  },
  {
   "cell_type": "code",
   "execution_count": 21,
   "id": "4fc42a6d",
   "metadata": {},
   "outputs": [
    {
     "data": {
      "text/plain": [
       "68"
      ]
     },
     "execution_count": 21,
     "metadata": {},
     "output_type": "execute_result"
    }
   ],
   "source": [
    "fun(slist[0]) # 인덱스[0] 중 2번째 것을 읽겠다."
   ]
  },
  {
   "cell_type": "code",
   "execution_count": null,
   "id": "5ebb241f",
   "metadata": {},
   "outputs": [],
   "source": []
  },
  {
   "cell_type": "code",
   "execution_count": null,
   "id": "79a347a2",
   "metadata": {},
   "outputs": [],
   "source": []
  },
  {
   "cell_type": "code",
   "execution_count": null,
   "id": "2ba746bd",
   "metadata": {},
   "outputs": [],
   "source": []
  },
  {
   "cell_type": "code",
   "execution_count": 1,
   "id": "17b780b4",
   "metadata": {},
   "outputs": [
    {
     "ename": "SyntaxError",
     "evalue": "invalid syntax (3412159199.py, line 1)",
     "output_type": "error",
     "traceback": [
      "\u001b[0;36m  Cell \u001b[0;32mIn[1], line 1\u001b[0;36m\u001b[0m\n\u001b[0;31m    다시 어제 file 이어서\u001b[0m\n\u001b[0m       ^\u001b[0m\n\u001b[0;31mSyntaxError\u001b[0m\u001b[0;31m:\u001b[0m invalid syntax\n"
     ]
    }
   ],
   "source": [
    "다시 어제 file 이어서"
   ]
  },
  {
   "cell_type": "code",
   "execution_count": 6,
   "id": "a2d12708",
   "metadata": {},
   "outputs": [
    {
     "name": "stdout",
     "output_type": "stream",
     "text": [
      "1 line\n",
      "2 line\n"
     ]
    }
   ],
   "source": [
    "f = open(\"new.txt\", \"r\")\n",
    "line = f.readline()\n",
    "print(line, end= '')\n",
    "line = f.readline()\n",
    "print(line, end= '')\n",
    "f.close()"
   ]
  },
  {
   "cell_type": "code",
   "execution_count": 8,
   "id": "706e14db",
   "metadata": {},
   "outputs": [
    {
     "name": "stdout",
     "output_type": "stream",
     "text": [
      "['1 line\\n', '2 line\\n', '3 line\\n', '4 line\\n', '5 line\\n']\n"
     ]
    }
   ],
   "source": [
    "f = open(\"new.txt\", \"r\")\n",
    "lines = f.readlines()\n",
    "print(lines)\n",
    "f.close()"
   ]
  },
  {
   "cell_type": "code",
   "execution_count": 10,
   "id": "a7fb832e",
   "metadata": {},
   "outputs": [
    {
     "ename": "SyntaxError",
     "evalue": "invalid syntax (1423792277.py, line 1)",
     "output_type": "error",
     "traceback": [
      "\u001b[0;36m  Cell \u001b[0;32mIn[10], line 1\u001b[0;36m\u001b[0m\n\u001b[0;31m    f.read()랑 for문 사용 해보기\u001b[0m\n\u001b[0m            ^\u001b[0m\n\u001b[0;31mSyntaxError\u001b[0m\u001b[0;31m:\u001b[0m invalid syntax\n"
     ]
    }
   ],
   "source": [
    "f.read()랑 for문 사용 해보기"
   ]
  },
  {
   "cell_type": "code",
   "execution_count": 11,
   "id": "f442c36d",
   "metadata": {},
   "outputs": [
    {
     "ename": "SyntaxError",
     "evalue": "invalid syntax (770069707.py, line 1)",
     "output_type": "error",
     "traceback": [
      "\u001b[0;36m  Cell \u001b[0;32mIn[11], line 1\u001b[0;36m\u001b[0m\n\u001b[0;31m    파일에 내용 추가하기\u001b[0m\n\u001b[0m        ^\u001b[0m\n\u001b[0;31mSyntaxError\u001b[0m\u001b[0;31m:\u001b[0m invalid syntax\n"
     ]
    }
   ],
   "source": [
    "파일에 내용 추가하기"
   ]
  },
  {
   "cell_type": "code",
   "execution_count": 12,
   "id": "0eac133c",
   "metadata": {},
   "outputs": [],
   "source": [
    "# 파일을 열고 자동으로 닫기 with ~ as\n",
    "with open(\"output.txt\", \"w\") as f :\n",
    "    f.write(\"Python is fun!\")\n",
    "# with 블록을 벗어난 순간 파일을 자동으로 닫아준다.\n"
   ]
  },
  {
   "cell_type": "code",
   "execution_count": 17,
   "id": "2057839b",
   "metadata": {},
   "outputs": [
    {
     "name": "stdout",
     "output_type": "stream",
     "text": [
      "Enter a file name :test.txt\n",
      "FIST LINE\n",
      "SECOND LINE\n",
      "THIRD LINE\n"
     ]
    }
   ],
   "source": [
    "# 실습 1\n",
    "\n",
    "import os\n",
    "\n",
    "name = input(\"Enter a file name :\")\n",
    "\n",
    "if os.path.exists(\"test.txt\") == True:\n",
    "    \n",
    "    with open(\"test.txt\", \"r\") as f :\n",
    "        for line in f:\n",
    "            print(line.upper(), end ='')\n",
    "else:\n",
    "    print(\"파일이 존재하지 않습니다!\")\n"
   ]
  },
  {
   "cell_type": "code",
   "execution_count": 18,
   "id": "fc5839c9",
   "metadata": {},
   "outputs": [],
   "source": [
    "import os"
   ]
  },
  {
   "cell_type": "code",
   "execution_count": 19,
   "id": "241a458a",
   "metadata": {},
   "outputs": [
    {
     "data": {
      "text/plain": [
       "True"
      ]
     },
     "execution_count": 19,
     "metadata": {},
     "output_type": "execute_result"
    }
   ],
   "source": [
    "os.path.exists(\"test.txt\") # 파일 존재 여부 체크"
   ]
  },
  {
   "cell_type": "code",
   "execution_count": 21,
   "id": "f3aa5266",
   "metadata": {},
   "outputs": [],
   "source": [
    "# 실습 2"
   ]
  },
  {
   "cell_type": "code",
   "execution_count": 22,
   "id": "9da39c24",
   "metadata": {},
   "outputs": [
    {
     "ename": "SyntaxError",
     "evalue": "invalid syntax (445630444.py, line 1)",
     "output_type": "error",
     "traceback": [
      "\u001b[0;36m  Cell \u001b[0;32mIn[22], line 1\u001b[0;36m\u001b[0m\n\u001b[0;31m    아 이게마지막이구나\u001b[0m\n\u001b[0m      ^\u001b[0m\n\u001b[0;31mSyntaxError\u001b[0m\u001b[0;31m:\u001b[0m invalid syntax\n"
     ]
    }
   ],
   "source": [
    "아 이게마지막이구나"
   ]
  },
  {
   "cell_type": "code",
   "execution_count": 24,
   "id": "3b1081c9",
   "metadata": {},
   "outputs": [
    {
     "name": "stdout",
     "output_type": "stream",
     "text": [
      "a\n",
      "a\n",
      "a\n",
      "b\n",
      "b\n",
      "c\n",
      "a\n"
     ]
    }
   ],
   "source": [
    "# dict 실습3\n",
    "#sen = input(\"Enter a sentence:\")\n",
    "sen = \"aaabbca\"\n",
    "dic = {}\n",
    "for ch in sen:\n",
    "    print(ch)"
   ]
  },
  {
   "cell_type": "code",
   "execution_count": null,
   "id": "17144633",
   "metadata": {},
   "outputs": [],
   "source": [
    "dic = {}\n",
    "for ch in sen:\n",
    "    dic[ch] = 1\n",
    "    if ch not in dic:\n",
    "        dic[ch] = 1\n",
    "    else:\n",
    "        dic[ch] += 1"
   ]
  },
  {
   "cell_type": "code",
   "execution_count": 25,
   "id": "da299a1a",
   "metadata": {},
   "outputs": [
    {
     "name": "stdout",
     "output_type": "stream",
     "text": [
      "c\n",
      "a\n",
      "b\n",
      "{'c': 1, 'a': 4, 'b': 2}\n"
     ]
    }
   ],
   "source": [
    "# set() 함수 이용\n",
    "dic = {}\n",
    "\n",
    "for ch in set(sen):\n",
    "    print(ch)\n",
    "    dic[ch] = sen.count(ch)\n",
    "    \n",
    "    \n",
    "\n",
    "print(dic)\n",
    "# 단점이 뭐냐면 같은 수 일경우 한 번만 처리하면 되는데 수 만큼 함 -> 최적화 "
   ]
  },
  {
   "cell_type": "code",
   "execution_count": 26,
   "id": "863622ec",
   "metadata": {},
   "outputs": [],
   "source": [
    "import math"
   ]
  },
  {
   "cell_type": "code",
   "execution_count": 27,
   "id": "551bf9fe",
   "metadata": {},
   "outputs": [
    {
     "data": {
      "text/plain": [
       "120"
      ]
     },
     "execution_count": 27,
     "metadata": {},
     "output_type": "execute_result"
    }
   ],
   "source": [
    "math.factorial(5)"
   ]
  },
  {
   "cell_type": "code",
   "execution_count": 28,
   "id": "48f573ef",
   "metadata": {},
   "outputs": [],
   "source": [
    "import math as mt"
   ]
  },
  {
   "cell_type": "code",
   "execution_count": 29,
   "id": "075c8c0d",
   "metadata": {},
   "outputs": [],
   "source": [
    "import numpy as np"
   ]
  },
  {
   "cell_type": "code",
   "execution_count": 30,
   "id": "3d29051e",
   "metadata": {},
   "outputs": [],
   "source": [
    "import pandas as pd"
   ]
  },
  {
   "cell_type": "code",
   "execution_count": 31,
   "id": "f66ff8d7",
   "metadata": {},
   "outputs": [
    {
     "data": {
      "text/plain": [
       "5"
      ]
     },
     "execution_count": 31,
     "metadata": {},
     "output_type": "execute_result"
    }
   ],
   "source": [
    "import random\n",
    "random.choice([1,2,3,4,5])"
   ]
  },
  {
   "cell_type": "code",
   "execution_count": 32,
   "id": "0a6688f2",
   "metadata": {},
   "outputs": [
    {
     "data": {
      "text/plain": [
       "7"
      ]
     },
     "execution_count": 32,
     "metadata": {},
     "output_type": "execute_result"
    }
   ],
   "source": [
    "random.randint(3,11)"
   ]
  },
  {
   "cell_type": "code",
   "execution_count": 34,
   "id": "e5d8d3f6",
   "metadata": {},
   "outputs": [
    {
     "data": {
      "text/plain": [
       "3"
      ]
     },
     "execution_count": 34,
     "metadata": {},
     "output_type": "execute_result"
    }
   ],
   "source": [
    "random.randrange(3,11)"
   ]
  },
  {
   "cell_type": "code",
   "execution_count": 37,
   "id": "762b97e0",
   "metadata": {},
   "outputs": [
    {
     "name": "stdout",
     "output_type": "stream",
     "text": [
      "[4, 5, 2, 1, 3]\n"
     ]
    }
   ],
   "source": [
    "LS = [1,2,3,4,5]\n",
    "random.shuffle(LS) # 자체 return이 없는 듯\n",
    "print(LS)"
   ]
  },
  {
   "cell_type": "code",
   "execution_count": 39,
   "id": "f9e2fb2f",
   "metadata": {},
   "outputs": [
    {
     "data": {
      "text/plain": [
       "[2, 1, 5]"
      ]
     },
     "execution_count": 39,
     "metadata": {},
     "output_type": "execute_result"
    }
   ],
   "source": [
    "random.sample([1,2,3,4,5,6], 3)"
   ]
  },
  {
   "cell_type": "code",
   "execution_count": 42,
   "id": "851a4ad0",
   "metadata": {},
   "outputs": [
    {
     "data": {
      "text/plain": [
       "[1, 2, 3, 4, 5, 6, 7, 8, 9, 10]"
      ]
     },
     "execution_count": 42,
     "metadata": {},
     "output_type": "execute_result"
    }
   ],
   "source": [
    "# 17시 48분\n",
    "L = []\n",
    "for i in range(1, 11):\n",
    "    L.append(i)\n",
    "L"
   ]
  },
  {
   "cell_type": "code",
   "execution_count": 44,
   "id": "ded23bed",
   "metadata": {},
   "outputs": [
    {
     "data": {
      "text/plain": [
       "[1, 2, 3, 4, 5, 6, 7, 8, 9, 10]"
      ]
     },
     "execution_count": 44,
     "metadata": {},
     "output_type": "execute_result"
    }
   ],
   "source": [
    "# list comprehesion\n",
    "# [표현식 for 요소 in 시퀀스자료형 [if 조건문]]\n",
    "[i for i in range(1, 11)]"
   ]
  },
  {
   "cell_type": "code",
   "execution_count": 45,
   "id": "af271707",
   "metadata": {},
   "outputs": [
    {
     "data": {
      "text/plain": [
       "[2, 4, 6, 8, 10]"
      ]
     },
     "execution_count": 45,
     "metadata": {},
     "output_type": "execute_result"
    }
   ],
   "source": [
    "# 17시 48분\n",
    "L = []\n",
    "for i in range(1, 11):\n",
    "    if i % 2 == 0:\n",
    "        L.append(i)\n",
    "L"
   ]
  }
 ],
 "metadata": {
  "kernelspec": {
   "display_name": "Python 3 (ipykernel)",
   "language": "python",
   "name": "python3"
  },
  "language_info": {
   "codemirror_mode": {
    "name": "ipython",
    "version": 3
   },
   "file_extension": ".py",
   "mimetype": "text/x-python",
   "name": "python",
   "nbconvert_exporter": "python",
   "pygments_lexer": "ipython3",
   "version": "3.10.9"
  }
 },
 "nbformat": 4,
 "nbformat_minor": 5
}
