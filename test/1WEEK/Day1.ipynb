{
 "cells": [
  {
   "cell_type": "code",
   "execution_count": 10,
   "id": "69ad87ea",
   "metadata": {},
   "outputs": [
    {
     "name": "stdout",
     "output_type": "stream",
     "text": [
      "i`m tired~\n"
     ]
    }
   ],
   "source": [
    "print(\"i`m tired~\")"
   ]
  },
  {
   "cell_type": "code",
   "execution_count": 2,
   "id": "0e15cf14",
   "metadata": {
    "scrolled": true
   },
   "outputs": [
    {
     "name": "stdout",
     "output_type": "stream",
     "text": [
      "i`m tired~\n",
      "i`m tired~\n"
     ]
    }
   ],
   "source": [
    "print(\"i`m tired~\")\n",
    "print(\"i`m tired~\")"
   ]
  },
  {
   "cell_type": "markdown",
   "id": "2c4561f7",
   "metadata": {},
   "source": [
    "## Hello, World! 출력\n",
    "print 함수로 Hello, World!를 출력합니다."
   ]
  },
  {
   "cell_type": "code",
   "execution_count": 8,
   "id": "75a426c9",
   "metadata": {},
   "outputs": [
    {
     "name": "stdout",
     "output_type": "stream",
     "text": [
      "첫 번째 정수를 입력하세요: 10\n",
      "두 번째 정수를 입력하세요: 5\n",
      "10 + 5 = 15\n",
      "10 - 5 = 5\n",
      "10 * 5 = 50\n",
      "10 / 5 = 2.0\n"
     ]
    }
   ],
   "source": [
    "a = int(input(\"첫 번째 정수를 입력하세요: \"))\n",
    "b = int(input(\"두 번째 정수를 입력하세요: \"))\n",
    "\n",
    "print(a,\"+\",b,\"=\",a+b)\n",
    "print(a,\"-\",b,\"=\",a-b)\n",
    "print(a,\"*\",b,\"=\",a*b)\n",
    "print(a,\"/\",b,\"=\",a/b)\n",
    "\n",
    "# print(\"%d + %d = %d\", %(a, b, a+b))"
   ]
  },
  {
   "cell_type": "code",
   "execution_count": null,
   "id": "7038e1f2",
   "metadata": {},
   "outputs": [],
   "source": []
  }
 ],
 "metadata": {
  "kernelspec": {
   "display_name": "Python 3 (ipykernel)",
   "language": "python",
   "name": "python3"
  },
  "language_info": {
   "codemirror_mode": {
    "name": "ipython",
    "version": 3
   },
   "file_extension": ".py",
   "mimetype": "text/x-python",
   "name": "python",
   "nbconvert_exporter": "python",
   "pygments_lexer": "ipython3",
   "version": "3.10.9"
  }
 },
 "nbformat": 4,
 "nbformat_minor": 5
}
