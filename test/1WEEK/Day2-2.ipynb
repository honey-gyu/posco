{
 "cells": [
  {
   "cell_type": "code",
   "execution_count": null,
   "id": "aa771244",
   "metadata": {},
   "outputs": [],
   "source": [
    "# 파일\n",
    "f = open(\"input.txt\", \"r\")\n",
    "...\n",
    "f.close()\n",
    "\n",
    "# r 읽기 모드 read\n",
    "# w 쓰기 모드 write\n",
    "# a 추가 모드 append"
   ]
  },
  {
   "cell_type": "code",
   "execution_count": 13,
   "id": "68e55230",
   "metadata": {},
   "outputs": [],
   "source": [
    "fw = open(\"new.txt\", \"w\")\n",
    "\n",
    "for i in range(1, 6):\n",
    "    data = \"%d line\\n\" % i\n",
    "    fw.write(data)\n",
    "\n",
    "fw.close()"
   ]
  },
  {
   "cell_type": "code",
   "execution_count": 12,
   "id": "bb4df397",
   "metadata": {},
   "outputs": [],
   "source": [
    "fa = open(\"new.txt\", \"a\")\n",
    "\n",
    "for i in range(11, 16):\n",
    "    data = \"%d line\\n\" % i\n",
    "    fa.write(data)\n",
    "\n",
    "fa.close()"
   ]
  },
  {
   "cell_type": "code",
   "execution_count": 29,
   "id": "53af6e60",
   "metadata": {},
   "outputs": [],
   "source": [
    "fr = open(\"new.txt\", \"r\")\n",
    "\n",
    "#fr.close()"
   ]
  },
  {
   "cell_type": "code",
   "execution_count": 30,
   "id": "19fb5719",
   "metadata": {},
   "outputs": [
    {
     "data": {
      "text/plain": [
       "0"
      ]
     },
     "execution_count": 30,
     "metadata": {},
     "output_type": "execute_result"
    }
   ],
   "source": [
    "fr.tell() # 어디를 읽고있는지 포인터의 위치를 알려주는 것"
   ]
  },
  {
   "cell_type": "code",
   "execution_count": 31,
   "id": "b9346347",
   "metadata": {},
   "outputs": [
    {
     "data": {
      "text/plain": [
       "'1 line\\n'"
      ]
     },
     "execution_count": 31,
     "metadata": {},
     "output_type": "execute_result"
    }
   ],
   "source": [
    "line = fr.readline() # 한줄씩  읽기\n",
    "line"
   ]
  },
  {
   "cell_type": "code",
   "execution_count": 32,
   "id": "39e760a2",
   "metadata": {},
   "outputs": [
    {
     "data": {
      "text/plain": [
       "7"
      ]
     },
     "execution_count": 32,
     "metadata": {},
     "output_type": "execute_result"
    }
   ],
   "source": [
    "fr.tell()\n",
    "# https://ghts.tistory.com/33"
   ]
  },
  {
   "cell_type": "code",
   "execution_count": 37,
   "id": "ca3608ee",
   "metadata": {},
   "outputs": [
    {
     "data": {
      "text/plain": [
       "['1 line\\n', '2 line\\n', '3 line\\n', '4 line\\n', '5 line\\n']"
      ]
     },
     "execution_count": 37,
     "metadata": {},
     "output_type": "execute_result"
    }
   ],
   "source": [
    "fr = open(\"new.txt\", \"r\")\n",
    "lines = fr.readlines()\n",
    "lines"
   ]
  },
  {
   "cell_type": "code",
   "execution_count": null,
   "id": "1fc35a5d",
   "metadata": {},
   "outputs": [],
   "source": [
    "이상 끝 이제 이론 수업 시작 p5"
   ]
  }
 ],
 "metadata": {
  "kernelspec": {
   "display_name": "Python 3 (ipykernel)",
   "language": "python",
   "name": "python3"
  },
  "language_info": {
   "codemirror_mode": {
    "name": "ipython",
    "version": 3
   },
   "file_extension": ".py",
   "mimetype": "text/x-python",
   "name": "python",
   "nbconvert_exporter": "python",
   "pygments_lexer": "ipython3",
   "version": "3.10.9"
  }
 },
 "nbformat": 4,
 "nbformat_minor": 5
}
