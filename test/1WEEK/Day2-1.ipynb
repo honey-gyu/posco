{
 "cells": [
  {
   "cell_type": "code",
   "execution_count": 2,
   "id": "e8c2721b",
   "metadata": {},
   "outputs": [
    {
     "name": "stdout",
     "output_type": "stream",
     "text": [
      "Interactive namespace is empty.\n"
     ]
    }
   ],
   "source": [
    "whos"
   ]
  },
  {
   "cell_type": "code",
   "execution_count": 3,
   "id": "8bb52c85",
   "metadata": {},
   "outputs": [],
   "source": [
    "a = \"hello\""
   ]
  },
  {
   "cell_type": "code",
   "execution_count": 4,
   "id": "e8856ac1",
   "metadata": {},
   "outputs": [
    {
     "name": "stdout",
     "output_type": "stream",
     "text": [
      "Variable   Type    Data/Info\n",
      "----------------------------\n",
      "a          str     hello\n"
     ]
    }
   ],
   "source": [
    "whos"
   ]
  },
  {
   "cell_type": "code",
   "execution_count": 6,
   "id": "c720a0c5",
   "metadata": {},
   "outputs": [],
   "source": [
    "def add(a,b):\n",
    "    return a+b"
   ]
  },
  {
   "cell_type": "code",
   "execution_count": 10,
   "id": "ae5c190e",
   "metadata": {},
   "outputs": [
    {
     "ename": "NameError",
     "evalue": "name 'whos' is not defined",
     "output_type": "error",
     "traceback": [
      "\u001b[0;31m---------------------------------------------------------------------------\u001b[0m",
      "\u001b[0;31mNameError\u001b[0m                                 Traceback (most recent call last)",
      "Cell \u001b[0;32mIn[10], line 1\u001b[0m\n\u001b[0;32m----> 1\u001b[0m \u001b[43mwhos\u001b[49m\n",
      "\u001b[0;31mNameError\u001b[0m: name 'whos' is not defined"
     ]
    }
   ],
   "source": [
    "whos # 데이터 / 변수 확인하는 명령어\n",
    "#https://versusall.tistory.com/entry/Jupyter-Notebook-3-%EB%B3%80%EC%88%98-%EB%B3%B4%EA%B8%B0Variable-viewer"
   ]
  },
  {
   "cell_type": "code",
   "execution_count": 11,
   "id": "b606b4aa",
   "metadata": {},
   "outputs": [
    {
     "name": "stdout",
     "output_type": "stream",
     "text": [
      "Variable   Type        Data/Info\n",
      "--------------------------------\n",
      "a          str         hello\n",
      "add        function    <function add at 0x7f9122eaf760>\n"
     ]
    }
   ],
   "source": [
    "whos"
   ]
  },
  {
   "cell_type": "code",
   "execution_count": null,
   "id": "20c55244",
   "metadata": {},
   "outputs": [],
   "source": [
    "# 지역변수 : 함수 안에서 만들어져 함수 안에서만 사용하는 변수\n",
    "def add_value(a, b): # add_value는 전역변수\n",
    "    add_res = a + b # add_res, a, b 지역변수\n",
    "    return add_res\n",
    "\n",
    "x = 10\n",
    "y = 20\n",
    "res = add_value(x, y)\n",
    "print(add_res) # 에러 발생 -> 왜냐하면 지역변수이기 때문에 "
   ]
  },
  {
   "cell_type": "code",
   "execution_count": 12,
   "id": "da1f112b",
   "metadata": {},
   "outputs": [
    {
     "name": "stdout",
     "output_type": "stream",
     "text": [
      "30\n"
     ]
    }
   ],
   "source": [
    "# 전역변수 : 함수 밖에서 만들어져 아무데서나 사용할 수 있는 변수 / 단, 함수 안에서 전역변수 수정 불가\n",
    "def addX(_x):\n",
    "    return x + _x\n",
    "\n",
    "x = 10\n",
    "y = 20\n",
    "\n",
    "res = addX(y) # addX는 전역변수이므로\n",
    "print(res) # 가능"
   ]
  },
  {
   "cell_type": "code",
   "execution_count": 19,
   "id": "95b7c8b3",
   "metadata": {},
   "outputs": [
    {
     "ename": "UnboundLocalError",
     "evalue": "local variable 'x' referenced before assignment",
     "output_type": "error",
     "traceback": [
      "\u001b[0;31m---------------------------------------------------------------------------\u001b[0m",
      "\u001b[0;31mUnboundLocalError\u001b[0m                         Traceback (most recent call last)",
      "Cell \u001b[0;32mIn[19], line 9\u001b[0m\n\u001b[1;32m      7\u001b[0m x \u001b[38;5;241m=\u001b[39m \u001b[38;5;241m10\u001b[39m\n\u001b[1;32m      8\u001b[0m y \u001b[38;5;241m=\u001b[39m \u001b[38;5;241m20\u001b[39m\n\u001b[0;32m----> 9\u001b[0m \u001b[43maddX\u001b[49m\u001b[43m(\u001b[49m\u001b[43my\u001b[49m\u001b[43m)\u001b[49m\n\u001b[1;32m     10\u001b[0m \u001b[38;5;28mprint\u001b[39m(x)\n",
      "Cell \u001b[0;32mIn[19], line 5\u001b[0m, in \u001b[0;36maddX\u001b[0;34m(_x)\u001b[0m\n\u001b[1;32m      4\u001b[0m \u001b[38;5;28;01mdef\u001b[39;00m \u001b[38;5;21maddX\u001b[39m(_x):\n\u001b[0;32m----> 5\u001b[0m     x \u001b[38;5;241m=\u001b[39m \u001b[43mx\u001b[49m \u001b[38;5;241m+\u001b[39m _x\n",
      "\u001b[0;31mUnboundLocalError\u001b[0m: local variable 'x' referenced before assignment"
     ]
    }
   ],
   "source": [
    "# 전역변수는 수정이 불가능하다. 그런데 수정할 수 있는 방법이 있다.\n",
    "# global 키워드\n",
    "\n",
    "def addX(_x):\n",
    "    x = x + _x # 에러 발생\n",
    "\n",
    "x = 10\n",
    "y = 20\n",
    "addX(y)\n",
    "print(x)"
   ]
  },
  {
   "cell_type": "code",
   "execution_count": 16,
   "id": "c0eaff72",
   "metadata": {},
   "outputs": [
    {
     "name": "stdout",
     "output_type": "stream",
     "text": [
      "30\n"
     ]
    }
   ],
   "source": [
    "def addX(_x):\n",
    "    global x # 전역변수임을 명시, x는 지역변수가 아니고 전역변수임을 표현하기 때문에 더 한 값이 밖에서 출력 가능 ㅇㅇ\n",
    "    x = x + _x # 에러 발생\n",
    "\n",
    "x = 10\n",
    "y = 20\n",
    "addX(y)\n",
    "print(x)"
   ]
  },
  {
   "cell_type": "code",
   "execution_count": 17,
   "id": "b8cc784b",
   "metadata": {},
   "outputs": [
    {
     "name": "stdout",
     "output_type": "stream",
     "text": [
      "Variable   Type        Data/Info\n",
      "--------------------------------\n",
      "a          str         hello\n",
      "add        function    <function add at 0x7f9122eaf760>\n",
      "addX       function    <function addX at 0x7f91200ecb80>\n",
      "res        int         30\n",
      "x          int         30\n",
      "y          int         20\n"
     ]
    }
   ],
   "source": [
    "whos"
   ]
  },
  {
   "cell_type": "code",
   "execution_count": null,
   "id": "56535eb7",
   "metadata": {},
   "outputs": [],
   "source": [
    "# 모듈\n",
    "# 수많은 python의 기본 모듈\n",
    "# math : 수학\n",
    "# random : 무작위\n",
    "# os : 운영체제 인터페이스 함수\n",
    "# https://speedspeed.tistory.com/172\n",
    "\n",
    "# 외부 AI 기본 라이브러리\n",
    "# numpy\n",
    "# https://velog.io/@euisuk-chung/%ED%8C%8C%EC%9D%B4%EC%8D%AC-%EC%8B%9C%EA%B0%81%ED%99%94-%EB%A7%88%EC%8A%A4%ED%84%B0%ED%95%98%EA%B8%B0-Numpy\n",
    "# pandas\n",
    "# https://velog.io/@euisuk-chung/%ED%8C%8C%EC%9D%B4%EC%8D%AC-%EC%8B%9C%EA%B0%81%ED%99%94-%EB%A7%88%EC%8A%A4%ED%84%B0%ED%95%98%EA%B8%B0-Pandas\n",
    "# ..."
   ]
  },
  {
   "cell_type": "code",
   "execution_count": 5,
   "id": "59e95619",
   "metadata": {},
   "outputs": [
    {
     "name": "stdout",
     "output_type": "stream",
     "text": [
      "반지름: 5\n",
      "원의 넓이 : 78.5\n"
     ]
    }
   ],
   "source": [
    "# 반지름 : 5\n",
    "# 원의 넓이 : ~\n",
    "import math\n",
    "def calc_area(num):\n",
    "    circle = num * num * 3.14\n",
    "    return (circle)\n",
    "\n",
    "num = int(input(\"반지름: \"))\n",
    "result = calc_area(num)\n",
    "print(\"원의 넓이 :\", result)"
   ]
  },
  {
   "cell_type": "code",
   "execution_count": null,
   "id": "bda8cddf",
   "metadata": {},
   "outputs": [],
   "source": [
    "import math\n",
    "print(math.pi)"
   ]
  },
  {
   "cell_type": "code",
   "execution_count": null,
   "id": "333f3d6d",
   "metadata": {},
   "outputs": [],
   "source": [
    "8~10은 난이도가 있고 7까지가 목표이다."
   ]
  }
 ],
 "metadata": {
  "kernelspec": {
   "display_name": "Python 3 (ipykernel)",
   "language": "python",
   "name": "python3"
  },
  "language_info": {
   "codemirror_mode": {
    "name": "ipython",
    "version": 3
   },
   "file_extension": ".py",
   "mimetype": "text/x-python",
   "name": "python",
   "nbconvert_exporter": "python",
   "pygments_lexer": "ipython3",
   "version": "3.10.9"
  }
 },
 "nbformat": 4,
 "nbformat_minor": 5
}
