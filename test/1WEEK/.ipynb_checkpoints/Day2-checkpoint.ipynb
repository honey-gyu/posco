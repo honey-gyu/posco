{
 "cells": [
  {
   "cell_type": "code",
   "execution_count": 2,
   "id": "f8c66072",
   "metadata": {},
   "outputs": [],
   "source": [
    "# 집합(set)"
   ]
  },
  {
   "cell_type": "code",
   "execution_count": 4,
   "id": "2b0a7961",
   "metadata": {},
   "outputs": [],
   "source": [
    "a = [1, 2, 3]"
   ]
  },
  {
   "cell_type": "code",
   "execution_count": 5,
   "id": "9dbd47fe",
   "metadata": {},
   "outputs": [
    {
     "data": {
      "text/plain": [
       "[1, 2, 3]"
      ]
     },
     "execution_count": 5,
     "metadata": {},
     "output_type": "execute_result"
    }
   ],
   "source": [
    "a"
   ]
  },
  {
   "cell_type": "code",
   "execution_count": 6,
   "id": "2dbb05cc",
   "metadata": {},
   "outputs": [
    {
     "data": {
      "text/plain": [
       "list"
      ]
     },
     "execution_count": 6,
     "metadata": {},
     "output_type": "execute_result"
    }
   ],
   "source": [
    "type(a)"
   ]
  },
  {
   "cell_type": "code",
   "execution_count": 8,
   "id": "97c7f9b7",
   "metadata": {},
   "outputs": [
    {
     "data": {
      "text/plain": [
       "3"
      ]
     },
     "execution_count": 8,
     "metadata": {},
     "output_type": "execute_result"
    }
   ],
   "source": [
    "a[2]"
   ]
  },
  {
   "cell_type": "code",
   "execution_count": 9,
   "id": "3be17086",
   "metadata": {},
   "outputs": [
    {
     "data": {
      "text/plain": [
       "1"
      ]
     },
     "execution_count": 9,
     "metadata": {},
     "output_type": "execute_result"
    }
   ],
   "source": [
    "a[0] # 인덱싱"
   ]
  },
  {
   "cell_type": "code",
   "execution_count": 10,
   "id": "784b154f",
   "metadata": {},
   "outputs": [],
   "source": [
    "# [] 중복 가능 (수정 가능) / {} 중복 불가능 (수정 불가능)"
   ]
  },
  {
   "cell_type": "code",
   "execution_count": 11,
   "id": "1a83ac9f",
   "metadata": {},
   "outputs": [],
   "source": [
    "b = {1, 1, 2, 3, 3, 4}"
   ]
  },
  {
   "cell_type": "code",
   "execution_count": 12,
   "id": "d7ee6a34",
   "metadata": {},
   "outputs": [
    {
     "data": {
      "text/plain": [
       "{1, 2, 3, 4}"
      ]
     },
     "execution_count": 12,
     "metadata": {},
     "output_type": "execute_result"
    }
   ],
   "source": [
    "b"
   ]
  },
  {
   "cell_type": "code",
   "execution_count": 13,
   "id": "3d5f81d8",
   "metadata": {},
   "outputs": [
    {
     "data": {
      "text/plain": [
       "set"
      ]
     },
     "execution_count": 13,
     "metadata": {},
     "output_type": "execute_result"
    }
   ],
   "source": [
    "type(b)"
   ]
  },
  {
   "cell_type": "code",
   "execution_count": 17,
   "id": "2885d536",
   "metadata": {},
   "outputs": [],
   "source": [
    "s = {}"
   ]
  },
  {
   "cell_type": "code",
   "execution_count": 18,
   "id": "2c98a7a9",
   "metadata": {},
   "outputs": [
    {
     "data": {
      "text/plain": [
       "{}"
      ]
     },
     "execution_count": 18,
     "metadata": {},
     "output_type": "execute_result"
    }
   ],
   "source": [
    "s"
   ]
  },
  {
   "cell_type": "code",
   "execution_count": 19,
   "id": "70386f02",
   "metadata": {},
   "outputs": [],
   "source": [
    "s = set()"
   ]
  },
  {
   "cell_type": "code",
   "execution_count": 20,
   "id": "c4c4194c",
   "metadata": {},
   "outputs": [
    {
     "data": {
      "text/plain": [
       "set()"
      ]
     },
     "execution_count": 20,
     "metadata": {},
     "output_type": "execute_result"
    }
   ],
   "source": [
    "s"
   ]
  },
  {
   "cell_type": "code",
   "execution_count": 21,
   "id": "17b32095",
   "metadata": {},
   "outputs": [],
   "source": [
    "word = \"hello\""
   ]
  },
  {
   "cell_type": "code",
   "execution_count": 22,
   "id": "d0423d1b",
   "metadata": {},
   "outputs": [
    {
     "data": {
      "text/plain": [
       "'hello'"
      ]
     },
     "execution_count": 22,
     "metadata": {},
     "output_type": "execute_result"
    }
   ],
   "source": [
    "word"
   ]
  },
  {
   "cell_type": "code",
   "execution_count": 23,
   "id": "4eb77b84",
   "metadata": {},
   "outputs": [],
   "source": [
    "word2 = word * 2"
   ]
  },
  {
   "cell_type": "code",
   "execution_count": 24,
   "id": "f41e3c8d",
   "metadata": {},
   "outputs": [
    {
     "data": {
      "text/plain": [
       "'hellohello'"
      ]
     },
     "execution_count": 24,
     "metadata": {},
     "output_type": "execute_result"
    }
   ],
   "source": [
    "word2"
   ]
  },
  {
   "cell_type": "code",
   "execution_count": 25,
   "id": "3d65919b",
   "metadata": {},
   "outputs": [
    {
     "data": {
      "text/plain": [
       "{'e', 'h', 'l', 'o'}"
      ]
     },
     "execution_count": 25,
     "metadata": {},
     "output_type": "execute_result"
    }
   ],
   "source": [
    "set(word2) # 순서가 없어서 몇 번재 인덱싱을 알 수 없 (아래도 무작위 출력)"
   ]
  },
  {
   "cell_type": "code",
   "execution_count": 26,
   "id": "54e29c50",
   "metadata": {},
   "outputs": [],
   "source": [
    "wlist = list(word2)"
   ]
  },
  {
   "cell_type": "code",
   "execution_count": 27,
   "id": "25b6a0f3",
   "metadata": {},
   "outputs": [
    {
     "data": {
      "text/plain": [
       "['h', 'e', 'l', 'l', 'o', 'h', 'e', 'l', 'l', 'o']"
      ]
     },
     "execution_count": 27,
     "metadata": {},
     "output_type": "execute_result"
    }
   ],
   "source": [
    "wlist"
   ]
  },
  {
   "cell_type": "code",
   "execution_count": 28,
   "id": "68e5dcb5",
   "metadata": {},
   "outputs": [
    {
     "ename": "SyntaxError",
     "evalue": "invalid syntax (974810288.py, line 1)",
     "output_type": "error",
     "traceback": [
      "\u001b[0;36m  Cell \u001b[0;32mIn[28], line 1\u001b[0;36m\u001b[0m\n\u001b[0;31m    합집합 union\u001b[0m\n\u001b[0m        ^\u001b[0m\n\u001b[0;31mSyntaxError\u001b[0m\u001b[0;31m:\u001b[0m invalid syntax\n"
     ]
    }
   ],
   "source": [
    "합집합 union\n",
    "교집합 intersection\n",
    "차집합 difference"
   ]
  },
  {
   "cell_type": "code",
   "execution_count": 29,
   "id": "992ca5ba",
   "metadata": {},
   "outputs": [
    {
     "data": {
      "text/plain": [
       "{1, 2, 3, 4, 5}"
      ]
     },
     "execution_count": 29,
     "metadata": {},
     "output_type": "execute_result"
    }
   ],
   "source": [
    "#p4\n",
    "s = {1, 2, 3, 4, 5, 3, 4}\n",
    "s"
   ]
  },
  {
   "cell_type": "code",
   "execution_count": 30,
   "id": "a0cfb459",
   "metadata": {},
   "outputs": [],
   "source": [
    "s.add(10)"
   ]
  },
  {
   "cell_type": "code",
   "execution_count": 31,
   "id": "604f1b4e",
   "metadata": {},
   "outputs": [
    {
     "data": {
      "text/plain": [
       "{1, 2, 3, 4, 5, 10}"
      ]
     },
     "execution_count": 31,
     "metadata": {},
     "output_type": "execute_result"
    }
   ],
   "source": [
    "s"
   ]
  },
  {
   "cell_type": "code",
   "execution_count": 32,
   "id": "2287689c",
   "metadata": {},
   "outputs": [],
   "source": [
    "s.remove(2)"
   ]
  },
  {
   "cell_type": "code",
   "execution_count": 33,
   "id": "a46484d4",
   "metadata": {},
   "outputs": [
    {
     "data": {
      "text/plain": [
       "{1, 3, 4, 5, 10}"
      ]
     },
     "execution_count": 33,
     "metadata": {},
     "output_type": "execute_result"
    }
   ],
   "source": [
    "s"
   ]
  },
  {
   "cell_type": "code",
   "execution_count": 34,
   "id": "48675bea",
   "metadata": {},
   "outputs": [],
   "source": [
    "s.update([1,3,5,7,9])"
   ]
  },
  {
   "cell_type": "code",
   "execution_count": 35,
   "id": "4d397677",
   "metadata": {},
   "outputs": [
    {
     "data": {
      "text/plain": [
       "{1, 3, 4, 5, 7, 9, 10}"
      ]
     },
     "execution_count": 35,
     "metadata": {},
     "output_type": "execute_result"
    }
   ],
   "source": [
    "s"
   ]
  },
  {
   "cell_type": "code",
   "execution_count": 36,
   "id": "664dffd6",
   "metadata": {},
   "outputs": [],
   "source": [
    "s.discard(7)"
   ]
  },
  {
   "cell_type": "code",
   "execution_count": 37,
   "id": "7c0c2fed",
   "metadata": {},
   "outputs": [
    {
     "data": {
      "text/plain": [
       "{1, 3, 4, 5, 9, 10}"
      ]
     },
     "execution_count": 37,
     "metadata": {},
     "output_type": "execute_result"
    }
   ],
   "source": [
    "s"
   ]
  },
  {
   "cell_type": "code",
   "execution_count": 38,
   "id": "707a5763",
   "metadata": {},
   "outputs": [],
   "source": [
    "s.clear()"
   ]
  },
  {
   "cell_type": "code",
   "execution_count": 39,
   "id": "7259702f",
   "metadata": {},
   "outputs": [
    {
     "data": {
      "text/plain": [
       "set()"
      ]
     },
     "execution_count": 39,
     "metadata": {},
     "output_type": "execute_result"
    }
   ],
   "source": [
    "s"
   ]
  },
  {
   "cell_type": "code",
   "execution_count": 7,
   "id": "71c130a0",
   "metadata": {},
   "outputs": [
    {
     "data": {
      "text/plain": [
       "{1, 2, 3, 4, 5}"
      ]
     },
     "execution_count": 7,
     "metadata": {},
     "output_type": "execute_result"
    }
   ],
   "source": [
    "#5\n",
    "s1 = {1, 2, 3}\n",
    "s2 = {3, 4, 5}\n",
    "\n",
    "s1.union(s2)"
   ]
  },
  {
   "cell_type": "code",
   "execution_count": 8,
   "id": "8a68e90e",
   "metadata": {},
   "outputs": [
    {
     "data": {
      "text/plain": [
       "{3}"
      ]
     },
     "execution_count": 8,
     "metadata": {},
     "output_type": "execute_result"
    }
   ],
   "source": [
    "s1.intersection(s2)"
   ]
  },
  {
   "cell_type": "code",
   "execution_count": 9,
   "id": "9400a403",
   "metadata": {},
   "outputs": [
    {
     "data": {
      "text/plain": [
       "{1, 2}"
      ]
     },
     "execution_count": 9,
     "metadata": {},
     "output_type": "execute_result"
    }
   ],
   "source": [
    "s1.difference(s2)"
   ]
  },
  {
   "cell_type": "code",
   "execution_count": 10,
   "id": "c0b7c628",
   "metadata": {},
   "outputs": [
    {
     "data": {
      "text/plain": [
       "{1, 2, 3, 4, 5}"
      ]
     },
     "execution_count": 10,
     "metadata": {},
     "output_type": "execute_result"
    }
   ],
   "source": [
    "s1 | s2"
   ]
  },
  {
   "cell_type": "code",
   "execution_count": 11,
   "id": "78062093",
   "metadata": {},
   "outputs": [
    {
     "data": {
      "text/plain": [
       "{3}"
      ]
     },
     "execution_count": 11,
     "metadata": {},
     "output_type": "execute_result"
    }
   ],
   "source": [
    "s1 & s2"
   ]
  },
  {
   "cell_type": "code",
   "execution_count": 13,
   "id": "fade9a23",
   "metadata": {},
   "outputs": [
    {
     "data": {
      "text/plain": [
       "{1, 2}"
      ]
     },
     "execution_count": 13,
     "metadata": {},
     "output_type": "execute_result"
    }
   ],
   "source": [
    "s1 - s2"
   ]
  },
  {
   "cell_type": "code",
   "execution_count": 14,
   "id": "46bd9bf1",
   "metadata": {},
   "outputs": [
    {
     "name": "stdout",
     "output_type": "stream",
     "text": [
      "{'Alice', 'Bob'} {'Charlie', 'Ella', 'David', 'Frank'}\n",
      "set() {'Ella', 'George', 'Charlie', 'Bob', 'Alice', 'David'}\n"
     ]
    }
   ],
   "source": [
    "#실습1\n",
    "def find_participants(p1, p2):\n",
    "    inter = p1.intersection(p2)\n",
    "    union = p1.union(p2)\n",
    "    return(inter, union-inter)\n",
    "    \n",
    "A = {'Alice', 'Bob', 'Charlie', 'David'}\n",
    "B = {'Alice', 'Ella', 'Frank', 'Bob'}\n",
    "C = {'George', 'Ella'}\n",
    "\n",
    "both1, one1 = find_participants(A, B)\n",
    "both2, one2 = find_participants(A, C)\n",
    "\n",
    "print(both1, one1)\n",
    "print(both2, one2)"
   ]
  },
  {
   "cell_type": "code",
   "execution_count": null,
   "id": "d78626d8",
   "metadata": {},
   "outputs": [],
   "source": []
  },
  {
   "cell_type": "code",
   "execution_count": null,
   "id": "e8004671",
   "metadata": {},
   "outputs": [],
   "source": []
  },
  {
   "cell_type": "code",
   "execution_count": null,
   "id": "4de6a958",
   "metadata": {},
   "outputs": [],
   "source": []
  },
  {
   "cell_type": "code",
   "execution_count": null,
   "id": "d8b7ca5d",
   "metadata": {},
   "outputs": [],
   "source": []
  },
  {
   "cell_type": "code",
   "execution_count": null,
   "id": "eae3d596",
   "metadata": {},
   "outputs": [],
   "source": []
  },
  {
   "cell_type": "code",
   "execution_count": null,
   "id": "12fe4f7e",
   "metadata": {},
   "outputs": [],
   "source": []
  },
  {
   "cell_type": "code",
   "execution_count": null,
   "id": "c41e0c2a",
   "metadata": {},
   "outputs": [],
   "source": []
  },
  {
   "cell_type": "code",
   "execution_count": null,
   "id": "7737e61c",
   "metadata": {},
   "outputs": [],
   "source": []
  },
  {
   "cell_type": "code",
   "execution_count": null,
   "id": "3a726fd4",
   "metadata": {},
   "outputs": [],
   "source": []
  },
  {
   "cell_type": "code",
   "execution_count": 49,
   "id": "0cabf39a",
   "metadata": {},
   "outputs": [
    {
     "name": "stdout",
     "output_type": "stream",
     "text": [
      "{'kim': 1, 'park': 2}\n"
     ]
    }
   ],
   "source": [
    "#8 딕셔너리\n",
    "# https://wikidocs.net/16\n",
    "d = {}\n",
    "d['kim'] = 1\n",
    "d['park'] = 2\n",
    "print(d)"
   ]
  },
  {
   "cell_type": "code",
   "execution_count": 50,
   "id": "5edd17fb",
   "metadata": {},
   "outputs": [
    {
     "data": {
      "text/plain": [
       "2"
      ]
     },
     "execution_count": 50,
     "metadata": {},
     "output_type": "execute_result"
    }
   ],
   "source": [
    "d['park']"
   ]
  },
  {
   "cell_type": "code",
   "execution_count": 59,
   "id": "7eb4d314",
   "metadata": {},
   "outputs": [
    {
     "name": "stdout",
     "output_type": "stream",
     "text": [
      "{'park': 2, 'youn': 1, 'kim': 3}\n"
     ]
    }
   ],
   "source": [
    "d['kim'] = 3\n",
    "print(d)"
   ]
  },
  {
   "cell_type": "code",
   "execution_count": 52,
   "id": "b6399576",
   "metadata": {},
   "outputs": [
    {
     "name": "stdout",
     "output_type": "stream",
     "text": [
      "{'kim': 3, 'park': 2, 'youn': 1}\n"
     ]
    }
   ],
   "source": [
    "d['youn'] = 1\n",
    "print(d)"
   ]
  },
  {
   "cell_type": "code",
   "execution_count": 53,
   "id": "850ec0b6",
   "metadata": {},
   "outputs": [
    {
     "data": {
      "text/plain": [
       "dict_keys(['kim', 'park', 'youn'])"
      ]
     },
     "execution_count": 53,
     "metadata": {},
     "output_type": "execute_result"
    }
   ],
   "source": [
    "# 키 추출\n",
    "d.keys()"
   ]
  },
  {
   "cell_type": "code",
   "execution_count": 54,
   "id": "e161ee9c",
   "metadata": {},
   "outputs": [
    {
     "data": {
      "text/plain": [
       "dict_values([3, 2, 1])"
      ]
     },
     "execution_count": 54,
     "metadata": {},
     "output_type": "execute_result"
    }
   ],
   "source": [
    "# 값 추출\n",
    "d.values()"
   ]
  },
  {
   "cell_type": "code",
   "execution_count": 55,
   "id": "d6fcbf0f",
   "metadata": {},
   "outputs": [
    {
     "data": {
      "text/plain": [
       "dict_items([('kim', 3), ('park', 2), ('youn', 1)])"
      ]
     },
     "execution_count": 55,
     "metadata": {},
     "output_type": "execute_result"
    }
   ],
   "source": [
    "# 튜플\n",
    "d.items()"
   ]
  },
  {
   "cell_type": "code",
   "execution_count": 56,
   "id": "1037253c",
   "metadata": {},
   "outputs": [
    {
     "data": {
      "text/plain": [
       "True"
      ]
     },
     "execution_count": 56,
     "metadata": {},
     "output_type": "execute_result"
    }
   ],
   "source": [
    "'kim' in d"
   ]
  },
  {
   "cell_type": "code",
   "execution_count": 60,
   "id": "90b886ff",
   "metadata": {},
   "outputs": [],
   "source": [
    "del d['kim']"
   ]
  },
  {
   "cell_type": "code",
   "execution_count": 61,
   "id": "7a646c5c",
   "metadata": {},
   "outputs": [
    {
     "name": "stdout",
     "output_type": "stream",
     "text": [
      "{'park': 2, 'youn': 1}\n"
     ]
    }
   ],
   "source": [
    "print(d)"
   ]
  },
  {
   "cell_type": "code",
   "execution_count": 62,
   "id": "70c994f3",
   "metadata": {},
   "outputs": [],
   "source": [
    "d.clear() # no 실행"
   ]
  },
  {
   "cell_type": "code",
   "execution_count": null,
   "id": "54cde9d6",
   "metadata": {},
   "outputs": [],
   "source": []
  },
  {
   "cell_type": "code",
   "execution_count": null,
   "id": "5eefe9b5",
   "metadata": {},
   "outputs": [],
   "source": [
    "# 문제 for 문을 사용하여 아래 딕셔너리 d의 모든 value를 출력해 보세요"
   ]
  },
  {
   "cell_type": "code",
   "execution_count": 79,
   "id": "35cedb00",
   "metadata": {},
   "outputs": [],
   "source": [
    "d = {'kim': 3, 'park': 2, 'youn': 1}"
   ]
  },
  {
   "cell_type": "code",
   "execution_count": 80,
   "id": "e889e4af",
   "metadata": {},
   "outputs": [
    {
     "data": {
      "text/plain": [
       "{'kim': 3, 'park': 2, 'youn': 1}"
      ]
     },
     "execution_count": 80,
     "metadata": {},
     "output_type": "execute_result"
    }
   ],
   "source": [
    "d"
   ]
  },
  {
   "cell_type": "code",
   "execution_count": 81,
   "id": "9fa25504",
   "metadata": {},
   "outputs": [
    {
     "data": {
      "text/plain": [
       "dict_values([3, 2, 1])"
      ]
     },
     "execution_count": 81,
     "metadata": {},
     "output_type": "execute_result"
    }
   ],
   "source": [
    "d.values()"
   ]
  },
  {
   "cell_type": "code",
   "execution_count": 87,
   "id": "f3732fe0",
   "metadata": {},
   "outputs": [
    {
     "name": "stdout",
     "output_type": "stream",
     "text": [
      "3\n",
      "2\n",
      "1\n"
     ]
    }
   ],
   "source": [
    "for x in d.values():\n",
    "    print(x)"
   ]
  },
  {
   "cell_type": "code",
   "execution_count": 90,
   "id": "0fddb03a",
   "metadata": {},
   "outputs": [
    {
     "name": "stdout",
     "output_type": "stream",
     "text": [
      "kim\n",
      "park\n",
      "youn\n"
     ]
    }
   ],
   "source": [
    "for x in d:\n",
    "    print(x)"
   ]
  },
  {
   "cell_type": "code",
   "execution_count": 91,
   "id": "c45870a8",
   "metadata": {},
   "outputs": [
    {
     "name": "stdout",
     "output_type": "stream",
     "text": [
      "3\n",
      "2\n",
      "1\n"
     ]
    }
   ],
   "source": [
    "for key in d:\n",
    "    print(d[key])"
   ]
  },
  {
   "cell_type": "code",
   "execution_count": 92,
   "id": "802d107d",
   "metadata": {},
   "outputs": [
    {
     "name": "stdout",
     "output_type": "stream",
     "text": [
      "kim\n",
      "park\n",
      "youn\n"
     ]
    }
   ],
   "source": [
    "for key in d.keys():\n",
    "    print(key)"
   ]
  },
  {
   "cell_type": "code",
   "execution_count": 93,
   "id": "8e3aa876",
   "metadata": {},
   "outputs": [
    {
     "data": {
      "text/plain": [
       "dict_items([('kim', 3), ('park', 2), ('youn', 1)])"
      ]
     },
     "execution_count": 93,
     "metadata": {},
     "output_type": "execute_result"
    }
   ],
   "source": [
    "d.items()"
   ]
  },
  {
   "cell_type": "code",
   "execution_count": 95,
   "id": "b53ddc3a",
   "metadata": {},
   "outputs": [
    {
     "name": "stdout",
     "output_type": "stream",
     "text": [
      "3\n",
      "2\n",
      "1\n"
     ]
    }
   ],
   "source": [
    "for item in d.items():\n",
    "    print(item[1])"
   ]
  },
  {
   "cell_type": "code",
   "execution_count": 96,
   "id": "f0de9c8d",
   "metadata": {},
   "outputs": [],
   "source": [
    "# tuple 순서 o, 수정 x"
   ]
  },
  {
   "cell_type": "code",
   "execution_count": 99,
   "id": "f8f42073",
   "metadata": {},
   "outputs": [
    {
     "data": {
      "text/plain": [
       "'youn'"
      ]
     },
     "execution_count": 99,
     "metadata": {},
     "output_type": "execute_result"
    }
   ],
   "source": [
    "k = item[0]\n",
    "v = item[1]\n",
    "\n",
    "k"
   ]
  },
  {
   "cell_type": "code",
   "execution_count": 100,
   "id": "b98b7ab2",
   "metadata": {},
   "outputs": [
    {
     "data": {
      "text/plain": [
       "1"
      ]
     },
     "execution_count": 100,
     "metadata": {},
     "output_type": "execute_result"
    }
   ],
   "source": [
    "v"
   ]
  },
  {
   "cell_type": "code",
   "execution_count": 101,
   "id": "7745f895",
   "metadata": {},
   "outputs": [
    {
     "data": {
      "text/plain": [
       "('youn', 1)"
      ]
     },
     "execution_count": 101,
     "metadata": {},
     "output_type": "execute_result"
    }
   ],
   "source": [
    "item"
   ]
  },
  {
   "cell_type": "code",
   "execution_count": 102,
   "id": "72b63611",
   "metadata": {},
   "outputs": [],
   "source": [
    "k, v = item # 변환 unpacking\n",
    "# https://wikidocs.net/22801\n"
   ]
  },
  {
   "cell_type": "code",
   "execution_count": 103,
   "id": "ea44368c",
   "metadata": {},
   "outputs": [
    {
     "name": "stdout",
     "output_type": "stream",
     "text": [
      "3\n",
      "2\n",
      "1\n"
     ]
    }
   ],
   "source": [
    "for item in d.items():\n",
    "    k, v = item\n",
    "    print(v)"
   ]
  },
  {
   "cell_type": "code",
   "execution_count": 110,
   "id": "021e8e03",
   "metadata": {},
   "outputs": [
    {
     "name": "stdout",
     "output_type": "stream",
     "text": [
      "hello world\n",
      "\n"
     ]
    }
   ],
   "source": [
    "print(\"hello\", end = ' ')\n",
    "print(\"world\\n\")\n",
    "# https://blog.naver.com/youndok/222066996597\n",
    "# end 이어 붙이기 sep 공백제거"
   ]
  },
  {
   "cell_type": "code",
   "execution_count": null,
   "id": "b8516b3b",
   "metadata": {},
   "outputs": [],
   "source": []
  },
  {
   "cell_type": "code",
   "execution_count": 111,
   "id": "1ecf3dab",
   "metadata": {},
   "outputs": [
    {
     "ename": "KeyError",
     "evalue": "('a',)",
     "output_type": "error",
     "traceback": [
      "\u001b[0;31m---------------------------------------------------------------------------\u001b[0m",
      "\u001b[0;31mKeyError\u001b[0m                                  Traceback (most recent call last)",
      "Cell \u001b[0;32mIn[111], line 5\u001b[0m\n\u001b[1;32m      1\u001b[0m \u001b[38;5;66;03m# 문제 어떤 문장을 입력 받으면 해당 문장에서 각 문자가 몇 개씩 나오는지 저장하는\u001b[39;00m\n\u001b[1;32m      2\u001b[0m \u001b[38;5;66;03m# 딕셔너리를 만든 후, 아래와 같이 출력하시오\u001b[39;00m\n\u001b[1;32m      4\u001b[0m d \u001b[38;5;241m=\u001b[39m {}\n\u001b[0;32m----> 5\u001b[0m \u001b[43md\u001b[49m\u001b[43m[\u001b[49m\u001b[38;5;124;43m'\u001b[39;49m\u001b[38;5;124;43ma\u001b[39;49m\u001b[38;5;124;43m'\u001b[39;49m\u001b[43m,\u001b[49m\u001b[43m]\u001b[49m\n",
      "\u001b[0;31mKeyError\u001b[0m: ('a',)"
     ]
    }
   ],
   "source": [
    "# 문제 어떤 문장을 입력 받으면 해당 문장에서 각 문자가 몇 개씩 나오는지 저장하는\n",
    "# 딕셔너리를 만든 후, 아래와 같이 출력하시오\n",
    "\n",
    "d = {}\n",
    "d['a',]"
   ]
  },
  {
   "cell_type": "code",
   "execution_count": 112,
   "id": "f6aee32d",
   "metadata": {},
   "outputs": [
    {
     "name": "stdout",
     "output_type": "stream",
     "text": [
      "Enter a sentence: d\n"
     ]
    }
   ],
   "source": [
    "a = input(\"Enter a sentence: \")"
   ]
  },
  {
   "cell_type": "code",
   "execution_count": 124,
   "id": "31788593",
   "metadata": {},
   "outputs": [
    {
     "name": "stdout",
     "output_type": "stream",
     "text": [
      "Enter a sentence: abcaba\n"
     ]
    },
    {
     "ename": "AttributeError",
     "evalue": "'str' object has no attribute 'd'",
     "output_type": "error",
     "traceback": [
      "\u001b[0;31m---------------------------------------------------------------------------\u001b[0m",
      "\u001b[0;31mAttributeError\u001b[0m                            Traceback (most recent call last)",
      "Cell \u001b[0;32mIn[124], line 7\u001b[0m\n\u001b[1;32m      5\u001b[0m d[\u001b[38;5;124m'\u001b[39m\u001b[38;5;124mc\u001b[39m\u001b[38;5;124m'\u001b[39m] \u001b[38;5;241m=\u001b[39m \u001b[38;5;241m0\u001b[39m\n\u001b[1;32m      6\u001b[0m d[\u001b[38;5;124m'\u001b[39m\u001b[38;5;124md\u001b[39m\u001b[38;5;124m'\u001b[39m] \u001b[38;5;241m=\u001b[39m \u001b[38;5;241m0\u001b[39m\n\u001b[0;32m----> 7\u001b[0m \u001b[38;5;28mprint\u001b[39m(\u001b[43ma\u001b[49m\u001b[38;5;241;43m.\u001b[39;49m\u001b[43md\u001b[49m)\n",
      "\u001b[0;31mAttributeError\u001b[0m: 'str' object has no attribute 'd'"
     ]
    }
   ],
   "source": [
    "a = input(\"Enter a sentence: \")\n",
    "d = {}\n",
    "d['a'] = 0\n",
    "d['b']= 0\n",
    "d['c'] = 0\n",
    "d['d'] = 0\n",
    "for x in d"
   ]
  },
  {
   "cell_type": "code",
   "execution_count": 126,
   "id": "0500411d",
   "metadata": {},
   "outputs": [
    {
     "name": "stdout",
     "output_type": "stream",
     "text": [
      "6\n",
      "14\n"
     ]
    }
   ],
   "source": [
    "a = [5, 5, 6, 7, 8, 3]\n",
    "b = 'Life is short.'\n",
    "\n",
    "print(len(a))\n",
    "print(len(b))"
   ]
  },
  {
   "cell_type": "code",
   "execution_count": 153,
   "id": "79a4b32d",
   "metadata": {},
   "outputs": [
    {
     "name": "stdout",
     "output_type": "stream",
     "text": [
      "6\n"
     ]
    }
   ],
   "source": [
    "a = [5, 5, 6, 7, 8, 3]\n",
    "length_a = 0\n",
    "\n",
    "for i in a:\n",
    "    length_a = length_a + 1\n",
    "\n",
    "print(length_a)"
   ]
  },
  {
   "cell_type": "code",
   "execution_count": 154,
   "id": "955445f9",
   "metadata": {},
   "outputs": [
    {
     "name": "stdout",
     "output_type": "stream",
     "text": [
      "14\n"
     ]
    }
   ],
   "source": [
    "b = \"Life is short.\"\n",
    "length_b = 0 \n",
    "\n",
    "for i in b:\n",
    "    length_b = length_b + 1\n",
    "\n",
    "print(length_b)"
   ]
  },
  {
   "cell_type": "code",
   "execution_count": 155,
   "id": "d83bd3f5",
   "metadata": {},
   "outputs": [
    {
     "name": "stdout",
     "output_type": "stream",
     "text": [
      "300\n"
     ]
    }
   ],
   "source": [
    "def add(a, b):\n",
    "    result = a + b\n",
    "    return result\n",
    "\n",
    "add_result = add(100, 200)\n",
    "print(add_result)"
   ]
  },
  {
   "cell_type": "code",
   "execution_count": 3,
   "id": "f0c317d1",
   "metadata": {},
   "outputs": [
    {
     "name": "stdout",
     "output_type": "stream",
     "text": [
      "Hello C2, honeygyu\n"
     ]
    }
   ],
   "source": [
    "def test(name):\n",
    "    print(\"Hello C2, %s\" %name)\n",
    "\n",
    "test(\"honeygyu\")"
   ]
  },
  {
   "cell_type": "code",
   "execution_count": 4,
   "id": "7c71b46e",
   "metadata": {},
   "outputs": [
    {
     "name": "stdout",
     "output_type": "stream",
     "text": [
      "Hello C2, hi\n"
     ]
    }
   ],
   "source": [
    "res1 = test(\"hi\")"
   ]
  },
  {
   "cell_type": "code",
   "execution_count": 5,
   "id": "26c9eaeb",
   "metadata": {},
   "outputs": [
    {
     "name": "stdout",
     "output_type": "stream",
     "text": [
      "None\n"
     ]
    }
   ],
   "source": [
    "print(res1)"
   ]
  },
  {
   "cell_type": "code",
   "execution_count": 6,
   "id": "6033a6d3",
   "metadata": {},
   "outputs": [
    {
     "name": "stdout",
     "output_type": "stream",
     "text": [
      "7\n",
      "12\n"
     ]
    }
   ],
   "source": [
    "# 튜플이나 리스트를 이용해 여러 개의 값을 반환할 수 있음\n",
    "\n",
    "def add_and_mul(a, b):\n",
    "    return (a+b, a*b)\n",
    "\n",
    "add_res, mul_res = add_and_mul(3, 4)\n",
    "print(add_res)\n",
    "print(mul_res)"
   ]
  },
  {
   "cell_type": "code",
   "execution_count": 10,
   "id": "8891661e",
   "metadata": {},
   "outputs": [
    {
     "name": "stdout",
     "output_type": "stream",
     "text": [
      "14\n"
     ]
    }
   ],
   "source": [
    "# len() 구현 [실습 1]\n",
    "def my_len(x):\n",
    "    length = 0\n",
    "    \n",
    "    for i in x:\n",
    "        length = length + 1\n",
    "    return length\n",
    "\n",
    "b = 'Life is short.'\n",
    "print(my_len(b))"
   ]
  },
  {
   "cell_type": "code",
   "execution_count": 11,
   "id": "11a08935",
   "metadata": {},
   "outputs": [
    {
     "name": "stdout",
     "output_type": "stream",
     "text": [
      "6\n"
     ]
    }
   ],
   "source": [
    "def my_len(x):\n",
    "    length = 0\n",
    "    \n",
    "    for i in x:\n",
    "        length = length + 1\n",
    "    return length\n",
    "\n",
    "a = [5, 5, 6, 7, 8, 3]\n",
    "print(my_len(a))"
   ]
  },
  {
   "cell_type": "code",
   "execution_count": 14,
   "id": "6a8effe5",
   "metadata": {},
   "outputs": [
    {
     "data": {
      "text/plain": [
       "10"
      ]
     },
     "execution_count": 14,
     "metadata": {},
     "output_type": "execute_result"
    }
   ],
   "source": [
    "#양의 정수 a와 b를 전달받아 a부터 b까지 곱해서 반환하는 mult 함수를 작성하시오 [실습 2]\n",
    "\n",
    "def mult(a, b):\n",
    "    mul = a * b\n",
    "    return(mul)\n",
    "\n",
    "mult(1, 3)\n",
    "mult(2, 5)"
   ]
  },
  {
   "cell_type": "code",
   "execution_count": 17,
   "id": "f722c8a7",
   "metadata": {},
   "outputs": [
    {
     "ename": "TypeError",
     "evalue": "'>' not supported between instances of 'list' and 'int'",
     "output_type": "error",
     "traceback": [
      "\u001b[0;31m---------------------------------------------------------------------------\u001b[0m",
      "\u001b[0;31mTypeError\u001b[0m                                 Traceback (most recent call last)",
      "Cell \u001b[0;32mIn[17], line 10\u001b[0m\n\u001b[1;32m      7\u001b[0m         negsum \u001b[38;5;241m+\u001b[39m\u001b[38;5;241m=\u001b[39m l\n\u001b[1;32m      8\u001b[0m     \u001b[38;5;28;01mreturn\u001b[39;00m (possum, negsum)\n\u001b[0;32m---> 10\u001b[0m possum, negsum \u001b[38;5;241m=\u001b[39m \u001b[43msum_pos_neg\u001b[49m\u001b[43m(\u001b[49m\u001b[43m[\u001b[49m\u001b[38;5;241;43m3\u001b[39;49m\u001b[43m,\u001b[49m\u001b[43m \u001b[49m\u001b[38;5;241;43m4\u001b[39;49m\u001b[43m,\u001b[49m\u001b[43m \u001b[49m\u001b[38;5;241;43m-\u001b[39;49m\u001b[38;5;241;43m6\u001b[39;49m\u001b[43m,\u001b[49m\u001b[43m \u001b[49m\u001b[38;5;241;43m-\u001b[39;49m\u001b[38;5;241;43m3\u001b[39;49m\u001b[43m]\u001b[49m\u001b[43m)\u001b[49m\n\u001b[1;32m     11\u001b[0m \u001b[38;5;28mprint\u001b[39m(possum, negsum)\n",
      "Cell \u001b[0;32mIn[17], line 4\u001b[0m, in \u001b[0;36msum_pos_neg\u001b[0;34m(l)\u001b[0m\n\u001b[1;32m      2\u001b[0m \u001b[38;5;28;01mdef\u001b[39;00m \u001b[38;5;21msum_pos_neg\u001b[39m(l):\n\u001b[1;32m      3\u001b[0m     possum \u001b[38;5;241m=\u001b[39m \u001b[38;5;241m0\u001b[39m\n\u001b[0;32m----> 4\u001b[0m     \u001b[38;5;28;01mif\u001b[39;00m \u001b[43ml\u001b[49m\u001b[43m \u001b[49m\u001b[38;5;241;43m>\u001b[39;49m\u001b[43m \u001b[49m\u001b[38;5;241;43m0\u001b[39;49m:\n\u001b[1;32m      5\u001b[0m         possum \u001b[38;5;241m+\u001b[39m\u001b[38;5;241m=\u001b[39m l\n\u001b[1;32m      6\u001b[0m     \u001b[38;5;28;01melse\u001b[39;00m:\n",
      "\u001b[0;31mTypeError\u001b[0m: '>' not supported between instances of 'list' and 'int'"
     ]
    }
   ],
   "source": [
    "# 숫자로 구성된 리스트를 전달받아, 리스트에서 양수 값을 더한 결과와 음수 값을 더한 결과를 반환하는 함수 [실습 3]\n",
    "def sum_pos_neg(l):\n",
    "    possum = 0\n",
    "    if l > 0:\n",
    "        possum += l\n",
    "    else:\n",
    "        negsum += l\n",
    "    return (possum, negsum)\n",
    "\n",
    "possum, negsum = sum_pos_neg([3, 4, -6, -3])\n",
    "print(possum, negsum)"
   ]
  },
  {
   "cell_type": "code",
   "execution_count": 20,
   "id": "a16cbd9d",
   "metadata": {},
   "outputs": [
    {
     "data": {
      "text/plain": [
       "2"
      ]
     },
     "execution_count": 20,
     "metadata": {},
     "output_type": "execute_result"
    }
   ],
   "source": [
    "def count_even(*n): # 매개변수 앞 *별은\n",
    "    cnt = 0\n",
    "    for v in n:\n",
    "        if v % 2 == 0:\n",
    "            cnt += 1\n",
    "    return cnt\n",
    "\n",
    "count_even(1,2,3,4,5) # 튜플 매개변수\n",
    "# 가변 매개변수 뒤에는 일반 매개변수가 올 수 없음\n",
    "# 가변 매개변수는 하나만 사용 가능"
   ]
  },
  {
   "cell_type": "code",
   "execution_count": 28,
   "id": "6ff3eac1",
   "metadata": {},
   "outputs": [],
   "source": [
    "def count_even(*n):\n",
    "    print(n)\n",
    "    print(type(n))\n",
    "    #?"
   ]
  },
  {
   "cell_type": "code",
   "execution_count": null,
   "id": "af11ad70",
   "metadata": {},
   "outputs": [],
   "source": [
    "def f1(a, *b):\n",
    "def f2(a, *b, c):\n",
    "def f3(*a, *b):\n",
    "def f4(a, b, *c):"
   ]
  },
  {
   "cell_type": "code",
   "execution_count": 26,
   "id": "b37a5b9c",
   "metadata": {},
   "outputs": [
    {
     "ename": "TypeError",
     "evalue": "unsupported operand type(s) for +: 'int' and 'list'",
     "output_type": "error",
     "traceback": [
      "\u001b[0;31m---------------------------------------------------------------------------\u001b[0m",
      "\u001b[0;31mTypeError\u001b[0m                                 Traceback (most recent call last)",
      "Cell \u001b[0;32mIn[26], line 12\u001b[0m\n\u001b[1;32m     10\u001b[0m v4 \u001b[38;5;241m=\u001b[39m [\u001b[38;5;241m6\u001b[39m, \u001b[38;5;241m4\u001b[39m]\n\u001b[1;32m     11\u001b[0m v5 \u001b[38;5;241m=\u001b[39m [\u001b[38;5;241m3.13\u001b[39m, \u001b[38;5;241m2.72\u001b[39m]\n\u001b[0;32m---> 12\u001b[0m m1 \u001b[38;5;241m=\u001b[39m \u001b[43mvector_sum\u001b[49m\u001b[43m(\u001b[49m\u001b[43mv1\u001b[49m\u001b[43m,\u001b[49m\u001b[43m \u001b[49m\u001b[43mv2\u001b[49m\u001b[43m,\u001b[49m\u001b[43m \u001b[49m\u001b[43mv3\u001b[49m\u001b[43m)\u001b[49m\n\u001b[1;32m     13\u001b[0m m2 \u001b[38;5;241m=\u001b[39m vector_sum(v1, v2, v3, v4)\n\u001b[1;32m     14\u001b[0m m3 \u001b[38;5;241m=\u001b[39m vector_sum(v3, v5)\n",
      "Cell \u001b[0;32mIn[26], line 4\u001b[0m, in \u001b[0;36mvector_sum\u001b[0;34m(vector, *vectors)\u001b[0m\n\u001b[1;32m      2\u001b[0m \u001b[38;5;28;01mdef\u001b[39;00m \u001b[38;5;21mvector_sum\u001b[39m(vector,  \u001b[38;5;241m*\u001b[39mvectors):\n\u001b[1;32m      3\u001b[0m     \u001b[38;5;28msum\u001b[39m \u001b[38;5;241m=\u001b[39m[]\n\u001b[0;32m----> 4\u001b[0m     \u001b[38;5;28msum\u001b[39m \u001b[38;5;241m=\u001b[39m [i\u001b[38;5;241m+\u001b[39mj \u001b[38;5;28;01mfor\u001b[39;00m i, j \u001b[38;5;129;01min\u001b[39;00m \u001b[38;5;28mzip\u001b[39m(vector, vectors)]\n\u001b[1;32m      5\u001b[0m     \u001b[38;5;28;01mreturn\u001b[39;00m (\u001b[38;5;28msum\u001b[39m)\n",
      "Cell \u001b[0;32mIn[26], line 4\u001b[0m, in \u001b[0;36m<listcomp>\u001b[0;34m(.0)\u001b[0m\n\u001b[1;32m      2\u001b[0m \u001b[38;5;28;01mdef\u001b[39;00m \u001b[38;5;21mvector_sum\u001b[39m(vector,  \u001b[38;5;241m*\u001b[39mvectors):\n\u001b[1;32m      3\u001b[0m     \u001b[38;5;28msum\u001b[39m \u001b[38;5;241m=\u001b[39m[]\n\u001b[0;32m----> 4\u001b[0m     \u001b[38;5;28msum\u001b[39m \u001b[38;5;241m=\u001b[39m [\u001b[43mi\u001b[49m\u001b[38;5;241;43m+\u001b[39;49m\u001b[43mj\u001b[49m \u001b[38;5;28;01mfor\u001b[39;00m i, j \u001b[38;5;129;01min\u001b[39;00m \u001b[38;5;28mzip\u001b[39m(vector, vectors)]\n\u001b[1;32m      5\u001b[0m     \u001b[38;5;28;01mreturn\u001b[39;00m (\u001b[38;5;28msum\u001b[39m)\n",
      "\u001b[0;31mTypeError\u001b[0m: unsupported operand type(s) for +: 'int' and 'list'"
     ]
    }
   ],
   "source": [
    "# 1개 이상의 2차원 벡터들을 전달받아 벡터들의 합을 구하여 변환하는 함수\n",
    "def vector_sum(vector,  *vectors):\n",
    "    sum =[]\n",
    "    sum = [i+j for i, j in zip(vector, vectors)]\n",
    "    return (sum)\n",
    "\n",
    "v1 = [0, 1]\n",
    "v2 = [0.5, 0.5]\n",
    "v3 = [1, 0]\n",
    "v4 = [6, 4]\n",
    "v5 = [3.13, 2.72]\n",
    "m1 = vector_sum(v1, v2, v3)\n",
    "m2 = vector_sum(v1, v2, v3, v4)\n",
    "m3 = vector_sum(v3, v5)\n",
    "print(m1, m2, m3)"
   ]
  },
  {
   "cell_type": "code",
   "execution_count": 23,
   "id": "f2d9a32a",
   "metadata": {},
   "outputs": [
    {
     "name": "stdout",
     "output_type": "stream",
     "text": [
      "My name is honey gyu.\n",
      "My name is honeygyu kim.\n"
     ]
    }
   ],
   "source": [
    "# 매개변수의 기본값을 지정\n",
    "# 함수 호출 시, 해당 매개변수에 대응되는 값을 주지 않으면 정의할 때 지정한 기본값을 default로 가짐\n",
    "def print_name(first, second = 'kim'):\n",
    "    print('My name is', first, second + '.')\n",
    "\n",
    "print_name('honey', 'gyu')\n",
    "print_name('honeygyu') # 두번째 매개변수가 빠지면 second를 자동으로 넣는다."
   ]
  },
  {
   "cell_type": "code",
   "execution_count": 34,
   "id": "20cf275e",
   "metadata": {},
   "outputs": [],
   "source": [
    "# 앞 매개변수가 디폴트 값을 가지면, 뒤에 오는 매개변수는 반드시 디폴트 값을 가져아함\n"
   ]
  },
  {
   "cell_type": "code",
   "execution_count": 40,
   "id": "60d3ead8",
   "metadata": {},
   "outputs": [
    {
     "ename": "SyntaxError",
     "evalue": "'(' was never closed (3688308579.py, line 4)",
     "output_type": "error",
     "traceback": [
      "\u001b[0;36m  Cell \u001b[0;32mIn[40], line 4\u001b[0;36m\u001b[0m\n\u001b[0;31m    result = calc(y=20, x=10, z=30 # 매개변수 순서 상관 없음\u001b[0m\n\u001b[0m                 ^\u001b[0m\n\u001b[0;31mSyntaxError\u001b[0m\u001b[0;31m:\u001b[0m '(' was never closed\n"
     ]
    }
   ],
   "source": [
    "def calc(x, y=0, z=0):\n",
    "    return x+y+z\n",
    "\n",
    "result = calc(y=20, x=10, z=30 # 매개변수 순서 상관 없음\n",
    "print(result)\n",
    "\n",
    "calc(y=20, x=10)\n",
    "calc(10, y=30, z=20)\n",
    "# calc(10, y=20, 30) 오류"
   ]
  },
  {
   "cell_type": "code",
   "execution_count": 10,
   "id": "ecb92a58",
   "metadata": {},
   "outputs": [],
   "source": [
    "# 실습 5\n",
    "\n"
   ]
  },
  {
   "cell_type": "code",
   "execution_count": 30,
   "id": "828b4452",
   "metadata": {},
   "outputs": [
    {
     "ename": "ValueError",
     "evalue": "too many values to unpack (expected 2)",
     "output_type": "error",
     "traceback": [
      "\u001b[0;31m---------------------------------------------------------------------------\u001b[0m",
      "\u001b[0;31mValueError\u001b[0m                                Traceback (most recent call last)",
      "Cell \u001b[0;32mIn[30], line 4\u001b[0m\n\u001b[1;32m      2\u001b[0m b\u001b[38;5;241m=\u001b[39m[\u001b[38;5;241m4\u001b[39m,\u001b[38;5;241m5\u001b[39m]\n\u001b[1;32m      3\u001b[0m c\u001b[38;5;241m=\u001b[39m[\u001b[38;5;241m3\u001b[39m,\u001b[38;5;241m6\u001b[39m]\n\u001b[0;32m----> 4\u001b[0m d \u001b[38;5;241m=\u001b[39m [i\u001b[38;5;241m+\u001b[39mj \u001b[38;5;28;01mfor\u001b[39;00m i, j \u001b[38;5;129;01min\u001b[39;00m \u001b[38;5;28mzip\u001b[39m(a,b,c)]\n\u001b[1;32m      5\u001b[0m \u001b[38;5;28mprint\u001b[39m(c)\n",
      "Cell \u001b[0;32mIn[30], line 4\u001b[0m, in \u001b[0;36m<listcomp>\u001b[0;34m(.0)\u001b[0m\n\u001b[1;32m      2\u001b[0m b\u001b[38;5;241m=\u001b[39m[\u001b[38;5;241m4\u001b[39m,\u001b[38;5;241m5\u001b[39m]\n\u001b[1;32m      3\u001b[0m c\u001b[38;5;241m=\u001b[39m[\u001b[38;5;241m3\u001b[39m,\u001b[38;5;241m6\u001b[39m]\n\u001b[0;32m----> 4\u001b[0m d \u001b[38;5;241m=\u001b[39m [i\u001b[38;5;241m+\u001b[39mj \u001b[38;5;28;01mfor\u001b[39;00m i, j \u001b[38;5;129;01min\u001b[39;00m \u001b[38;5;28mzip\u001b[39m(a,b,c)]\n\u001b[1;32m      5\u001b[0m \u001b[38;5;28mprint\u001b[39m(c)\n",
      "\u001b[0;31mValueError\u001b[0m: too many values to unpack (expected 2)"
     ]
    }
   ],
   "source": [
    "a=[1,2]\n",
    "b=[4,5]\n",
    "c=[3,6]\n",
    "d = [i+j for i, j in zip(a,b)]\n",
    "print(c)"
   ]
  },
  {
   "cell_type": "code",
   "execution_count": 4,
   "id": "df5f5865",
   "metadata": {},
   "outputs": [
    {
     "name": "stdout",
     "output_type": "stream",
     "text": [
      "성적을 입력하세요:70\n",
      "성적을 입력하세요:80\n",
      "성적을 입력하세요:60\n",
      "성적을 입력하세요:50\n",
      "성적을 입력하세요:40\n",
      "성적 평균은 60.0 입니다.\n",
      "80점 이상 성적을 받은 학생은 1 명입니다.\n"
     ]
    }
   ],
   "source": [
    "STUDENTS = 5\n",
    "\n",
    "scores = []\n",
    "scoreSum = 0\n",
    "\n",
    "for i in range(STUDENTS):\n",
    "   value = int(input(\"성적을 입력하세요:\"))\n",
    "   scores.append(value) # 리스트에 값을 추가\n",
    "   scoreSum += value\n",
    "\n",
    "scoreAvg = scoreSum / len(scores)\n",
    "highScoreStudents = 0\n",
    "for i in range(len(scores)):\n",
    "   if scores[i] >= 80:\n",
    "      highScoreStudents += 1\n",
    "\n",
    "print(\"성적 평균은\", scoreAvg, \"입니다.\")\n",
    "print(\"80점 이상 성적을 받은 학생은\", highScoreStudents, \"명입니다.\")"
   ]
  }
 ],
 "metadata": {
  "kernelspec": {
   "display_name": "Python [conda env:base] *",
   "language": "python",
   "name": "conda-base-py"
  },
  "language_info": {
   "codemirror_mode": {
    "name": "ipython",
    "version": 3
   },
   "file_extension": ".py",
   "mimetype": "text/x-python",
   "name": "python",
   "nbconvert_exporter": "python",
   "pygments_lexer": "ipython3",
   "version": "3.10.9"
  }
 },
 "nbformat": 4,
 "nbformat_minor": 5
}
