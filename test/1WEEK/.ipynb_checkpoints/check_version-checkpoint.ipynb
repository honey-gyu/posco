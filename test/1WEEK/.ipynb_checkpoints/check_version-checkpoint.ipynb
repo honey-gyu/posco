{
 "cells": [
  {
   "cell_type": "code",
   "execution_count": 3,
   "id": "a3f14de6",
   "metadata": {},
   "outputs": [
    {
     "name": "stdout",
     "output_type": "stream",
     "text": [
      "conda 23.3.1\r\n"
     ]
    }
   ],
   "source": [
    "# anaconda version: 23.3.1\n",
    "!conda --version "
   ]
  },
  {
   "cell_type": "code",
   "execution_count": 16,
   "id": "c7b57a97",
   "metadata": {},
   "outputs": [
    {
     "data": {
      "text/plain": [
       "'3.10.9 (main, Mar  8 2023, 10:47:38) [GCC 11.2.0]'"
      ]
     },
     "execution_count": 16,
     "metadata": {},
     "output_type": "execute_result"
    }
   ],
   "source": [
    "# python 3.10.9\n",
    "import sys\n",
    "sys.version"
   ]
  },
  {
   "cell_type": "code",
   "execution_count": 5,
   "id": "421a18b0",
   "metadata": {},
   "outputs": [
    {
     "data": {
      "text/plain": [
       "'1.23.5'"
      ]
     },
     "execution_count": 5,
     "metadata": {},
     "output_type": "execute_result"
    }
   ],
   "source": [
    "# numpy 1.23.5\n",
    "import numpy\n",
    "numpy.__version__"
   ]
  },
  {
   "cell_type": "code",
   "execution_count": 6,
   "id": "6cf6a033",
   "metadata": {},
   "outputs": [
    {
     "data": {
      "text/plain": [
       "'1.5.3'"
      ]
     },
     "execution_count": 6,
     "metadata": {},
     "output_type": "execute_result"
    }
   ],
   "source": [
    "# pandas 1.5.3\n",
    "import pandas\n",
    "pandas.__version__"
   ]
  },
  {
   "cell_type": "code",
   "execution_count": 7,
   "id": "b43c3aa3",
   "metadata": {},
   "outputs": [
    {
     "data": {
      "text/plain": [
       "'1.2.1'"
      ]
     },
     "execution_count": 7,
     "metadata": {},
     "output_type": "execute_result"
    }
   ],
   "source": [
    "# sklearn 1.2.1\n",
    "import sklearn\n",
    "sklearn.__version__"
   ]
  },
  {
   "cell_type": "code",
   "execution_count": 8,
   "id": "e517a295",
   "metadata": {},
   "outputs": [
    {
     "data": {
      "text/plain": [
       "'3.7.0'"
      ]
     },
     "execution_count": 8,
     "metadata": {},
     "output_type": "execute_result"
    }
   ],
   "source": [
    "# matplotlib 3.7.0\n",
    "import matplotlib\n",
    "matplotlib.__version__"
   ]
  },
  {
   "cell_type": "code",
   "execution_count": 9,
   "id": "1a2dd552",
   "metadata": {},
   "outputs": [
    {
     "data": {
      "text/plain": [
       "'0.12.2'"
      ]
     },
     "execution_count": 9,
     "metadata": {},
     "output_type": "execute_result"
    }
   ],
   "source": [
    "# seaborn 0.12.2\n",
    "import seaborn\n",
    "seaborn.__version__"
   ]
  },
  {
   "cell_type": "code",
   "execution_count": 10,
   "id": "a9c6352f",
   "metadata": {},
   "outputs": [
    {
     "name": "stdout",
     "output_type": "stream",
     "text": [
      "/home/piai/test/1WEEK\r\n"
     ]
    }
   ],
   "source": [
    "!pwd"
   ]
  },
  {
   "cell_type": "code",
   "execution_count": 11,
   "id": "8bc7fbdb",
   "metadata": {},
   "outputs": [
    {
     "name": "stdout",
     "output_type": "stream",
     "text": [
      "Requirement already satisfied: mlxtend==0.23.1 in /home/piai/anaconda3/lib/python3.10/site-packages (0.23.1)\n",
      "Requirement already satisfied: scipy>=1.2.1 in /home/piai/anaconda3/lib/python3.10/site-packages (from mlxtend==0.23.1) (1.12.0)\n",
      "Requirement already satisfied: numpy>=1.16.2 in /home/piai/anaconda3/lib/python3.10/site-packages (from mlxtend==0.23.1) (1.23.5)\n",
      "Requirement already satisfied: pandas>=0.24.2 in /home/piai/anaconda3/lib/python3.10/site-packages (from mlxtend==0.23.1) (1.5.3)\n",
      "Requirement already satisfied: scikit-learn>=1.0.2 in /home/piai/anaconda3/lib/python3.10/site-packages (from mlxtend==0.23.1) (1.2.1)\n",
      "Requirement already satisfied: matplotlib>=3.0.0 in /home/piai/anaconda3/lib/python3.10/site-packages (from mlxtend==0.23.1) (3.7.0)\n",
      "Requirement already satisfied: joblib>=0.13.2 in /home/piai/anaconda3/lib/python3.10/site-packages (from mlxtend==0.23.1) (1.4.2)\n",
      "Requirement already satisfied: contourpy>=1.0.1 in /home/piai/anaconda3/lib/python3.10/site-packages (from matplotlib>=3.0.0->mlxtend==0.23.1) (1.2.1)\n",
      "Requirement already satisfied: cycler>=0.10 in /home/piai/anaconda3/lib/python3.10/site-packages (from matplotlib>=3.0.0->mlxtend==0.23.1) (0.12.1)\n",
      "Requirement already satisfied: fonttools>=4.22.0 in /home/piai/anaconda3/lib/python3.10/site-packages (from matplotlib>=3.0.0->mlxtend==0.23.1) (4.53.1)\n",
      "Requirement already satisfied: kiwisolver>=1.0.1 in /home/piai/anaconda3/lib/python3.10/site-packages (from matplotlib>=3.0.0->mlxtend==0.23.1) (1.4.5)\n",
      "Requirement already satisfied: packaging>=20.0 in /home/piai/anaconda3/lib/python3.10/site-packages (from matplotlib>=3.0.0->mlxtend==0.23.1) (24.1)\n",
      "Requirement already satisfied: pillow>=6.2.0 in /home/piai/anaconda3/lib/python3.10/site-packages (from matplotlib>=3.0.0->mlxtend==0.23.1) (10.4.0)\n",
      "Requirement already satisfied: pyparsing>=2.3.1 in /home/piai/anaconda3/lib/python3.10/site-packages (from matplotlib>=3.0.0->mlxtend==0.23.1) (3.1.2)\n",
      "Requirement already satisfied: python-dateutil>=2.7 in /home/piai/anaconda3/lib/python3.10/site-packages (from matplotlib>=3.0.0->mlxtend==0.23.1) (2.9.0.post0)\n",
      "Requirement already satisfied: pytz>=2020.1 in /home/piai/anaconda3/lib/python3.10/site-packages (from pandas>=0.24.2->mlxtend==0.23.1) (2024.1)\n",
      "Requirement already satisfied: threadpoolctl>=2.0.0 in /home/piai/anaconda3/lib/python3.10/site-packages (from scikit-learn>=1.0.2->mlxtend==0.23.1) (3.5.0)\n",
      "Requirement already satisfied: six>=1.5 in /home/piai/anaconda3/lib/python3.10/site-packages (from python-dateutil>=2.7->matplotlib>=3.0.0->mlxtend==0.23.1) (1.16.0)\n"
     ]
    }
   ],
   "source": [
    "#mlxtend 0.23.1\n",
    "import mlxtend\n",
    "!pip install mlxtend==0.23.1"
   ]
  },
  {
   "cell_type": "code",
   "execution_count": 12,
   "id": "37d9c69c",
   "metadata": {},
   "outputs": [
    {
     "data": {
      "text/plain": [
       "'0.23.1'"
      ]
     },
     "execution_count": 12,
     "metadata": {},
     "output_type": "execute_result"
    }
   ],
   "source": [
    "import mlxtend\n",
    "mlxtend.__version__"
   ]
  },
  {
   "cell_type": "code",
   "execution_count": 13,
   "id": "71143fdc",
   "metadata": {},
   "outputs": [
    {
     "name": "stdout",
     "output_type": "stream",
     "text": [
      "Requirement already satisfied: xgboost==1.6.2 in /home/piai/anaconda3/lib/python3.10/site-packages (1.6.2)\r\n",
      "Requirement already satisfied: numpy in /home/piai/anaconda3/lib/python3.10/site-packages (from xgboost==1.6.2) (1.23.5)\r\n",
      "Requirement already satisfied: scipy in /home/piai/anaconda3/lib/python3.10/site-packages (from xgboost==1.6.2) (1.12.0)\r\n"
     ]
    }
   ],
   "source": [
    "#xgboost 1.6.2\n",
    "import xgboost\n",
    "!pip install xgboost==1.6.2"
   ]
  },
  {
   "cell_type": "code",
   "execution_count": 14,
   "id": "37c16952",
   "metadata": {},
   "outputs": [
    {
     "name": "stdout",
     "output_type": "stream",
     "text": [
      "Requirement already satisfied: lightgbm==3.3.3 in /home/piai/anaconda3/lib/python3.10/site-packages (3.3.3)\n",
      "Requirement already satisfied: wheel in /home/piai/anaconda3/lib/python3.10/site-packages (from lightgbm==3.3.3) (0.38.4)\n",
      "Requirement already satisfied: numpy in /home/piai/anaconda3/lib/python3.10/site-packages (from lightgbm==3.3.3) (1.23.5)\n",
      "Requirement already satisfied: scipy in /home/piai/anaconda3/lib/python3.10/site-packages (from lightgbm==3.3.3) (1.12.0)\n",
      "Requirement already satisfied: scikit-learn!=0.22.0 in /home/piai/anaconda3/lib/python3.10/site-packages (from lightgbm==3.3.3) (1.2.1)\n",
      "Requirement already satisfied: joblib>=1.1.1 in /home/piai/anaconda3/lib/python3.10/site-packages (from scikit-learn!=0.22.0->lightgbm==3.3.3) (1.4.2)\n",
      "Requirement already satisfied: threadpoolctl>=2.0.0 in /home/piai/anaconda3/lib/python3.10/site-packages (from scikit-learn!=0.22.0->lightgbm==3.3.3) (3.5.0)\n"
     ]
    }
   ],
   "source": [
    "#lightgbm 3.3.3\n",
    "import lightgbm\n",
    "!pip install lightgbm==3.3.3"
   ]
  },
  {
   "cell_type": "code",
   "execution_count": 15,
   "id": "432fd558",
   "metadata": {},
   "outputs": [
    {
     "name": "stdout",
     "output_type": "stream",
     "text": [
      "Requirement already satisfied: yellowbrick==1.4 in /home/piai/anaconda3/lib/python3.10/site-packages (1.4)\n",
      "Requirement already satisfied: matplotlib!=3.0.0,>=2.0.2 in /home/piai/anaconda3/lib/python3.10/site-packages (from yellowbrick==1.4) (3.7.0)\n",
      "Requirement already satisfied: scipy>=1.0.0 in /home/piai/anaconda3/lib/python3.10/site-packages (from yellowbrick==1.4) (1.12.0)\n",
      "Requirement already satisfied: scikit-learn>=1.0.0 in /home/piai/anaconda3/lib/python3.10/site-packages (from yellowbrick==1.4) (1.2.1)\n",
      "Requirement already satisfied: numpy>=1.16.0 in /home/piai/anaconda3/lib/python3.10/site-packages (from yellowbrick==1.4) (1.23.5)\n",
      "Requirement already satisfied: cycler>=0.10.0 in /home/piai/anaconda3/lib/python3.10/site-packages (from yellowbrick==1.4) (0.12.1)\n",
      "Requirement already satisfied: contourpy>=1.0.1 in /home/piai/anaconda3/lib/python3.10/site-packages (from matplotlib!=3.0.0,>=2.0.2->yellowbrick==1.4) (1.2.1)\n",
      "Requirement already satisfied: fonttools>=4.22.0 in /home/piai/anaconda3/lib/python3.10/site-packages (from matplotlib!=3.0.0,>=2.0.2->yellowbrick==1.4) (4.53.1)\n",
      "Requirement already satisfied: kiwisolver>=1.0.1 in /home/piai/anaconda3/lib/python3.10/site-packages (from matplotlib!=3.0.0,>=2.0.2->yellowbrick==1.4) (1.4.5)\n",
      "Requirement already satisfied: packaging>=20.0 in /home/piai/anaconda3/lib/python3.10/site-packages (from matplotlib!=3.0.0,>=2.0.2->yellowbrick==1.4) (24.1)\n",
      "Requirement already satisfied: pillow>=6.2.0 in /home/piai/anaconda3/lib/python3.10/site-packages (from matplotlib!=3.0.0,>=2.0.2->yellowbrick==1.4) (10.4.0)\n",
      "Requirement already satisfied: pyparsing>=2.3.1 in /home/piai/anaconda3/lib/python3.10/site-packages (from matplotlib!=3.0.0,>=2.0.2->yellowbrick==1.4) (3.1.2)\n",
      "Requirement already satisfied: python-dateutil>=2.7 in /home/piai/anaconda3/lib/python3.10/site-packages (from matplotlib!=3.0.0,>=2.0.2->yellowbrick==1.4) (2.9.0.post0)\n",
      "Requirement already satisfied: joblib>=1.1.1 in /home/piai/anaconda3/lib/python3.10/site-packages (from scikit-learn>=1.0.0->yellowbrick==1.4) (1.4.2)\n",
      "Requirement already satisfied: threadpoolctl>=2.0.0 in /home/piai/anaconda3/lib/python3.10/site-packages (from scikit-learn>=1.0.0->yellowbrick==1.4) (3.5.0)\n",
      "Requirement already satisfied: six>=1.5 in /home/piai/anaconda3/lib/python3.10/site-packages (from python-dateutil>=2.7->matplotlib!=3.0.0,>=2.0.2->yellowbrick==1.4) (1.16.0)\n"
     ]
    }
   ],
   "source": [
    "#yellowbrick 1.4\n",
    "import yellowbrick\n",
    "!pip install yellowbrick==1.4"
   ]
  },
  {
   "cell_type": "code",
   "execution_count": null,
   "id": "b23a4a18-58de-4bcc-a839-649b41968a1a",
   "metadata": {},
   "outputs": [],
   "source": []
  },
  {
   "cell_type": "code",
   "execution_count": null,
   "id": "3d4901f3-4525-4227-a1fc-b2c4e2794a13",
   "metadata": {},
   "outputs": [],
   "source": []
  },
  {
   "cell_type": "code",
   "execution_count": null,
   "id": "b78810b0-6fe7-4a83-95ca-3bd6024260bd",
   "metadata": {},
   "outputs": [],
   "source": []
  },
  {
   "cell_type": "code",
   "execution_count": null,
   "id": "6b9e3afc-1ebd-424d-b56b-701a61657260",
   "metadata": {},
   "outputs": [],
   "source": []
  }
 ],
 "metadata": {
  "kernelspec": {
   "display_name": "Python [conda env:base] *",
   "language": "python",
   "name": "conda-base-py"
  },
  "language_info": {
   "codemirror_mode": {
    "name": "ipython",
    "version": 3
   },
   "file_extension": ".py",
   "mimetype": "text/x-python",
   "name": "python",
   "nbconvert_exporter": "python",
   "pygments_lexer": "ipython3",
   "version": "3.10.9"
  }
 },
 "nbformat": 4,
 "nbformat_minor": 5
}
