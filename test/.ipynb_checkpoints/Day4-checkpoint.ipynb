{
 "cells": [
  {
   "cell_type": "code",
   "execution_count": 1,
   "id": "0029bea8",
   "metadata": {},
   "outputs": [
    {
     "name": "stdout",
     "output_type": "stream",
     "text": [
      "arth\n"
     ]
    }
   ],
   "source": [
    "import arth"
   ]
  },
  {
   "cell_type": "code",
   "execution_count": 7,
   "id": "0afc5742",
   "metadata": {},
   "outputs": [
    {
     "data": {
      "text/plain": [
       "300"
      ]
     },
     "execution_count": 7,
     "metadata": {},
     "output_type": "execute_result"
    }
   ],
   "source": [
    "arth.add(100, 200) # "
   ]
  },
  {
   "cell_type": "code",
   "execution_count": 4,
   "id": "898e9fb1",
   "metadata": {},
   "outputs": [
    {
     "data": {
      "text/plain": [
       "120"
      ]
     },
     "execution_count": 4,
     "metadata": {},
     "output_type": "execute_result"
    }
   ],
   "source": [
    "arth.add(50, 70)"
   ]
  },
  {
   "cell_type": "code",
   "execution_count": null,
   "id": "eb7c625f",
   "metadata": {},
   "outputs": [],
   "source": [
    "l1 = [1, 2, 3]\n",
    "l2 = [3, 4, 5]"
   ]
  },
  {
   "cell_type": "code",
   "execution_count": null,
   "id": "6ba8bc7f",
   "metadata": {},
   "outputs": [],
   "source": [
    "#list comprehension\n",
    "[x * y for x in L1 for y in L2]"
   ]
  },
  {
   "cell_type": "code",
   "execution_count": null,
   "id": "2527d4ec",
   "metadata": {},
   "outputs": [],
   "source": [
    "#원래라면 top-down 방식\n",
    "L = []\n",
    "for x in L1 :\n",
    "    for y in L2 :\n",
    "        L.append(x * y)"
   ]
  },
  {
   "cell_type": "code",
   "execution_count": 6,
   "id": "1cad197b",
   "metadata": {},
   "outputs": [
    {
     "data": {
      "text/plain": [
       "[0, 1, 2, 3, 4, 5, 6, 7, 8, 9, 10]"
      ]
     },
     "execution_count": 6,
     "metadata": {},
     "output_type": "execute_result"
    }
   ],
   "source": [
    "[i for i in range(0,11)]"
   ]
  },
  {
   "cell_type": "code",
   "execution_count": 8,
   "id": "022f29cc",
   "metadata": {},
   "outputs": [
    {
     "data": {
      "text/plain": [
       "[0, 2, 4, 6, 8, 10]"
      ]
     },
     "execution_count": 8,
     "metadata": {},
     "output_type": "execute_result"
    }
   ],
   "source": [
    "[i for i in range(0, 11) if i % 2 == 0]"
   ]
  },
  {
   "cell_type": "code",
   "execution_count": 11,
   "id": "edc0513b",
   "metadata": {},
   "outputs": [
    {
     "data": {
      "text/plain": [
       "[0, '홀', 2, '홀', 4, '홀', 6, '홀', 8, '홀', 10]"
      ]
     },
     "execution_count": 11,
     "metadata": {},
     "output_type": "execute_result"
    }
   ],
   "source": [
    "#[i for i in range(0, 11) if i % 2 == 0 else \"홀\"]   ## 조건을 앞에 둬야 실행이 되네??\n",
    "[i if i % 2 == 0 else \"홀\" for i in range(0, 11)]"
   ]
  },
  {
   "cell_type": "code",
   "execution_count": 14,
   "id": "94f7f0f6",
   "metadata": {},
   "outputs": [
    {
     "data": {
      "text/plain": [
       "[(1, 4), (2, 5), (3, 6)]"
      ]
     },
     "execution_count": 14,
     "metadata": {},
     "output_type": "execute_result"
    }
   ],
   "source": [
    "#zip()\n",
    "list(zip([1,2,3], [4,5,6])) # 각 리스트의 같은 인덱스 원소끼리 묶은 튜플을 원소로 하는 리스트 만들기"
   ]
  },
  {
   "cell_type": "code",
   "execution_count": 15,
   "id": "8cb3c362",
   "metadata": {},
   "outputs": [
    {
     "data": {
      "text/plain": [
       "[(1, 4, 'a'), (2, 5, 'b'), (3, 6, 'c')]"
      ]
     },
     "execution_count": 15,
     "metadata": {},
     "output_type": "execute_result"
    }
   ],
   "source": [
    "list(zip([1,2,3], [4,5,6], ['a', 'b', 'c']))"
   ]
  },
  {
   "cell_type": "code",
   "execution_count": 16,
   "id": "af6114e1",
   "metadata": {},
   "outputs": [
    {
     "data": {
      "text/plain": [
       "[(1, 4), (2, 5), (3, 6)]"
      ]
     },
     "execution_count": 16,
     "metadata": {},
     "output_type": "execute_result"
    }
   ],
   "source": [
    "list(zip((1,2,3), (4,5,6)))"
   ]
  },
  {
   "cell_type": "code",
   "execution_count": 18,
   "id": "48101254",
   "metadata": {},
   "outputs": [
    {
     "data": {
      "text/plain": [
       "[5, 7, 9]"
      ]
     },
     "execution_count": 18,
     "metadata": {},
     "output_type": "execute_result"
    }
   ],
   "source": [
    "[sum(x) for x in zip((1,2,3), (4,5,6))]"
   ]
  },
  {
   "cell_type": "code",
   "execution_count": 20,
   "id": "a9fdbf88",
   "metadata": {},
   "outputs": [
    {
     "data": {
      "text/plain": [
       "[(['one', 'two', 'three', 'four'], [1, 2, 3, 4])]"
      ]
     },
     "execution_count": 20,
     "metadata": {},
     "output_type": "execute_result"
    }
   ],
   "source": [
    "# 실습1\n",
    "L1 = ['one', 'two', 'three', 'four']\n",
    "L2 = [1, 2, 3, 4]\n",
    "list(zip([L1], [L2]))"
   ]
  },
  {
   "cell_type": "code",
   "execution_count": 21,
   "id": "3d16f145",
   "metadata": {},
   "outputs": [
    {
     "name": "stdout",
     "output_type": "stream",
     "text": [
      "{'one': 1, 'two': 2, 'three': 3, 'four': 4}\n"
     ]
    }
   ],
   "source": [
    "dict = {}\n",
    "dict['one'] = 1\n",
    "dict['two'] = 2\n",
    "dict['three'] = 3\n",
    "dict['four'] = 4\n",
    "print(dict)"
   ]
  },
  {
   "cell_type": "code",
   "execution_count": 24,
   "id": "24bed0bc",
   "metadata": {},
   "outputs": [
    {
     "data": {
      "text/plain": [
       "{'one': 1, 'two': 2, 'three': 3, 'four': 4}"
      ]
     },
     "execution_count": 24,
     "metadata": {},
     "output_type": "execute_result"
    }
   ],
   "source": [
    "# 실습1\n",
    "L1 = ['one', 'two', 'three', 'four']\n",
    "L2 = [1, 2, 3, 4]\n",
    "{ k:v for k, v in zip(L1, L2)}"
   ]
  },
  {
   "cell_type": "code",
   "execution_count": null,
   "id": "d0deae55",
   "metadata": {},
   "outputs": [],
   "source": []
  },
  {
   "cell_type": "code",
   "execution_count": null,
   "id": "16a98d4c",
   "metadata": {},
   "outputs": [],
   "source": []
  },
  {
   "cell_type": "code",
   "execution_count": null,
   "id": "33e724cb",
   "metadata": {},
   "outputs": [],
   "source": []
  },
  {
   "cell_type": "code",
   "execution_count": null,
   "id": "3b27bd97",
   "metadata": {},
   "outputs": [],
   "source": []
  },
  {
   "cell_type": "code",
   "execution_count": null,
   "id": "ebc81404",
   "metadata": {},
   "outputs": [],
   "source": []
  },
  {
   "cell_type": "code",
   "execution_count": 28,
   "id": "9e8a1417",
   "metadata": {},
   "outputs": [
    {
     "name": "stdout",
     "output_type": "stream",
     "text": [
      "202401\t89 78 \n",
      "202402\t76 84\n",
      "202403\t67 42\n",
      "202404\t66 88\n",
      "202405\t98 99\n"
     ]
    }
   ],
   "source": [
    "# 실습2 성적산출 프로그램\n",
    "fr = open(\"score.txt\", \"r\")\n",
    "for line in fr:\n",
    "    print(line, end=\"\")\n",
    "fr.close()"
   ]
  },
  {
   "cell_type": "code",
   "execution_count": 29,
   "id": "725f5d4e",
   "metadata": {},
   "outputs": [
    {
     "data": {
      "text/plain": [
       "'202405\\t98 99\\n'"
      ]
     },
     "execution_count": 29,
     "metadata": {},
     "output_type": "execute_result"
    }
   ],
   "source": [
    "line # 학번 중간 기말 분리해야함 split"
   ]
  },
  {
   "cell_type": "code",
   "execution_count": 34,
   "id": "4a156efa",
   "metadata": {},
   "outputs": [
    {
     "name": "stdout",
     "output_type": "stream",
     "text": [
      "202405\t98 99\n",
      "\n"
     ]
    }
   ],
   "source": [
    "print(line)"
   ]
  },
  {
   "cell_type": "code",
   "execution_count": 33,
   "id": "991c86be",
   "metadata": {},
   "outputs": [
    {
     "data": {
      "text/plain": [
       "['one', 'two', 'three']"
      ]
     },
     "execution_count": 33,
     "metadata": {},
     "output_type": "execute_result"
    }
   ],
   "source": [
    "# split() 예시\n",
    "s = \"one:two:three\"\n",
    "L = s.split(\":\")\n",
    "L"
   ]
  },
  {
   "cell_type": "code",
   "execution_count": 37,
   "id": "64ba8400",
   "metadata": {},
   "outputs": [
    {
     "data": {
      "text/plain": [
       "['202405', '98', '99']"
      ]
     },
     "execution_count": 37,
     "metadata": {},
     "output_type": "execute_result"
    }
   ],
   "source": [
    "line.split() # 화이트스페이스 정리할 때 (공백, 스페이스 \\t \\n 등등)"
   ]
  },
  {
   "cell_type": "code",
   "execution_count": 39,
   "id": "d2266a3d",
   "metadata": {},
   "outputs": [
    {
     "data": {
      "text/plain": [
       "(202405, 98, 99)"
      ]
     },
     "execution_count": 39,
     "metadata": {},
     "output_type": "execute_result"
    }
   ],
   "source": [
    "# 정수로 바꾸고 싶을 때\n",
    "stuID, Mid, Fin = [int(x) for x in line.split()]\n",
    "stuID, Mid, Fin"
   ]
  },
  {
   "cell_type": "code",
   "execution_count": null,
   "id": "e3741ebb",
   "metadata": {},
   "outputs": [],
   "source": []
  },
  {
   "cell_type": "code",
   "execution_count": 40,
   "id": "8306f21a",
   "metadata": {},
   "outputs": [],
   "source": [
    "class Dog:\n",
    "    name = \"Mongja\" # 데이터\n",
    "    \n",
    "    def bark(self): # 메서드\n",
    "        return \"wal wal\""
   ]
  },
  {
   "cell_type": "code",
   "execution_count": 41,
   "id": "704279ca",
   "metadata": {},
   "outputs": [
    {
     "data": {
      "text/plain": [
       "'Mongja'"
      ]
     },
     "execution_count": 41,
     "metadata": {},
     "output_type": "execute_result"
    }
   ],
   "source": [
    "Dog.name"
   ]
  },
  {
   "cell_type": "code",
   "execution_count": 42,
   "id": "d746e136",
   "metadata": {},
   "outputs": [
    {
     "data": {
      "text/plain": [
       "<function __main__.Dog.bark(self)>"
      ]
     },
     "execution_count": 42,
     "metadata": {},
     "output_type": "execute_result"
    }
   ],
   "source": [
    "Dog.bark"
   ]
  },
  {
   "cell_type": "code",
   "execution_count": 44,
   "id": "31544f45",
   "metadata": {},
   "outputs": [],
   "source": [
    "#dog1이라는 붕어빵 틀 만듦\n",
    "dog1 = Dog()"
   ]
  },
  {
   "cell_type": "code",
   "execution_count": 48,
   "id": "62ad3176",
   "metadata": {},
   "outputs": [
    {
     "data": {
      "text/plain": [
       "'Mongja'"
      ]
     },
     "execution_count": 48,
     "metadata": {},
     "output_type": "execute_result"
    }
   ],
   "source": [
    "dog1.name"
   ]
  },
  {
   "cell_type": "code",
   "execution_count": 53,
   "id": "660fd03a",
   "metadata": {},
   "outputs": [
    {
     "data": {
      "text/plain": [
       "'wal wal'"
      ]
     },
     "execution_count": 53,
     "metadata": {},
     "output_type": "execute_result"
    }
   ],
   "source": [
    "dog1.bark()"
   ]
  },
  {
   "cell_type": "code",
   "execution_count": 57,
   "id": "05423ba6",
   "metadata": {},
   "outputs": [
    {
     "data": {
      "text/plain": [
       "'wal wal'"
      ]
     },
     "execution_count": 57,
     "metadata": {},
     "output_type": "execute_result"
    }
   ],
   "source": [
    "dog2 = Dog()\n",
    "dog2.bark()"
   ]
  },
  {
   "cell_type": "code",
   "execution_count": 59,
   "id": "60b3db90",
   "metadata": {},
   "outputs": [
    {
     "data": {
      "text/plain": [
       "'wal wal'"
      ]
     },
     "execution_count": 59,
     "metadata": {},
     "output_type": "execute_result"
    }
   ],
   "source": [
    "Dog.bark(dog2)"
   ]
  },
  {
   "cell_type": "code",
   "execution_count": null,
   "id": "a6799403",
   "metadata": {},
   "outputs": [],
   "source": []
  },
  {
   "cell_type": "code",
   "execution_count": 60,
   "id": "c0fc9606",
   "metadata": {},
   "outputs": [],
   "source": [
    "class Dog:\n",
    "    \n",
    "    def __init__(self):\n",
    "        print(\"init\")\n",
    "    \n",
    "    def bark(self):\n",
    "        return \"wal wal\""
   ]
  },
  {
   "cell_type": "code",
   "execution_count": 62,
   "id": "bf8ac19b",
   "metadata": {},
   "outputs": [
    {
     "name": "stdout",
     "output_type": "stream",
     "text": [
      "init\n"
     ]
    },
    {
     "data": {
      "text/plain": [
       "<__main__.Dog at 0x7fb0400f94e0>"
      ]
     },
     "execution_count": 62,
     "metadata": {},
     "output_type": "execute_result"
    }
   ],
   "source": [
    "Dog()"
   ]
  },
  {
   "cell_type": "code",
   "execution_count": 99,
   "id": "3608eb65",
   "metadata": {},
   "outputs": [],
   "source": [
    "class Dog:\n",
    "    \n",
    "    def __init__(self, name, age):\n",
    "        self.name = name\n",
    "        self.age = age\n",
    "    \n",
    "    def bark(self):\n",
    "        return \"wal wal\"\n",
    "    \n",
    "    def print_info(self):\n",
    "        print(self.bark())\n",
    "        print(\"name: %s, age : %d\" % (self.name, self.age))"
   ]
  },
  {
   "cell_type": "code",
   "execution_count": 100,
   "id": "610234df",
   "metadata": {},
   "outputs": [],
   "source": [
    "dog1 = Dog(\"kong\", 3)"
   ]
  },
  {
   "cell_type": "code",
   "execution_count": 101,
   "id": "4e87fed7",
   "metadata": {},
   "outputs": [],
   "source": [
    "dog2 = Dog(\"Baduk\", 5)"
   ]
  },
  {
   "cell_type": "code",
   "execution_count": 102,
   "id": "f1a2b856",
   "metadata": {},
   "outputs": [
    {
     "name": "stdout",
     "output_type": "stream",
     "text": [
      "wal wal\n",
      "name: kong, age : 3\n"
     ]
    }
   ],
   "source": [
    "dog1.print_info()"
   ]
  },
  {
   "cell_type": "code",
   "execution_count": 103,
   "id": "48b2e49e",
   "metadata": {},
   "outputs": [
    {
     "name": "stdout",
     "output_type": "stream",
     "text": [
      "wal wal\n",
      "name: Baduk, age : 5\n"
     ]
    }
   ],
   "source": [
    "dog2.print_info()"
   ]
  },
  {
   "cell_type": "code",
   "execution_count": 104,
   "id": "4a268cf4",
   "metadata": {},
   "outputs": [
    {
     "data": {
      "text/plain": [
       "'wal wal'"
      ]
     },
     "execution_count": 104,
     "metadata": {},
     "output_type": "execute_result"
    }
   ],
   "source": [
    "dog2.bark()"
   ]
  },
  {
   "cell_type": "code",
   "execution_count": 105,
   "id": "f4e18ca8",
   "metadata": {},
   "outputs": [
    {
     "ename": "TypeError",
     "evalue": "Dog.__init__() missing 2 required positional arguments: 'name' and 'age'",
     "output_type": "error",
     "traceback": [
      "\u001b[0;31m---------------------------------------------------------------------------\u001b[0m",
      "\u001b[0;31mTypeError\u001b[0m                                 Traceback (most recent call last)",
      "Cell \u001b[0;32mIn[105], line 1\u001b[0m\n\u001b[0;32m----> 1\u001b[0m dog3 \u001b[38;5;241m=\u001b[39m \u001b[43mDog\u001b[49m\u001b[43m(\u001b[49m\u001b[43m)\u001b[49m\n\u001b[1;32m      2\u001b[0m dog3\u001b[38;5;241m.\u001b[39mprint_info()\n",
      "\u001b[0;31mTypeError\u001b[0m: Dog.__init__() missing 2 required positional arguments: 'name' and 'age'"
     ]
    }
   ],
   "source": [
    "dog3 = Dog()\n",
    "dog3.print_info()"
   ]
  },
  {
   "cell_type": "code",
   "execution_count": 164,
   "id": "004c1f5d",
   "metadata": {},
   "outputs": [],
   "source": [
    "class Name:\n",
    "    \n",
    "    def __init__(self,name, age, height, weight):\n",
    "        self.name = name\n",
    "        self.age = age\n",
    "        self.height = height\n",
    "        self.weight = weight\n",
    "    \n",
    "    def year(self):\n",
    "        self.age += 1\n",
    "        print(\"age : %d\" % (self.age))\n",
    "    \n",
    "    def hei_chg(self):\n",
    "        self.height += -1\n",
    "        print(\"height_change : %d\" % (self.height))\n",
    "            \n",
    "    def wei_chg(self):\n",
    "        self.weight += 10\n",
    "        print(\"weight_change : %d\" % (self.weight))\n",
    "    \n",
    "    def print_info(self):\n",
    "        print(\"name: %s, age : %d, height : %d, weight : %d\" % (self.name, self.age, self.height, self.weight))"
   ]
  },
  {
   "cell_type": "code",
   "execution_count": 165,
   "id": "1a042190",
   "metadata": {},
   "outputs": [],
   "source": [
    "user1 = Name(\"홍길동\", 999, 150, 50)\n",
    "user2 = Name(\"김현규\", 28, 176, 73)"
   ]
  },
  {
   "cell_type": "code",
   "execution_count": 166,
   "id": "511ca7fa",
   "metadata": {},
   "outputs": [
    {
     "name": "stdout",
     "output_type": "stream",
     "text": [
      "name: 홍길동, age : 999, height : 150, weight : 50\n",
      "name: 김현규, age : 28, height : 176, weight : 73\n"
     ]
    }
   ],
   "source": [
    "user1.print_info()\n",
    "user2.print_info()"
   ]
  },
  {
   "cell_type": "code",
   "execution_count": 169,
   "id": "5c93f025",
   "metadata": {},
   "outputs": [
    {
     "name": "stdout",
     "output_type": "stream",
     "text": [
      "age : 1002\n",
      "height_change : 149\n",
      "weight_change : 60\n"
     ]
    }
   ],
   "source": [
    "user1.year()\n",
    "user1.hei_chg()\n",
    "user1.wei_chg()"
   ]
  },
  {
   "cell_type": "code",
   "execution_count": 170,
   "id": "1ec6bc69",
   "metadata": {},
   "outputs": [
    {
     "name": "stdout",
     "output_type": "stream",
     "text": [
      "age : 30\n",
      "height_change : 175\n",
      "weight_change : 83\n"
     ]
    }
   ],
   "source": [
    "user2.year()\n",
    "user2.hei_chg()\n",
    "user2.wei_chg()"
   ]
  },
  {
   "cell_type": "code",
   "execution_count": 172,
   "id": "027a2a47",
   "metadata": {},
   "outputs": [
    {
     "data": {
      "text/plain": [
       "[1, 2, 3, 100]"
      ]
     },
     "execution_count": 172,
     "metadata": {},
     "output_type": "execute_result"
    }
   ],
   "source": [
    "# P13 인스턴스 직관적 사용 / 두 호출은 동등한 결과 예시\n",
    "L1 = [1,2,3]\n",
    "L2 = [3,4,5]\n",
    "\n",
    "L1.append(100)\n",
    "L1"
   ]
  },
  {
   "cell_type": "code",
   "execution_count": 174,
   "id": "a86841ea",
   "metadata": {},
   "outputs": [
    {
     "data": {
      "text/plain": [
       "[1, 2, 3, 100, 1000, 1000]"
      ]
     },
     "execution_count": 174,
     "metadata": {},
     "output_type": "execute_result"
    }
   ],
   "source": [
    "list.append(L1, 1000)\n",
    "L1"
   ]
  },
  {
   "cell_type": "code",
   "execution_count": 276,
   "id": "19abbe22",
   "metadata": {},
   "outputs": [],
   "source": [
    "# 실습 1 은행계좌\n",
    "class BankAccount:\n",
    "    \n",
    "    def __init__(self, balance=0, name=\"none\"):\n",
    "        self.balance = balance\n",
    "        self.name = name \n",
    "    \n",
    "    def deposit(self, amount):\n",
    "        self.amount = amount\n",
    "        self.balance = self.balance + amount\n",
    "        print(\"%d원 입금 되었습니다. 총 금액 %d\" % (self.amount, self.balance))\n",
    "        \n",
    "    \n",
    "    def withdraw(self, amount):\n",
    "        self.amount = amount\n",
    "        if (self.balance < amount):\n",
    "            print(\"잔액 부족\")\n",
    "        else:\n",
    "            self.balance = self.balance - amount\n",
    "            print(\"%d원 출금하여 잔고 %d원 입니다.\" % (self.amount, self.balance))\n",
    "    \n",
    "    def get_info(self):\n",
    "        print(\"이름 : %s\\n잔고 : %d\" % (self.name, self.balance))\n",
    "        # 원래 입금, 출금 시나리오도 get_info 불러와야하는 듯\n",
    "    \n",
    "    def transfer(self, other, amount):\n",
    "        self.widtdraw(amount) # 길동 1000- 300원 출금\n",
    "        other.deposit(amount) # 영희 200에서 300원 입금\n",
    "        \n",
    "        # if self.withdraw(amount) == True:\n",
    "            #other.deposit(amount)\n",
    "        \n",
    "        # def __add__(self, amount):\n",
    "            #self.deposit(amount)\n",
    "        \n",
    "        # def __radd__(self, amount):\n",
    "            #self.deposit(amount)                            ##1000 + n\n",
    "        # def __iadd__(self, amount):\n",
    "            #self.deposit(amount)                            ## +=\n",
    "            \n",
    "            "
   ]
  },
  {
   "cell_type": "code",
   "execution_count": 277,
   "id": "b00cee34",
   "metadata": {},
   "outputs": [],
   "source": [
    "a = BankAccount(100, \"Gildong Hong\")"
   ]
  },
  {
   "cell_type": "code",
   "execution_count": 278,
   "id": "fb0c3b5d",
   "metadata": {},
   "outputs": [
    {
     "name": "stdout",
     "output_type": "stream",
     "text": [
      "이름 : Gildong Hong\n",
      "잔고 : 100\n"
     ]
    }
   ],
   "source": [
    "a.get_info()"
   ]
  },
  {
   "cell_type": "code",
   "execution_count": 279,
   "id": "8e4c353d",
   "metadata": {},
   "outputs": [],
   "source": [
    "b = BankAccount()"
   ]
  },
  {
   "cell_type": "code",
   "execution_count": 280,
   "id": "f2bc2a7a",
   "metadata": {},
   "outputs": [
    {
     "name": "stdout",
     "output_type": "stream",
     "text": [
      "400원 입금 되었습니다. 총 금액 400\n",
      "이름 : none\n",
      "잔고 : 400\n"
     ]
    }
   ],
   "source": [
    "b.deposit(400)\n",
    "b.get_info()"
   ]
  },
  {
   "cell_type": "code",
   "execution_count": 281,
   "id": "4f24a972",
   "metadata": {},
   "outputs": [
    {
     "name": "stdout",
     "output_type": "stream",
     "text": [
      "잔액 부족\n"
     ]
    }
   ],
   "source": [
    "b.withdraw(600)"
   ]
  },
  {
   "cell_type": "code",
   "execution_count": 282,
   "id": "c07b44aa",
   "metadata": {},
   "outputs": [],
   "source": [
    "c = BankAccount()"
   ]
  },
  {
   "cell_type": "code",
   "execution_count": 283,
   "id": "7b085929",
   "metadata": {},
   "outputs": [
    {
     "name": "stdout",
     "output_type": "stream",
     "text": [
      "1000원 입금 되었습니다. 총 금액 1000\n",
      "이름 : none\n",
      "잔고 : 1000\n"
     ]
    }
   ],
   "source": [
    "c.deposit(1000)\n",
    "c.get_info()"
   ]
  },
  {
   "cell_type": "code",
   "execution_count": 284,
   "id": "5d508294",
   "metadata": {},
   "outputs": [
    {
     "name": "stdout",
     "output_type": "stream",
     "text": [
      "900원 출금하여 잔고 100원 입니다.\n",
      "이름 : none\n",
      "잔고 : 100\n"
     ]
    }
   ],
   "source": [
    "c.withdraw(900)\n",
    "c.get_info()"
   ]
  },
  {
   "cell_type": "code",
   "execution_count": null,
   "id": "905d6dbf",
   "metadata": {},
   "outputs": [],
   "source": [
    "acc1 = BankAccount(1000, \"고길동\")\n",
    "acc2 = BankAccount(200, \"고영희\")\n",
    "acc1.transfer(acc2, 300)\n",
    "acc1.get_info()\n",
    "acc2.get_info()"
   ]
  },
  {
   "cell_type": "code",
   "execution_count": null,
   "id": "4079fb3d",
   "metadata": {},
   "outputs": [],
   "source": [
    "acc1 = BankAccount(1000, \"고길동\")\n",
    "acc2 = BankAccount(0, \"고희동\")\n",
    "acc1.transfer(acc2, 2000)\n",
    "acc1.get_info()\n",
    "acc2.get_info()"
   ]
  },
  {
   "cell_type": "code",
   "execution_count": null,
   "id": "1d013b06",
   "metadata": {},
   "outputs": [],
   "source": []
  },
  {
   "cell_type": "code",
   "execution_count": null,
   "id": "fdd12c0d",
   "metadata": {},
   "outputs": [],
   "source": []
  },
  {
   "cell_type": "code",
   "execution_count": 287,
   "id": "c2a7a834",
   "metadata": {},
   "outputs": [],
   "source": [
    "# 상속 부모 클래스\n",
    "class A:\n",
    "    a = 1\n",
    "    def print_a(self):\n",
    "        print(\"A class\")"
   ]
  },
  {
   "cell_type": "code",
   "execution_count": 288,
   "id": "4314627c",
   "metadata": {},
   "outputs": [],
   "source": [
    "# 상속 자식 클래스\n",
    "class B:\n",
    "    b = 1\n",
    "    def print_b(self):\n",
    "        print(\"B class\")"
   ]
  },
  {
   "cell_type": "code",
   "execution_count": 289,
   "id": "d11fa091",
   "metadata": {},
   "outputs": [],
   "source": [
    "class C(A):\n",
    "    c = 1\n",
    "    def print_c(self):\n",
    "        print(\"C class\")"
   ]
  },
  {
   "cell_type": "code",
   "execution_count": 290,
   "id": "1364cd38",
   "metadata": {},
   "outputs": [],
   "source": [
    "c = C()"
   ]
  },
  {
   "cell_type": "code",
   "execution_count": null,
   "id": "35936bee",
   "metadata": {},
   "outputs": [],
   "source": [
    "c.a c.c # 등등 C 자식 클래스가 A 부모 클래스를 쓸 수 있따."
   ]
  },
  {
   "cell_type": "code",
   "execution_count": 292,
   "id": "a57ece27",
   "metadata": {},
   "outputs": [],
   "source": [
    "class D(C, B):\n",
    "    d = 1\n",
    "    def print_d(self):\n",
    "        print(\"D class\")"
   ]
  },
  {
   "cell_type": "code",
   "execution_count": null,
   "id": "9c2c1d56",
   "metadata": {},
   "outputs": [],
   "source": [
    "D.a D.b D.c D.d # 등 모든 클래스를 상속 받음"
   ]
  },
  {
   "cell_type": "code",
   "execution_count": 294,
   "id": "572b8d86",
   "metadata": {},
   "outputs": [
    {
     "data": {
      "text/plain": [
       "[__main__.D, __main__.C, __main__.A, __main__.B, object]"
      ]
     },
     "execution_count": 294,
     "metadata": {},
     "output_type": "execute_result"
    }
   ],
   "source": [
    "D.mro() # mro는 메소드를 확인하는 순서 / 왼쪽에 있을 수록 우선 순위가 높다.\n",
    "# https://www.winterjung.dev/python-mro/"
   ]
  },
  {
   "cell_type": "code",
   "execution_count": 306,
   "id": "f302ea88",
   "metadata": {},
   "outputs": [],
   "source": [
    "# 메서드 오버라이딩\n",
    "class A:\n",
    "    def __init__(self):\n",
    "        print(\"this is [A] class and [__init__] function\")\n",
    "        self.var1 = 0\n",
    "        self.var2 = 0"
   ]
  },
  {
   "cell_type": "code",
   "execution_count": 307,
   "id": "d5fc5166",
   "metadata": {},
   "outputs": [],
   "source": [
    "class B(A):\n",
    "    def __init__(self):\n",
    "        super().__init__() # 매서드 오버라이딩 부모 클래스의 init이다.\n",
    "        print(\"this is [B] class and [__init__] function\")\n",
    "        self.var3 = 0\n",
    "        self.var4 = 0"
   ]
  },
  {
   "cell_type": "code",
   "execution_count": 309,
   "id": "3593394e",
   "metadata": {},
   "outputs": [
    {
     "name": "stdout",
     "output_type": "stream",
     "text": [
      "this is [A] class and [__init__] function\n",
      "this is [B] class and [__init__] function\n"
     ]
    }
   ],
   "source": [
    "b = B()"
   ]
  },
  {
   "cell_type": "code",
   "execution_count": null,
   "id": "6bba15c6",
   "metadata": {},
   "outputs": [],
   "source": [
    "b.var1 b.var2 b.var3 b.var4 # A, B 모두 쓸 수 있다. 재정의 했는데 부모 클래스도 쓰고 싶다. 그러면 super()를 쓴다."
   ]
  },
  {
   "cell_type": "code",
   "execution_count": 310,
   "id": "0abc71eb",
   "metadata": {},
   "outputs": [
    {
     "data": {
      "text/plain": [
       "[1, 2, 3, 4, 5, 6]"
      ]
     },
     "execution_count": 310,
     "metadata": {},
     "output_type": "execute_result"
    }
   ],
   "source": [
    "#연산자 오버로딩\n",
    "[1,2, 3] + [4, 5, 6]"
   ]
  },
  {
   "cell_type": "code",
   "execution_count": null,
   "id": "81989fe1",
   "metadata": {},
   "outputs": [],
   "source": [
    "#오류\n",
    "acc1 + 1000\n",
    "# 우리가 쓰려는 사칙연산을 쓰고 싶을 때 연산자 오버로딩을 한다.\n",
    "# add sub 뭐 기타 등등 (책 표 참고)"
   ]
  },
  {
   "cell_type": "code",
   "execution_count": 313,
   "id": "9cda06ec",
   "metadata": {},
   "outputs": [],
   "source": [
    "# 실습 3\n",
    "# 실습 1 은행계좌\n",
    "class BankAccount:\n",
    "    \n",
    "    def __init__(self, balance=0, name=\"none\"):\n",
    "        self.balance = balance\n",
    "        self.name = name \n",
    "    \n",
    "    def deposit(self, amount):\n",
    "        self.amount = amount\n",
    "        self.balance = self.balance + amount\n",
    "        print(\"%d원 입금 되었습니다. 총 금액 %d\" % (self.amount, self.balance))\n",
    "        \n",
    "    \n",
    "    def withdraw(self, amount):\n",
    "        self.amount = amount\n",
    "        if (self.balance < amount):\n",
    "            print(\"잔액 부족\")\n",
    "        else:\n",
    "            self.balance = self.balance - amount\n",
    "            print(\"%d원 출금하여 잔고 %d원 입니다.\" % (self.amount, self.balance))\n",
    "    \n",
    "    def get_info(self):\n",
    "        print(\"이름 : %s\\n잔고 : %d\" % (self.name, self.balance))\n",
    "        # 원래 입금, 출금 시나리오도 get_info 불러와야하는 듯\n",
    "\n",
    "\n",
    "class MinimumBalanceAccount(BankAccount):\n",
    "    \n",
    "    def __init__(self, balance =0, name=\"none\", min_bal = 0):\n",
    "        super().__init__()\n",
    "        if (self.balance < 1000):\n",
    "            print(\"최소 잔액을 유지해야 합니다.\")\n",
    "        else:\n",
    "            self.balance = self.balance - amount\n",
    "            print(\"%d원 출금하여 잔고 %d원 입니다.\" % (self.amount, self.balance))\n",
    "        # 이거 마저 해야함"
   ]
  },
  {
   "cell_type": "code",
   "execution_count": 315,
   "id": "7e94ace0",
   "metadata": {},
   "outputs": [
    {
     "name": "stdout",
     "output_type": "stream",
     "text": [
      "최소 잔액을 유지해야 합니다.\n",
      "이름 : none\n",
      "잔고 : 0\n",
      "1000원 입금 되었습니다. 총 금액 1000\n",
      "600원 출금하여 잔고 400원 입니다.\n"
     ]
    }
   ],
   "source": [
    "acc = MinimumBalanceAccount(500, \"kim\", 1000)\n",
    "acc.get_info()# 500원이 있는데 1000원 미만이 되면 출금 못하게 함\n",
    "acc.deposit(1000)\n",
    "acc.withdraw(600)"
   ]
  },
  {
   "cell_type": "code",
   "execution_count": null,
   "id": "67648dc0",
   "metadata": {},
   "outputs": [],
   "source": []
  }
 ],
 "metadata": {
  "kernelspec": {
   "display_name": "Python 3 (ipykernel)",
   "language": "python",
   "name": "python3"
  },
  "language_info": {
   "codemirror_mode": {
    "name": "ipython",
    "version": 3
   },
   "file_extension": ".py",
   "mimetype": "text/x-python",
   "name": "python",
   "nbconvert_exporter": "python",
   "pygments_lexer": "ipython3",
   "version": "3.10.9"
  }
 },
 "nbformat": 4,
 "nbformat_minor": 5
}
