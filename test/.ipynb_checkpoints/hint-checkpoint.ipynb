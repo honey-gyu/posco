{
 "cells": [
  {
   "cell_type": "code",
   "execution_count": null,
   "id": "eb1446f9",
   "metadata": {},
   "outputs": [
    {
     "name": "stdout",
     "output_type": "stream",
     "text": [
      "# ffff\n",
      "wrong input!\n",
      "# #하이\n",
      "wrong input!\n",
      "# 한글\n",
      "wrong input!\n",
      "# 노래\n",
      "wrong input!\n"
     ]
    }
   ],
   "source": [
    "def show_function(slist):\n",
    "    print(\"show\")\n",
    "    print(slist)\n",
    "    \n",
    "def search_function():\n",
    "    print(\"searh\")\n",
    "    \n",
    "def quit_function():\n",
    "    print(\"quit\")\n",
    "    \n",
    "    \n",
    "stu_list = list() #독립적인 아이를 써라. list를 써라.\n",
    "\n",
    "while True:\n",
    "    command = input(\"# \")\n",
    "    if command == \"show\":\n",
    "        show_function(stu_list)\n",
    "    elif command == \"search\":\n",
    "        search_function()\n",
    "    elif command == \"quit\":\n",
    "        quit_function()\n",
    "        break\n",
    "    else:\n",
    "        print(\"wrong input!\")\n",
    "    \n",
    "print(\"end\")"
   ]
  },
  {
   "cell_type": "code",
   "execution_count": null,
   "id": "f4ab0d86",
   "metadata": {},
   "outputs": [],
   "source": []
  }
 ],
 "metadata": {
  "kernelspec": {
   "display_name": "Python [conda env:base] *",
   "language": "python",
   "name": "conda-base-py"
  },
  "language_info": {
   "codemirror_mode": {
    "name": "ipython",
    "version": 3
   },
   "file_extension": ".py",
   "mimetype": "text/x-python",
   "name": "python",
   "nbconvert_exporter": "python",
   "pygments_lexer": "ipython3",
   "version": "3.10.9"
  }
 },
 "nbformat": 4,
 "nbformat_minor": 5
}
